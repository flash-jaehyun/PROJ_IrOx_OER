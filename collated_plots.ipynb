{
 "cells": [
  {
   "cell_type": "markdown",
   "metadata": {},
   "source": [
    "# I will collate plots from the project here for ease of access\n",
    "---"
   ]
  },
  {
   "cell_type": "markdown",
   "metadata": {},
   "source": [
    "### Import Modules"
   ]
  },
  {
   "cell_type": "code",
   "execution_count": null,
   "metadata": {},
   "outputs": [],
   "source": [
    "import os\n",
    "import sys\n",
    "\n",
    "import json\n",
    "\n",
    "import plotly.graph_objects as go\n",
    "from plotly.io import from_json"
   ]
  },
  {
   "cell_type": "raw",
   "metadata": {},
   "source": [
    "\n"
   ]
  },
  {
   "cell_type": "markdown",
   "metadata": {},
   "source": [
    "## Linear models (targets: G_O and G_OH) using all features"
   ]
  },
  {
   "cell_type": "code",
   "execution_count": null,
   "metadata": {
    "jupyter": {}
   },
   "outputs": [],
   "source": [
    "path_i = os.path.join(\n",
    "    os.environ[\"PROJ_irox_oer\"],\n",
    "    \"workflow/oer_vs_features\",\n",
    "    \"out_plot/oer_lin_model__G_O_plot.json\")\n",
    "\n",
    "with open(path_i, \"r\") as fle:\n",
    "    fig_json_str_i = fle.read()\n",
    "\n",
    "fig = from_json(fig_json_str_i)\n",
    "fig.show()"
   ]
  },
  {
   "cell_type": "code",
   "execution_count": null,
   "metadata": {
    "jupyter": {}
   },
   "outputs": [],
   "source": [
    "path_i = os.path.join(\n",
    "    os.environ[\"PROJ_irox_oer\"],\n",
    "    \"workflow/oer_vs_features\",\n",
    "    \"out_plot/oer_lin_model__G_OH_plot.json\")\n",
    "\n",
    "with open(path_i, \"r\") as fle:\n",
    "    fig_json_str_i = fle.read()\n",
    "\n",
    "fig = from_json(fig_json_str_i)\n",
    "fig.show()"
   ]
  },
  {
   "cell_type": "raw",
   "metadata": {},
   "source": [
    "\n"
   ]
  },
  {
   "cell_type": "markdown",
   "metadata": {},
   "source": [
    "## Linear scaling plot (*O vs *OH)"
   ]
  },
  {
   "cell_type": "code",
   "execution_count": null,
   "metadata": {},
   "outputs": [],
   "source": [
    "path_i = os.path.join(\n",
    "    os.environ[\"PROJ_irox_oer\"],\n",
    "    \"workflow/oer_analysis/oer_scaling\", \n",
    "    \"out_plot/oer_scaling__O_vs_OH_plot.json\")\n",
    "\n",
    "with open(path_i, \"r\") as fle:\n",
    "    fig_json_str_i = fle.read()\n",
    "\n",
    "fig = from_json(fig_json_str_i)\n",
    "fig.show()"
   ]
  },
  {
   "cell_type": "raw",
   "metadata": {},
   "source": [
    "\n"
   ]
  },
  {
   "cell_type": "markdown",
   "metadata": {},
   "source": [
    "## G_O and G_OH histograms"
   ]
  },
  {
   "cell_type": "code",
   "execution_count": null,
   "metadata": {},
   "outputs": [],
   "source": [
    "path_i = os.path.join(\n",
    "    os.environ[\"PROJ_irox_oer\"],\n",
    "    \"workflow/oer_analysis/oer_scaling\", \n",
    "    \"out_plot/oer_scaling__O_OH_histogram.json\")\n",
    "\n",
    "with open(path_i, \"r\") as fle:\n",
    "    fig_json_str_i = fle.read()\n",
    "\n",
    "fig = from_json(fig_json_str_i)\n",
    "fig.show()"
   ]
  },
  {
   "cell_type": "raw",
   "metadata": {},
   "source": [
    "\n",
    "\n",
    "\n"
   ]
  },
  {
   "cell_type": "code",
   "execution_count": null,
   "metadata": {
    "jupyter": {}
   },
   "outputs": [],
   "source": [
    "# fig.write_json(\n",
    "#     os.path.join(\n",
    "#         os.environ[\"PROJ_irox_oer\"],\n",
    "#         \"workflow/oer_analysis/oer_scaling\", \n",
    "#         \"out_plot/oer_scaling__O_OH_histogram.json\"))"
   ]
  }
 ],
 "metadata": {
  "jupytext": {
   "formats": "ipynb,py:light"
  },
  "kernelspec": {
   "display_name": "Python [conda env:PROJ_irox_oer] *",
   "language": "python",
   "name": "conda-env-PROJ_irox_oer-py"
  },
  "language_info": {
   "codemirror_mode": {
    "name": "ipython",
    "version": 3
   },
   "file_extension": ".py",
   "mimetype": "text/x-python",
   "name": "python",
   "nbconvert_exporter": "python",
   "pygments_lexer": "ipython3",
   "version": "3.6.11"
  },
  "toc-autonumbering": true
 },
 "nbformat": 4,
 "nbformat_minor": 4
}
