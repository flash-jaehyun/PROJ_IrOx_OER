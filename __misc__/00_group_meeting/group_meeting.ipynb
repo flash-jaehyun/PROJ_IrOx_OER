{
 "cells": [
  {
   "cell_type": "markdown",
   "metadata": {},
   "source": [
    "# Getting data collected for group meeting presentation\n",
    "---"
   ]
  },
  {
   "cell_type": "code",
   "execution_count": 1,
   "metadata": {},
   "outputs": [
    {
     "name": "stdout",
     "output_type": "stream",
     "text": [
      "/home/raulf2012/Dropbox/01_norskov/00_git_repos/PROJ_IrOx_OER/00_group_meeting\n"
     ]
    }
   ],
   "source": [
    "import os\n",
    "print(os.getcwd())\n",
    "import sys\n",
    "\n",
    "import copy\n",
    "\n",
    "import plotly.graph_objs as go\n",
    "\n",
    "# #########################################################\n",
    "from methods import get_df_slab\n",
    "from methods import get_df_active_sites"
   ]
  },
  {
   "cell_type": "markdown",
   "metadata": {},
   "source": [
    "# Script Inputs"
   ]
  },
  {
   "cell_type": "code",
   "execution_count": 2,
   "metadata": {},
   "outputs": [],
   "source": [
    "bulk_id_i = \"8l919k6s7p\""
   ]
  },
  {
   "cell_type": "markdown",
   "metadata": {},
   "source": [
    "# Read Data"
   ]
  },
  {
   "cell_type": "code",
   "execution_count": 3,
   "metadata": {},
   "outputs": [],
   "source": [
    "# #########################################################\n",
    "df_active_sites = get_df_active_sites()\n",
    "\n",
    "# #########################################################\n",
    "df_slab = get_df_slab()\n",
    "df_slab_i = df_slab[df_slab.bulk_id == bulk_id_i]"
   ]
  },
  {
   "cell_type": "code",
   "execution_count": 4,
   "metadata": {},
   "outputs": [],
   "source": [
    "for slab_id_i, row_i in df_slab_i.iterrows():\n",
    "\n",
    "    # #########################################################\n",
    "    slab_final_i =  row_i.slab_final\n",
    "    slab_id_i = row_i.slab_id\n",
    "    facet_i = row_i.facet\n",
    "    # #########################################################\n",
    "\n",
    "    file_name_i = slab_id_i + \"_\" + facet_i + \".cif\"\n",
    "\n",
    "    slab_final_i.write(os.path.join(\"__temp__/slabs\", file_name_i))"
   ]
  },
  {
   "cell_type": "markdown",
   "metadata": {},
   "source": [
    "# Writing active sites to cif"
   ]
  },
  {
   "cell_type": "code",
   "execution_count": 5,
   "metadata": {},
   "outputs": [],
   "source": [
    "df_active_sites_i = df_active_sites[df_active_sites.bulk_id == bulk_id_i]"
   ]
  },
  {
   "cell_type": "code",
   "execution_count": 6,
   "metadata": {},
   "outputs": [],
   "source": [
    "slab_id_i = \"lulidoka_21\"\n",
    "\n",
    "df_active_sites_j = df_active_sites_i.loc[[slab_id_i]]\n",
    "for slab_id_i, row_i in df_active_sites_j.iterrows():\n",
    "\n",
    "    # #########################################################\n",
    "    active_sites_i = row_i.active_sites\n",
    "    active_sites_unique_i = row_i.active_sites_unique\n",
    "    # #########################################################\n",
    "\n",
    "    # #########################################################\n",
    "    row_slab_i = df_slab.loc[slab_id_i]\n",
    "    # #########################################################\n",
    "    slab_final_i = row_slab_i.slab_final\n",
    "    # #########################################################\n",
    "\n",
    "\n",
    "    slab_final_i_orig = copy.deepcopy(slab_final_i)\n",
    "    slab_final_0 = copy.deepcopy(slab_final_i)\n",
    "    slab_final_1 = copy.deepcopy(slab_final_i)\n",
    "\n",
    "\n",
    "    # #########################################################\n",
    "    for as_i in active_sites_i:\n",
    "        active_atom = slab_final_0[as_i]\n",
    "        active_atom.set(\"symbol\", \"N\")\n",
    "    slab_final_0.write(\"__temp__/active_sites/all_active_sites.cif\")\n",
    "    # #########################################################\n",
    "\n",
    "    # #########################################################\n",
    "    for as_unique_i in active_sites_unique_i:\n",
    "        active_atom = slab_final_1[as_unique_i]\n",
    "        active_atom.set(\"symbol\", \"N\")\n",
    "    slab_final_1.write(\"__temp__/active_sites/unique_active_sites.cif\")\n",
    "    # #########################################################"
   ]
  },
  {
   "cell_type": "code",
   "execution_count": 7,
   "metadata": {},
   "outputs": [],
   "source": [
    "slab_id_i = \"lulidoka_21\"\n",
    "\n",
    "path_i = os.path.join(\n",
    "    os.environ[\"PROJ_irox_oer\"],\n",
    "    \"workflow/enumerate_adsorption\",\n",
    "    \"out_data/df_rdf_dict\")\n",
    "\n",
    "files_list = os.listdir(path_i)\n",
    "\n",
    "\n",
    "candidate_files = []\n",
    "for file_i in files_list:\n",
    "    if slab_id_i in file_i:\n",
    "        # print(file_i)\n",
    "        candidate_files.append(file_i)\n",
    "\n",
    "mess_i = \"Must only have one (or zero) file that matches slab_id given\"\n",
    "assert len(candidate_files) <= 1, mess_i\n",
    "\n",
    "file_i = candidate_files[0]\n",
    "\n",
    "# #########################################################\n",
    "import pickle; import os\n",
    "path_i = os.path.join(path_i, file_i)\n",
    "with open(path_i, \"rb\") as fle:\n",
    "    df_rdf_dict_i = pickle.load(fle)\n",
    "# #########################################################"
   ]
  },
  {
   "cell_type": "code",
   "execution_count": 8,
   "metadata": {},
   "outputs": [],
   "source": [
    "data = []\n",
    "for active_site_i, df_rdf_i in df_rdf_dict_i.items():\n",
    "    df_rdf = df_rdf_i\n",
    "\n",
    "    x_array = df_rdf[\"r\"]\n",
    "    y_array = df_rdf[\"g\"]\n",
    "\n",
    "    trace = go.Scatter(\n",
    "        x=x_array,\n",
    "        y=y_array,\n",
    "        name=str(active_site_i),\n",
    "        )\n",
    "    data.append(trace)"
   ]
  },
  {
   "cell_type": "code",
   "execution_count": 9,
   "metadata": {},
   "outputs": [],
   "source": [
    "fig = go.Figure(data=data)\n",
    "# fig.show()\n",
    "\n",
    "from plotting.my_plotly import my_plotly_plot\n",
    "\n",
    "plot_dir = \".\"\n",
    "out_plot_file = \"./temp_plot\"\n",
    "my_plotly_plot(\n",
    "    figure=fig,\n",
    "    # plot_name=str(active_site_i).zfill(4) + \"_rdf\",\n",
    "    plot_name=out_plot_file,\n",
    "    write_html=True,\n",
    "    write_png=False,\n",
    "    png_scale=6.0,\n",
    "    write_pdf=False,\n",
    "    write_svg=False,\n",
    "    try_orca_write=False,\n",
    "    )"
   ]
  },
  {
   "cell_type": "code",
   "execution_count": 10,
   "metadata": {},
   "outputs": [],
   "source": [
    "# i\n",
    "# j"
   ]
  },
  {
   "cell_type": "raw",
   "metadata": {},
   "source": [
    "\n",
    "\n"
   ]
  },
  {
   "cell_type": "code",
   "execution_count": 11,
   "metadata": {
    "jupyter": {
     "source_hidden": true
    }
   },
   "outputs": [],
   "source": [
    "# from ase import Atom\n",
    "\n",
    "# Atom?"
   ]
  }
 ],
 "metadata": {
  "jupytext": {
   "formats": "ipynb,py:light"
  },
  "kernelspec": {
   "display_name": "Python [conda env:PROJ_irox_oer] *",
   "language": "python",
   "name": "conda-env-PROJ_irox_oer-py"
  },
  "language_info": {
   "codemirror_mode": {
    "name": "ipython",
    "version": 3
   },
   "file_extension": ".py",
   "mimetype": "text/x-python",
   "name": "python",
   "nbconvert_exporter": "python",
   "pygments_lexer": "ipython3",
   "version": "3.6.11"
  }
 },
 "nbformat": 4,
 "nbformat_minor": 4
}
