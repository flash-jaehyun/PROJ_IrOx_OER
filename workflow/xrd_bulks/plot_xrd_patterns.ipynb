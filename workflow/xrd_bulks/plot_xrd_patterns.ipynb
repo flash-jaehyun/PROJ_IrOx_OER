{
 "cells": [
  {
   "cell_type": "markdown",
   "metadata": {},
   "source": [
    "# Import Modules"
   ]
  },
  {
   "cell_type": "code",
   "execution_count": 1,
   "metadata": {},
   "outputs": [
    {
     "name": "stdout",
     "output_type": "stream",
     "text": [
      "/home/raulf2012/Dropbox/01_norskov/00_git_repos/PROJ_IrOx_OER/workflow/xrd_bulks\n"
     ]
    }
   ],
   "source": [
    "import os\n",
    "print(os.getcwd())\n",
    "import sys\n",
    "\n",
    "import pandas as pd\n",
    "\n",
    "from pymatgen.io.ase import AseAtomsAdaptor\n",
    "\n",
    "# #########################################################\n",
    "from methods import get_df_dft\n",
    "\n",
    "# #########################################################\n",
    "from local_methods import XRDCalculator\n",
    "from local_methods import get_top_xrd_facets"
   ]
  },
  {
   "cell_type": "markdown",
   "metadata": {},
   "source": [
    "# Script Inputs"
   ]
  },
  {
   "cell_type": "code",
   "execution_count": 2,
   "metadata": {},
   "outputs": [],
   "source": [
    "verbose = True\n",
    "verbose = False"
   ]
  },
  {
   "cell_type": "markdown",
   "metadata": {},
   "source": [
    "# Read Data"
   ]
  },
  {
   "cell_type": "code",
   "execution_count": 3,
   "metadata": {},
   "outputs": [
    {
     "name": "stdout",
     "output_type": "stream",
     "text": [
      "df_dft.shape: 565\n"
     ]
    }
   ],
   "source": [
    "df_dft = get_df_dft()\n",
    "print(\"df_dft.shape:\", df_dft.shape[0])\n",
    "\n",
    "from methods import get_df_xrd\n",
    "df_xrd = get_df_xrd()"
   ]
  },
  {
   "cell_type": "code",
   "execution_count": 4,
   "metadata": {},
   "outputs": [],
   "source": [
    "df_xrd = df_xrd.set_index(\"id_unique\", drop=False)"
   ]
  },
  {
   "cell_type": "code",
   "execution_count": 5,
   "metadata": {},
   "outputs": [],
   "source": [
    "# assert False"
   ]
  },
  {
   "cell_type": "raw",
   "metadata": {},
   "source": [
    "\n",
    "\n"
   ]
  },
  {
   "cell_type": "code",
   "execution_count": 6,
   "metadata": {},
   "outputs": [],
   "source": [
    "# df_dft[df_dft.stoich == \"AB3\"]"
   ]
  },
  {
   "cell_type": "code",
   "execution_count": 7,
   "metadata": {},
   "outputs": [],
   "source": [
    "# df_dft.loc[\"8ymh8qnl6o\"]"
   ]
  },
  {
   "cell_type": "code",
   "execution_count": 16,
   "metadata": {},
   "outputs": [],
   "source": [
    "# bulk_id_i = \"8ymh8qnl6o\"\n",
    "# bulk_id_i = \"8p8evt9pcg\"\n",
    "bulk_id_i = \"8l919k6s7p\"\n",
    "\n",
    "row_i = df_dft.loc[bulk_id_i]\n",
    "\n",
    "atoms_i = row_i.atoms\n",
    "\n",
    "# Writing bulk facets\n",
    "atoms_i.write(\"__temp__/bulk.traj\")\n",
    "atoms_i.write(\"__temp__/bulk.cif\")"
   ]
  },
  {
   "cell_type": "code",
   "execution_count": 9,
   "metadata": {},
   "outputs": [],
   "source": [
    "row_xrd_i = df_xrd.loc[bulk_id_i]\n",
    "\n",
    "top_facets_i = row_xrd_i.top_facets"
   ]
  },
  {
   "cell_type": "code",
   "execution_count": 10,
   "metadata": {},
   "outputs": [
    {
     "data": {
      "text/plain": [
       "[(1, 0, 0), (1, 1, 1), (1, 0, 1), (0, 0, 1), (1, 1, 0)]"
      ]
     },
     "execution_count": 10,
     "metadata": {},
     "output_type": "execute_result"
    }
   ],
   "source": [
    "top_facets_i"
   ]
  },
  {
   "cell_type": "code",
   "execution_count": 11,
   "metadata": {},
   "outputs": [],
   "source": [
    "atoms = atoms_i\n",
    "\n",
    "AAA = AseAtomsAdaptor()\n",
    "struct_i = AAA.get_structure(atoms)\n",
    "\n",
    "XRDCalc = XRDCalculator(\n",
    "    wavelength='CuKa',\n",
    "    symprec=0,\n",
    "    debye_waller_factors=None,\n",
    "    )"
   ]
  },
  {
   "cell_type": "code",
   "execution_count": 12,
   "metadata": {},
   "outputs": [
    {
     "data": {
      "image/png": "[encoded data removed]",
      "text/plain": [
       "<Figure size 432x288 with 1 Axes>"
      ]
     },
     "metadata": {
      "needs_background": "light"
     },
     "output_type": "display_data"
    }
   ],
   "source": [
    "# XRDCalc.get_plot(structure=struct_i)\n",
    "# XRDCalc.get_plot?\n",
    "\n",
    "tmp = XRDCalc.plot_structures([struct_i])"
   ]
  },
  {
   "cell_type": "code",
   "execution_count": 13,
   "metadata": {},
   "outputs": [],
   "source": [
    "# tmp.savefig(\"out_plot/tmp.png\")\n",
    "\n",
    "tmp.savefig(\n",
    "    \"out_plot/tmp_0.png\",\n",
    "    dpi=1600,\n",
    "    )"
   ]
  },
  {
   "cell_type": "code",
   "execution_count": 37,
   "metadata": {},
   "outputs": [],
   "source": [
    "# from methods import get_df_slab\n",
    "\n",
    "# df_slab = get_df_slab()\n",
    "\n",
    "# df_slab_i = df_slab[df_slab.bulk_id == bulk_id_i]\n",
    "\n",
    "# for slab_id_i, row_i in df_slab_i.iterrows():\n",
    "\n",
    "#     # #########################################################\n",
    "#     slab_final_i =  row_i.slab_final\n",
    "#     slab_id_i = row_i.slab_id\n",
    "#     facet_i = row_i.facet\n",
    "#     # #########################################################\n",
    "\n",
    "#     file_name_i = slab_id_i + \"_\" + facet_i + \".cif\"\n",
    "\n",
    "#     slab_final_i.write(os.path.join(\"__temp__/slabs\", file_name_i))"
   ]
  },
  {
   "cell_type": "code",
   "execution_count": 36,
   "metadata": {},
   "outputs": [],
   "source": [
    "# df_slab_i.shape"
   ]
  }
 ],
 "metadata": {
  "jupytext": {
   "formats": "ipynb,py:light"
  },
  "kernelspec": {
   "display_name": "Python [conda env:PROJ_irox_oer] *",
   "language": "python",
   "name": "conda-env-PROJ_irox_oer-py"
  },
  "language_info": {
   "codemirror_mode": {
    "name": "ipython",
    "version": 3
   },
   "file_extension": ".py",
   "mimetype": "text/x-python",
   "name": "python",
   "nbconvert_exporter": "python",
   "pygments_lexer": "ipython3",
   "version": "3.6.11"
  }
 },
 "nbformat": 4,
 "nbformat_minor": 4
}
