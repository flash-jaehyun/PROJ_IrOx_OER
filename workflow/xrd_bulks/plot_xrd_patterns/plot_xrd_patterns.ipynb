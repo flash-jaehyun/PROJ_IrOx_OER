{
 "cells": [
  {
   "cell_type": "markdown",
   "metadata": {},
   "source": [
    "# Import Modules"
   ]
  },
  {
   "cell_type": "code",
   "execution_count": 1,
   "metadata": {},
   "outputs": [
    {
     "name": "stdout",
     "output_type": "stream",
     "text": [
      "/home/raulf2012/Dropbox/01_norskov/00_git_repos/PROJ_IrOx_OER/workflow/xrd_bulks/plot_xrd_patterns\n",
      "I copied a bunch of these  methods for testing make sure to remove\n",
      "I copied a bunch of these  methods for testing make sure to remove\n",
      "I copied a bunch of these  methods for testing make sure to remove\n",
      "I copied a bunch of these  methods for testing make sure to remove\n",
      "I copied a bunch of these  methods for testing make sure to remove\n",
      "I copied a bunch of these  methods for testing make sure to remove\n",
      "I copied a bunch of these  methods for testing make sure to remove\n",
      "I copied a bunch of these  methods for testing make sure to remove\n",
      "I copied a bunch of these  methods for testing make sure to remove\n",
      "I copied a bunch of these  methods for testing make sure to remove\n"
     ]
    }
   ],
   "source": [
    "import os\n",
    "print(os.getcwd())\n",
    "import sys\n",
    "\n",
    "import pandas as pd\n",
    "\n",
    "from pymatgen.io.ase import AseAtomsAdaptor\n",
    "\n",
    "# #########################################################\n",
    "from methods import get_df_dft\n",
    "\n",
    "# #########################################################\n",
    "sys.path.insert(0, \"..\")\n",
    "from local_methods import XRDCalculator\n",
    "from local_methods import get_top_xrd_facets"
   ]
  },
  {
   "cell_type": "markdown",
   "metadata": {},
   "source": [
    "# Script Inputs"
   ]
  },
  {
   "cell_type": "code",
   "execution_count": 2,
   "metadata": {},
   "outputs": [],
   "source": [
    "verbose = True\n",
    "# verbose = False\n",
    "\n",
    "# bulk_id_i = \"8ymh8qnl6o\"\n",
    "# bulk_id_i = \"8p8evt9pcg\"\n",
    "# bulk_id_i = \"8l919k6s7p\"\n",
    "bulk_id_i = \"64cg6j9any\""
   ]
  },
  {
   "cell_type": "markdown",
   "metadata": {},
   "source": [
    "# Read Data"
   ]
  },
  {
   "cell_type": "code",
   "execution_count": 3,
   "metadata": {},
   "outputs": [
    {
     "name": "stdout",
     "output_type": "stream",
     "text": [
      "df_dft.shape: 565\n"
     ]
    }
   ],
   "source": [
    "df_dft = get_df_dft()\n",
    "print(\"df_dft.shape:\", df_dft.shape[0])\n",
    "\n",
    "from methods import get_df_xrd\n",
    "df_xrd = get_df_xrd()\n",
    "\n",
    "df_xrd = df_xrd.set_index(\"id_unique\", drop=False)"
   ]
  },
  {
   "cell_type": "raw",
   "metadata": {},
   "source": [
    "\n",
    "\n"
   ]
  },
  {
   "cell_type": "code",
   "execution_count": 4,
   "metadata": {},
   "outputs": [
    {
     "name": "stdout",
     "output_type": "stream",
     "text": [
      "top_facets: [(1, 0, 1), (1, -1, 0), (2, -1, 1)]\n"
     ]
    }
   ],
   "source": [
    "# #########################################################\n",
    "row_i = df_dft.loc[bulk_id_i]\n",
    "# #########################################################\n",
    "atoms_i = row_i.atoms\n",
    "atoms_stan_prim_i = row_i.atoms_stan_prim\n",
    "# #########################################################\n",
    "\n",
    "# Writing bulk facets\n",
    "atoms_i.write(\"out_data/bulk.traj\")\n",
    "atoms_i.write(\"out_data/bulk.cif\")\n",
    "\n",
    "# #########################################################\n",
    "row_xrd_i = df_xrd.loc[bulk_id_i]\n",
    "# #########################################################\n",
    "top_facets_i = row_xrd_i.top_facets\n",
    "# #########################################################\n",
    "\n",
    "print(\n",
    "    \"top_facets:\",\n",
    "    top_facets_i\n",
    "    )"
   ]
  },
  {
   "cell_type": "code",
   "execution_count": 5,
   "metadata": {},
   "outputs": [],
   "source": [
    "# assert False"
   ]
  },
  {
   "cell_type": "code",
   "execution_count": 6,
   "metadata": {},
   "outputs": [
    {
     "data": {
      "image/png": "[encoded data removed]",
      "text/plain": [
       "<Figure size 432x288 with 1 Axes>"
      ]
     },
     "metadata": {
      "needs_background": "light"
     },
     "output_type": "display_data"
    }
   ],
   "source": [
    "# atoms = atoms_i\n",
    "atoms = atoms_stan_prim_i\n",
    "\n",
    "AAA = AseAtomsAdaptor()\n",
    "struct_i = AAA.get_structure(atoms)\n",
    "\n",
    "XRDCalc = XRDCalculator(\n",
    "    wavelength='CuKa',\n",
    "    symprec=0,\n",
    "    debye_waller_factors=None,\n",
    "    )\n",
    "\n",
    "# XRDCalc.get_plot(structure=struct_i)\n",
    "# XRDCalc.get_plot?\n",
    "\n",
    "plt = XRDCalc.plot_structures([struct_i])"
   ]
  },
  {
   "cell_type": "markdown",
   "metadata": {},
   "source": [
    "# Saving plot to file"
   ]
  },
  {
   "cell_type": "code",
   "execution_count": 7,
   "metadata": {},
   "outputs": [],
   "source": [
    "file_name_i = os.path.join(\n",
    "    \"out_plot\",\n",
    "    bulk_id_i + \".png\",\n",
    "    )\n",
    "plt.savefig(\n",
    "    file_name_i,\n",
    "    dpi=1600,\n",
    "    )"
   ]
  }
 ],
 "metadata": {
  "jupytext": {
   "formats": "ipynb,py:light"
  },
  "kernelspec": {
   "display_name": "Python [conda env:PROJ_irox_oer] *",
   "language": "python",
   "name": "conda-env-PROJ_irox_oer-py"
  },
  "language_info": {
   "codemirror_mode": {
    "name": "ipython",
    "version": 3
   },
   "file_extension": ".py",
   "mimetype": "text/x-python",
   "name": "python",
   "nbconvert_exporter": "python",
   "pygments_lexer": "ipython3",
   "version": "3.6.11"
  }
 },
 "nbformat": 4,
 "nbformat_minor": 4
}
