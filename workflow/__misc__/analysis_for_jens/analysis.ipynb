{
 "cells": [
  {
   "cell_type": "markdown",
   "metadata": {},
   "source": [
    "# Import Modules"
   ]
  },
  {
   "cell_type": "code",
   "execution_count": 1,
   "metadata": {},
   "outputs": [
    {
     "name": "stdout",
     "output_type": "stream",
     "text": [
      "/home/raulf2012/Dropbox/01_norskov/00_git_repos/PROJ_IrOx_OER/workflow/__misc__/analysis_for_jens\n"
     ]
    }
   ],
   "source": [
    "import os\n",
    "print(os.getcwd())\n",
    "import sys\n",
    "\n",
    "# #########################################################\n",
    "from methods import (\n",
    "    get_df_jobs,\n",
    "    get_df_jobs_data,\n",
    "    get_df_jobs_anal,\n",
    "    get_df_jobs_paths,\n",
    "    )\n",
    "\n",
    "# #########################################################\n"
   ]
  },
  {
   "cell_type": "markdown",
   "metadata": {},
   "source": [
    "# Script Inputs"
   ]
  },
  {
   "cell_type": "code",
   "execution_count": null,
   "metadata": {},
   "outputs": [],
   "source": [
    "# /nfs/slac/g/suncatfs/flores12/PROJ_IrOx_OER/dft_workflow/run_slabs/run_bare_oh_covered/out_data/dft_jobs/b5cgvsb16w/111/bare/active_site__67/01_attempt/_01"
   ]
  },
  {
   "cell_type": "markdown",
   "metadata": {},
   "source": [
    "# Read Data"
   ]
  },
  {
   "cell_type": "code",
   "execution_count": 2,
   "metadata": {},
   "outputs": [],
   "source": [
    "df_jobs = get_df_jobs()\n",
    "df_jobs_data = get_df_jobs_data()\n",
    "df_jobs_anal = get_df_jobs_anal()\n",
    "df_jobs_paths = get_df_jobs_paths()"
   ]
  },
  {
   "cell_type": "raw",
   "metadata": {},
   "source": [
    "\n",
    "\n",
    "\n"
   ]
  },
  {
   "cell_type": "code",
   "execution_count": 4,
   "metadata": {},
   "outputs": [
    {
     "data": {
      "text/html": [
       "<div>\n",
       "<style scoped>\n",
       "    .dataframe tbody tr th:only-of-type {\n",
       "        vertical-align: middle;\n",
       "    }\n",
       "\n",
       "    .dataframe tbody tr th {\n",
       "        vertical-align: top;\n",
       "    }\n",
       "\n",
       "    .dataframe thead th {\n",
       "        text-align: right;\n",
       "    }\n",
       "</style>\n",
       "<table border=\"1\" class=\"dataframe\">\n",
       "  <thead>\n",
       "    <tr style=\"text-align: right;\">\n",
       "      <th></th>\n",
       "      <th>bulk_id</th>\n",
       "      <th>slab_id</th>\n",
       "      <th>job_id</th>\n",
       "      <th>facet</th>\n",
       "      <th>compenv</th>\n",
       "      <th>ads</th>\n",
       "      <th>num_revs</th>\n",
       "      <th>att_num</th>\n",
       "      <th>rev_num</th>\n",
       "      <th>path_job_root</th>\n",
       "      <th>path_short</th>\n",
       "    </tr>\n",
       "    <tr>\n",
       "      <th>job_id</th>\n",
       "      <th></th>\n",
       "      <th></th>\n",
       "      <th></th>\n",
       "      <th></th>\n",
       "      <th></th>\n",
       "      <th></th>\n",
       "      <th></th>\n",
       "      <th></th>\n",
       "      <th></th>\n",
       "      <th></th>\n",
       "      <th></th>\n",
       "    </tr>\n",
       "  </thead>\n",
       "  <tbody>\n",
       "    <tr>\n",
       "      <th>bopimusi_43</th>\n",
       "      <td>81meck64ba</td>\n",
       "      <td>fagumoha_68</td>\n",
       "      <td>bopimusi_43</td>\n",
       "      <td>110</td>\n",
       "      <td>slac</td>\n",
       "      <td>bare</td>\n",
       "      <td>1</td>\n",
       "      <td>1</td>\n",
       "      <td>1</td>\n",
       "      <td>dft_workflow/run_slabs/run_bare_oh_covered/out...</td>\n",
       "      <td>81meck64ba/110/bare/active_site__62/01_attempt...</td>\n",
       "    </tr>\n",
       "  </tbody>\n",
       "</table>\n",
       "</div>"
      ],
      "text/plain": [
       "                bulk_id      slab_id       job_id facet compenv   ads  \\\n",
       "job_id                                                                  \n",
       "bopimusi_43  81meck64ba  fagumoha_68  bopimusi_43   110    slac  bare   \n",
       "\n",
       "             num_revs  att_num  rev_num  \\\n",
       "job_id                                    \n",
       "bopimusi_43         1        1        1   \n",
       "\n",
       "                                                 path_job_root  \\\n",
       "job_id                                                           \n",
       "bopimusi_43  dft_workflow/run_slabs/run_bare_oh_covered/out...   \n",
       "\n",
       "                                                    path_short  \n",
       "job_id                                                          \n",
       "bopimusi_43  81meck64ba/110/bare/active_site__62/01_attempt...  "
      ]
     },
     "execution_count": 4,
     "metadata": {},
     "output_type": "execute_result"
    }
   ],
   "source": [
    "df_jobs[df_jobs.ads == \"bare\"]"
   ]
  }
 ],
 "metadata": {
  "jupytext": {
   "formats": "ipynb,py:light"
  },
  "kernelspec": {
   "display_name": "Python [conda env:PROJ_irox_oer] *",
   "language": "python",
   "name": "conda-env-PROJ_irox_oer-py"
  },
  "language_info": {
   "codemirror_mode": {
    "name": "ipython",
    "version": 3
   },
   "file_extension": ".py",
   "mimetype": "text/x-python",
   "name": "python",
   "nbconvert_exporter": "python",
   "pygments_lexer": "ipython3",
   "version": "3.6.11"
  }
 },
 "nbformat": 4,
 "nbformat_minor": 4
}
