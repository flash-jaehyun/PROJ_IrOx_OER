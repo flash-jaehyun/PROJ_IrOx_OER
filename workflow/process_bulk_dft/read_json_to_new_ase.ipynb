{
 "cells": [
  {
   "cell_type": "markdown",
   "metadata": {},
   "source": [
    "# Read atoms json files with new ase version\n",
    "---\n",
    "\n",
    "Here we will read the written json atoms files from `write_atoms_json.ipynb` with the `PROJ_irox_oer` environment activated (new ase)"
   ]
  },
  {
   "cell_type": "markdown",
   "metadata": {},
   "source": [
    "# Import Modules"
   ]
  },
  {
   "cell_type": "code",
   "execution_count": 1,
   "metadata": {},
   "outputs": [
    {
     "name": "stdout",
     "output_type": "stream",
     "text": [
      "/mnt/f/Dropbox/01_norskov/00_git_repos/PROJ_IrOx_OER/workflow/process_bulk_dft\n"
     ]
    }
   ],
   "source": [
    "import os\n",
    "print(os.getcwd())\n",
    "import sys\n",
    "\n",
    "import pickle\n",
    "\n",
    "import pandas as pd\n",
    "\n",
    "from ase.io import read"
   ]
  },
  {
   "cell_type": "code",
   "execution_count": 2,
   "metadata": {},
   "outputs": [],
   "source": [
    "data_dict_list = []\n",
    "root_dir = \"out_data/json_files\"\n",
    "for subdir, dirs, files in os.walk(root_dir):\n",
    "\n",
    "    if \".ipynb_checkpoints\" in subdir.split(\"/\"):\n",
    "        continue\n",
    "\n",
    "    for file in files:\n",
    "        data_dict_i = dict()\n",
    "\n",
    "        file_path = os.path.join(subdir, file)\n",
    "        \n",
    "        atoms_i = read(file_path)\n",
    "        data_dict_i[\"atoms\"] = atoms_i\n",
    "        \n",
    "        id_i = file_path.split(\"/\")[-1].split(\".\")[0]\n",
    "        data_dict_i[\"id\"] = id_i\n",
    "\n",
    "        data_dict_list.append(data_dict_i)\n",
    "\n",
    "df_atoms = pd.DataFrame(data_dict_list)"
   ]
  },
  {
   "cell_type": "code",
   "execution_count": 3,
   "metadata": {},
   "outputs": [],
   "source": [
    "atoms_dict = dict(zip(\n",
    "    df_atoms.id,\n",
    "    df_atoms.atoms,\n",
    "    ))\n",
    "\n",
    "directory = \"out_data\"\n",
    "if not os.path.exists(directory): os.makedirs(directory)\n",
    "with open(os.path.join(directory, \"atoms_dict.pickle\"), \"wb\") as fle:\n",
    "    pickle.dump(atoms_dict, fle)"
   ]
  }
 ],
 "metadata": {
  "jupytext": {
   "formats": "ipynb,py:light"
  },
  "kernelspec": {
   "display_name": "Python [conda env:PROJ_irox_oer] *",
   "language": "python",
   "name": "conda-env-PROJ_irox_oer-py"
  },
  "language_info": {
   "codemirror_mode": {
    "name": "ipython",
    "version": 3
   },
   "file_extension": ".py",
   "mimetype": "text/x-python",
   "name": "python",
   "nbconvert_exporter": "python",
   "pygments_lexer": "ipython3",
   "version": "3.6.11"
  }
 },
 "nbformat": 4,
 "nbformat_minor": 4
}
