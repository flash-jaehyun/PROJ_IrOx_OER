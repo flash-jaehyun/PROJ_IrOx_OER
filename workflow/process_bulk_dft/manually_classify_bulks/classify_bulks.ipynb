{
 "cells": [
  {
   "cell_type": "markdown",
   "metadata": {},
   "source": [
    "# Import Modules"
   ]
  },
  {
   "cell_type": "code",
   "execution_count": 1,
   "metadata": {},
   "outputs": [
    {
     "name": "stdout",
     "output_type": "stream",
     "text": [
      "/home/raulf2012/Dropbox/01_norskov/00_git_repos/PROJ_IrOx_OER/workflow/process_bulk_dft/manually_classify_bulks\n"
     ]
    }
   ],
   "source": [
    "import os\n",
    "print(os.getcwd())\n",
    "import sys\n",
    "\n",
    "import json\n",
    "import pickle\n",
    "\n",
    "import pandas as pd\n",
    "\n",
    "# #########################################################\n",
    "from methods import get_df_dft"
   ]
  },
  {
   "cell_type": "markdown",
   "metadata": {},
   "source": [
    "# Read Data"
   ]
  },
  {
   "cell_type": "markdown",
   "metadata": {},
   "source": [
    "## Read bulk_ids of octahedral and unique polymorphs"
   ]
  },
  {
   "cell_type": "code",
   "execution_count": 2,
   "metadata": {},
   "outputs": [],
   "source": [
    "# ########################################################\n",
    "data_path = os.path.join(\n",
    "    os.environ[\"PROJ_irox_oer\"],\n",
    "    \"workflow/creating_slabs/selecting_bulks\",\n",
    "    \"out_data/data.json\")\n",
    "with open(data_path, \"r\") as fle:\n",
    "    data = json.load(fle)\n",
    "# ########################################################\n",
    "\n",
    "bulk_ids__octa_unique = data[\"bulk_ids__octa_unique\"]"
   ]
  },
  {
   "cell_type": "code",
   "execution_count": 3,
   "metadata": {},
   "outputs": [],
   "source": [
    "df_dft = get_df_dft()\n",
    "\n",
    "df_dft_i = df_dft[df_dft.index.isin(bulk_ids__octa_unique)]"
   ]
  },
  {
   "cell_type": "code",
   "execution_count": 4,
   "metadata": {},
   "outputs": [],
   "source": [
    "# df_dft_i.sort_values(\"num_atoms\", ascending=False).iloc[0:15]\n",
    "# df_dft_i.sort_values?"
   ]
  },
  {
   "cell_type": "raw",
   "metadata": {},
   "source": [
    "\n"
   ]
  },
  {
   "cell_type": "code",
   "execution_count": 5,
   "metadata": {},
   "outputs": [],
   "source": [
    "# [print(i) for i in df_dft_i.index.tolist()]"
   ]
  },
  {
   "cell_type": "code",
   "execution_count": 6,
   "metadata": {},
   "outputs": [],
   "source": [
    "directory = \"out_data/all_bulks\"\n",
    "if not os.path.exists(directory):\n",
    "    os.makedirs(directory)\n",
    "\n",
    "directory = \"out_data/layered_bulks\"\n",
    "if not os.path.exists(directory):\n",
    "    os.makedirs(directory)"
   ]
  },
  {
   "cell_type": "code",
   "execution_count": 7,
   "metadata": {},
   "outputs": [],
   "source": [
    "for i_cnt, (bulk_id_i, row_i) in enumerate(df_dft_i.iterrows()):\n",
    "    i_cnt_str = str(i_cnt).zfill(3)\n",
    "\n",
    "    atoms_i = row_i.atoms\n",
    "\n",
    "    atoms_i.write(\"out_data/all_bulks/\" + i_cnt_str + \"_\" + bulk_id_i + \".cif\")"
   ]
  },
  {
   "cell_type": "markdown",
   "metadata": {},
   "source": [
    "# Reading `bulk_manual_classification.csv`"
   ]
  },
  {
   "cell_type": "code",
   "execution_count": 16,
   "metadata": {},
   "outputs": [],
   "source": [
    "# df_bulk_class = pd.read_csv(\"./bulk_manual_classification.csv\")"
   ]
  },
  {
   "cell_type": "code",
   "execution_count": 9,
   "metadata": {},
   "outputs": [],
   "source": [
    "from methods import get_df_bulk_manual_class"
   ]
  },
  {
   "cell_type": "code",
   "execution_count": 11,
   "metadata": {},
   "outputs": [],
   "source": [
    "df_bulk_class = get_df_bulk_manual_class()"
   ]
  },
  {
   "cell_type": "code",
   "execution_count": 12,
   "metadata": {},
   "outputs": [
    {
     "data": {
      "text/html": [
       "<div>\n",
       "<style scoped>\n",
       "    .dataframe tbody tr th:only-of-type {\n",
       "        vertical-align: middle;\n",
       "    }\n",
       "\n",
       "    .dataframe tbody tr th {\n",
       "        vertical-align: top;\n",
       "    }\n",
       "\n",
       "    .dataframe thead th {\n",
       "        text-align: right;\n",
       "    }\n",
       "</style>\n",
       "<table border=\"1\" class=\"dataframe\">\n",
       "  <thead>\n",
       "    <tr style=\"text-align: right;\">\n",
       "      <th></th>\n",
       "      <th>index</th>\n",
       "      <th>bulk_id</th>\n",
       "      <th>layered</th>\n",
       "    </tr>\n",
       "    <tr>\n",
       "      <th>bulk_id</th>\n",
       "      <th></th>\n",
       "      <th></th>\n",
       "      <th></th>\n",
       "    </tr>\n",
       "  </thead>\n",
       "  <tbody>\n",
       "    <tr>\n",
       "      <th>64cg6j9any</th>\n",
       "      <td>0</td>\n",
       "      <td>64cg6j9any</td>\n",
       "      <td>False</td>\n",
       "    </tr>\n",
       "    <tr>\n",
       "      <th>n36axdbw65</th>\n",
       "      <td>1</td>\n",
       "      <td>n36axdbw65</td>\n",
       "      <td>False</td>\n",
       "    </tr>\n",
       "    <tr>\n",
       "      <th>clc2b1mavs</th>\n",
       "      <td>2</td>\n",
       "      <td>clc2b1mavs</td>\n",
       "      <td>False</td>\n",
       "    </tr>\n",
       "    <tr>\n",
       "      <th>ck638t75z3</th>\n",
       "      <td>3</td>\n",
       "      <td>ck638t75z3</td>\n",
       "      <td>False</td>\n",
       "    </tr>\n",
       "    <tr>\n",
       "      <th>mkbj6e6e9p</th>\n",
       "      <td>4</td>\n",
       "      <td>mkbj6e6e9p</td>\n",
       "      <td>False</td>\n",
       "    </tr>\n",
       "  </tbody>\n",
       "</table>\n",
       "</div>"
      ],
      "text/plain": [
       "            index     bulk_id  layered\n",
       "bulk_id                               \n",
       "64cg6j9any      0  64cg6j9any    False\n",
       "n36axdbw65      1  n36axdbw65    False\n",
       "clc2b1mavs      2  clc2b1mavs    False\n",
       "ck638t75z3      3  ck638t75z3    False\n",
       "mkbj6e6e9p      4  mkbj6e6e9p    False"
      ]
     },
     "execution_count": 12,
     "metadata": {},
     "output_type": "execute_result"
    }
   ],
   "source": [
    "df_bulk_class.head()"
   ]
  },
  {
   "cell_type": "code",
   "execution_count": 13,
   "metadata": {},
   "outputs": [
    {
     "name": "stdout",
     "output_type": "stream",
     "text": [
      "Total number of bulks being considered: 122\n",
      "Number of layered structures (55, 3)\n"
     ]
    }
   ],
   "source": [
    "print(\"Total number of bulks being considered:\", df_bulk_class.shape[0])\n",
    "\n",
    "df_bulk_class_layered = df_bulk_class[df_bulk_class.layered == True]\n",
    "print(\"Number of layered structures\",\n",
    "    df_bulk_class[df_bulk_class.layered == True].shape)"
   ]
  },
  {
   "cell_type": "code",
   "execution_count": 14,
   "metadata": {},
   "outputs": [],
   "source": [
    "for i_cnt, (bulk_id_i, row_i) in enumerate(df_bulk_class_layered.iterrows()):\n",
    "    i_cnt_str = str(i_cnt).zfill(3)\n",
    "    \n",
    "    # #####################################################\n",
    "    row_dft_i = df_dft.loc[bulk_id_i]\n",
    "    # #####################################################\n",
    "    atoms_i = row_dft_i.atoms\n",
    "    # #####################################################\n",
    "\n",
    "    atoms_i.write(\"out_data/layered_bulks/\" + i_cnt_str + \"_\" + bulk_id_i + \".cif\")"
   ]
  },
  {
   "cell_type": "raw",
   "metadata": {},
   "source": [
    "\n"
   ]
  },
  {
   "cell_type": "code",
   "execution_count": 15,
   "metadata": {
    "jupyter": {
     "source_hidden": true
    }
   },
   "outputs": [],
   "source": [
    "# df_bulk_class = df_bulk_class.fillna(value=False)\n",
    "\n",
    "# df[['a', 'b']] = df[['a','b']].fillna(value=0)\n",
    "# df_bulk_class.fillna?"
   ]
  },
  {
   "cell_type": "code",
   "execution_count": 10,
   "metadata": {
    "jupyter": {
     "source_hidden": true
    }
   },
   "outputs": [],
   "source": [
    "# def read_df_bulk_manual_class():\n",
    "#     \"\"\"\n",
    "#     \"\"\"\n",
    "#     # #################################################\n",
    "#     path_i = os.path.join(\n",
    "#         os.environ[\"PROJ_irox_oer\"],\n",
    "#         \"workflow/process_bulk_dft/manually_classify_bulks\",\n",
    "#         \"bulk_manual_classification.csv\")\n",
    "#     df_bulk_class = pd.read_csv(path_i)\n",
    "#     # df_bulk_class = pd.read_csv(\"./bulk_manual_classification.csv\")\n",
    "#     # #################################################\n",
    "\n",
    "#     # Filling empty spots of layerd column with False (if not True)\n",
    "#     df_bulk_class[[\"layered\"]] = df_bulk_class[[\"layered\"]].fillna(value=False)\n",
    "\n",
    "#     # Setting index\n",
    "#     df_bulk_class = df_bulk_class.set_index(\"bulk_id\", drop=False)\n",
    "\n",
    "#     return(df_bulk_class)"
   ]
  }
 ],
 "metadata": {
  "jupytext": {
   "formats": "ipynb,py:light"
  },
  "kernelspec": {
   "display_name": "Python [conda env:PROJ_irox_oer] *",
   "language": "python",
   "name": "conda-env-PROJ_irox_oer-py"
  },
  "language_info": {
   "codemirror_mode": {
    "name": "ipython",
    "version": 3
   },
   "file_extension": ".py",
   "mimetype": "text/x-python",
   "name": "python",
   "nbconvert_exporter": "python",
   "pygments_lexer": "ipython3",
   "version": "3.6.11"
  }
 },
 "nbformat": 4,
 "nbformat_minor": 4
}
