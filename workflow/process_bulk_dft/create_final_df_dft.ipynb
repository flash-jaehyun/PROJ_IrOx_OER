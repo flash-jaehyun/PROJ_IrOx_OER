{
 "cells": [
  {
   "cell_type": "markdown",
   "metadata": {},
   "source": [
    "# Import Modules"
   ]
  },
  {
   "cell_type": "code",
   "execution_count": 1,
   "metadata": {},
   "outputs": [
    {
     "name": "stdout",
     "output_type": "stream",
     "text": [
      "/home/raulf2012/Dropbox/01_norskov/00_git_repos/PROJ_IrOx_OER/workflow/process_bulk_dft\n"
     ]
    }
   ],
   "source": [
    "import os\n",
    "print(os.getcwd())\n",
    "import sys\n",
    "\n",
    "import pickle\n",
    "\n",
    "import pandas as pd\n",
    "\n",
    "# #########################################################\n",
    "from misc_modules.pandas_methods import drop_columns"
   ]
  },
  {
   "cell_type": "markdown",
   "metadata": {},
   "source": [
    "# Read Data"
   ]
  },
  {
   "cell_type": "code",
   "execution_count": 2,
   "metadata": {},
   "outputs": [],
   "source": [
    "# #########################################################\n",
    "path_i = os.path.join(\n",
    "    os.environ[\"PROJ_DATA\"],\n",
    "    \"PROJ_IrOx_OER/active_learning_proj_data\",\n",
    "    \"df_dft_final_no_dupl.pickle\")\n",
    "with open(path_i, \"rb\") as fle:\n",
    "    df_dft = pickle.load(fle)\n",
    "\n",
    "# #########################################################\n",
    "path_i = os.path.join(\"out_data\", \"atoms_dict.pickle\")\n",
    "with open(path_i, \"rb\") as fle:\n",
    "    atoms_dict = pickle.load(fle)\n",
    "\n",
    "# #########################################################\n",
    "dir_i = os.path.join(\n",
    "    os.environ[\"PROJ_irox_oer\"],\n",
    "    \"workflow/process_bulk_dft/standardize_bulks\", \"out_data\")\n",
    "file_name_i = os.path.join(dir_i, \"df_dft_stan.pickle\")\n",
    "with open(file_name_i, \"rb\") as fle:\n",
    "    df_dft_stan = pickle.load(fle)"
   ]
  },
  {
   "cell_type": "code",
   "execution_count": 3,
   "metadata": {},
   "outputs": [],
   "source": [
    "# #####################################################\n",
    "df_dft = drop_columns(\n",
    "    df=df_dft,\n",
    "    columns=[\"atoms\", \"form_e_chris\", \"id_old\", \"path\", \"id\", \"source\", \"energy\", ],\n",
    "    keep_or_drop=\"drop\")\n",
    "\n",
    "df_dft = df_dft.sort_values(\"dH\")"
   ]
  },
  {
   "cell_type": "markdown",
   "metadata": {},
   "source": [
    "Create new atoms column from `atoms_dict`"
   ]
  },
  {
   "cell_type": "code",
   "execution_count": 4,
   "metadata": {},
   "outputs": [],
   "source": [
    "df_dft[\"atoms\"] = df_dft.index.map(atoms_dict)"
   ]
  },
  {
   "cell_type": "code",
   "execution_count": 5,
   "metadata": {},
   "outputs": [],
   "source": [
    "# df_dft.drop(columns=[\"num_atoms\", \"\", ])"
   ]
  },
  {
   "cell_type": "code",
   "execution_count": 6,
   "metadata": {},
   "outputs": [],
   "source": [
    "# df_dft_stan\n",
    "\n",
    "# list(pd.concat([\n",
    "#     df_dft,\n",
    "#     df_dft_stan,\n",
    "#     ], axis=1).columns)\n",
    "\n",
    "df_dft = pd.concat([\n",
    "    # df_dft,\n",
    "    df_dft.drop(columns=[\"num_atoms\", ]),\n",
    "    df_dft_stan,\n",
    "    ], axis=1)\n",
    "\n",
    "# pd.concat?"
   ]
  },
  {
   "cell_type": "code",
   "execution_count": 7,
   "metadata": {},
   "outputs": [],
   "source": [
    "from misc_modules.pandas_methods import reorder_df_columns\n",
    "\n",
    "df_dft = reorder_df_columns(\n",
    "    [\n",
    "        \"id_unique\", \"stoich\", \"energy_pa\", \"dH\", \"volume\", \"volume_pa\",\n",
    "        \"num_atoms\", \"num_atoms_stan\", \"num_atoms_stan_prim\", \"num_atoms_red__stan\", \"num_atoms_red__stan_prim\",\n",
    "        \"atoms\", \"atoms_stan\", \"atoms_stan_prim\",\n",
    "        ],\n",
    "    df_dft,\n",
    "    )"
   ]
  },
  {
   "cell_type": "code",
   "execution_count": 10,
   "metadata": {},
   "outputs": [
    {
     "data": {
      "text/html": [
       "<div>\n",
       "<style scoped>\n",
       "    .dataframe tbody tr th:only-of-type {\n",
       "        vertical-align: middle;\n",
       "    }\n",
       "\n",
       "    .dataframe tbody tr th {\n",
       "        vertical-align: top;\n",
       "    }\n",
       "\n",
       "    .dataframe thead th {\n",
       "        text-align: right;\n",
       "    }\n",
       "</style>\n",
       "<table border=\"1\" class=\"dataframe\">\n",
       "  <thead>\n",
       "    <tr style=\"text-align: right;\">\n",
       "      <th></th>\n",
       "      <th>id_unique</th>\n",
       "      <th>stoich</th>\n",
       "      <th>energy_pa</th>\n",
       "      <th>dH</th>\n",
       "      <th>volume</th>\n",
       "      <th>volume_pa</th>\n",
       "      <th>na</th>\n",
       "      <th>na_stan</th>\n",
       "      <th>na_stan_prim</th>\n",
       "      <th>na_red__stan</th>\n",
       "      <th>na_red__stan_prim</th>\n",
       "      <th>atoms</th>\n",
       "      <th>atoms_stan</th>\n",
       "      <th>atoms_stan_prim</th>\n",
       "    </tr>\n",
       "    <tr>\n",
       "      <th>id_unique</th>\n",
       "      <th></th>\n",
       "      <th></th>\n",
       "      <th></th>\n",
       "      <th></th>\n",
       "      <th></th>\n",
       "      <th></th>\n",
       "      <th></th>\n",
       "      <th></th>\n",
       "      <th></th>\n",
       "      <th></th>\n",
       "      <th></th>\n",
       "      <th></th>\n",
       "      <th></th>\n",
       "      <th></th>\n",
       "    </tr>\n",
       "  </thead>\n",
       "  <tbody>\n",
       "    <tr>\n",
       "      <th>64cg6j9any</th>\n",
       "      <td>64cg6j9any</td>\n",
       "      <td>AB2</td>\n",
       "      <td>-7.047516</td>\n",
       "      <td>-0.838375</td>\n",
       "      <td>262.779845</td>\n",
       "      <td>10.949160</td>\n",
       "      <td>24</td>\n",
       "      <td>12</td>\n",
       "      <td>6</td>\n",
       "      <td>12</td>\n",
       "      <td>18</td>\n",
       "      <td>(Atom('O', [4.43912, 4.78444, 3.20932], index=...</td>\n",
       "      <td>(Atom('O', [0.0, 0.0, 0.0], magmom=0.0, index=...</td>\n",
       "      <td>(Atom('O', [0.0, 0.0, 0.0], magmom=0.0, index=...</td>\n",
       "    </tr>\n",
       "    <tr>\n",
       "      <th>n36axdbw65</th>\n",
       "      <td>n36axdbw65</td>\n",
       "      <td>AB2</td>\n",
       "      <td>-7.010873</td>\n",
       "      <td>-0.801733</td>\n",
       "      <td>392.626212</td>\n",
       "      <td>10.906284</td>\n",
       "      <td>36</td>\n",
       "      <td>36</td>\n",
       "      <td>36</td>\n",
       "      <td>0</td>\n",
       "      <td>0</td>\n",
       "      <td>(Atom('O', [1.29443, 3.4982, 8.37891], index=0...</td>\n",
       "      <td>(Atom('O', [0.0, 0.0, 0.0], magmom=0.0, index=...</td>\n",
       "      <td>(Atom('O', [0.0, 0.0, 0.0], magmom=0.0, index=...</td>\n",
       "    </tr>\n",
       "    <tr>\n",
       "      <th>clc2b1mavs</th>\n",
       "      <td>clc2b1mavs</td>\n",
       "      <td>AB2</td>\n",
       "      <td>-6.994516</td>\n",
       "      <td>-0.785375</td>\n",
       "      <td>274.195951</td>\n",
       "      <td>11.424831</td>\n",
       "      <td>24</td>\n",
       "      <td>24</td>\n",
       "      <td>24</td>\n",
       "      <td>0</td>\n",
       "      <td>0</td>\n",
       "      <td>(Atom('Ir', [13.02343, 0.79711, 4.37893], inde...</td>\n",
       "      <td>(Atom('Ir', [0.0, 0.0, 0.0], magmom=0.0, index...</td>\n",
       "      <td>(Atom('Ir', [0.0, 0.0, 0.0], magmom=0.0, index...</td>\n",
       "    </tr>\n",
       "    <tr>\n",
       "      <th>ck638t75z3</th>\n",
       "      <td>ck638t75z3</td>\n",
       "      <td>AB2</td>\n",
       "      <td>-6.985392</td>\n",
       "      <td>-0.776251</td>\n",
       "      <td>195.582681</td>\n",
       "      <td>10.865705</td>\n",
       "      <td>18</td>\n",
       "      <td>18</td>\n",
       "      <td>18</td>\n",
       "      <td>0</td>\n",
       "      <td>0</td>\n",
       "      <td>(Atom('O', [0.56398, 3.10384, 1.42509], index=...</td>\n",
       "      <td>(Atom('O', [0.0, 0.0, 0.0], magmom=0.0, index=...</td>\n",
       "      <td>(Atom('O', [0.0, 0.0, 0.0], magmom=0.0, index=...</td>\n",
       "    </tr>\n",
       "    <tr>\n",
       "      <th>mkbj6e6e9p</th>\n",
       "      <td>mkbj6e6e9p</td>\n",
       "      <td>AB2</td>\n",
       "      <td>-6.962611</td>\n",
       "      <td>-0.753471</td>\n",
       "      <td>399.033727</td>\n",
       "      <td>11.084270</td>\n",
       "      <td>36</td>\n",
       "      <td>36</td>\n",
       "      <td>36</td>\n",
       "      <td>0</td>\n",
       "      <td>0</td>\n",
       "      <td>(Atom('O', [8.12243, 2.19605, 3.08353], index=...</td>\n",
       "      <td>(Atom('O', [0.0, 0.0, 0.0], magmom=0.0, index=...</td>\n",
       "      <td>(Atom('O', [0.0, 0.0, 0.0], magmom=0.0, index=...</td>\n",
       "    </tr>\n",
       "  </tbody>\n",
       "</table>\n",
       "</div>"
      ],
      "text/plain": [
       "             id_unique stoich  energy_pa        dH      volume  volume_pa  na  \\\n",
       "id_unique                                                                       \n",
       "64cg6j9any  64cg6j9any    AB2  -7.047516 -0.838375  262.779845  10.949160  24   \n",
       "n36axdbw65  n36axdbw65    AB2  -7.010873 -0.801733  392.626212  10.906284  36   \n",
       "clc2b1mavs  clc2b1mavs    AB2  -6.994516 -0.785375  274.195951  11.424831  24   \n",
       "ck638t75z3  ck638t75z3    AB2  -6.985392 -0.776251  195.582681  10.865705  18   \n",
       "mkbj6e6e9p  mkbj6e6e9p    AB2  -6.962611 -0.753471  399.033727  11.084270  36   \n",
       "\n",
       "            na_stan  na_stan_prim  na_red__stan  na_red__stan_prim  \\\n",
       "id_unique                                                            \n",
       "64cg6j9any       12             6            12                 18   \n",
       "n36axdbw65       36            36             0                  0   \n",
       "clc2b1mavs       24            24             0                  0   \n",
       "ck638t75z3       18            18             0                  0   \n",
       "mkbj6e6e9p       36            36             0                  0   \n",
       "\n",
       "                                                        atoms  \\\n",
       "id_unique                                                       \n",
       "64cg6j9any  (Atom('O', [4.43912, 4.78444, 3.20932], index=...   \n",
       "n36axdbw65  (Atom('O', [1.29443, 3.4982, 8.37891], index=0...   \n",
       "clc2b1mavs  (Atom('Ir', [13.02343, 0.79711, 4.37893], inde...   \n",
       "ck638t75z3  (Atom('O', [0.56398, 3.10384, 1.42509], index=...   \n",
       "mkbj6e6e9p  (Atom('O', [8.12243, 2.19605, 3.08353], index=...   \n",
       "\n",
       "                                                   atoms_stan  \\\n",
       "id_unique                                                       \n",
       "64cg6j9any  (Atom('O', [0.0, 0.0, 0.0], magmom=0.0, index=...   \n",
       "n36axdbw65  (Atom('O', [0.0, 0.0, 0.0], magmom=0.0, index=...   \n",
       "clc2b1mavs  (Atom('Ir', [0.0, 0.0, 0.0], magmom=0.0, index...   \n",
       "ck638t75z3  (Atom('O', [0.0, 0.0, 0.0], magmom=0.0, index=...   \n",
       "mkbj6e6e9p  (Atom('O', [0.0, 0.0, 0.0], magmom=0.0, index=...   \n",
       "\n",
       "                                              atoms_stan_prim  \n",
       "id_unique                                                      \n",
       "64cg6j9any  (Atom('O', [0.0, 0.0, 0.0], magmom=0.0, index=...  \n",
       "n36axdbw65  (Atom('O', [0.0, 0.0, 0.0], magmom=0.0, index=...  \n",
       "clc2b1mavs  (Atom('Ir', [0.0, 0.0, 0.0], magmom=0.0, index...  \n",
       "ck638t75z3  (Atom('O', [0.0, 0.0, 0.0], magmom=0.0, index=...  \n",
       "mkbj6e6e9p  (Atom('O', [0.0, 0.0, 0.0], magmom=0.0, index=...  "
      ]
     },
     "execution_count": 10,
     "metadata": {},
     "output_type": "execute_result"
    }
   ],
   "source": [
    "df_dft = df_dft.rename(columns={\n",
    "    \"num_atoms\": \"na\",\n",
    "    \"num_atoms_stan_prim\": \"na_stan_prim\",\n",
    "    \"num_atoms_stan\": \"na_stan\",\n",
    "    \"num_atoms_red__stan\": \"na_red__stan\",\n",
    "    \"num_atoms_red__stan_prim\": \"na_red__stan_prim\",\n",
    "    })\n",
    "\n",
    "df_dft.head()"
   ]
  },
  {
   "cell_type": "code",
   "execution_count": 11,
   "metadata": {},
   "outputs": [],
   "source": [
    "# assert False"
   ]
  },
  {
   "cell_type": "code",
   "execution_count": 12,
   "metadata": {},
   "outputs": [],
   "source": [
    "# Pickling data ###########################################\n",
    "import os; import pickle\n",
    "directory = \"out_data\"\n",
    "if not os.path.exists(directory): os.makedirs(directory)\n",
    "with open(os.path.join(directory, \"df_dft.pickle\"), \"wb\") as fle:\n",
    "    pickle.dump(df_dft, fle)\n",
    "# #########################################################"
   ]
  },
  {
   "cell_type": "raw",
   "metadata": {},
   "source": [
    "\n",
    "\n"
   ]
  },
  {
   "cell_type": "code",
   "execution_count": null,
   "metadata": {
    "jupyter": {
     "source_hidden": true
    }
   },
   "outputs": [],
   "source": [
    "# # #####################################################\n",
    "# path_i = os.path.join(\n",
    "#     os.environ[\"PROJ_irox_oer\"],\n",
    "#     \"workflow/process_bulk_dft\",\n",
    "#     \"out_data/df_dft.pickle\")\n",
    "# with open(path_i, \"rb\") as fle:\n",
    "#     df_dft = pickle.load(fle)"
   ]
  }
 ],
 "metadata": {
  "jupytext": {
   "formats": "ipynb,py:light"
  },
  "kernelspec": {
   "display_name": "Python [conda env:PROJ_irox_oer] *",
   "language": "python",
   "name": "conda-env-PROJ_irox_oer-py"
  },
  "language_info": {
   "codemirror_mode": {
    "name": "ipython",
    "version": 3
   },
   "file_extension": ".py",
   "mimetype": "text/x-python",
   "name": "python",
   "nbconvert_exporter": "python",
   "pygments_lexer": "ipython3",
   "version": "3.6.11"
  }
 },
 "nbformat": 4,
 "nbformat_minor": 4
}
