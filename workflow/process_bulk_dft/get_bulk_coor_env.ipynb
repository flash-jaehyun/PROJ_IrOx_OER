{
 "cells": [
  {
   "cell_type": "markdown",
   "metadata": {},
   "source": [
    "# Getting the coordination environment data for each bulk\n",
    "---"
   ]
  },
  {
   "cell_type": "markdown",
   "metadata": {},
   "source": [
    "# Import Modules"
   ]
  },
  {
   "cell_type": "code",
   "execution_count": 1,
   "metadata": {},
   "outputs": [
    {
     "name": "stdout",
     "output_type": "stream",
     "text": [
      "/mnt/f/Dropbox/01_norskov/00_git_repos/PROJ_IrOx_OER/workflow/process_bulk_dft\n"
     ]
    }
   ],
   "source": [
    "import os\n",
    "print(os.getcwd())\n",
    "import sys\n",
    "\n",
    "import pickle\n",
    "\n",
    "from tqdm.notebook import tqdm\n",
    "\n",
    "from ase import io\n",
    "\n",
    "# # #########################################################\n",
    "from methods import (\n",
    "    get_df_dft,\n",
    "    get_structure_coord_df,\n",
    "    )"
   ]
  },
  {
   "cell_type": "markdown",
   "metadata": {},
   "source": [
    "# Read data"
   ]
  },
  {
   "cell_type": "code",
   "execution_count": 2,
   "metadata": {},
   "outputs": [],
   "source": [
    "df_dft = get_df_dft()"
   ]
  },
  {
   "cell_type": "code",
   "execution_count": null,
   "metadata": {},
   "outputs": [],
   "source": [
    "directory = \"out_data/df_coord_files\"\n",
    "if not os.path.exists(directory):\n",
    "    os.makedirs(directory)"
   ]
  },
  {
   "cell_type": "code",
   "execution_count": 9,
   "metadata": {},
   "outputs": [
    {
     "data": {
      "application/vnd.jupyter.widget-view+json": {
       "model_id": "b0ccc3b7051c4fed9ace3f9d17c83713",
       "version_major": 2,
       "version_minor": 0
      },
      "text/plain": [
       "HBox(children=(FloatProgress(value=0.0, description='1st loop', max=565.0, style=ProgressStyle(description_wid…"
      ]
     },
     "metadata": {},
     "output_type": "display_data"
    },
    {
     "name": "stdout",
     "output_type": "stream",
     "text": [
      "\n"
     ]
    }
   ],
   "source": [
    "data_dict_list = []\n",
    "iterator = tqdm(df_dft.index.tolist(), desc=\"1st loop\")\n",
    "for i_cnt, bulk_id_i in enumerate(iterator):\n",
    "    row_i = df_dft.loc[bulk_id_i]\n",
    "\n",
    "    data_dict_i = dict()\n",
    "    # #####################################################\n",
    "    atoms = row_i.atoms\n",
    "    bulk_id = row_i.name\n",
    "    # #####################################################\n",
    "\n",
    "    df_coord_i = get_structure_coord_df(atoms)\n",
    "    \n",
    "    # Pickling data ###########################################\n",
    "    with open(os.path.join(directory, bulk_id + \".pickle\"), \"wb\") as fle:\n",
    "        pickle.dump(df_coord_i, fle)\n",
    "    # #########################################################"
   ]
  },
  {
   "cell_type": "raw",
   "metadata": {},
   "source": [
    "\n",
    "\n",
    "\n",
    "\n",
    "\n",
    "\n",
    "\n",
    "\n",
    "\n"
   ]
  },
  {
   "cell_type": "code",
   "execution_count": null,
   "metadata": {
    "jupyter": {
     "source_hidden": true
    }
   },
   "outputs": [],
   "source": [
    "\n",
    "# from pathlib import Path\n",
    "# import copy\n",
    "\n",
    "# import json\n",
    "\n",
    "# import numpy as np\n",
    "# import pandas as pd\n",
    "\n",
    "\n",
    "# # from tqdm import tqdm\n",
    "# from tqdm.notebook import tqdm\n",
    "\n",
    "# # #########################################################\n",
    "\n",
    "\n",
    "# # #########################################################\n",
    "# from misc_modules.pandas_methods import drop_columns\n",
    "# from misc_modules.misc_methods import GetFriendlyID\n",
    "# from ase_modules.ase_methods import view_in_vesta\n",
    "\n",
    "# from proj_data import metal_atom_symbol\n",
    "\n",
    "# #########################################################\n",
    "# from local_methods import (\n",
    "#     analyse_local_coord_env, check_if_sys_processed,\n",
    "#     remove_nonsaturated_surface_metal_atoms,\n",
    "#     remove_noncoord_oxygens,\n",
    "#     create_slab_from_bulk,\n",
    "#     get_slab_thickness,\n",
    "#     remove_highest_metal_atoms,\n",
    "#     remove_all_atoms_above_cutoff,\n",
    "#     create_final_slab_master,\n",
    "#     constrain_slab,\n",
    "#     )\n",
    "\n",
    "# # from local_methods import calc_surface_area"
   ]
  }
 ],
 "metadata": {
  "jupytext": {
   "formats": "ipynb,py:light"
  },
  "kernelspec": {
   "display_name": "Python [conda env:PROJ_irox_oer] *",
   "language": "python",
   "name": "conda-env-PROJ_irox_oer-py"
  },
  "language_info": {
   "codemirror_mode": {
    "name": "ipython",
    "version": 3
   },
   "file_extension": ".py",
   "mimetype": "text/x-python",
   "name": "python",
   "nbconvert_exporter": "python",
   "pygments_lexer": "ipython3",
   "version": "3.6.11"
  }
 },
 "nbformat": 4,
 "nbformat_minor": 4
}
