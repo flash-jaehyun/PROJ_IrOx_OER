{
 "cells": [
  {
   "cell_type": "markdown",
   "metadata": {},
   "source": [
    "# Get all active sites for slabs\n",
    "---\n",
    "\n",
    "Analyze slabs for active sites"
   ]
  },
  {
   "cell_type": "markdown",
   "metadata": {},
   "source": [
    "# Import Modules"
   ]
  },
  {
   "cell_type": "code",
   "execution_count": 1,
   "metadata": {
    "jupyter": {
     "source_hidden": true
    }
   },
   "outputs": [
    {
     "name": "stdout",
     "output_type": "stream",
     "text": [
      "/home/raulf2012/Dropbox/01_norskov/00_git_repos/PROJ_IrOx_OER/workflow/enumerate_adsorption\n"
     ]
    }
   ],
   "source": [
    "import os\n",
    "print(os.getcwd())\n",
    "import sys\n",
    "\n",
    "import pickle\n",
    "\n",
    "\n",
    "import numpy as np\n",
    "import pandas as pd\n",
    "\n",
    "from ase import io\n",
    "\n",
    "# # from tqdm import tqdm\n",
    "from tqdm.notebook import tqdm\n",
    "\n",
    "# # #########################################################\n",
    "from proj_data import metal_atom_symbol\n",
    "\n",
    "# #########################################################\n",
    "from methods import (\n",
    "    get_df_slab,\n",
    "    get_structure_coord_df,\n",
    "    get_df_coord,\n",
    "    get_df_active_sites,\n",
    "    )\n",
    "\n",
    "# #########################################################\n",
    "from local_methods import (\n",
    "    mean_O_metal_coord,\n",
    "    get_all_active_sites,\n",
    "    get_unique_active_sites,\n",
    "    get_unique_active_sites_temp,\n",
    "    )"
   ]
  },
  {
   "cell_type": "markdown",
   "metadata": {},
   "source": [
    "# Read Data"
   ]
  },
  {
   "cell_type": "code",
   "execution_count": 2,
   "metadata": {},
   "outputs": [],
   "source": [
    "# #########################################################\n",
    "df_slab = get_df_slab()\n",
    "df_slab = df_slab.set_index(\"slab_id\")\n",
    "\n",
    "# #########################################################\n",
    "df_active_sites_prev = get_df_active_sites()\n",
    "\n",
    "if df_active_sites_prev is None:\n",
    "    df_active_sites_prev = pd.DataFrame()"
   ]
  },
  {
   "cell_type": "code",
   "execution_count": 5,
   "metadata": {},
   "outputs": [
    {
     "data": {
      "text/html": [
       "<div>\n",
       "<style scoped>\n",
       "    .dataframe tbody tr th:only-of-type {\n",
       "        vertical-align: middle;\n",
       "    }\n",
       "\n",
       "    .dataframe tbody tr th {\n",
       "        vertical-align: top;\n",
       "    }\n",
       "\n",
       "    .dataframe thead th {\n",
       "        text-align: right;\n",
       "    }\n",
       "</style>\n",
       "<table border=\"1\" class=\"dataframe\">\n",
       "  <thead>\n",
       "    <tr style=\"text-align: right;\">\n",
       "      <th></th>\n",
       "      <th>bulk_id</th>\n",
       "      <th>slab_id</th>\n",
       "      <th>facet</th>\n",
       "      <th>num_atoms</th>\n",
       "      <th>num_active_sites</th>\n",
       "      <th>active_sites</th>\n",
       "      <th>active_sites_unique</th>\n",
       "      <th>num_active_sites_unique</th>\n",
       "    </tr>\n",
       "    <tr>\n",
       "      <th>slab_id</th>\n",
       "      <th></th>\n",
       "      <th></th>\n",
       "      <th></th>\n",
       "      <th></th>\n",
       "      <th></th>\n",
       "      <th></th>\n",
       "      <th></th>\n",
       "      <th></th>\n",
       "    </tr>\n",
       "  </thead>\n",
       "  <tbody>\n",
       "    <tr>\n",
       "      <th>kufiloga_64</th>\n",
       "      <td>8l919k6s7p</td>\n",
       "      <td>kufiloga_64</td>\n",
       "      <td>100</td>\n",
       "      <td>104</td>\n",
       "      <td>8</td>\n",
       "      <td>[94, 95, 96, 97, 100, 101, 102, 103]</td>\n",
       "      <td>[94, 100]</td>\n",
       "      <td>2</td>\n",
       "    </tr>\n",
       "    <tr>\n",
       "      <th>nofabigo_84</th>\n",
       "      <td>8l919k6s7p</td>\n",
       "      <td>nofabigo_84</td>\n",
       "      <td>111</td>\n",
       "      <td>79</td>\n",
       "      <td>7</td>\n",
       "      <td>[72, 73, 74, 75, 76, 77, 78]</td>\n",
       "      <td>[72, 73, 74, 75, 76, 77, 78]</td>\n",
       "      <td>7</td>\n",
       "    </tr>\n",
       "    <tr>\n",
       "      <th>wetokahi_33</th>\n",
       "      <td>8l919k6s7p</td>\n",
       "      <td>wetokahi_33</td>\n",
       "      <td>101</td>\n",
       "      <td>150</td>\n",
       "      <td>14</td>\n",
       "      <td>[130, 131, 132, 135, 140, 141, 142, 143, 144, ...</td>\n",
       "      <td>[130, 132, 142, 144, 146, 148]</td>\n",
       "      <td>6</td>\n",
       "    </tr>\n",
       "    <tr>\n",
       "      <th>kodefivo_37</th>\n",
       "      <td>8l919k6s7p</td>\n",
       "      <td>kodefivo_37</td>\n",
       "      <td>001</td>\n",
       "      <td>63</td>\n",
       "      <td>3</td>\n",
       "      <td>[60, 61, 62]</td>\n",
       "      <td>[60, 61]</td>\n",
       "      <td>2</td>\n",
       "    </tr>\n",
       "    <tr>\n",
       "      <th>lulidoka_21</th>\n",
       "      <td>8l919k6s7p</td>\n",
       "      <td>lulidoka_21</td>\n",
       "      <td>110</td>\n",
       "      <td>68</td>\n",
       "      <td>4</td>\n",
       "      <td>[64, 65, 66, 67]</td>\n",
       "      <td>[64, 66]</td>\n",
       "      <td>2</td>\n",
       "    </tr>\n",
       "    <tr>\n",
       "      <th>...</th>\n",
       "      <td>...</td>\n",
       "      <td>...</td>\n",
       "      <td>...</td>\n",
       "      <td>...</td>\n",
       "      <td>...</td>\n",
       "      <td>...</td>\n",
       "      <td>...</td>\n",
       "      <td>...</td>\n",
       "    </tr>\n",
       "    <tr>\n",
       "      <th>runododu_73</th>\n",
       "      <td>82mwbwbgbl</td>\n",
       "      <td>runododu_73</td>\n",
       "      <td>111</td>\n",
       "      <td>101</td>\n",
       "      <td>4</td>\n",
       "      <td>[95, 96, 99, 100]</td>\n",
       "      <td>[95, 99]</td>\n",
       "      <td>2</td>\n",
       "    </tr>\n",
       "    <tr>\n",
       "      <th>ripitoko_94</th>\n",
       "      <td>9573vicg7f</td>\n",
       "      <td>ripitoko_94</td>\n",
       "      <td>331</td>\n",
       "      <td>295</td>\n",
       "      <td>17</td>\n",
       "      <td>[273, 275, 278, 279, 281, 283, 284, 285, 286, ...</td>\n",
       "      <td>[273, 278, 279, 281, 286, 287, 291, 293]</td>\n",
       "      <td>8</td>\n",
       "    </tr>\n",
       "    <tr>\n",
       "      <th>wefedifi_91</th>\n",
       "      <td>9573vicg7f</td>\n",
       "      <td>wefedifi_91</td>\n",
       "      <td>110</td>\n",
       "      <td>100</td>\n",
       "      <td>6</td>\n",
       "      <td>[94, 95, 96, 97, 98, 99]</td>\n",
       "      <td>[94, 96, 98]</td>\n",
       "      <td>3</td>\n",
       "    </tr>\n",
       "    <tr>\n",
       "      <th>hinirako_22</th>\n",
       "      <td>vl9on5zpm1</td>\n",
       "      <td>hinirako_22</td>\n",
       "      <td>010</td>\n",
       "      <td>96</td>\n",
       "      <td>0</td>\n",
       "      <td>[]</td>\n",
       "      <td>[]</td>\n",
       "      <td>0</td>\n",
       "    </tr>\n",
       "    <tr>\n",
       "      <th>keselado_12</th>\n",
       "      <td>nscdbpmdct</td>\n",
       "      <td>keselado_12</td>\n",
       "      <td>302</td>\n",
       "      <td>192</td>\n",
       "      <td>12</td>\n",
       "      <td>[86, 87, 91, 92, 93, 95, 182, 183, 187, 188, 1...</td>\n",
       "      <td>[86]</td>\n",
       "      <td>1</td>\n",
       "    </tr>\n",
       "  </tbody>\n",
       "</table>\n",
       "<p>161 rows × 8 columns</p>\n",
       "</div>"
      ],
      "text/plain": [
       "                bulk_id      slab_id facet  num_atoms  num_active_sites  \\\n",
       "slab_id                                                                   \n",
       "kufiloga_64  8l919k6s7p  kufiloga_64   100        104                 8   \n",
       "nofabigo_84  8l919k6s7p  nofabigo_84   111         79                 7   \n",
       "wetokahi_33  8l919k6s7p  wetokahi_33   101        150                14   \n",
       "kodefivo_37  8l919k6s7p  kodefivo_37   001         63                 3   \n",
       "lulidoka_21  8l919k6s7p  lulidoka_21   110         68                 4   \n",
       "...                 ...          ...   ...        ...               ...   \n",
       "runododu_73  82mwbwbgbl  runododu_73   111        101                 4   \n",
       "ripitoko_94  9573vicg7f  ripitoko_94   331        295                17   \n",
       "wefedifi_91  9573vicg7f  wefedifi_91   110        100                 6   \n",
       "hinirako_22  vl9on5zpm1  hinirako_22   010         96                 0   \n",
       "keselado_12  nscdbpmdct  keselado_12   302        192                12   \n",
       "\n",
       "                                                  active_sites  \\\n",
       "slab_id                                                          \n",
       "kufiloga_64               [94, 95, 96, 97, 100, 101, 102, 103]   \n",
       "nofabigo_84                       [72, 73, 74, 75, 76, 77, 78]   \n",
       "wetokahi_33  [130, 131, 132, 135, 140, 141, 142, 143, 144, ...   \n",
       "kodefivo_37                                       [60, 61, 62]   \n",
       "lulidoka_21                                   [64, 65, 66, 67]   \n",
       "...                                                        ...   \n",
       "runododu_73                                  [95, 96, 99, 100]   \n",
       "ripitoko_94  [273, 275, 278, 279, 281, 283, 284, 285, 286, ...   \n",
       "wefedifi_91                           [94, 95, 96, 97, 98, 99]   \n",
       "hinirako_22                                                 []   \n",
       "keselado_12  [86, 87, 91, 92, 93, 95, 182, 183, 187, 188, 1...   \n",
       "\n",
       "                                  active_sites_unique  num_active_sites_unique  \n",
       "slab_id                                                                         \n",
       "kufiloga_64                                 [94, 100]                        2  \n",
       "nofabigo_84              [72, 73, 74, 75, 76, 77, 78]                        7  \n",
       "wetokahi_33            [130, 132, 142, 144, 146, 148]                        6  \n",
       "kodefivo_37                                  [60, 61]                        2  \n",
       "lulidoka_21                                  [64, 66]                        2  \n",
       "...                                               ...                      ...  \n",
       "runododu_73                                  [95, 99]                        2  \n",
       "ripitoko_94  [273, 278, 279, 281, 286, 287, 291, 293]                        8  \n",
       "wefedifi_91                              [94, 96, 98]                        3  \n",
       "hinirako_22                                        []                        0  \n",
       "keselado_12                                      [86]                        1  \n",
       "\n",
       "[161 rows x 8 columns]"
      ]
     },
     "execution_count": 5,
     "metadata": {},
     "output_type": "execute_result"
    }
   ],
   "source": [
    "df_active_sites_prev"
   ]
  },
  {
   "cell_type": "code",
   "execution_count": 4,
   "metadata": {},
   "outputs": [
    {
     "ename": "AssertionError",
     "evalue": "",
     "output_type": "error",
     "traceback": [
      "\u001b[0;31m---------------------------------------------------------------------------\u001b[0m",
      "\u001b[0;31mAssertionError\u001b[0m                            Traceback (most recent call last)",
      "\u001b[0;32m<ipython-input-4-a871fdc9ebee>\u001b[0m in \u001b[0;36m<module>\u001b[0;34m\u001b[0m\n\u001b[0;32m----> 1\u001b[0;31m \u001b[0;32massert\u001b[0m \u001b[0;32mFalse\u001b[0m\u001b[0;34m\u001b[0m\u001b[0;34m\u001b[0m\u001b[0m\n\u001b[0m",
      "\u001b[0;31mAssertionError\u001b[0m: "
     ]
    }
   ],
   "source": [
    "assert False"
   ]
  },
  {
   "cell_type": "markdown",
   "metadata": {},
   "source": [
    "# Create Directories"
   ]
  },
  {
   "cell_type": "code",
   "execution_count": null,
   "metadata": {},
   "outputs": [],
   "source": [
    "directory = \"out_data\"\n",
    "if not os.path.exists(directory):\n",
    "    os.makedirs(directory)"
   ]
  },
  {
   "cell_type": "markdown",
   "metadata": {},
   "source": [
    "# TEMP"
   ]
  },
  {
   "cell_type": "code",
   "execution_count": null,
   "metadata": {},
   "outputs": [],
   "source": [
    "# df_slab = df_slab.loc[[\n",
    "#     'tiguwuti_80',\n",
    "#     'sunifafa_34',\n",
    "#     'lokariwu_13',\n",
    "#     'fitirapa_27',\n",
    "#     'nisiwuhu_70',\n",
    "#     'dagaviba_06',\n",
    "#     'kovudoho_21',\n",
    "#     'tagilahu_40',\n",
    "#     ]]\n",
    "\n",
    "# TEMP\n",
    "# df_slab = df_slab.sample(n=100)\n",
    "# df_slab = df_slab.sample(n=10)\n",
    "# df_slab = df_slab.sample(n=50)"
   ]
  },
  {
   "cell_type": "code",
   "execution_count": null,
   "metadata": {},
   "outputs": [],
   "source": [
    "# TEMP\n",
    "print(\"COMBAK REMOVE THIS\")\n",
    "df_slab = df_slab[df_slab.bulk_id == \"8l919k6s7p\"]"
   ]
  },
  {
   "cell_type": "code",
   "execution_count": null,
   "metadata": {},
   "outputs": [],
   "source": [
    "data_dict_list = []\n",
    "iterator = tqdm(df_slab.index, desc=\"1st loop\")\n",
    "for i_cnt, slab_id in enumerate(iterator):\n",
    "    row_i = df_slab.loc[slab_id]\n",
    "    data_dict_i = dict()\n",
    "\n",
    "    # #####################################################\n",
    "    slab = row_i.slab_final\n",
    "    # slab.write(\"out_data/temp.cif\")  # TEMP\n",
    "\n",
    "    slab_id = row_i.name\n",
    "    bulk_id = row_i.bulk_id\n",
    "    facet = row_i.facet\n",
    "    num_atoms = row_i.num_atoms\n",
    "    # #####################################################\n",
    "\n",
    "    if slab_id in df_active_sites_prev.index:\n",
    "        run_slab_i = False\n",
    "    else:\n",
    "        run_slab_i = True\n",
    "\n",
    "    # TEMP\n",
    "    run_slab_i = True\n",
    "\n",
    "    # print(run_slab_i)\n",
    "    if run_slab_i:\n",
    "        # #################################################\n",
    "        df_coord_slab_i = get_df_coord(\n",
    "            slab_id=slab_id,\n",
    "            mode=\"slab\",\n",
    "            slab=slab,\n",
    "            )\n",
    "\n",
    "        # #################################################\n",
    "        active_sites = get_all_active_sites(\n",
    "            slab=slab,\n",
    "            slab_id=slab_id,\n",
    "            bulk_id=bulk_id,\n",
    "            df_coord_slab_i=df_coord_slab_i,\n",
    "            )\n",
    "\n",
    "        # #################################################\n",
    "        # active_sites_unique = get_unique_active_sites(\n",
    "        active_sites_unique = get_unique_active_sites_temp(\n",
    "            slab=slab,\n",
    "            active_sites=active_sites,\n",
    "            bulk_id=bulk_id,\n",
    "            slab_id=slab_id,\n",
    "            facet=facet,\n",
    "            metal_atom_symbol=metal_atom_symbol,\n",
    "            df_coord_slab_i=df_coord_slab_i,\n",
    "            create_heatmap_plot=True,\n",
    "            )\n",
    "\n",
    "\n",
    "        # #################################################\n",
    "        data_dict_i[\"active_sites\"] = active_sites\n",
    "        data_dict_i[\"num_active_sites\"] = len(active_sites)\n",
    "\n",
    "        data_dict_i[\"active_sites_unique\"] = active_sites_unique\n",
    "        data_dict_i[\"num_active_sites_unique\"] = len(active_sites_unique)\n",
    "\n",
    "        data_dict_i[\"slab_id\"] = slab_id\n",
    "        data_dict_i[\"bulk_id\"] = bulk_id\n",
    "        data_dict_i[\"facet\"] = facet\n",
    "        data_dict_i[\"num_atoms\"] = num_atoms\n",
    "\n",
    "        # #####################################################\n",
    "        data_dict_list.append(data_dict_i)\n",
    "\n",
    "df_active_sites = pd.DataFrame(data_dict_list)\n",
    "df_active_sites = df_active_sites.set_index(\"slab_id\", drop=False)"
   ]
  },
  {
   "cell_type": "code",
   "execution_count": null,
   "metadata": {},
   "outputs": [],
   "source": [
    "# df_active_sites"
   ]
  },
  {
   "cell_type": "code",
   "execution_count": null,
   "metadata": {},
   "outputs": [],
   "source": [
    "# df_active_sites.set_index\n",
    "\n",
    "# df_active_sites = df_active_sites.set_index(\"slab_id\", drop=False)"
   ]
  },
  {
   "cell_type": "code",
   "execution_count": null,
   "metadata": {},
   "outputs": [],
   "source": [
    "# assert False"
   ]
  },
  {
   "cell_type": "markdown",
   "metadata": {},
   "source": [
    "# Post-process active site dataframe"
   ]
  },
  {
   "cell_type": "code",
   "execution_count": null,
   "metadata": {},
   "outputs": [],
   "source": [
    "from misc_modules.pandas_methods import reorder_df_columns\n",
    "\n",
    "columns_list = [\n",
    "    'bulk_id',\n",
    "    'slab_id',\n",
    "    'facet',\n",
    "    'num_atoms',\n",
    "    'num_active_sites',\n",
    "    'active_sites',\n",
    "    ]\n",
    "\n",
    "df_active_sites = reorder_df_columns(columns_list, df_active_sites)"
   ]
  },
  {
   "cell_type": "markdown",
   "metadata": {},
   "source": [
    "# Combining previous `df_active_sites` and the rows processed during current run"
   ]
  },
  {
   "cell_type": "code",
   "execution_count": null,
   "metadata": {},
   "outputs": [],
   "source": [
    "df_active_sites = df_active_sites = pd.concat([\n",
    "    df_active_sites,\n",
    "    df_active_sites_prev,\n",
    "    ])"
   ]
  },
  {
   "cell_type": "markdown",
   "metadata": {},
   "source": [
    "# Summary of data objects"
   ]
  },
  {
   "cell_type": "code",
   "execution_count": null,
   "metadata": {},
   "outputs": [],
   "source": [
    "print(\n",
    "    \"Number of active sites:\",\n",
    "    df_active_sites.num_active_sites.sum())\n",
    "print(\n",
    "    \"Number of unique active sites\",\n",
    "    df_active_sites.num_active_sites_unique.sum())"
   ]
  },
  {
   "cell_type": "code",
   "execution_count": null,
   "metadata": {},
   "outputs": [],
   "source": [
    "# Pickling data ###########################################\n",
    "directory = \"out_data\"\n",
    "if not os.path.exists(directory): os.makedirs(directory)\n",
    "with open(os.path.join(directory, \"df_active_sites.pickle\"), \"wb\") as fle:\n",
    "    pickle.dump(df_active_sites, fle)\n",
    "# #########################################################"
   ]
  },
  {
   "cell_type": "code",
   "execution_count": null,
   "metadata": {},
   "outputs": [],
   "source": [
    "print(df_active_sites.shape)"
   ]
  },
  {
   "cell_type": "code",
   "execution_count": null,
   "metadata": {},
   "outputs": [],
   "source": [
    "assert False"
   ]
  },
  {
   "cell_type": "raw",
   "metadata": {},
   "source": [
    "\n",
    "\n",
    "\n",
    "\n"
   ]
  },
  {
   "cell_type": "code",
   "execution_count": null,
   "metadata": {},
   "outputs": [],
   "source": [
    "df_rdf_ij_dict = dict()\n",
    "for i_cnt, row_i in df_active_sites.iterrows():\n",
    "    file_name_i = row_i.bulk_id + \"__\" + row_i.facet + \\\n",
    "        \"__\" + row_i.slab_id + \".pickle\"\n",
    "    path_i = os.path.join(\n",
    "        \"out_data/df_rdf_ij\", file_name_i)\n",
    "\n",
    "    # #########################################################\n",
    "    import pickle; import os\n",
    "    with open(path_i, \"rb\") as fle:\n",
    "        df_rdf_ij_i = pickle.load(fle)\n",
    "    # #########################################################\n",
    "\n",
    "    df_rdf_ij_dict[row_i.slab_id] = df_rdf_ij_i"
   ]
  },
  {
   "cell_type": "code",
   "execution_count": null,
   "metadata": {},
   "outputs": [],
   "source": [
    "rdf_ij_list = [i for i in df_rdf_ij_i.values.flatten() if i != 0.]"
   ]
  },
  {
   "cell_type": "raw",
   "metadata": {},
   "source": [
    "\n",
    "\n",
    "\n",
    "\n"
   ]
  },
  {
   "cell_type": "code",
   "execution_count": null,
   "metadata": {
    "jupyter": {
     "source_hidden": true
    }
   },
   "outputs": [],
   "source": [
    "# num_atoms_in_slab == num_atoms_in_df\n",
    "\n",
    "# df_coord_slab_i.shape\n",
    "# slab.get_global_number_of_atoms()"
   ]
  },
  {
   "cell_type": "code",
   "execution_count": null,
   "metadata": {
    "jupyter": {
     "source_hidden": true
    }
   },
   "outputs": [],
   "source": [
    "# df_active_sites_prev = df_active_sites_prev.set_index(\"slab_id\")"
   ]
  }
 ],
 "metadata": {
  "jupytext": {
   "formats": "ipynb,py:light"
  },
  "kernelspec": {
   "display_name": "Python [conda env:PROJ_irox_oer] *",
   "language": "python",
   "name": "conda-env-PROJ_irox_oer-py"
  },
  "language_info": {
   "codemirror_mode": {
    "name": "ipython",
    "version": 3
   },
   "file_extension": ".py",
   "mimetype": "text/x-python",
   "name": "python",
   "nbconvert_exporter": "python",
   "pygments_lexer": "ipython3",
   "version": "3.6.11"
  }
 },
 "nbformat": 4,
 "nbformat_minor": 4
}
