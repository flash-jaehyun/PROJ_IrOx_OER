{
 "cells": [
  {
   "cell_type": "markdown",
   "metadata": {},
   "source": [
    "# Import Modules"
   ]
  },
  {
   "cell_type": "code",
   "execution_count": null,
   "metadata": {
    "collapsed": true,
    "jupyter": {
     "outputs_hidden": true
    }
   },
   "outputs": [],
   "source": [
    "import os\n",
    "print(os.getcwd())\n",
    "import sys\n",
    "\n",
    "# from pathlib import Path\n",
    "# import copy\n",
    "import pickle\n",
    "\n",
    "# import json\n",
    "\n",
    "import numpy as np\n",
    "import pandas as pd\n",
    "\n",
    "from ase import io\n",
    "\n",
    "# # from tqdm import tqdm\n",
    "from tqdm.notebook import tqdm\n",
    "\n",
    "# # #########################################################\n",
    "\n",
    "\n",
    "# # #########################################################\n",
    "# from misc_modules.pandas_methods import drop_columns\n",
    "# from misc_modules.misc_methods import GetFriendlyID\n",
    "# from ase_modules.ase_methods import view_in_vesta\n",
    "\n",
    "# # #########################################################\n",
    "from methods import (\n",
    "    # get_df_dft,\n",
    "    # symmetrize_atoms,\n",
    "    # get_structure_coord_df,\n",
    "    # remove_atoms,\n",
    "    get_df_slab,\n",
    "    )\n",
    "\n",
    "from proj_data import metal_atom_symbol\n",
    "\n",
    "# #########################################################\n",
    "from local_methods import (\n",
    "    mean_O_metal_coord,\n",
    "    get_all_active_sites,\n",
    "    get_unique_active_sites,\n",
    "    process_rdf,\n",
    "    compare_rdf_ij,\n",
    "    return_modified_rdf,\n",
    "    create_interp_df,\n",
    "    )\n",
    "\n",
    "# # from local_methods import calc_surface_area"
   ]
  },
  {
   "cell_type": "markdown",
   "metadata": {},
   "source": [
    "# Read Data"
   ]
  },
  {
   "cell_type": "code",
   "execution_count": null,
   "metadata": {
    "collapsed": true,
    "jupyter": {
     "outputs_hidden": true
    }
   },
   "outputs": [],
   "source": [
    "df_slab = get_df_slab()\n",
    "\n",
    "df_slab = df_slab.set_index(\"slab_id\")"
   ]
  },
  {
   "cell_type": "markdown",
   "metadata": {},
   "source": [
    "# Create Directories"
   ]
  },
  {
   "cell_type": "code",
   "execution_count": null,
   "metadata": {
    "collapsed": true,
    "jupyter": {
     "outputs_hidden": true
    }
   },
   "outputs": [],
   "source": [
    "directory = \"out_data\"\n",
    "if not os.path.exists(directory):\n",
    "    os.makedirs(directory)"
   ]
  },
  {
   "cell_type": "code",
   "execution_count": null,
   "metadata": {
    "collapsed": true,
    "jupyter": {
     "outputs_hidden": true
    }
   },
   "outputs": [],
   "source": [
    "row_i = df_slab.loc[\"tagilahu_40\"]"
   ]
  },
  {
   "cell_type": "code",
   "execution_count": null,
   "metadata": {
    "collapsed": true,
    "jupyter": {
     "outputs_hidden": true
    }
   },
   "outputs": [],
   "source": [
    "# #####################################################\n",
    "slab = row_i.slab_final\n",
    "slab.write(\"out_data/temp.cif\")\n",
    "\n",
    "slab_id = row_i.name\n",
    "bulk_id = row_i.bulk_id\n",
    "facet = row_i.facet\n",
    "num_atoms = row_i.num_atoms\n",
    "# #####################################################\n",
    "\n",
    "active_sites = get_all_active_sites(\n",
    "    slab=slab,\n",
    "    slab_id=slab_id,\n",
    "    bulk_id=bulk_id,\n",
    "    )"
   ]
  },
  {
   "cell_type": "code",
   "execution_count": null,
   "metadata": {
    "collapsed": true,
    "jupyter": {
     "outputs_hidden": true
    }
   },
   "outputs": [],
   "source": [
    "# active_sites = [62, 63, 64, 66, 67, 68]\n",
    "# active_sites = [63, ]\n"
   ]
  },
  {
   "cell_type": "code",
   "execution_count": null,
   "metadata": {
    "collapsed": true,
    "jupyter": {
     "outputs_hidden": true
    }
   },
   "outputs": [],
   "source": [
    "# assert False"
   ]
  },
  {
   "cell_type": "code",
   "execution_count": null,
   "metadata": {
    "collapsed": true,
    "jupyter": {
     "outputs_hidden": true
    }
   },
   "outputs": [],
   "source": [
    "directory = \"out_plot/__temp__\"\n",
    "if not os.path.exists(directory):\n",
    "    os.makedirs(directory)"
   ]
  },
  {
   "cell_type": "code",
   "execution_count": null,
   "metadata": {
    "collapsed": true,
    "jupyter": {
     "outputs_hidden": true
    }
   },
   "outputs": [],
   "source": [
    "slab=slab\n",
    "active_sites=active_sites\n",
    "bulk_id=bulk_id\n",
    "facet=facet\n",
    "slab_id=slab_id\n",
    "metal_atom_symbol=metal_atom_symbol"
   ]
  },
  {
   "cell_type": "code",
   "execution_count": null,
   "metadata": {
    "collapsed": true,
    "jupyter": {
     "outputs_hidden": true
    }
   },
   "outputs": [],
   "source": [
    "# def get_unique_active_sites(\n",
    "# slab=None,\n",
    "# active_sites=None,\n",
    "# bulk_id=None,\n",
    "# facet=None,\n",
    "# slab_id=None,\n",
    "# metal_atom_symbol=None,\n",
    "# ):\n",
    "\"\"\"\n",
    "\"\"\"\n",
    "#| - get_unique_active_sites\n",
    "\n",
    "df_coord_slab_i = get_df_coord(slab_id=slab_id, mode=\"slab\")\n",
    "\n",
    "df_coord_bulk_i = get_df_coord(bulk_id=bulk_id, mode=\"bulk\")\n",
    "\n",
    "\n",
    "# #########################################################\n",
    "custom_name_pre = bulk_id + \"__\" + facet + \"__\" + slab_id\n",
    "\n",
    "df_rdf_dict = dict()\n",
    "for i in active_sites:\n",
    "\n",
    "    print(\"active_site:\", i)\n",
    "    df_rdf_i = process_rdf(\n",
    "        atoms=slab,\n",
    "        active_site_i=i,\n",
    "        df_coord_slab_i=df_coord_slab_i,\n",
    "        metal_atom_symbol=metal_atom_symbol,\n",
    "        custom_name=custom_name_pre,\n",
    "        TEST_MODE=True,\n",
    "        )\n",
    "    # df_rdf_i = df_rdf_i.rename(columns={\" g(r)\": \"g\"})\n",
    "    df_rdf_dict[i] = df_rdf_i\n",
    "\n",
    "\n",
    "# # #########################################################\n",
    "# diff_rdf_matrix = np.empty((len(active_sites), len(active_sites), ))\n",
    "# diff_rdf_matrix[:] = np.nan\n",
    "# for i_cnt, active_site_i in enumerate(active_sites):\n",
    "#     df_rdf_i = df_rdf_dict[active_site_i]\n",
    "\n",
    "#     for j_cnt, active_site_j in enumerate(active_sites):\n",
    "#         df_rdf_j = df_rdf_dict[active_site_j]\n",
    "\n",
    "#         diff_i = compare_rdf_ij(\n",
    "#             df_rdf_i=df_rdf_i,\n",
    "#             df_rdf_j=df_rdf_j,\n",
    "#             )\n",
    "\n",
    "#         diff_rdf_matrix[i_cnt, j_cnt] = diff_i\n",
    "\n",
    "# # #########################################################\n",
    "# df_rdf_ij = pd.DataFrame(diff_rdf_matrix, columns=active_sites)\n",
    "# df_rdf_ij.index = active_sites\n",
    "\n",
    "\n",
    "# # #########################################################\n",
    "# import copy\n",
    "\n",
    "# active_sites_cpy = copy.deepcopy(active_sites)\n",
    "\n",
    "\n",
    "# diff_threshold = 0.3\n",
    "# duplicate_active_sites = []\n",
    "# for active_site_i in active_sites:\n",
    "\n",
    "#     if active_site_i in duplicate_active_sites:\n",
    "#         continue\n",
    "\n",
    "#     for active_site_j in active_sites:\n",
    "#         if active_site_i == active_site_j:\n",
    "#             continue\n",
    "\n",
    "#         diff_ij = df_rdf_ij.loc[active_site_i, active_site_j]\n",
    "#         if diff_ij < diff_threshold:\n",
    "#             try:\n",
    "#                 active_sites_cpy.remove(active_site_j)\n",
    "#                 duplicate_active_sites.append(active_site_j)\n",
    "#             except:\n",
    "#                 pass\n",
    "\n",
    "# active_sites_unique = active_sites_cpy\n",
    "\n",
    "# # #########################################################\n",
    "# import plotly.express as px\n",
    "# import plotly.graph_objects as go\n",
    "\n",
    "# active_sites_str = [str(i) for i in active_sites]\n",
    "# fig = go.Figure(data=go.Heatmap(\n",
    "#     z=df_rdf_ij.to_numpy(),\n",
    "#     x=active_sites_str,\n",
    "#     y=active_sites_str,\n",
    "#     # type=\"category\",\n",
    "#     ))\n",
    "\n",
    "# fig[\"layout\"][\"xaxis\"][\"type\"] = \"category\"\n",
    "# fig[\"layout\"][\"yaxis\"][\"type\"] = \"category\"\n",
    "\n",
    "# # fig.show()\n",
    "\n",
    "# directory = \"out_plot/rdf_heat_maps\"\n",
    "# if not os.path.exists(directory):\n",
    "#     os.makedirs(directory)\n",
    "\n",
    "# from plotting.my_plotly import my_plotly_plot\n",
    "\n",
    "# # file_name = \"rdf_heat_maps/ \" + custom_name_pre + \"_rdf_diff_heat_map\"\n",
    "# file_name = \"__temp__/ \" + custom_name_pre + \"_rdf_diff_heat_map\"\n",
    "# my_plotly_plot(\n",
    "#     figure=fig,\n",
    "#     # plot_name=\"rdf_heat_maps/rdf_diff_heat_map\",\n",
    "#     plot_name=file_name,\n",
    "\n",
    "#     write_html=True,\n",
    "#     write_png=False,\n",
    "#     png_scale=6.0,\n",
    "#     write_pdf=False,\n",
    "#     write_svg=False,\n",
    "#     try_orca_write=False,\n",
    "#     )\n",
    "\n",
    "# # return(active_sites_unique)\n",
    "# #__|"
   ]
  },
  {
   "cell_type": "code",
   "execution_count": null,
   "metadata": {
    "collapsed": true,
    "jupyter": {
     "outputs_hidden": true
    }
   },
   "outputs": [],
   "source": [
    "custom_name_pre"
   ]
  },
  {
   "cell_type": "code",
   "execution_count": null,
   "metadata": {
    "collapsed": true,
    "jupyter": {
     "outputs_hidden": true
    }
   },
   "outputs": [],
   "source": [
    "# active_site_i = 62\n",
    "active_site_i = 63\n",
    "active_site_j = 66\n",
    "\n",
    "df_rdf_i = df_rdf_dict[active_site_i]\n",
    "df_rdf_j = df_rdf_dict[active_site_j]"
   ]
  },
  {
   "cell_type": "code",
   "execution_count": null,
   "metadata": {
    "collapsed": true,
    "jupyter": {
     "outputs_hidden": true
    }
   },
   "outputs": [],
   "source": [
    "# Pickling data ###########################################\n",
    "# out_dict = dict()\n",
    "# out_dict[\"TEMP\"] = None\n",
    "\n",
    "import os; import pickle\n",
    "path_i = os.path.join(\n",
    "    os.environ[\"HOME\"],\n",
    "    \"__temp__\",\n",
    "    \"temp.pickle\")\n",
    "with open(path_i, \"wb\") as fle:\n",
    "    pickle.dump((df_rdf_i, df_rdf_j), fle)\n",
    "# #########################################################"
   ]
  },
  {
   "cell_type": "code",
   "execution_count": null,
   "metadata": {
    "collapsed": true,
    "jupyter": {
     "outputs_hidden": true
    }
   },
   "outputs": [],
   "source": [
    "def test_rdf_opt(dx, df_rdf_i, df_rdf_j, chunks_to_edit):\n",
    "    \"\"\"\n",
    "    \"\"\"\n",
    "    df_rdf_j_new = return_modified_rdf(\n",
    "        df_rdf=df_rdf_j,\n",
    "        # chunk_to_edit=0,\n",
    "        chunks_to_edit=chunks_to_edit,\n",
    "        # dx=-0.04,\n",
    "        dx=dx,\n",
    "        )\n",
    "\n",
    "    df_rdf_i = df_rdf_i\n",
    "    df_rdf_j = df_rdf_j_new\n",
    "\n",
    "    # #########################################################\n",
    "    r_combined = np.sort((df_rdf_j.r.tolist() + df_rdf_i.r.tolist()))\n",
    "    r_combined = np.sort(list(set(r_combined)))\n",
    "\n",
    "    df_interp_i = create_interp_df(df_rdf_i, r_combined)\n",
    "    df_interp_j = create_interp_df(df_rdf_j, r_combined)\n",
    "\n",
    "    diff_i = compare_rdf_ij(\n",
    "        df_rdf_i=df_interp_i,\n",
    "        df_rdf_j=df_interp_j)\n",
    "\n",
    "    print(\"dx:\", dx, \" | \",\"diff_i:\", diff_i)\n",
    "    print(\"\")\n",
    "\n",
    "    return(diff_i)"
   ]
  },
  {
   "cell_type": "code",
   "execution_count": null,
   "metadata": {
    "collapsed": true,
    "jupyter": {
     "outputs_hidden": true
    }
   },
   "outputs": [],
   "source": [
    "def constraint_bounds(dx, df_rdf_i, df_rdf_j, chunks_to_edit):\n",
    "    # out = -0.2 + np.abs(dx)\n",
    "    out = +0.05 - np.abs(dx)\n",
    "    return(out)"
   ]
  },
  {
   "cell_type": "code",
   "execution_count": null,
   "metadata": {
    "collapsed": true,
    "jupyter": {
     "outputs_hidden": true
    }
   },
   "outputs": [],
   "source": [
    "from scipy.optimize import minimize\n",
    "\n",
    "data_dict_list = []\n",
    "# for peak_i in range(0, 10):\n",
    "for peak_i in range(0, 1):\n",
    "    data_dict_i = dict()\n",
    "\n",
    "    data_dict_i[\"peak\"] = peak_i\n",
    "\n",
    "    arguments = (df_rdf_i, df_rdf_j, peak_i)\n",
    "\n",
    "    cons = ({\n",
    "        \"type\": \"ineq\",\n",
    "        \"fun\": constraint_bounds,\n",
    "        \"args\": arguments,\n",
    "        })\n",
    "\n",
    "    initial_guess = 0\n",
    "\n",
    "    result = minimize(\n",
    "        # obj,\n",
    "        test_rdf_opt,\n",
    "        initial_guess,\n",
    "        method=\"SLSQP\",\n",
    "        args=arguments,\n",
    "        constraints=cons,\n",
    "        )\n",
    "\n",
    "    print(40 * \"*\")\n",
    "    print(result)\n",
    "    dx_i = result[\"x\"][0]\n",
    "    data_dict_i[\"dx\"] = dx_i\n",
    "    print(40 * \"*\")\n",
    "\n",
    "\n",
    "    data_dict_list.append(data_dict_i)"
   ]
  },
  {
   "cell_type": "code",
   "execution_count": null,
   "metadata": {
    "collapsed": true,
    "jupyter": {
     "outputs_hidden": true
    }
   },
   "outputs": [],
   "source": [
    "df = pd.DataFrame(data_dict_list)\n",
    "\n",
    "df"
   ]
  },
  {
   "cell_type": "code",
   "execution_count": null,
   "metadata": {
    "collapsed": true,
    "jupyter": {
     "outputs_hidden": true
    }
   },
   "outputs": [],
   "source": [
    "df_rdf_j_new = return_modified_rdf(\n",
    "    df_rdf=df_rdf_j,\n",
    "\n",
    "    # chunks_to_edit=0,\n",
    "    chunks_to_edit=df.peak.tolist(),\n",
    "\n",
    "    # dx=-0.04,\n",
    "    # dx=-0.03332953,\n",
    "    dx=df.dx.tolist(),\n",
    "    )\n",
    "\n",
    "import plotly.graph_objs as go\n",
    "data = []\n",
    "\n",
    "trace = go.Scatter(\n",
    "    x=df_rdf_i.r,\n",
    "    y=df_rdf_i.g,\n",
    "    name=\"df_rdf_i\",\n",
    "    )\n",
    "data.append(trace)\n",
    "\n",
    "trace = go.Scatter(\n",
    "    x=df_rdf_j_new.r,\n",
    "    y=df_rdf_j_new.g,\n",
    "    name=\"df_rdf_j_new\",\n",
    "    )\n",
    "data.append(trace)\n",
    "\n",
    "trace = go.Scatter(\n",
    "    x=df_rdf_j.r,\n",
    "    y=df_rdf_j.g,\n",
    "    name=\"df_rdf_j\",\n",
    "    )\n",
    "data.append(trace)\n",
    "\n",
    "fig = go.Figure(data=data)\n",
    "from plotting.my_plotly import my_plotly_plot\n",
    "file_name = \"__temp__/modified_and_opt_rdf_plots\"\n",
    "my_plotly_plot(\n",
    "    figure=fig,\n",
    "    plot_name=file_name,\n",
    "    write_html=True)\n",
    "fig.show()"
   ]
  },
  {
   "cell_type": "code",
   "execution_count": null,
   "metadata": {
    "collapsed": true,
    "jupyter": {
     "outputs_hidden": true
    }
   },
   "outputs": [],
   "source": [
    "\n",
    "df_rdf_i = df_rdf_i\n",
    "df_rdf_j = df_rdf_j_new\n",
    "\n",
    "# #########################################################\n",
    "r_combined = np.sort((df_rdf_j.r.tolist() + df_rdf_i.r.tolist()))\n",
    "r_combined = np.sort(list(set(r_combined)))\n",
    "\n",
    "df_interp_i = create_interp_df(df_rdf_i, r_combined)\n",
    "df_interp_j = create_interp_df(df_rdf_j, r_combined)\n",
    "\n",
    "diff_i = compare_rdf_ij(\n",
    "    df_rdf_i=df_interp_i,\n",
    "    df_rdf_j=df_interp_j)\n",
    "\n",
    "diff_i"
   ]
  },
  {
   "cell_type": "code",
   "execution_count": null,
   "metadata": {
    "collapsed": true,
    "jupyter": {
     "outputs_hidden": true
    }
   },
   "outputs": [],
   "source": [
    "print(diff_i)"
   ]
  },
  {
   "cell_type": "code",
   "execution_count": null,
   "metadata": {
    "collapsed": true,
    "jupyter": {
     "outputs_hidden": true
    }
   },
   "outputs": [],
   "source": [
    "assert False"
   ]
  },
  {
   "cell_type": "code",
   "execution_count": null,
   "metadata": {
    "collapsed": true,
    "jupyter": {
     "outputs_hidden": true
    }
   },
   "outputs": [],
   "source": [
    "tmp = {\n",
    "    -0.04: 0.5574390754357897,\n",
    "    -0.03: 0.5421194254988151,\n",
    "    -0.02: 0.5866178898201364,\n",
    "    -0.01: 0.6260045841988724,\n",
    "    +0.00: 0.6653912750495825,\n",
    "    +0.01: 0.6901818880303157,\n",
    "    +0.05: 0.748109677289929,\n",
    "    +0.10: 0.756948547426282,\n",
    "    }"
   ]
  },
  {
   "cell_type": "code",
   "execution_count": null,
   "metadata": {
    "collapsed": true,
    "jupyter": {
     "outputs_hidden": true
    }
   },
   "outputs": [],
   "source": [
    "# # Pickling data ###########################################\n",
    "# # out_dict = dict()\n",
    "# # out_dict[\"TEMP\"] = None\n",
    "\n",
    "# import os; import pickle\n",
    "# path_i = os.path.join(\n",
    "#     os.environ[\"HOME\"],\n",
    "#     \"__temp__\",\n",
    "#     \"temp_2.pickle\")\n",
    "# with open(path_i, \"wb\") as fle:\n",
    "#     pickle.dump((df_rdf_i, df_rdf_j_new), fle)\n",
    "# # #########################################################"
   ]
  },
  {
   "cell_type": "code",
   "execution_count": null,
   "metadata": {
    "collapsed": true,
    "jupyter": {
     "outputs_hidden": true
    }
   },
   "outputs": [],
   "source": [
    "# from scipy.optimize import minimize\n",
    "\n",
    "# arguments = (df_rdf_i, df_rdf_j, 0)\n",
    "\n",
    "# def constraint_bounds():\n",
    "#     out = -0.2 + np.abs(dx)\n",
    "#     return(out)\n",
    "\n",
    "# cons = ({\n",
    "#     \"type\": \"ineq\",\n",
    "#     \"fun\": constraint_bounds,\n",
    "#     \"args\": arguments,\n",
    "#     })\n",
    "\n",
    "# initial_guess = 0\n",
    "\n",
    "# result = minimize(\n",
    "#     # obj,\n",
    "#     test_rdf_opt,\n",
    "#     initial_guess,\n",
    "#     method=\"SLSQP\",\n",
    "#     args=arguments,\n",
    "#     # constraints=cons,\n",
    "#     )\n",
    "\n",
    "# print(40 * \"*\")\n",
    "# result\n",
    "# print(40 * \"*\")"
   ]
  },
  {
   "cell_type": "raw",
   "metadata": {},
   "source": [
    "\n",
    "\n",
    "\n",
    "\n",
    "\n",
    "\n",
    "\n",
    "\n",
    "\n",
    "\n",
    "\n",
    "\n",
    "\n",
    "\n",
    "\n",
    "\n",
    "\n",
    "\n",
    "\n",
    "\n",
    "\n",
    "\n",
    "\n",
    "\n"
   ]
  },
  {
   "cell_type": "code",
   "execution_count": null,
   "metadata": {
    "collapsed": true,
    "jupyter": {
     "outputs_hidden": true
    }
   },
   "outputs": [],
   "source": [
    "assert False"
   ]
  },
  {
   "cell_type": "markdown",
   "metadata": {},
   "source": [
    "# Import Modules"
   ]
  },
  {
   "cell_type": "code",
   "execution_count": null,
   "metadata": {
    "collapsed": true,
    "jupyter": {
     "outputs_hidden": true
    }
   },
   "outputs": [],
   "source": [
    "import os\n",
    "print(os.getcwd())\n",
    "import sys\n",
    "\n",
    "# from pathlib import Path\n",
    "# import copy\n",
    "import pickle\n",
    "\n",
    "# import json\n",
    "\n",
    "import numpy as np\n",
    "# import pandas as pd\n",
    "\n",
    "from ase import io\n",
    "\n",
    "# # from tqdm import tqdm\n",
    "# from tqdm.notebook import tqdm\n",
    "\n",
    "# # #########################################################\n",
    "\n",
    "\n",
    "# # #########################################################\n",
    "# from misc_modules.pandas_methods import drop_columns\n",
    "# from misc_modules.misc_methods import GetFriendlyID\n",
    "# from ase_modules.ase_methods import view_in_vesta\n",
    "\n",
    "# # #########################################################\n",
    "from methods import (\n",
    "    # get_df_dft,\n",
    "    # symmetrize_atoms,\n",
    "    # get_structure_coord_df,\n",
    "    # remove_atoms,\n",
    "    get_df_slab,\n",
    "    )\n",
    "\n",
    "from proj_data import metal_atom_symbol\n",
    "\n",
    "# #########################################################\n",
    "from local_methods import (\n",
    "    mean_O_metal_coord,\n",
    "    # analyse_local_coord_env, check_if_sys_processed,\n",
    "    # remove_nonsaturated_surface_metal_atoms,\n",
    "    # remove_noncoord_oxygens,\n",
    "    # create_slab_from_bulk,\n",
    "    # get_slab_thickness,\n",
    "    # remove_highest_metal_atoms,\n",
    "    # remove_all_atoms_above_cutoff,\n",
    "    # create_final_slab_master,\n",
    "    # constrain_slab,\n",
    "    )\n",
    "\n",
    "# # from local_methods import calc_surface_area"
   ]
  },
  {
   "cell_type": "code",
   "execution_count": null,
   "metadata": {
    "collapsed": true,
    "jupyter": {
     "outputs_hidden": true
    }
   },
   "outputs": [],
   "source": [
    "assert False"
   ]
  },
  {
   "cell_type": "markdown",
   "metadata": {},
   "source": [
    "# Read Data"
   ]
  },
  {
   "cell_type": "code",
   "execution_count": null,
   "metadata": {
    "collapsed": true,
    "jupyter": {
     "outputs_hidden": true
    }
   },
   "outputs": [],
   "source": [
    "df_slab = get_df_slab()\n",
    "\n",
    "df_slab = df_slab.set_index(\"slab_id\")"
   ]
  },
  {
   "cell_type": "markdown",
   "metadata": {},
   "source": [
    "# Create Directories"
   ]
  },
  {
   "cell_type": "code",
   "execution_count": null,
   "metadata": {
    "collapsed": true,
    "jupyter": {
     "outputs_hidden": true
    }
   },
   "outputs": [],
   "source": [
    "directory = \"out_data\"\n",
    "if not os.path.exists(directory):\n",
    "    os.makedirs(directory)"
   ]
  },
  {
   "cell_type": "raw",
   "metadata": {},
   "source": [
    "\n",
    "\n",
    "\n"
   ]
  },
  {
   "cell_type": "code",
   "execution_count": null,
   "metadata": {
    "collapsed": true,
    "jupyter": {
     "outputs_hidden": true
    }
   },
   "outputs": [],
   "source": [
    "for i_cnt, row_i in df_slab.iterrows():\n",
    "    tmp = 42\n",
    "\n",
    "row_i"
   ]
  },
  {
   "cell_type": "code",
   "execution_count": null,
   "metadata": {
    "collapsed": true,
    "jupyter": {
     "outputs_hidden": true
    }
   },
   "outputs": [],
   "source": [
    "assert False"
   ]
  },
  {
   "cell_type": "markdown",
   "metadata": {},
   "source": [
    "# Testing on single row/structure"
   ]
  },
  {
   "cell_type": "code",
   "execution_count": null,
   "metadata": {
    "collapsed": true,
    "jupyter": {
     "outputs_hidden": true
    }
   },
   "outputs": [],
   "source": [
    "\n",
    "# #########################################################\n",
    "# row_i = df_slab.loc[\"honorupo_58\"]\n",
    "# row_i = df_slab.sample(n=1).iloc[0]\n",
    "\n",
    "slab = row_i.slab_final\n",
    "slab.write(\"out_data/temp.cif\")\n",
    "\n",
    "slab_id = row_i.name\n",
    "bulk_id = row_i.bulk_id\n",
    "facet = row_i.facet\n",
    "num_atoms = row_i.num_atoms\n",
    "# #########################################################\n",
    "\n",
    "# #########################################################\n",
    "from methods import get_df_coord\n",
    "\n",
    "df_coord_slab_i = get_df_coord(slab_id=slab_id, mode=\"slab\")\n",
    "df_coord_bulk_i = get_df_coord(bulk_id=bulk_id, mode=\"bulk\")\n",
    "\n",
    "# #########################################################\n",
    "def method(row_i, metal_elem=None):\n",
    "    neighbor_count = row_i.neighbor_count\n",
    "    elem_num = neighbor_count.get(metal_elem, None)\n",
    "    return(elem_num)\n",
    "\n",
    "df_i = df_coord_bulk_i\n",
    "df_i[\"num_metal\"] = df_i.apply(\n",
    "    method, axis=1,\n",
    "    metal_elem=\"Ir\")\n",
    "\n",
    "df_i = df_coord_slab_i\n",
    "df_i[\"num_metal\"] = df_i.apply(\n",
    "    method, axis=1,\n",
    "    metal_elem=\"Ir\")\n",
    "\n",
    "# #########################################################\n",
    "# mean_O_metal_coord = mean_O_metal_coord(df_coord=df_coord_bulk_i)\n",
    "\n",
    "dz = 4\n",
    "positions = slab.positions\n",
    "\n",
    "z_min = np.min(positions[:,2])\n",
    "z_max = np.max(positions[:,2])\n",
    "\n",
    "# #########################################################\n",
    "active_sites = []\n",
    "for atom in slab:\n",
    "    if atom.symbol == \"O\":\n",
    "        if atom.position[2] > z_max - dz:\n",
    "            df_row_i = df_coord_slab_i[\n",
    "                df_coord_slab_i.structure_index == atom.index]\n",
    "            df_row_i = df_row_i.iloc[0]\n",
    "            num_metal = df_row_i.num_metal\n",
    "\n",
    "            if num_metal == 1:\n",
    "                active_sites.append(atom.index)\n",
    "\n",
    "\n",
    "# active_sites"
   ]
  }
 ],
 "metadata": {
  "jupytext": {
   "formats": "ipynb,py:light"
  },
  "kernelspec": {
   "display_name": "Python [conda env:PROJ_irox_oer] *",
   "language": "python",
   "name": "conda-env-PROJ_irox_oer-py"
  },
  "language_info": {
   "codemirror_mode": {
    "name": "ipython",
    "version": 3
   },
   "file_extension": ".py",
   "mimetype": "text/x-python",
   "name": "python",
   "nbconvert_exporter": "python",
   "pygments_lexer": "ipython3",
   "version": "3.6.11"
  }
 },
 "nbformat": 4,
 "nbformat_minor": 4
}
