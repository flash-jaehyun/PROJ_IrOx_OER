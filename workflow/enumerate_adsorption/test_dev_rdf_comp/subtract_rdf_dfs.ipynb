{
 "cells": [
  {
   "cell_type": "markdown",
   "metadata": {},
   "source": [
    "# Import Modules"
   ]
  },
  {
   "cell_type": "code",
   "execution_count": 1,
   "metadata": {},
   "outputs": [],
   "source": [
    "import sys\n",
    "\n",
    "import numpy as np\n",
    "\n",
    "import pandas as pd\n",
    "\n",
    "sys.path.insert(0, \"..\")\n",
    "from local_methods import compare_rdf_ij"
   ]
  },
  {
   "cell_type": "code",
   "execution_count": 2,
   "metadata": {},
   "outputs": [],
   "source": [
    "# #########################################################\n",
    "import pickle; import os\n",
    "path_i = os.path.join(\n",
    "    os.environ[\"HOME\"],\n",
    "    \"__temp__\",\n",
    "    \"temp_2.pickle\")\n",
    "with open(path_i, \"rb\") as fle:\n",
    "    df_rdf_i, df_rdf_j = pickle.load(fle)\n",
    "# #########################################################"
   ]
  },
  {
   "cell_type": "code",
   "execution_count": 4,
   "metadata": {},
   "outputs": [],
   "source": [
    "def create_interp_df(df_i, x_combined):\n",
    "    \"\"\"\n",
    "    \"\"\"\n",
    "    r_combined = x_combined\n",
    "\n",
    "    # df_i = df_rdf_j\n",
    "\n",
    "    tmp_list = []\n",
    "    data_dict_list = []\n",
    "    for r_i in r_combined:\n",
    "        # print(\"r_i:\", r_i)\n",
    "        data_dict_i = dict()\n",
    "\n",
    "        # #################################################\n",
    "        min_r = df_i.r.min()\n",
    "        max_r = df_i.r.max()\n",
    "        # #################################################\n",
    "\n",
    "        if r_i in df_i.r.tolist():\n",
    "            row_i = df_i[df_i.r == r_i].iloc[0]\n",
    "            g_new = row_i.g\n",
    "\n",
    "        else:\n",
    "            # print(r_i)\n",
    "            # tmp_list.append(r_i)\n",
    "\n",
    "            if (r_i < min_r) or (r_i > max_r):\n",
    "                g_new = 0.\n",
    "            else:\n",
    "                # break\n",
    "\n",
    "                from scipy.interpolate import interp1d\n",
    "\n",
    "                inter_fun = interp1d(\n",
    "                    df_i.r, df_i.g,\n",
    "                    kind='linear',\n",
    "                    axis=-1,\n",
    "                    copy=True,\n",
    "                    bounds_error=None,\n",
    "                    # fill_value=None,\n",
    "                    assume_sorted=False,\n",
    "                    )\n",
    "\n",
    "\n",
    "                g_new = inter_fun(r_i)\n",
    "\n",
    "        data_dict_i[\"r\"] = r_i\n",
    "        data_dict_i[\"g\"] = g_new\n",
    "        data_dict_list.append(data_dict_i)\n",
    "\n",
    "    df_tmp = pd.DataFrame(data_dict_list)\n",
    "\n",
    "    return(df_tmp)"
   ]
  },
  {
   "cell_type": "code",
   "execution_count": 6,
   "metadata": {},
   "outputs": [],
   "source": [
    "r_combined = np.sort((df_rdf_j.r.tolist() + df_rdf_i.r.tolist()))\n",
    "r_combined = np.sort(list(set(r_combined)))\n",
    "\n",
    "\n",
    "df_interp_i = create_interp_df(df_rdf_i, r_combined)\n",
    "df_interp_j = create_interp_df(df_rdf_j, r_combined)\n",
    "\n",
    "compare_rdf_ij(\n",
    "    df_rdf_i=df_interp_i,\n",
    "    df_rdf_j=df_interp_j)"
   ]
  },
  {
   "cell_type": "raw",
   "metadata": {},
   "source": [
    "\n",
    "\n",
    "\n",
    "\n"
   ]
  },
  {
   "cell_type": "code",
   "execution_count": 9,
   "metadata": {
    "jupyter": {
     "source_hidden": true
    }
   },
   "outputs": [],
   "source": [
    "# # df_rdf_i.head()\n",
    "# # df_rdf_j.head()\n",
    "# print(df_rdf_j.shape[0])\n",
    "# print(df_rdf_i.shape[0])"
   ]
  },
  {
   "cell_type": "code",
   "execution_count": 10,
   "metadata": {
    "jupyter": {
     "source_hidden": true
    }
   },
   "outputs": [],
   "source": [
    "# len(tmp_list)\n",
    "\n",
    "# len(r_combined)\n",
    "\n",
    "# for i in r_combined:\n",
    "#     print(i)"
   ]
  },
  {
   "cell_type": "code",
   "execution_count": 11,
   "metadata": {
    "jupyter": {
     "source_hidden": true
    }
   },
   "outputs": [],
   "source": [
    "# for i_cnt, row_i in df_rdf_i.iterrows():\n",
    "#     tmp = 42\n",
    "\n",
    "# row_i.r"
   ]
  },
  {
   "cell_type": "code",
   "execution_count": 12,
   "metadata": {
    "jupyter": {
     "source_hidden": true
    }
   },
   "outputs": [],
   "source": [
    "# import plotly.graph_objs as go\n",
    "# trace = go.Scatter(\n",
    "#     x=df_tmp.r,\n",
    "#     y=df_tmp.g,\n",
    "#     )\n",
    "# data = [trace]\n",
    "\n",
    "# fig = go.Figure(data=data)\n",
    "# fig.show()"
   ]
  },
  {
   "cell_type": "code",
   "execution_count": 13,
   "metadata": {
    "jupyter": {
     "source_hidden": true
    }
   },
   "outputs": [],
   "source": [
    "# # r_i\n",
    "# # min_r\n",
    "\n",
    "# id_min = df_i[df_i.r > r_i].r.idxmin()\n",
    "# row_i = df_i.loc[id_min]\n",
    "\n",
    "# r_1 = row_i.r\n",
    "# g_1 = row_i.g"
   ]
  },
  {
   "cell_type": "code",
   "execution_count": 14,
   "metadata": {
    "jupyter": {
     "source_hidden": true
    }
   },
   "outputs": [],
   "source": [
    "# id_max = df_i[df_i.r < r_i].r.idxmax()\n",
    "\n",
    "# row_i = df_i.loc[id_max]\n",
    "\n",
    "# r_0 = row_i.r\n",
    "# g_0 = row_i.g\n",
    "\n"
   ]
  },
  {
   "cell_type": "code",
   "execution_count": 15,
   "metadata": {
    "jupyter": {
     "source_hidden": true
    }
   },
   "outputs": [],
   "source": [
    "# r_i = 0.7222222222222222\n",
    "\n",
    "# dr = 0.2\n",
    "\n",
    "# # #########################################################\n",
    "\n"
   ]
  }
 ],
 "metadata": {
  "jupytext": {
   "formats": "ipynb,py:light"
  },
  "kernelspec": {
   "display_name": "Python [conda env:PROJ_irox_oer] *",
   "language": "python",
   "name": "conda-env-PROJ_irox_oer-py"
  },
  "language_info": {
   "codemirror_mode": {
    "name": "ipython",
    "version": 3
   },
   "file_extension": ".py",
   "mimetype": "text/x-python",
   "name": "python",
   "nbconvert_exporter": "python",
   "pygments_lexer": "ipython3",
   "version": "3.6.11"
  }
 },
 "nbformat": 4,
 "nbformat_minor": 4
}
