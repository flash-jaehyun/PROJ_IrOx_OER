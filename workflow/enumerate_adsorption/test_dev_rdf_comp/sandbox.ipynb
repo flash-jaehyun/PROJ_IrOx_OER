{
 "cells": [
  {
   "cell_type": "markdown",
   "metadata": {},
   "source": [
    "# Import Modules"
   ]
  },
  {
   "cell_type": "code",
   "execution_count": 1,
   "metadata": {},
   "outputs": [],
   "source": [
    "import numpy as np\n",
    "\n",
    "import plotly.graph_objs as go\n",
    "\n",
    "from plotting.my_plotly import my_plotly_plot"
   ]
  },
  {
   "cell_type": "markdown",
   "metadata": {},
   "source": [
    "# Read Data"
   ]
  },
  {
   "cell_type": "code",
   "execution_count": 2,
   "metadata": {},
   "outputs": [],
   "source": [
    "# #########################################################\n",
    "import pickle; import os\n",
    "path_i = os.path.join(\n",
    "    os.environ[\"HOME\"],\n",
    "    \"__temp__\",\n",
    "    \"temp.pickle\")\n",
    "with open(path_i, \"rb\") as fle:\n",
    "    df_rdf_i, df_rdf_j = pickle.load(fle)\n",
    "# #########################################################"
   ]
  },
  {
   "cell_type": "markdown",
   "metadata": {},
   "source": [
    "# Script Inputs"
   ]
  },
  {
   "cell_type": "code",
   "execution_count": 3,
   "metadata": {},
   "outputs": [],
   "source": [
    "chunk_to_edit = 0\n",
    "dx = 0.3"
   ]
  },
  {
   "cell_type": "raw",
   "metadata": {},
   "source": [
    "\n",
    "\n"
   ]
  },
  {
   "cell_type": "code",
   "execution_count": 4,
   "metadata": {},
   "outputs": [
    {
     "name": "stderr",
     "output_type": "stream",
     "text": [
      "/home/raul_desktop/anaconda3/envs/PROJ_irox_oer/lib/python3.6/site-packages/pandas/core/generic.py:5303: SettingWithCopyWarning:\n",
      "\n",
      "\n",
      "A value is trying to be set on a copy of a slice from a DataFrame.\n",
      "Try using .loc[row_indexer,col_indexer] = value instead\n",
      "\n",
      "See the caveats in the documentation: https://pandas.pydata.org/pandas-docs/stable/user_guide/indexing.html#returning-a-view-versus-a-copy\n",
      "\n"
     ]
    }
   ],
   "source": [
    "df_rdf_j = df_rdf_j.rename(columns={\" g(r)\": \"g\"})\n",
    "\n",
    "# x-axis spacing of data\n",
    "dr = df_rdf_j.r.tolist()[1] - df_rdf_j.r.tolist()[0]\n",
    "\n",
    "df_i = df_rdf_j[df_rdf_j.g > 1e-5]\n",
    "\n",
    "trace = go.Scatter(\n",
    "    x=df_i.r, y=df_i.g,\n",
    "    mode=\"markers\")\n",
    "data = [trace]\n",
    "\n",
    "fig = go.Figure(data=data)\n",
    "my_plotly_plot(\n",
    "    figure=fig,\n",
    "    plot_name=\"temp_rds_distr\",\n",
    "    write_html=True)\n",
    "# fig.show()\n",
    "\n",
    "# chunk_coord_list = []\n",
    "\n",
    "chunk_start_coords = []\n",
    "chunk_end_coords = []\n",
    "\n",
    "row_i = df_i.iloc[0]\n",
    "chunk_start_coords.append(row_i.r)\n",
    "\n",
    "for i in range(1, df_i.shape[0] - 1):\n",
    "    # #####################################################\n",
    "    row_i = df_i.iloc[i]\n",
    "    row_ip1 = df_i.iloc[i + 1]\n",
    "    row_im1 = df_i.iloc[i - 1]\n",
    "    # #####################################################\n",
    "    r_i = row_i.r\n",
    "    r_ip1 = row_ip1.r\n",
    "    r_im1 = row_im1.r\n",
    "    # #####################################################\n",
    "\n",
    "    # if i == 0:\n",
    "    #     chunk_coord_list.append(r_i)\n",
    "\n",
    "    if r_i - r_im1 > 3 * dr:\n",
    "        chunk_start_coords.append(r_i)\n",
    "\n",
    "    if r_ip1 - r_i > 3 * dr:\n",
    "        chunk_end_coords.append(r_i) \n",
    "\n",
    "# #########################################################\n",
    "row_i = df_i.iloc[-1]\n",
    "chunk_end_coords.append(row_i.r)\n",
    "\n",
    "chunk_coord_list = []\n",
    "for i in range(len(chunk_end_coords)):\n",
    "    \n",
    "    start_i = chunk_start_coords[i]\n",
    "    end_i = chunk_end_coords[i]\n",
    "\n",
    "    # print(\n",
    "    #     str(np.round(start_i, 2)).zfill(5),\n",
    "    #     str(np.round(end_i, 2)).zfill(5),\n",
    "    #     )\n",
    "\n",
    "    chunk_coord_list.append([\n",
    "        start_i, end_i\n",
    "        ])\n",
    "\n",
    "\n",
    "df_chunks_list = []\n",
    "for i_cnt, chunk_i in enumerate(chunk_coord_list):\n",
    "\n",
    "    if i_cnt == chunk_to_edit:\n",
    "        dx_tmp = dx\n",
    "    else:\n",
    "        dx_tmp = 0\n",
    "\n",
    "    df_j = df_rdf_j[(df_rdf_j.r >= chunk_i[0]) & (df_rdf_j.r <= chunk_i[1])]\n",
    "    df_j.r += dx_tmp\n",
    "\n",
    "    df_chunks_list.append(df_j)\n",
    "\n",
    "import pandas as pd\n",
    "\n",
    "df_i = pd.concat(df_chunks_list)\n",
    "\n",
    "# trace = go.Scatter(\n",
    "#     x=df_i.r, y=df_i.g,\n",
    "#     mode=\"markers\")\n",
    "# data = [trace]\n",
    "\n",
    "# fig = go.Figure(data=data)\n",
    "# # my_plotly_plot(\n",
    "# #     figure=fig,\n",
    "# #     plot_name=\"temp_rds_distr\",\n",
    "# #     write_html=True)\n",
    "# fig.show()"
   ]
  },
  {
   "cell_type": "code",
   "execution_count": 5,
   "metadata": {},
   "outputs": [
    {
     "data": {
      "text/html": [
       "<div>\n",
       "<style scoped>\n",
       "    .dataframe tbody tr th:only-of-type {\n",
       "        vertical-align: middle;\n",
       "    }\n",
       "\n",
       "    .dataframe tbody tr th {\n",
       "        vertical-align: top;\n",
       "    }\n",
       "\n",
       "    .dataframe thead th {\n",
       "        text-align: right;\n",
       "    }\n",
       "</style>\n",
       "<table border=\"1\" class=\"dataframe\">\n",
       "  <thead>\n",
       "    <tr style=\"text-align: right;\">\n",
       "      <th></th>\n",
       "      <th>r</th>\n",
       "      <th>g</th>\n",
       "    </tr>\n",
       "  </thead>\n",
       "  <tbody>\n",
       "    <tr>\n",
       "      <th>171</th>\n",
       "      <td>2.200000</td>\n",
       "      <td>0.000017</td>\n",
       "    </tr>\n",
       "    <tr>\n",
       "      <th>172</th>\n",
       "      <td>2.211111</td>\n",
       "      <td>0.000328</td>\n",
       "    </tr>\n",
       "    <tr>\n",
       "      <th>173</th>\n",
       "      <td>2.222222</td>\n",
       "      <td>0.004524</td>\n",
       "    </tr>\n",
       "    <tr>\n",
       "      <th>174</th>\n",
       "      <td>2.233333</td>\n",
       "      <td>0.045798</td>\n",
       "    </tr>\n",
       "    <tr>\n",
       "      <th>175</th>\n",
       "      <td>2.244444</td>\n",
       "      <td>0.340497</td>\n",
       "    </tr>\n",
       "    <tr>\n",
       "      <th>...</th>\n",
       "      <td>...</td>\n",
       "      <td>...</td>\n",
       "    </tr>\n",
       "    <tr>\n",
       "      <th>1610</th>\n",
       "      <td>17.888889</td>\n",
       "      <td>0.095175</td>\n",
       "    </tr>\n",
       "    <tr>\n",
       "      <th>1611</th>\n",
       "      <td>17.900000</td>\n",
       "      <td>0.023732</td>\n",
       "    </tr>\n",
       "    <tr>\n",
       "      <th>1612</th>\n",
       "      <td>17.911111</td>\n",
       "      <td>0.004346</td>\n",
       "    </tr>\n",
       "    <tr>\n",
       "      <th>1613</th>\n",
       "      <td>17.922222</td>\n",
       "      <td>0.000585</td>\n",
       "    </tr>\n",
       "    <tr>\n",
       "      <th>1614</th>\n",
       "      <td>17.933333</td>\n",
       "      <td>0.000058</td>\n",
       "    </tr>\n",
       "  </tbody>\n",
       "</table>\n",
       "<p>917 rows × 2 columns</p>\n",
       "</div>"
      ],
      "text/plain": [
       "              r         g\n",
       "171    2.200000  0.000017\n",
       "172    2.211111  0.000328\n",
       "173    2.222222  0.004524\n",
       "174    2.233333  0.045798\n",
       "175    2.244444  0.340497\n",
       "...         ...       ...\n",
       "1610  17.888889  0.095175\n",
       "1611  17.900000  0.023732\n",
       "1612  17.911111  0.004346\n",
       "1613  17.922222  0.000585\n",
       "1614  17.933333  0.000058\n",
       "\n",
       "[917 rows x 2 columns]"
      ]
     },
     "execution_count": 5,
     "metadata": {},
     "output_type": "execute_result"
    }
   ],
   "source": [
    "df_i"
   ]
  }
 ],
 "metadata": {
  "jupytext": {
   "formats": "ipynb,py:light"
  },
  "kernelspec": {
   "display_name": "Python [conda env:PROJ_irox_oer] *",
   "language": "python",
   "name": "conda-env-PROJ_irox_oer-py"
  },
  "language_info": {
   "codemirror_mode": {
    "name": "ipython",
    "version": 3
   },
   "file_extension": ".py",
   "mimetype": "text/x-python",
   "name": "python",
   "nbconvert_exporter": "python",
   "pygments_lexer": "ipython3",
   "version": "3.6.11"
  }
 },
 "nbformat": 4,
 "nbformat_minor": 4
}
