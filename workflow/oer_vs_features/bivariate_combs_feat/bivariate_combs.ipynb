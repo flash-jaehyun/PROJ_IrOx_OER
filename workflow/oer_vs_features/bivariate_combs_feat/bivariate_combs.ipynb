{
 "cells": [
  {
   "cell_type": "markdown",
   "metadata": {},
   "source": [
    "# TEMP\n",
    "---\n"
   ]
  },
  {
   "cell_type": "markdown",
   "metadata": {},
   "source": [
    "# Import Modules"
   ]
  },
  {
   "cell_type": "code",
   "execution_count": 1,
   "metadata": {},
   "outputs": [
    {
     "name": "stdout",
     "output_type": "stream",
     "text": [
      "/mnt/f/Dropbox/01_norskov/00_git_repos/PROJ_IrOx_OER/workflow/oer_vs_features/bivariate_combs_feat\n"
     ]
    }
   ],
   "source": [
    "import os\n",
    "print(os.getcwd())\n",
    "import sys\n",
    "\n",
    "import copy\n",
    "\n",
    "import numpy as np\n",
    "import pandas as pd\n",
    "# pd.set_option(\"display.max_columns\", None)\n",
    "# pd.set_option('display.max_rows', None)\n",
    "# pd.options.display.max_colwidth = 100\n",
    "\n",
    "from sklearn.linear_model import LinearRegression"
   ]
  },
  {
   "cell_type": "markdown",
   "metadata": {},
   "source": [
    "# Script Inputs"
   ]
  },
  {
   "cell_type": "code",
   "execution_count": 2,
   "metadata": {},
   "outputs": [],
   "source": [
    "# target_ads = \"o\"\n",
    "target_ads = \"oh\"\n",
    "\n",
    "verbose = True\n",
    "# verbose = False"
   ]
  },
  {
   "cell_type": "markdown",
   "metadata": {},
   "source": [
    "# Read Data"
   ]
  },
  {
   "cell_type": "code",
   "execution_count": 3,
   "metadata": {},
   "outputs": [],
   "source": [
    "from methods import get_df_features_targets\n",
    "df_features_targets = get_df_features_targets()\n",
    "df_i = df_features_targets\n",
    "\n",
    "from methods import get_df_slab\n",
    "df_slab = get_df_slab()\n",
    "\n",
    "# Getting phase > 1 slab ids\n",
    "df_slab_i = df_slab[df_slab.phase > 1]\n",
    "phase_2_slab_ids = df_slab_i.slab_id.tolist()"
   ]
  },
  {
   "cell_type": "markdown",
   "metadata": {},
   "source": [
    "### Processing dataframe"
   ]
  },
  {
   "cell_type": "code",
   "execution_count": 4,
   "metadata": {},
   "outputs": [],
   "source": [
    "if target_ads == \"o\":\n",
    "    other_ads = \"oh\"\n",
    "elif target_ads == \"oh\":\n",
    "    other_ads = \"o\"\n",
    "\n",
    "df_i = df_i.drop(\"features_stan\", axis=1, level=0)\n",
    "\n",
    "df_i = df_i.drop(other_ads, axis=1, level=1)"
   ]
  },
  {
   "cell_type": "markdown",
   "metadata": {},
   "source": [
    "### Dropping phase 1 slabs"
   ]
  },
  {
   "cell_type": "code",
   "execution_count": 5,
   "metadata": {},
   "outputs": [
    {
     "name": "stdout",
     "output_type": "stream",
     "text": [
      "Dropping phase 1 slabs\n"
     ]
    }
   ],
   "source": [
    "df_index = df_i.index.to_frame()\n",
    "df_index_i = df_index[\n",
    "    df_index.slab_id.isin(phase_2_slab_ids)\n",
    "    ]\n",
    "\n",
    "print(\"Dropping phase 1 slabs\")\n",
    "df_i = df_i.loc[\n",
    "    df_index_i.index\n",
    "    ]"
   ]
  },
  {
   "cell_type": "code",
   "execution_count": 6,
   "metadata": {},
   "outputs": [],
   "source": [
    "df_feat = df_i[\"features\"][target_ads]"
   ]
  },
  {
   "cell_type": "markdown",
   "metadata": {},
   "source": [
    "### Standardize columns"
   ]
  },
  {
   "cell_type": "code",
   "execution_count": 7,
   "metadata": {},
   "outputs": [],
   "source": [
    "df_features = df_feat\n",
    "\n",
    "df_features_stan = copy.deepcopy(df_features)\n",
    "for col_i in df_features_stan.columns:\n",
    "    max_val = df_features_stan[col_i].max()\n",
    "    mean_val = df_features_stan[col_i].mean()\n",
    "    std_val = df_features_stan[col_i].std()\n",
    "    # df_features_stan[col_i] = (df_features_stan[col_i] - mean_val) / std_val\n",
    "    df_features_stan[col_i] = (df_features_stan[col_i]) / max_val\n",
    "df_feat_stan = df_features_stan"
   ]
  },
  {
   "cell_type": "code",
   "execution_count": 8,
   "metadata": {},
   "outputs": [
    {
     "data": {
      "text/plain": [
       "[('active_o_metal_dist', 'eff_oxid_state'),\n",
       " ('active_o_metal_dist', 'ir_o_mean'),\n",
       " ('active_o_metal_dist', 'ir_o_std'),\n",
       " ('active_o_metal_dist', 'octa_vol'),\n",
       " ('active_o_metal_dist', 'dH_bulk'),\n",
       " ('active_o_metal_dist', 'volume_pa'),\n",
       " ('active_o_metal_dist', 'bulk_oxid_state'),\n",
       " ('eff_oxid_state', 'ir_o_mean'),\n",
       " ('eff_oxid_state', 'ir_o_std'),\n",
       " ('eff_oxid_state', 'octa_vol'),\n",
       " ('eff_oxid_state', 'dH_bulk'),\n",
       " ('eff_oxid_state', 'volume_pa'),\n",
       " ('eff_oxid_state', 'bulk_oxid_state'),\n",
       " ('ir_o_mean', 'ir_o_std'),\n",
       " ('ir_o_mean', 'octa_vol'),\n",
       " ('ir_o_mean', 'dH_bulk'),\n",
       " ('ir_o_mean', 'volume_pa'),\n",
       " ('ir_o_mean', 'bulk_oxid_state'),\n",
       " ('ir_o_std', 'octa_vol'),\n",
       " ('ir_o_std', 'dH_bulk'),\n",
       " ('ir_o_std', 'volume_pa'),\n",
       " ('ir_o_std', 'bulk_oxid_state'),\n",
       " ('octa_vol', 'dH_bulk'),\n",
       " ('octa_vol', 'volume_pa'),\n",
       " ('octa_vol', 'bulk_oxid_state'),\n",
       " ('dH_bulk', 'volume_pa'),\n",
       " ('dH_bulk', 'bulk_oxid_state'),\n",
       " ('volume_pa', 'bulk_oxid_state')]"
      ]
     },
     "execution_count": 8,
     "metadata": {},
     "output_type": "execute_result"
    }
   ],
   "source": [
    "# Create every possible bivariate combination to be tested for feature engineering\n",
    "from itertools import combinations\n",
    "\n",
    "column_list = df_feat_stan.columns\n",
    "interactions = list(combinations(column_list, 2))\n",
    "\n",
    "interactions"
   ]
  },
  {
   "cell_type": "code",
   "execution_count": 9,
   "metadata": {},
   "outputs": [],
   "source": [
    "def create_lin_model(\n",
    "    y=None,\n",
    "    df_x=None,\n",
    "    ):\n",
    "    \"\"\"\n",
    "    \"\"\"\n",
    "    X_i = df_x_i.to_numpy()\n",
    "    X_i = X_i.reshape(-1, 1)\n",
    "\n",
    "    model_i = LinearRegression()\n",
    "    model_i.fit(X_i, y)\n",
    "\n",
    "    # #####################################################\n",
    "    out_dict = dict()\n",
    "    # #####################################################\n",
    "    out_dict[\"model\"] = model_i\n",
    "    out_dict[\"X\"] = X_i\n",
    "    # #####################################################\n",
    "    return(out_dict)\n",
    "    # #####################################################"
   ]
  },
  {
   "cell_type": "code",
   "execution_count": 19,
   "metadata": {},
   "outputs": [
    {
     "name": "stdout",
     "output_type": "stream",
     "text": [
      "============================================================\n",
      "feat_pair_i: ('active_o_metal_dist', 'eff_oxid_state')\n",
      "Model 0 Score: 0.148\n",
      "Model 0 Score: 0.766\n",
      "Model Bivar Score: 0.776\n",
      "\n",
      "============================================================\n",
      "feat_pair_i: ('active_o_metal_dist', 'ir_o_mean')\n",
      "Model 0 Score: 0.147\n",
      "Model 0 Score: 0.699\n",
      "Model Bivar Score: 0.408\n",
      "\n",
      "============================================================\n",
      "feat_pair_i: ('active_o_metal_dist', 'ir_o_std')\n",
      "Model 0 Score: 0.147\n",
      "Model 0 Score: 0.14\n",
      "Model Bivar Score: 0.148\n",
      "\n",
      "============================================================\n",
      "feat_pair_i: ('active_o_metal_dist', 'octa_vol')\n",
      "Model 0 Score: 0.107\n",
      "Model 0 Score: 0.657\n",
      "Model Bivar Score: 0.591\n",
      "\n",
      "============================================================\n",
      "feat_pair_i: ('active_o_metal_dist', 'dH_bulk')\n",
      "Model 0 Score: 0.148\n",
      "Model 0 Score: 0.179\n",
      "Model Bivar Score: 0.156\n",
      "\n",
      "============================================================\n",
      "feat_pair_i: ('active_o_metal_dist', 'volume_pa')\n",
      "Model 0 Score: 0.148\n",
      "Model 0 Score: 0.032\n",
      "Model Bivar Score: 0.049\n",
      "\n",
      "============================================================\n",
      "feat_pair_i: ('active_o_metal_dist', 'bulk_oxid_state')\n",
      "Model 0 Score: 0.148\n",
      "Model 0 Score: 0.502\n",
      "Model Bivar Score: 0.504\n",
      "\n",
      "============================================================\n",
      "feat_pair_i: ('eff_oxid_state', 'ir_o_mean')\n",
      "Model 0 Score: 0.768\n",
      "Model 0 Score: 0.699\n",
      "Model Bivar Score: 0.745\n",
      "\n",
      "============================================================\n",
      "feat_pair_i: ('eff_oxid_state', 'ir_o_std')\n",
      "Model 0 Score: 0.768\n",
      "Model 0 Score: 0.14\n",
      "Model Bivar Score: 0.295\n",
      "\n",
      "============================================================\n",
      "feat_pair_i: ('eff_oxid_state', 'octa_vol')\n",
      "Model 0 Score: 0.711\n",
      "Model 0 Score: 0.657\n",
      "Model Bivar Score: 0.63\n",
      "\n",
      "============================================================\n",
      "feat_pair_i: ('eff_oxid_state', 'dH_bulk')\n",
      "Model 0 Score: 0.766\n",
      "Model 0 Score: 0.179\n",
      "Model Bivar Score: 0.391\n",
      "\n",
      "============================================================\n",
      "feat_pair_i: ('eff_oxid_state', 'volume_pa')\n",
      "Model 0 Score: 0.766\n",
      "Model 0 Score: 0.032\n",
      "Model Bivar Score: 0.62\n",
      "\n",
      "============================================================\n",
      "feat_pair_i: ('eff_oxid_state', 'bulk_oxid_state')\n",
      "Model 0 Score: 0.766\n",
      "Model 0 Score: 0.502\n",
      "Model Bivar Score: 0.744\n",
      "\n",
      "============================================================\n",
      "feat_pair_i: ('ir_o_mean', 'ir_o_std')\n",
      "Model 0 Score: 0.699\n",
      "Model 0 Score: 0.14\n",
      "Model Bivar Score: 0.12\n",
      "\n",
      "============================================================\n",
      "feat_pair_i: ('ir_o_mean', 'octa_vol')\n",
      "Model 0 Score: 0.673\n",
      "Model 0 Score: 0.657\n",
      "Model Bivar Score: 0.669\n",
      "\n",
      "============================================================\n",
      "feat_pair_i: ('ir_o_mean', 'dH_bulk')\n",
      "Model 0 Score: 0.699\n",
      "Model 0 Score: 0.178\n",
      "Model Bivar Score: 0.253\n",
      "\n",
      "============================================================\n",
      "feat_pair_i: ('ir_o_mean', 'volume_pa')\n",
      "Model 0 Score: 0.699\n",
      "Model 0 Score: 0.031\n",
      "Model Bivar Score: 0.001\n",
      "\n",
      "============================================================\n",
      "feat_pair_i: ('ir_o_mean', 'bulk_oxid_state')\n",
      "Model 0 Score: 0.699\n",
      "Model 0 Score: 0.501\n",
      "Model Bivar Score: 0.465\n",
      "\n",
      "============================================================\n",
      "feat_pair_i: ('ir_o_std', 'octa_vol')\n",
      "Model 0 Score: 0.063\n",
      "Model 0 Score: 0.657\n",
      "Model Bivar Score: 0.033\n",
      "\n",
      "============================================================\n",
      "feat_pair_i: ('ir_o_std', 'dH_bulk')\n",
      "Model 0 Score: 0.14\n",
      "Model 0 Score: 0.178\n",
      "Model Bivar Score: 0.076\n",
      "\n",
      "============================================================\n",
      "feat_pair_i: ('ir_o_std', 'volume_pa')\n",
      "Model 0 Score: 0.14\n",
      "Model 0 Score: 0.031\n",
      "Model Bivar Score: 0.158\n",
      "\n",
      "============================================================\n",
      "feat_pair_i: ('ir_o_std', 'bulk_oxid_state')\n",
      "Model 0 Score: 0.14\n",
      "Model 0 Score: 0.501\n",
      "Model Bivar Score: 0.389\n",
      "\n",
      "============================================================\n",
      "feat_pair_i: ('octa_vol', 'dH_bulk')\n",
      "Model 0 Score: 0.657\n",
      "Model 0 Score: 0.227\n",
      "Model Bivar Score: 0.384\n",
      "\n",
      "============================================================\n",
      "feat_pair_i: ('octa_vol', 'volume_pa')\n",
      "Model 0 Score: 0.657\n",
      "Model 0 Score: 0.068\n",
      "Model Bivar Score: 0.016\n",
      "\n",
      "============================================================\n",
      "feat_pair_i: ('octa_vol', 'bulk_oxid_state')\n",
      "Model 0 Score: 0.657\n",
      "Model 0 Score: 0.47\n",
      "Model Bivar Score: 0.347\n",
      "\n",
      "============================================================\n",
      "feat_pair_i: ('dH_bulk', 'volume_pa')\n",
      "Model 0 Score: 0.179\n",
      "Model 0 Score: 0.032\n",
      "Model Bivar Score: 0.093\n",
      "\n",
      "============================================================\n",
      "feat_pair_i: ('dH_bulk', 'bulk_oxid_state')\n",
      "Model 0 Score: 0.179\n",
      "Model 0 Score: 0.502\n",
      "Model Bivar Score: 0.517\n",
      "\n",
      "============================================================\n",
      "feat_pair_i: ('volume_pa', 'bulk_oxid_state')\n",
      "Model 0 Score: 0.032\n",
      "Model 0 Score: 0.502\n",
      "Model Bivar Score: 0.416\n",
      "\n"
     ]
    }
   ],
   "source": [
    "def local_method_wrap(\n",
    "    feat_i=None,\n",
    "    y=None,\n",
    "    # df_x_i=None,\n",
    "    df_xy_i=None,\n",
    "    print_str=\"\",\n",
    "    ):\n",
    "    # #####################################################\n",
    "    # df_x_i = df_xy_i[feat_pair_i[0]]\n",
    "    df_x_i = df_xy_i[feat_i]\n",
    "    # #####################################################\n",
    "    model_dict_i = create_lin_model(y=y, df_x=df_x_i)\n",
    "    # #####################################################\n",
    "    model_i = model_dict_i[\"model\"]\n",
    "    X_i = model_dict_i[\"X\"]\n",
    "    # #####################################################\n",
    "\n",
    "    # print(\"Model 0 Score:\", np.round(model_i.score(X_i, y), 3))\n",
    "    print(print_str + \":\", np.round(model_i.score(X_i, y), 3))\n",
    "\n",
    "\n",
    "for feat_pair_i in interactions:\n",
    "    print(60 * \"=\")\n",
    "    print(\"feat_pair_i:\", feat_pair_i)\n",
    "\n",
    "    bivar_feat_i = df_feat_stan[feat_pair_i[0]] * df_feat_stan[feat_pair_i[1]]\n",
    "\n",
    "    feat_name_bivar_i = feat_pair_i[0] + \"*\" + feat_pair_i[1]\n",
    "    bivar_feat_i.name = feat_name_bivar_i\n",
    "\n",
    "    y = df_i[\"targets\"][\"g_\" + target_ads]\n",
    "\n",
    "    df_xy_i = pd.concat([\n",
    "        y,\n",
    "        bivar_feat_i,\n",
    "        df_feat_stan[list(feat_pair_i)]\n",
    "        ], axis=1)\n",
    "    df_xy_i = df_xy_i.dropna()\n",
    "\n",
    "    y = df_xy_i[\"g_\" + target_ads]\n",
    "\n",
    "\n",
    "    df_x_i = df_xy_i[feat_pair_i[0]]\n",
    "    local_method_wrap(\n",
    "        feat_i=feat_pair_i[0], y=y, df_xy_i=df_xy_i,\n",
    "        print_str=\"Model 0 Score\")\n",
    "    df_x_i = df_xy_i[feat_pair_i[1]]\n",
    "    local_method_wrap(\n",
    "        feat_i=feat_pair_i[0], y=y, df_xy_i=df_xy_i,\n",
    "        print_str=\"Model 0 Score\")\n",
    "    df_x_i = df_xy_i[feat_name_bivar_i]\n",
    "    local_method_wrap(\n",
    "        feat_i=feat_pair_i[0], y=y, df_xy_i=df_xy_i,\n",
    "        print_str=\"Model Bivar Score\")\n",
    "\n",
    "    print(\"\")"
   ]
  },
  {
   "cell_type": "code",
   "execution_count": null,
   "metadata": {},
   "outputs": [],
   "source": [
    "assert False"
   ]
  },
  {
   "cell_type": "code",
   "execution_count": null,
   "metadata": {},
   "outputs": [],
   "source": [
    "\n"
   ]
  },
  {
   "cell_type": "code",
   "execution_count": null,
   "metadata": {},
   "outputs": [],
   "source": [
    "\n",
    "# X_bivar = \n",
    "\n",
    "\n",
    "# .to_numpy()"
   ]
  },
  {
   "cell_type": "code",
   "execution_count": null,
   "metadata": {},
   "outputs": [],
   "source": [
    "df_xy_i"
   ]
  },
  {
   "cell_type": "code",
   "execution_count": null,
   "metadata": {},
   "outputs": [],
   "source": [
    "assert False"
   ]
  },
  {
   "cell_type": "raw",
   "metadata": {},
   "source": [
    "\n"
   ]
  },
  {
   "cell_type": "markdown",
   "metadata": {},
   "source": [
    "### Doing same-variable bivariate features\n",
    "\n",
    "Doesn't seem to do anything for some reason"
   ]
  },
  {
   "cell_type": "code",
   "execution_count": null,
   "metadata": {},
   "outputs": [],
   "source": [
    "for feat_i in df_feat_stan.columns:\n",
    "    print(60 * \"=\")\n",
    "    print(\"feat_i:\", feat_i)\n",
    "\n",
    "    # ^^^^\n",
    "\n",
    "    bivar_feat_i = df_feat_stan[feat_i] * df_feat_stan[feat_i]\n",
    "\n",
    "    feat_name_bivar_i = feat_i + \"__bivar\"\n",
    "    bivar_feat_i.name = feat_name_bivar_i\n",
    "\n",
    "    y = df_i[\"targets\"][\"g_\" + target_ads]\n",
    "\n",
    "    df_xy_i = pd.concat([\n",
    "        y,\n",
    "        bivar_feat_i,\n",
    "        df_feat_stan[feat_i],\n",
    "        ], axis=1)\n",
    "    df_xy_i = df_xy_i.dropna()\n",
    "\n",
    "\n",
    "    # #########################################################\n",
    "    X_reg = df_xy_i[feat_i].to_numpy()\n",
    "    X_reg = X_reg.reshape(-1, 1)\n",
    "\n",
    "    y = df_xy_i[\"g_\" + target_ads]\n",
    "\n",
    "\n",
    "    model_reg = LinearRegression()\n",
    "    model_reg.fit(X_reg, y)\n",
    "\n",
    "    y_predict = model_reg.predict(X_reg)\n",
    "\n",
    "    # print(20 * \"-\")\n",
    "    print(\"Model Regular Score:\", model_reg.score(X_reg, y))\n",
    "\n",
    "    # #########################################################\n",
    "    X_bivar = df_xy_i[feat_name_bivar_i].to_numpy()\n",
    "    X_bivar = X_bivar.reshape(-1, 1)\n",
    "\n",
    "    model_bivar = LinearRegression()\n",
    "    model_bivar.fit(X_bivar, y)\n",
    "\n",
    "    y_predict = model_bivar.predict(X_bivar)\n",
    "\n",
    "    # print(20 * \"-\")\n",
    "    print(\"Model Bivar Score:\", model_bivar.score(X_bivar, y))"
   ]
  },
  {
   "cell_type": "raw",
   "metadata": {},
   "source": [
    "\n",
    "\n"
   ]
  },
  {
   "cell_type": "code",
   "execution_count": null,
   "metadata": {
    "jupyter": {
     "source_hidden": true
    }
   },
   "outputs": [],
   "source": [
    "# print(\n",
    "#     \"Number of rows in df_features_targets:\",\n",
    "#     df_i.shape[0],\n",
    "#     )\n",
    "\n",
    "# # 150"
   ]
  },
  {
   "cell_type": "code",
   "execution_count": null,
   "metadata": {
    "jupyter": {
     "source_hidden": true
    }
   },
   "outputs": [],
   "source": [
    "# # col_i\n",
    "# # new_col_i\n",
    "# # col_i + \n",
    "\n",
    "# df_features_stan"
   ]
  },
  {
   "cell_type": "code",
   "execution_count": null,
   "metadata": {
    "jupyter": {
     "source_hidden": true
    }
   },
   "outputs": [],
   "source": [
    "# col_i"
   ]
  },
  {
   "cell_type": "code",
   "execution_count": null,
   "metadata": {
    "jupyter": {
     "source_hidden": true
    }
   },
   "outputs": [],
   "source": [
    "# df_i[\"features_stan\"]"
   ]
  },
  {
   "cell_type": "code",
   "execution_count": null,
   "metadata": {
    "jupyter": {
     "source_hidden": true
    }
   },
   "outputs": [],
   "source": [
    "# y"
   ]
  },
  {
   "cell_type": "code",
   "execution_count": null,
   "metadata": {
    "jupyter": {
     "source_hidden": true
    }
   },
   "outputs": [],
   "source": [
    "\n",
    "# df_i[\"targets\"]"
   ]
  },
  {
   "cell_type": "code",
   "execution_count": null,
   "metadata": {
    "jupyter": {
     "source_hidden": true
    }
   },
   "outputs": [],
   "source": [
    "#     y = df_i[\"targets\"][\"g_\" + target_ads]\n",
    "\n",
    "# df_xy_i = \n",
    "# y = df_xy_i[\"g_\" + target_ads]"
   ]
  },
  {
   "cell_type": "code",
   "execution_count": null,
   "metadata": {
    "jupyter": {
     "source_hidden": true
    }
   },
   "outputs": [],
   "source": [
    "# df_xy_i"
   ]
  },
  {
   "cell_type": "code",
   "execution_count": null,
   "metadata": {
    "jupyter": {
     "source_hidden": true
    }
   },
   "outputs": [],
   "source": [
    "# model_bivar.get_params()\n",
    "\n",
    "# model_bivar.coef_"
   ]
  },
  {
   "cell_type": "code",
   "execution_count": null,
   "metadata": {
    "jupyter": {
     "source_hidden": true
    }
   },
   "outputs": [],
   "source": [
    "# model_reg.coef_"
   ]
  },
  {
   "cell_type": "code",
   "execution_count": null,
   "metadata": {
    "jupyter": {
     "source_hidden": true
    }
   },
   "outputs": [],
   "source": [
    "# df_xy_i"
   ]
  },
  {
   "cell_type": "code",
   "execution_count": null,
   "metadata": {
    "jupyter": {
     "source_hidden": true
    }
   },
   "outputs": [],
   "source": [
    "\n",
    "# df_feat_stan"
   ]
  }
 ],
 "metadata": {
  "jupytext": {
   "formats": "ipynb,py:light"
  },
  "kernelspec": {
   "display_name": "Python [conda env:PROJ_irox_oer] *",
   "language": "python",
   "name": "conda-env-PROJ_irox_oer-py"
  },
  "language_info": {
   "codemirror_mode": {
    "name": "ipython",
    "version": 3
   },
   "file_extension": ".py",
   "mimetype": "text/x-python",
   "name": "python",
   "nbconvert_exporter": "python",
   "pygments_lexer": "ipython3",
   "version": "3.6.11"
  }
 },
 "nbformat": 4,
 "nbformat_minor": 4
}
