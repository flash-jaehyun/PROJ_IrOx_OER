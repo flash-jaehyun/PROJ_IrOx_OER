{
 "cells": [
  {
   "cell_type": "markdown",
   "metadata": {},
   "source": [
    "# Import Modules"
   ]
  },
  {
   "cell_type": "code",
   "execution_count": null,
   "metadata": {},
   "outputs": [],
   "source": [
    "import os\n",
    "print(os.getcwd())\n",
    "import sys\n",
    "\n",
    "import numpy as np\n",
    "import pandas as pd\n",
    "\n",
    "import plotly.graph_objs as go\n",
    "\n",
    "# #########################################################\n",
    "from methods import get_df_eff_ox\n",
    "from methods import get_df_ads\n",
    "\n",
    "# #########################################################\n",
    "from layout import layout"
   ]
  },
  {
   "cell_type": "markdown",
   "metadata": {},
   "source": [
    "# Script Inputs"
   ]
  },
  {
   "cell_type": "code",
   "execution_count": null,
   "metadata": {},
   "outputs": [],
   "source": [
    "verbose = True\n",
    "# verbose = False"
   ]
  },
  {
   "cell_type": "markdown",
   "metadata": {},
   "source": [
    "# Read Data"
   ]
  },
  {
   "cell_type": "code",
   "execution_count": null,
   "metadata": {},
   "outputs": [],
   "source": [
    "df_eff_ox = get_df_eff_ox()\n",
    "\n",
    "df_ads = get_df_ads()"
   ]
  },
  {
   "cell_type": "raw",
   "metadata": {},
   "source": [
    "\n",
    "\n"
   ]
  },
  {
   "cell_type": "code",
   "execution_count": null,
   "metadata": {},
   "outputs": [],
   "source": [
    "x_array = []\n",
    "y_array = []\n",
    "\n",
    "data_dict_list = []\n",
    "for i_cnt, row_i in df_ads.iterrows():\n",
    "    data_dict_i = dict()\n",
    "\n",
    "    # #####################################################\n",
    "    compenv_i = row_i.compenv\n",
    "    slab_id_i = row_i.slab_id\n",
    "    active_site_i = row_i.active_site\n",
    "    g_o_i = row_i.g_o\n",
    "    job_id_o_i = row_i.job_id_o\n",
    "    # active_site_i = row_i.active_site\n",
    "    # #####################################################\n",
    "\n",
    "    # #########################################################\n",
    "    row_ox_i = df_eff_ox[\n",
    "        (df_eff_ox.compenv == compenv_i) & \\\n",
    "        (df_eff_ox.slab_id == slab_id_i) & \\\n",
    "        (df_eff_ox.active_site == active_site_i) & \\\n",
    "        [True for i in range(len(df_eff_ox))]\n",
    "        ]\n",
    "    row_ox_i = row_ox_i.iloc[0]\n",
    "    # #########################################################\n",
    "    eff_oxid_state_i = row_ox_i.eff_oxid_state\n",
    "    # #########################################################\n",
    "\n",
    "    # #########################################################\n",
    "    data_dict_i[\"eff_oxid_state\"] = eff_oxid_state_i\n",
    "    data_dict_i[\"g_o\"] = g_o_i\n",
    "    data_dict_i[\"job_id_o\"] = job_id_o_i\n",
    "    data_dict_i[\"active_site\"] = active_site_i\n",
    "    # #########################################################\n",
    "    data_dict_list.append(data_dict_i)\n",
    "    # #########################################################\n",
    "\n",
    "    x_array.append(eff_oxid_state_i)\n",
    "    y_array.append(g_o_i)"
   ]
  },
  {
   "cell_type": "code",
   "execution_count": null,
   "metadata": {},
   "outputs": [],
   "source": [
    "df = pd.DataFrame(data_dict_list)\n",
    "df = df.dropna()"
   ]
  },
  {
   "cell_type": "code",
   "execution_count": null,
   "metadata": {},
   "outputs": [],
   "source": [
    "from methods import get_df_atoms_sorted_ind\n",
    "\n",
    "df_atoms_sorted_ind = get_df_atoms_sorted_ind()\n",
    "\n",
    "df_atoms_sorted_ind = df_atoms_sorted_ind.set_index(\"job_id\", drop=False)\n",
    "\n",
    "# df_atoms_sorted_ind\n",
    "\n",
    "\n",
    "for i_cnt, row_i in df.iterrows():\n",
    "    tmp = 42\n",
    "\n",
    "    job_id_o_i = row_i.job_id_o\n",
    "    active_site_i = row_i.active_site\n",
    "    # print(job_id_o_i)\n",
    "\n",
    "    row_atoms_i = df_atoms_sorted_ind.loc[job_id_o_i]\n",
    "\n",
    "    # job_id_o_i\n",
    "    atoms_sorted_good_i = row_atoms_i.atoms_sorted_good\n",
    "    atoms_sorted_good_i.write(\"out_data/\" + job_id_o_i + \"_\" + str(int(active_site_i)).zfill(3) + \".traj\")"
   ]
  },
  {
   "cell_type": "code",
   "execution_count": null,
   "metadata": {},
   "outputs": [],
   "source": [
    "# df.job_id_o + str(int(df.active_site))\n",
    "\n",
    "names_list = []\n",
    "for i_cnt, i in df.iterrows():\n",
    "    tmp = 42\n",
    "\n",
    "    name_i = i.job_id_o + \"_\" + str(int(i.active_site)).zfill(3)\n",
    "    names_list.append(name_i)"
   ]
  },
  {
   "cell_type": "code",
   "execution_count": null,
   "metadata": {},
   "outputs": [],
   "source": [
    "x_array = df.eff_oxid_state\n",
    "y_array = df.g_o\n",
    "# names = df.job_id_o\n",
    "names = names_list\n",
    "\n",
    "trace = go.Scatter(\n",
    "    x=x_array,\n",
    "    y=y_array,\n",
    "\n",
    "    mode=\"markers\",\n",
    "#     mode=\"markers+text\",\n",
    "\n",
    "    name=\"Markers and Text\",\n",
    "    text=names,\n",
    "    textposition=\"bottom center\",\n",
    "    )\n",
    "data = [trace]\n",
    "\n",
    "fig = go.Figure(data=data, layout=layout)\n",
    "fig.show()"
   ]
  },
  {
   "cell_type": "code",
   "execution_count": null,
   "metadata": {},
   "outputs": [],
   "source": [
    "from plotting.my_plotly import my_plotly_plot\n",
    "\n",
    "my_plotly_plot(\n",
    "    figure=fig,\n",
    "    plot_name=\"G_O__vs__ox_state\",\n",
    "    write_html=True,\n",
    "    # write_png=False,\n",
    "    # png_scale=6.0,\n",
    "    # write_pdf=False,\n",
    "    # write_svg=False,\n",
    "    # try_orca_write=False,\n",
    "    # verbose=False,\n",
    "    )"
   ]
  },
  {
   "cell_type": "raw",
   "metadata": {},
   "source": [
    "\n",
    "\n",
    "\n"
   ]
  },
  {
   "cell_type": "code",
   "execution_count": null,
   "metadata": {},
   "outputs": [],
   "source": [
    "# import chart_studio.plotly as py\n",
    "# import plotly.graph_objs as go\n",
    "\n",
    "# import os\n",
    "\n",
    "# x_array = [0, 1, 2, 3]\n",
    "# y_array = [0, 1, 2, 3]\n",
    "\n",
    "\n",
    "# trace = go.Scatter(\n",
    "#     x=x_array,\n",
    "#     y=y_array,\n",
    "#     mode=\"markers\",\n",
    "#     opacity=0.8,\n",
    "#     marker=dict(\n",
    "\n",
    "#         symbol=\"circle\",\n",
    "#         color='LightSkyBlue',\n",
    "\n",
    "#         opacity=0.8,\n",
    "\n",
    "#         # color=z,\n",
    "#         colorscale='Viridis',\n",
    "#         colorbar=dict(thickness=20),\n",
    "\n",
    "#         size=20,\n",
    "#         line=dict(\n",
    "#             color='MediumPurple',\n",
    "#             width=2\n",
    "#             )\n",
    "#         ),\n",
    "\n",
    "#     line=dict(\n",
    "#         color=\"firebrick\",\n",
    "#         width=2,\n",
    "#         dash=\"dot\",\n",
    "#         ),\n",
    "\n",
    "#     error_y={\n",
    "#         \"type\": 'data',\n",
    "#         \"array\": [0.4, 0.9, 0.3, 1.1],\n",
    "#         \"visible\": True,\n",
    "#         },\n",
    "\n",
    "#     )\n",
    "\n",
    "# data = [trace]\n",
    "\n",
    "# fig = go.Figure(data=data)\n",
    "# fig.show()"
   ]
  },
  {
   "cell_type": "code",
   "execution_count": null,
   "metadata": {},
   "outputs": [],
   "source": [
    "# df_ads.set_index(\n",
    "#     [\"compenv\", \"slab_id\", \"active_site\"],\n",
    "#     drop=False\n",
    "#     )"
   ]
  },
  {
   "cell_type": "code",
   "execution_count": null,
   "metadata": {},
   "outputs": [],
   "source": []
  }
 ],
 "metadata": {
  "jupytext": {
   "formats": "ipynb,py:light"
  },
  "kernelspec": {
   "display_name": "Python [conda env:PROJ_irox_oer] *",
   "language": "python",
   "name": "conda-env-PROJ_irox_oer-py"
  },
  "language_info": {
   "codemirror_mode": {
    "name": "ipython",
    "version": 3
   },
   "file_extension": ".py",
   "mimetype": "text/x-python",
   "name": "python",
   "nbconvert_exporter": "python",
   "pygments_lexer": "ipython3",
   "version": "3.6.11"
  }
 },
 "nbformat": 4,
 "nbformat_minor": 4
}
