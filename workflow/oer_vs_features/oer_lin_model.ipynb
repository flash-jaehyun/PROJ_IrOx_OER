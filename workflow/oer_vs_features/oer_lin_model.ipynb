{
 "cells": [
  {
   "cell_type": "markdown",
   "metadata": {},
   "source": [
    "# Constructing linear model for OER adsorption energies\n",
    "---\n",
    "\n",
    "TODO:\n",
    "  * Add bulk formation energy as descriptor"
   ]
  },
  {
   "cell_type": "markdown",
   "metadata": {},
   "source": [
    "# Import Modules"
   ]
  },
  {
   "cell_type": "code",
   "execution_count": null,
   "metadata": {
    "jupyter": {}
   },
   "outputs": [],
   "source": [
    "import os\n",
    "print(os.getcwd())\n",
    "import sys\n",
    "\n",
    "import numpy as np\n",
    "from sklearn.linear_model import LinearRegression\n",
    "import pandas as pd\n",
    "\n",
    "# pd.set_option(\"display.max_columns\", None)\n",
    "# pd.set_option('display.max_rows', None)\n",
    "# pd.options.display.max_colwidth = 100\n",
    "\n",
    "import plotly.graph_objs as go\n",
    "\n",
    "# #########################################################\n",
    "from methods import (\n",
    "    get_df_eff_ox,\n",
    "    get_df_ads,\n",
    "    get_df_features,\n",
    "    get_df_jobs,\n",
    "    )\n",
    "\n",
    "# #########################################################\n",
    "from layout import layout"
   ]
  },
  {
   "cell_type": "markdown",
   "metadata": {},
   "source": [
    "# Script Inputs"
   ]
  },
  {
   "cell_type": "code",
   "execution_count": null,
   "metadata": {},
   "outputs": [],
   "source": [
    "verbose = True\n",
    "# verbose = False"
   ]
  },
  {
   "cell_type": "markdown",
   "metadata": {},
   "source": [
    "# Read Data"
   ]
  },
  {
   "cell_type": "code",
   "execution_count": null,
   "metadata": {},
   "outputs": [],
   "source": [
    "df_eff_ox = get_df_eff_ox()\n",
    "\n",
    "df_ads = get_df_ads()\n",
    "\n",
    "df_features = get_df_features()\n",
    "\n",
    "df_jobs = get_df_jobs()"
   ]
  },
  {
   "cell_type": "code",
   "execution_count": null,
   "metadata": {},
   "outputs": [],
   "source": [
    "feature_cols = df_features.columns.tolist()"
   ]
  },
  {
   "cell_type": "raw",
   "metadata": {},
   "source": [
    "\n"
   ]
  },
  {
   "cell_type": "code",
   "execution_count": null,
   "metadata": {},
   "outputs": [],
   "source": [
    "data_dict_list = []\n",
    "for i_cnt, row_i in df_ads.iterrows():\n",
    "    data_dict_i = dict()\n",
    "\n",
    "    # #####################################################\n",
    "    compenv_i = row_i.compenv\n",
    "    slab_id_i = row_i.slab_id\n",
    "    active_site_i = row_i.active_site\n",
    "    g_o_i = row_i.g_o\n",
    "    job_id_o_i = row_i.job_id_o\n",
    "    # active_site_i = row_i.active_site\n",
    "    # #####################################################\n",
    "\n",
    "    # #########################################################\n",
    "    row_jobs_i = df_jobs.loc[job_id_o_i]\n",
    "    # #########################################################\n",
    "    att_num_i = row_jobs_i.att_num\n",
    "    # #########################################################\n",
    "\n",
    "    # #####################################################\n",
    "    data_dict_i[\"compenv\"] = compenv_i\n",
    "    data_dict_i[\"slab_id\"] = slab_id_i\n",
    "    data_dict_i[\"ads\"] = \"o\"\n",
    "    data_dict_i[\"active_site\"] = active_site_i\n",
    "    data_dict_i[\"att_num\"] = att_num_i\n",
    "    data_dict_i[\"g_o\"] = g_o_i\n",
    "    data_dict_i[\"job_id_o\"] = job_id_o_i\n",
    "    data_dict_i[\"active_site\"] = active_site_i\n",
    "    # #####################################################\n",
    "    data_dict_list.append(data_dict_i)\n",
    "    # #####################################################\n",
    "\n",
    "# #########################################################\n",
    "df = pd.DataFrame(data_dict_list)\n",
    "df = df.dropna()\n",
    "df = df.set_index([\"compenv\", \"slab_id\", \"ads\", \"active_site\", \"att_num\"], drop=False)"
   ]
  },
  {
   "cell_type": "code",
   "execution_count": null,
   "metadata": {},
   "outputs": [],
   "source": [
    "# compenv\tslab_id\tads\tactive_site\tatt_num\tg_o\tjob_id_o\n",
    "df.iloc[0:1]"
   ]
  },
  {
   "cell_type": "markdown",
   "metadata": {},
   "source": [
    "# Combine features dataframe with adsorption energy"
   ]
  },
  {
   "cell_type": "code",
   "execution_count": null,
   "metadata": {},
   "outputs": [],
   "source": [
    "df_tmp = pd.concat([df, df_features], axis=1)\n",
    "\n",
    "df_tmp = df_tmp.dropna()\n",
    "\n",
    "df_tmp = df_tmp.drop(columns=[\"compenv\", \"slab_id\", \"ads\", \"active_site\", \"att_num\", ])"
   ]
  },
  {
   "cell_type": "code",
   "execution_count": null,
   "metadata": {},
   "outputs": [],
   "source": [
    "assert False"
   ]
  },
  {
   "cell_type": "code",
   "execution_count": null,
   "metadata": {},
   "outputs": [],
   "source": [
    "for feature_i in feature_cols:\n",
    "    mean_val = df_tmp[feature_i].mean()\n",
    "\n",
    "    std_val = df_tmp[feature_i].std()\n",
    "\n",
    "    df_tmp[feature_i + \"_stan\"] = (df_tmp[feature_i] - mean_val) / std_val"
   ]
  },
  {
   "cell_type": "code",
   "execution_count": null,
   "metadata": {},
   "outputs": [],
   "source": [
    "# for name_i, row_i in df_tmp.iterrows():\n",
    "\n",
    "#     # #########################################################\n",
    "#     compenv_i = name_i[0]\n",
    "#     slab_id_i = name_i[1]\n",
    "#     ads_i = name_i[2]\n",
    "#     active_site_i = name_i[3]\n",
    "#     att_num_i = name_i[4]\n",
    "#     # #########################################################\n",
    "\n",
    "#     job_id_o_i = row_i.job_id_o\n",
    "\n",
    "#     name_i = job_id_o_i + \"__\" + str(int(active_site_i)).zfill(3)"
   ]
  },
  {
   "cell_type": "code",
   "execution_count": null,
   "metadata": {},
   "outputs": [],
   "source": [
    "def method(row_i):\n",
    "    # #########################################################\n",
    "    name_i = row_i.name\n",
    "    # #########################################################\n",
    "    compenv_i = name_i[0]\n",
    "    slab_id_i = name_i[1]\n",
    "    ads_i = name_i[2]\n",
    "    active_site_i = name_i[3]\n",
    "    att_num_i = name_i[4]\n",
    "    # #########################################################\n",
    "    \n",
    "    job_id_o_i = row_i.job_id_o\n",
    "\n",
    "    name_i = job_id_o_i + \"__\" + str(int(active_site_i)).zfill(3)\n",
    "    \n",
    "    return(name_i)\n",
    "\n",
    "# df_i = df_tmp\n",
    "df_tmp[\"name_str\"] = df_tmp.apply(\n",
    "    method,\n",
    "    axis=1)\n",
    "# df_tmp = df_i"
   ]
  },
  {
   "cell_type": "code",
   "execution_count": null,
   "metadata": {},
   "outputs": [],
   "source": [
    "feature_cols_stan = [i + \"_stan\" for i in feature_cols]\n",
    "feature_cols_stan"
   ]
  },
  {
   "cell_type": "code",
   "execution_count": null,
   "metadata": {},
   "outputs": [],
   "source": [
    "# X = df_tmp[feature_cols].to_numpy().reshape(-1, len(feature_cols))\n",
    "X = df_tmp[feature_cols_stan].to_numpy().reshape(-1, len(feature_cols))\n",
    "y = df_tmp.g_o\n",
    "\n",
    "model = LinearRegression()\n",
    "model.fit(X, y)\n",
    "\n",
    "y_predict = model.predict(X)"
   ]
  },
  {
   "cell_type": "markdown",
   "metadata": {},
   "source": [
    "# Plotting"
   ]
  },
  {
   "cell_type": "code",
   "execution_count": null,
   "metadata": {},
   "outputs": [],
   "source": [
    "data = []"
   ]
  },
  {
   "cell_type": "code",
   "execution_count": null,
   "metadata": {},
   "outputs": [],
   "source": [
    "# x_parity = y_parity = np.linspace(0, 5.5, num=100, )\n",
    "x_parity = y_parity = np.linspace(0., 8., num=100, )\n",
    "\n",
    "trace_i = go.Scatter(\n",
    "    x=x_parity,\n",
    "    y=y_parity,\n",
    "    line=go.scatter.Line(color=\"black\", width=2.),\n",
    "    mode=\"lines\")\n",
    "data.append(trace_i)"
   ]
  },
  {
   "cell_type": "code",
   "execution_count": null,
   "metadata": {},
   "outputs": [],
   "source": [
    "trace_i = go.Scatter(\n",
    "    y=y,\n",
    "    x=y_predict,\n",
    "    mode=\"markers\",\n",
    "    marker=go.scatter.Marker(\n",
    "        size=12,\n",
    "        ),\n",
    "    # mode=\"markers+text\",\n",
    "    # name=\"Markers and Text\",\n",
    "    text=df_tmp.name_str,\n",
    "    textposition=\"bottom center\",\n",
    "    )\n",
    "data.append(trace_i)"
   ]
  },
  {
   "cell_type": "code",
   "execution_count": null,
   "metadata": {},
   "outputs": [],
   "source": [
    "# go.Scatter?\n",
    "\n",
    "# plotly.graph_objects.scatter.Marker\n",
    "# go.scatter.Marker?"
   ]
  },
  {
   "cell_type": "code",
   "execution_count": null,
   "metadata": {},
   "outputs": [],
   "source": [
    "layout.xaxis.title.text = \"Predicted ΔG<sub>*O</sub>\"\n",
    "\n",
    "layout.yaxis.title.text = \"Simulated ΔG<sub>*O</sub>\"\n",
    "\n",
    "\n",
    "layout.xaxis.title.font.size = 25\n",
    "layout.yaxis.title.font.size = 25\n",
    "\n",
    "layout.yaxis.tickfont.size = 20\n",
    "layout.xaxis.tickfont.size = 20\n",
    "\n",
    "layout.xaxis.range = [2.5, 5.5]\n",
    "\n",
    "layout.showlegend = False\n",
    "\n",
    "# layout.xaxis.scaleanchor = \"y\"\n",
    "\n",
    "# go.layout.XAxis?"
   ]
  },
  {
   "cell_type": "code",
   "execution_count": null,
   "metadata": {},
   "outputs": [],
   "source": [
    "dd = 0.2\n",
    "layout.xaxis.range = [\n",
    "    np.min(y_predict) - dd,\n",
    "    np.max(y_predict) + dd,\n",
    "    ]\n",
    "\n",
    "\n",
    "layout.yaxis.range = [\n",
    "    np.min(y) - dd,\n",
    "    np.max(y) + dd,\n",
    "    ]"
   ]
  },
  {
   "cell_type": "code",
   "execution_count": null,
   "metadata": {},
   "outputs": [],
   "source": [
    "# np.min(y)\n",
    "# np.max(y)"
   ]
  },
  {
   "cell_type": "code",
   "execution_count": null,
   "metadata": {},
   "outputs": [],
   "source": [
    "fig = go.Figure(data=data, layout=layout)\n",
    "\n",
    "from plotting.my_plotly import my_plotly_plot\n",
    "\n",
    "my_plotly_plot(\n",
    "    figure=fig,\n",
    "    plot_name=\"parity_plot\",\n",
    "    write_html=True)\n",
    "\n",
    "fig.show()"
   ]
  },
  {
   "cell_type": "code",
   "execution_count": null,
   "metadata": {},
   "outputs": [],
   "source": [
    "print(\"model.score(X, y):\", model.score(X, y))\n",
    "print(\"\")\n",
    "\n",
    "# print(feature_cols)\n",
    "# print(model.coef_)\n",
    "\n",
    "for i, j in zip(feature_cols, model.coef_):\n",
    "    print(i, \": \", j, sep=\"\")"
   ]
  },
  {
   "cell_type": "code",
   "execution_count": null,
   "metadata": {},
   "outputs": [],
   "source": [
    "fragments = [\n",
    "    \"faw\",\n",
    "    ]\n",
    "\n",
    "for name_i, row_i in df_tmp.iterrows():\n",
    "    # tmp = 42\n",
    "    name_str_i = row_i.name_str\n",
    "    for frag_i in fragments:\n",
    "\n",
    "        if frag_i in name_str_i:\n",
    "            print(name_str_i)\n",
    "            # print(\"IYUIHUuids\")\n",
    "\n",
    "# name_str_i"
   ]
  },
  {
   "cell_type": "code",
   "execution_count": null,
   "metadata": {},
   "outputs": [],
   "source": []
  }
 ],
 "metadata": {
  "jupytext": {
   "formats": "ipynb,py:light"
  },
  "kernelspec": {
   "display_name": "Python [conda env:PROJ_irox_oer] *",
   "language": "python",
   "name": "conda-env-PROJ_irox_oer-py"
  },
  "language_info": {
   "codemirror_mode": {
    "name": "ipython",
    "version": 3
   },
   "file_extension": ".py",
   "mimetype": "text/x-python",
   "name": "python",
   "nbconvert_exporter": "python",
   "pygments_lexer": "ipython3",
   "version": "3.6.11"
  }
 },
 "nbformat": 4,
 "nbformat_minor": 4
}
