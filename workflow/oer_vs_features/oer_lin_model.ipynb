{
 "cells": [
  {
   "cell_type": "markdown",
   "metadata": {},
   "source": [
    "# Constructing linear model for OER adsorption energies\n",
    "---\n"
   ],
   "execution_count": null,
   "outputs": []
  },
  {
   "cell_type": "markdown",
   "metadata": {},
   "source": [
    "### Import Modules"
   ],
   "execution_count": null,
   "outputs": []
  },
  {
   "cell_type": "code",
   "execution_count": null,
   "metadata": {},
   "outputs": [],
   "source": [
    "import os\n",
    "print(os.getcwd())\n",
    "import sys\n",
    "import time; ti = time.time()\n",
    "\n",
    "import copy\n",
    "\n",
    "import numpy as np\n",
    "import pandas as pd\n",
    "pd.set_option(\"display.max_columns\", None)\n",
    "# pd.set_option('display.max_rows', None)\n",
    "# pd.options.display.max_colwidth = 100\n",
    "\n",
    "# #########################################################\n",
    "from layout import layout\n",
    "\n",
    "# #########################################################\n",
    "from local_methods import create_linear_model_plot\n",
    "from local_methods import isolate_target_col"
   ]
  },
  {
   "cell_type": "code",
   "execution_count": null,
   "metadata": {},
   "outputs": [],
   "source": [
    "from methods import isnotebook    \n",
    "isnotebook_i = isnotebook()\n",
    "if isnotebook_i:\n",
    "    from tqdm.notebook import tqdm\n",
    "    verbose = True\n",
    "    show_plot = True\n",
    "else:\n",
    "    from tqdm import tqdm\n",
    "    verbose = False\n",
    "    show_plot = False"
   ]
  },
  {
   "cell_type": "markdown",
   "metadata": {},
   "source": [
    "### Read Data"
   ],
   "execution_count": null,
   "outputs": []
  },
  {
   "cell_type": "code",
   "execution_count": null,
   "metadata": {},
   "outputs": [],
   "source": [
    "from methods import get_df_features_targets\n",
    "df_features_targets = get_df_features_targets()\n",
    "\n",
    "from methods import get_df_slab\n",
    "df_slab = get_df_slab()\n",
    "\n",
    "# #########################################################\n",
    "df_i = df_features_targets\n",
    "\n",
    "# Getting phase > 1 slab ids\n",
    "df_slab_i = df_slab[df_slab.phase > 1]\n",
    "phase_2_slab_ids = df_slab_i.slab_id.tolist()"
   ]
  },
  {
   "cell_type": "code",
   "execution_count": null,
   "metadata": {},
   "outputs": [],
   "source": [
    "print(\n",
    "    \"Number of rows in df_features_targets:\",\n",
    "    df_i.shape[0],\n",
    "    )\n",
    "\n",
    "# 150"
   ]
  },
  {
   "cell_type": "markdown",
   "metadata": {},
   "source": [
    "# Dropping phase 1 slabs"
   ],
   "execution_count": null,
   "outputs": []
  },
  {
   "cell_type": "code",
   "execution_count": null,
   "metadata": {},
   "outputs": [],
   "source": [
    "df_index = df_i.index.to_frame()\n",
    "df_index_i = df_index[\n",
    "    df_index.slab_id.isin(phase_2_slab_ids)\n",
    "    ]\n",
    "\n",
    "print(\"Dropping phase 1 slabs\")\n",
    "df_i = df_i.loc[\n",
    "    df_index_i.index\n",
    "    ]"
   ]
  },
  {
   "cell_type": "code",
   "execution_count": null,
   "metadata": {},
   "outputs": [],
   "source": [
    "# Keeping track of shape, dropping phase 1 points\n",
    "# 95\n",
    "# 118\n",
    "# 126\n",
    "# 132\n",
    "# 163\n",
    "# 176\n",
    "# 183\n",
    "# 199\n",
    "# 214\n",
    "# 233\n",
    "# 254\n",
    "# 267\n",
    "# 280\n",
    "# 300\n",
    "\n",
    "df_i.shape"
   ]
  },
  {
   "cell_type": "code",
   "execution_count": null,
   "metadata": {},
   "outputs": [],
   "source": [
    "from proj_data import layout_shared\n",
    "\n",
    "layout_master = layout_shared.update(layout)"
   ]
  },
  {
   "cell_type": "markdown",
   "metadata": {},
   "source": [
    "# -------------------------"
   ],
   "execution_count": null,
   "outputs": []
  },
  {
   "cell_type": "markdown",
   "metadata": {},
   "source": [
    "# All single feature models"
   ],
   "execution_count": null,
   "outputs": []
  },
  {
   "cell_type": "markdown",
   "metadata": {},
   "source": [
    "## G_O models"
   ],
   "execution_count": null,
   "outputs": []
  },
  {
   "cell_type": "code",
   "execution_count": null,
   "metadata": {},
   "outputs": [],
   "source": [
    "ads_i = \"o\"\n",
    "feature_ads_i = \"oh\"\n",
    "\n",
    "# if True:\n",
    "#     feature_col_i = \"active_o_metal_dist\"\n",
    "\n",
    "# if True:\n",
    "if False:\n",
    "    print(\n",
    "        list(df_i[\"features_stan\"][ads_i].columns)\n",
    "        )\n",
    "\n",
    "\n",
    "    for feature_col_i in df_i[\"features_stan\"][ads_i].columns:\n",
    "        print(40 * \"=\")\n",
    "        print(feature_col_i)\n",
    "        print(\"\")\n",
    "\n",
    "        df_j = isolate_target_col(\n",
    "            df_i,\n",
    "            target_col=\"g_o\",\n",
    "            )\n",
    "\n",
    "        out_dict = create_linear_model_plot(\n",
    "            df=df_j,\n",
    "            feature_columns=[feature_col_i, ],\n",
    "            ads=ads_i,\n",
    "            feature_ads=feature_ads_i,\n",
    "            layout=layout_master,\n",
    "            verbose=verbose,\n",
    "            )\n",
    "        fig = out_dict[\"fig\"]\n",
    "        fig.show()"
   ]
  },
  {
   "cell_type": "markdown",
   "metadata": {},
   "source": [
    "## G_OH models"
   ],
   "execution_count": null,
   "outputs": []
  },
  {
   "cell_type": "code",
   "execution_count": null,
   "metadata": {},
   "outputs": [],
   "source": [
    "ads_i = \"oh\"\n",
    "feature_ads_i = \"o\"\n",
    "\n",
    "# if True:\n",
    "if False:\n",
    "\n",
    "    # for feature_col_i in df_i.features_stan.columns:\n",
    "    for feature_col_i in df_i[\"features_stan\"][ads_i].columns:\n",
    "\n",
    "        print(40 * \"=\")\n",
    "        print(feature_col_i)\n",
    "        print(\"\")\n",
    "\n",
    "        df_j = isolate_target_col(\n",
    "            df_i,\n",
    "            target_col=\"g_\" + ads_i,\n",
    "            )\n",
    "\n",
    "        out_dict = create_linear_model_plot(\n",
    "            df=df_j,\n",
    "            feature_columns=[feature_col_i, ],\n",
    "            ads=ads_i,\n",
    "            feature_ads=feature_ads_i,\n",
    "            layout=layout_master,\n",
    "            verbose=verbose,\n",
    "            )\n",
    "        fig = out_dict[\"fig\"]\n",
    "        fig.show()"
   ]
  },
  {
   "cell_type": "raw",
   "metadata": {},
   "source": [
    "\n",
    "\n",
    "\n"
   ],
   "execution_count": null,
   "outputs": []
  },
  {
   "cell_type": "markdown",
   "metadata": {},
   "source": [
    "# -------------------------"
   ],
   "execution_count": null,
   "outputs": []
  },
  {
   "cell_type": "markdown",
   "metadata": {},
   "source": [
    "# G_O Model"
   ],
   "execution_count": null,
   "outputs": []
  },
  {
   "cell_type": "code",
   "execution_count": null,
   "metadata": {
    "lines_to_next_cell": 0
   },
   "outputs": [],
   "source": [
    "ads_i = \"o\"\n",
    "feature_ads_i = \"oh\"\n",
    "\n",
    "df_j = isolate_target_col(\n",
    "    df_i,\n",
    "    target_col=\"g_o\",\n",
    "    )\n",
    "\n",
    "feature_cols_all = list(df_j[\"features_stan\"][ads_i].columns)\n",
    "\n",
    "format_dict_i = {\n",
    "    \"color\": \"stoich\",\n",
    "    }\n",
    "\n",
    "out_dict = create_linear_model_plot(\n",
    "    df=df_j,\n",
    "    layout=layout_master,\n",
    "    ads=ads_i,\n",
    "    feature_ads=feature_ads_i,\n",
    "    format_dict=format_dict_i,\n",
    "\n",
    "    # feature_columns=[\"eff_oxid_state\", \"octa_vol\", \"dH_bulk\", ],\n",
    "    # feature_columns=[\"eff_oxid_state\", \"octa_vol\", \"dH_bulk\", \"bulk_oxid_state\", ],\n",
    "    feature_columns=feature_cols_all,\n",
    "    verbose=verbose,\n",
    "    )\n",
    "\n",
    "fig = out_dict[\"fig\"]\n",
    "\n",
    "fig.write_json(\n",
    "    os.path.join(\n",
    "        os.environ[\"PROJ_irox_oer\"],\n",
    "        \"workflow/oer_vs_features\",\n",
    "        \"out_plot/oer_lin_model__G_O_plot.json\"))"
   ]
  },
  {
   "cell_type": "code",
   "execution_count": null,
   "metadata": {},
   "outputs": [],
   "source": [
    "if show_plot:\n",
    "    fig.show()"
   ]
  },
  {
   "cell_type": "raw",
   "metadata": {},
   "source": [
    "\n",
    "\n",
    "\n"
   ],
   "execution_count": null,
   "outputs": []
  },
  {
   "cell_type": "markdown",
   "metadata": {},
   "source": [
    "# G_OH Model"
   ],
   "execution_count": null,
   "outputs": []
  },
  {
   "cell_type": "code",
   "execution_count": null,
   "metadata": {},
   "outputs": [],
   "source": [
    "ads_i = \"oh\"\n",
    "feature_ads_i = \"oh\"\n",
    "\n",
    "df_j = isolate_target_col(\n",
    "    df_i,\n",
    "    target_col=\"g_oh\",\n",
    "    )\n",
    "\n",
    "feature_cols_all = list(df_j[\"features_stan\"][ads_i].columns)\n",
    "\n",
    "out_dict = create_linear_model_plot(\n",
    "    df=df_j,\n",
    "    layout=layout_master,\n",
    "    feature_ads=feature_ads_i,\n",
    "    ads=ads_i,\n",
    "    format_dict=format_dict_i,\n",
    "\n",
    "    # feature_columns=[\"eff_oxid_state\", \"octa_vol\", \"dH_bulk\", ],\n",
    "    # feature_columns=[\"eff_oxid_state\", \"octa_vol\", \"dH_bulk\", \"bulk_oxid_state\", ],\n",
    "    # feature_columns=[\"eff_oxid_state\", \"octa_vol\", \"dH_bulk\", \"bulk_oxid_state\", \"ir_o_mean\", ],\n",
    "    feature_columns=feature_cols_all,\n",
    "    verbose=verbose,\n",
    "    )\n",
    "fig = out_dict[\"fig\"]\n",
    "\n",
    "fig.write_json(\n",
    "    os.path.join(\n",
    "        os.environ[\"PROJ_irox_oer\"],\n",
    "        \"workflow/oer_vs_features\",\n",
    "        \"out_plot/oer_lin_model__G_OH_plot.json\"))"
   ]
  },
  {
   "cell_type": "code",
   "execution_count": null,
   "metadata": {},
   "outputs": [],
   "source": [
    "if show_plot:\n",
    "    fig.show()"
   ]
  },
  {
   "cell_type": "raw",
   "metadata": {},
   "source": [
    "\n",
    "\n"
   ],
   "execution_count": null,
   "outputs": []
  },
  {
   "cell_type": "markdown",
   "metadata": {},
   "source": [
    "### Get index off of graph with str frag"
   ],
   "execution_count": null,
   "outputs": []
  },
  {
   "cell_type": "code",
   "execution_count": null,
   "metadata": {},
   "outputs": [],
   "source": [
    "df_ind = df_features_targets.index.to_frame()\n",
    "\n",
    "# frag_i = \"walogu\"\n",
    "# frag_i = \"kese\"\n",
    "frag_i = \"vota\"\n",
    "for index_i, row_i in df_ind.iterrows():\n",
    "    tmp = 42\n",
    "    name_i = row_i.compenv + \"__\" + row_i.slab_id\n",
    "    if frag_i in name_i:\n",
    "        print(index_i)"
   ]
  },
  {
   "cell_type": "code",
   "execution_count": null,
   "metadata": {},
   "outputs": [],
   "source": [
    "# #########################################################\n",
    "print(20 * \"# # \")\n",
    "print(\"All done!\")\n",
    "print(\"Run time:\", np.round((time.time() - ti) / 60, 3), \"min\")\n",
    "print(\"oer_lin_model.ipynb\")\n",
    "print(20 * \"# # \")\n",
    "# #########################################################"
   ]
  },
  {
   "cell_type": "raw",
   "metadata": {},
   "source": [
    "\n",
    "\n"
   ],
   "execution_count": null,
   "outputs": []
  },
  {
   "cell_type": "code",
   "execution_count": null,
   "metadata": {
    "jupyter": {}
   },
   "outputs": [],
   "source": [
    "# color__stoich"
   ]
  },
  {
   "cell_type": "code",
   "execution_count": null,
   "metadata": {
    "jupyter": {}
   },
   "outputs": [],
   "source": [
    "# # stoich_i\n",
    "\n",
    "# #     stoich_i = \n",
    "# row_data_i[\"stoich\"][\"\"]\n",
    "# "
   ]
  },
  {
   "cell_type": "code",
   "execution_count": null,
   "metadata": {
    "jupyter": {}
   },
   "outputs": [],
   "source": [
    "# row_data_i"
   ]
  },
  {
   "cell_type": "code",
   "execution_count": null,
   "metadata": {
    "jupyter": {}
   },
   "outputs": [],
   "source": [
    "# from proj_data import stoich_color_dict\n",
    "\n",
    "# # #########################################################\n",
    "# data_dict_list = []\n",
    "# # #########################################################\n",
    "# for index_i, row_i in df_features_targets.iterrows():\n",
    "#     # #####################################################\n",
    "#     data_dict_i = dict()\n",
    "#     # #####################################################\n",
    "#     index_dict_i = dict(zip(list(df_features_targets.index.names), index_i))\n",
    "#     # #####################################################\n",
    "#     row_data_i = row_i[\"data\"]\n",
    "#     # #####################################################\n",
    "#     stoich_i = row_data_i[\"stoich\"][\"\"]\n",
    "#     norm_sum_norm_abs_magmom_diff_i = \\\n",
    "#         row_data_i[\"norm_sum_norm_abs_magmom_diff\"][\"\"]\n",
    "#     # #####################################################\n",
    "\n",
    "#     if stoich_i == \"AB2\":\n",
    "#         color__stoich_i = stoich_color_dict[\"AB2\"]\n",
    "#     elif stoich_i == \"AB3\":\n",
    "#         color__stoich_i = stoich_color_dict[\"AB3\"]\n",
    "#     else:\n",
    "#         color__stoich_i = stoich_color_dict[\"None\"]\n",
    "\n",
    "\n",
    "\n",
    "#     # #####################################################\n",
    "#     data_dict_i[\"color__stoich\"] = color__stoich_i\n",
    "#     data_dict_i[\"color__norm_sum_norm_abs_magmom_diff_i\"] = \\\n",
    "#         norm_sum_norm_abs_magmom_diff_i\n",
    "#     # #####################################################\n",
    "#     data_dict_i.update(index_dict_i)\n",
    "#     # #####################################################\n",
    "#     data_dict_list.append(data_dict_i)\n",
    "#     # #####################################################\n",
    "\n",
    "\n",
    "# # #########################################################\n",
    "# df_format = pd.DataFrame(data_dict_list)\n",
    "# # #########################################################\n",
    "\n",
    "# df_format"
   ]
  },
  {
   "cell_type": "code",
   "execution_count": null,
   "metadata": {
    "jupyter": {}
   },
   "outputs": [],
   "source": [
    "# Script Inputs\n",
    "\n",
    "# verbose = True\n",
    "# verbose = False"
   ]
  },
  {
   "cell_type": "code",
   "execution_count": null,
   "metadata": {
    "jupyter": {}
   },
   "outputs": [],
   "source": [
    "# df_slab[df_slab[\"slab_id\"] == \"batipoha_75\"]\n",
    "\n",
    "# df_slab[df_slab[\"slab_id\"] == \"bidoripi_03\"]\n",
    "\n",
    "# df_slab[df_slab[\"slab_id\"] == \"mj7wbfb5nt\"]\n",
    "\n",
    "# \"mj7wbfb5nt\" in df_slab[\"slab_id\"].tolist()\n",
    "# \"mj7wbfb5nt\" in df_slab[\"bulk_id\"].tolist()"
   ]
  }
 ],
 "metadata": {
  "jupytext": {
   "encoding": "# -*- coding: utf-8 -*-",
   "formats": "ipynb,py:light"
  },
  "kernelspec": {
   "display_name": "Python [conda env:PROJ_irox_oer] *",
   "language": "python",
   "name": "conda-env-PROJ_irox_oer-py"
  },
  "language_info": {
   "codemirror_mode": {
    "name": "ipython",
    "version": 3
   },
   "file_extension": ".py",
   "mimetype": "text/x-python",
   "name": "python",
   "nbconvert_exporter": "python",
   "pygments_lexer": "ipython3",
   "version": "3.6.10"
  },
  "toc-autonumbering": false,
  "toc-showcode": false
 },
 "nbformat": 4,
 "nbformat_minor": 4
}
