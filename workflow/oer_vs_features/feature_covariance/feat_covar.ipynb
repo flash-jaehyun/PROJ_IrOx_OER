{
 "cells": [
  {
   "cell_type": "markdown",
   "metadata": {},
   "source": [
    "# TEMP\n",
    "---\n"
   ],
   "execution_count": null,
   "outputs": []
  },
  {
   "cell_type": "markdown",
   "metadata": {},
   "source": [
    "# Import Modules"
   ],
   "execution_count": null,
   "outputs": []
  },
  {
   "cell_type": "code",
   "execution_count": null,
   "metadata": {},
   "outputs": [],
   "source": [
    "import os\n",
    "print(os.getcwd())\n",
    "import sys\n",
    "\n",
    "import copy\n",
    "\n",
    "import numpy as np\n",
    "import pandas as pd\n",
    "# pd.set_option(\"display.max_columns\", None)\n",
    "# pd.set_option('display.max_rows', None)\n",
    "# pd.options.display.max_colwidth = 100\n",
    "\n",
    "import plotly.express as px\n",
    "\n",
    "from sklearn.linear_model import LinearRegression"
   ]
  },
  {
   "cell_type": "markdown",
   "metadata": {},
   "source": [
    "# Script Inputs"
   ],
   "execution_count": null,
   "outputs": []
  },
  {
   "cell_type": "code",
   "execution_count": null,
   "metadata": {},
   "outputs": [],
   "source": [
    "# target_ads = \"o\"\n",
    "target_ads = \"oh\"\n",
    "\n",
    "verbose = True\n",
    "# verbose = False"
   ]
  },
  {
   "cell_type": "markdown",
   "metadata": {},
   "source": [
    "# Read Data"
   ],
   "execution_count": null,
   "outputs": []
  },
  {
   "cell_type": "code",
   "execution_count": null,
   "metadata": {},
   "outputs": [],
   "source": [
    "from methods import get_df_features_targets\n",
    "df_features_targets = get_df_features_targets()\n",
    "df_i = df_features_targets\n",
    "\n",
    "from methods import get_df_slab\n",
    "df_slab = get_df_slab()\n",
    "\n",
    "# Getting phase > 1 slab ids\n",
    "df_slab_i = df_slab[df_slab.phase > 1]\n",
    "phase_2_slab_ids = df_slab_i.slab_id.tolist()"
   ]
  },
  {
   "cell_type": "markdown",
   "metadata": {},
   "source": [
    "### Processing dataframe"
   ],
   "execution_count": null,
   "outputs": []
  },
  {
   "cell_type": "code",
   "execution_count": null,
   "metadata": {},
   "outputs": [],
   "source": [
    "if target_ads == \"o\":\n",
    "    other_ads = \"oh\"\n",
    "elif target_ads == \"oh\":\n",
    "    other_ads = \"o\"\n",
    "\n",
    "df_i = df_i.drop(\"features_stan\", axis=1, level=0)\n",
    "\n",
    "df_i = df_i.drop(other_ads, axis=1, level=1)"
   ]
  },
  {
   "cell_type": "markdown",
   "metadata": {},
   "source": [
    "### Dropping phase 1 slabs"
   ],
   "execution_count": null,
   "outputs": []
  },
  {
   "cell_type": "code",
   "execution_count": null,
   "metadata": {},
   "outputs": [],
   "source": [
    "df_index = df_i.index.to_frame()\n",
    "df_index_i = df_index[\n",
    "    df_index.slab_id.isin(phase_2_slab_ids)\n",
    "    ]\n",
    "\n",
    "print(\"Dropping phase 1 slabs\")\n",
    "df_i = df_i.loc[\n",
    "    df_index_i.index\n",
    "    ]"
   ]
  },
  {
   "cell_type": "code",
   "execution_count": null,
   "metadata": {},
   "outputs": [],
   "source": [
    "df_feat = df_i[\"features\"][target_ads]"
   ]
  },
  {
   "cell_type": "markdown",
   "metadata": {},
   "source": [
    "### Standardize columns"
   ],
   "execution_count": null,
   "outputs": []
  },
  {
   "cell_type": "code",
   "execution_count": null,
   "metadata": {},
   "outputs": [],
   "source": [
    "df_features = df_feat\n",
    "\n",
    "df_features_stan = copy.deepcopy(df_features)\n",
    "for col_i in df_features_stan.columns:\n",
    "    max_val = df_features_stan[col_i].max()\n",
    "    mean_val = df_features_stan[col_i].mean()\n",
    "    std_val = df_features_stan[col_i].std()\n",
    "    df_features_stan[col_i] = (df_features_stan[col_i]) / max_val\n",
    "df_feat_stan = df_features_stan"
   ]
  },
  {
   "cell_type": "raw",
   "metadata": {},
   "source": [
    "\n",
    "\n"
   ],
   "execution_count": null,
   "outputs": []
  },
  {
   "cell_type": "code",
   "execution_count": null,
   "metadata": {},
   "outputs": [],
   "source": [
    "df = df_feat_stan.cov()\n",
    "\n",
    "fig = px.imshow(df,\n",
    "    x=df.columns, y=df.columns,\n",
    "    )\n",
    "fig.show()"
   ]
  },
  {
   "cell_type": "raw",
   "metadata": {},
   "source": [
    "\n",
    "\n"
   ],
   "execution_count": null,
   "outputs": []
  },
  {
   "cell_type": "code",
   "execution_count": null,
   "metadata": {
    "jupyter": {}
   },
   "outputs": [],
   "source": [
    "# df_cov = df_feat_stan.cov()\n",
    "\n",
    "# new_cols = []\n",
    "# for i_cnt, col_i in enumerate(df_cov.columns):\n",
    "#     col_new_i = (i_cnt, col_i)\n",
    "#     new_cols.append(col_new_i)\n",
    "\n",
    "# new_cols\n",
    "\n",
    "# idx = pd.MultiIndex.from_tuples(new_cols)\n",
    "# df_cov.columns = idx\n",
    "\n",
    "# df_cov.index = idx\n",
    "# df_cov"
   ]
  },
  {
   "cell_type": "code",
   "execution_count": null,
   "metadata": {
    "jupyter": {}
   },
   "outputs": [],
   "source": [
    "# df_feat_stan.cov"
   ]
  },
  {
   "cell_type": "code",
   "execution_count": null,
   "metadata": {
    "jupyter": {}
   },
   "outputs": [],
   "source": [
    "# # df.index.set_names(\"tmp\",)\n",
    "# # df.index.set_names?\n",
    "# df.index.name = \"inkd\""
   ]
  },
  {
   "cell_type": "code",
   "execution_count": null,
   "metadata": {
    "jupyter": {}
   },
   "outputs": [],
   "source": [
    "# df.columns.name = \"cols\""
   ]
  },
  {
   "cell_type": "code",
   "execution_count": null,
   "metadata": {
    "jupyter": {}
   },
   "outputs": [],
   "source": [
    "# df"
   ]
  },
  {
   "cell_type": "code",
   "execution_count": null,
   "metadata": {
    "jupyter": {}
   },
   "outputs": [],
   "source": [
    "# df = px.data.medals_wide(indexed=True)\n",
    "# df"
   ]
  }
 ],
 "metadata": {
  "jupytext": {
   "formats": "ipynb,py:light"
  },
  "kernelspec": {
   "display_name": "Python [conda env:PROJ_irox_oer] *",
   "language": "python",
   "name": "conda-env-PROJ_irox_oer-py"
  },
  "language_info": {
   "codemirror_mode": {
    "name": "ipython",
    "version": 3
   },
   "file_extension": ".py",
   "mimetype": "text/x-python",
   "name": "python",
   "nbconvert_exporter": "python",
   "pygments_lexer": "ipython3",
   "version": "3.6.11"
  }
 },
 "nbformat": 4,
 "nbformat_minor": 4
}
