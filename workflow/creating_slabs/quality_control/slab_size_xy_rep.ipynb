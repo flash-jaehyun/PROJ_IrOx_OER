{
 "cells": [
  {
   "cell_type": "markdown",
   "metadata": {},
   "source": [
    "# Writing slabs that ended up with too many atoms to file (before and afte xy-repitition)\n",
    "---"
   ]
  },
  {
   "cell_type": "markdown",
   "metadata": {},
   "source": [
    "# Import Modules"
   ]
  },
  {
   "cell_type": "code",
   "execution_count": 7,
   "metadata": {},
   "outputs": [
    {
     "name": "stdout",
     "output_type": "stream",
     "text": [
      "/home/raulf2012/Dropbox/01_norskov/00_git_repos/PROJ_IrOx_OER/workflow/creating_slabs/quality_control\n"
     ]
    }
   ],
   "source": [
    "import os\n",
    "print(os.getcwd())\n",
    "import sys\n",
    "\n",
    "import numpy as np\n",
    "\n",
    "from methods import get_df_slab"
   ]
  },
  {
   "cell_type": "code",
   "execution_count": 5,
   "metadata": {},
   "outputs": [],
   "source": [
    "slab_ids = [\n",
    "    'lagubapi_05',\n",
    "    'bipigode_78',\n",
    "    'paritile_76',\n",
    "    'gowitepe_67',\n",
    "    'gekawore_16',\n",
    "    'vapopihe_87',\n",
    "    'kuwurupu_88',\n",
    "    'fodopilu_17',\n",
    "    'dawakuvo_55',\n",
    "    'wihuwone_95',\n",
    "    'taparogo_67',\n",
    "    'lufinanu_76',\n",
    "    'helisogi_82',\n",
    "    'gerokede_95',\n",
    "    'vugupopo_89',\n",
    "    'viholaba_21',\n",
    "    'runopeno_56',\n",
    "    'sosewedu_22',\n",
    "    ]"
   ]
  },
  {
   "cell_type": "code",
   "execution_count": 6,
   "metadata": {},
   "outputs": [],
   "source": [
    "df_slab_0 = get_df_slab(mode=\"almost-final\")\n",
    "df_slab_1 = get_df_slab(mode=\"final\")\n",
    "# df_slab_1 =  df_slab\n",
    "\n",
    "df_slab_0.loc[\n",
    "    slab_ids\n",
    "    ]\n",
    "\n",
    "for slab_id_i in slab_ids:\n",
    "\n",
    "    row_1 = df_slab_1.loc[slab_id_i]\n",
    "    row_0 = df_slab_0.loc[slab_id_i]\n",
    "\n",
    "    slab_final_1 = row_1.slab_final\n",
    "    slab_final_0 = row_0.slab_final\n",
    "\n",
    "    cell = slab_final_0.cell.array\n",
    "    x_mag_0 = np.linalg.norm(cell[0])\n",
    "    y_mag_0 = np.linalg.norm(cell[1])\n",
    "\n",
    "    cell = slab_final_1.cell.array\n",
    "    x_mag_1 = np.linalg.norm(cell[0])\n",
    "    y_mag_1 = np.linalg.norm(cell[1])\n",
    "\n",
    "    x_y_mag_0 = \"_\" + str(np.round(x_mag_0, decimals=1)) + \"_\" + str(np.round(y_mag_0, decimals=1))\n",
    "    x_y_mag_1 = \"_\" + str(np.round(x_mag_1, decimals=1)) + \"_\" + str(np.round(y_mag_1, decimals=1))\n",
    "\n",
    "    num_atoms_0 = slab_final_0.get_global_number_of_atoms()\n",
    "    num_atoms_1 = slab_final_1.get_global_number_of_atoms()\n",
    "\n",
    "    out_dir = \"out_data/comparing_slabs_w_repetition\"\n",
    "    if not os.path.exists(out_dir):\n",
    "        os.makedirs(out_dir)\n",
    "\n",
    "    file_name_pre = slab_id_i + \"_\"\n",
    "\n",
    "    slab_final_0.write(\n",
    "        os.path.join(\n",
    "            out_dir,\n",
    "            file_name_pre + \"0_\" + str(num_atoms_0).zfill(3) + x_y_mag_0 + \".cif\"))\n",
    "            # file_name_pre + \"0_\" + str(num_atoms_0).zfill(3) + str(x_mag_0) + \".cif\"))\n",
    "\n",
    "    slab_final_1.write(\n",
    "        os.path.join(\n",
    "            out_dir,\n",
    "            file_name_pre + \"1_\" + str(num_atoms_1).zfill(3) + x_y_mag_1 + \".cif\"))"
   ]
  },
  {
   "cell_type": "raw",
   "metadata": {},
   "source": [
    "\n",
    "\n"
   ]
  },
  {
   "cell_type": "code",
   "execution_count": 3,
   "metadata": {
    "jupyter": {
     "source_hidden": true
    }
   },
   "outputs": [],
   "source": [
    "# import copy\n",
    "# import shutil\n",
    "# from pathlib import Path\n",
    "# from contextlib import contextmanager\n",
    "\n",
    "# # import pickle; import os\n",
    "\n",
    "# import pickle\n",
    "# import  json\n",
    "\n",
    "# import pandas as pd\n",
    "# import numpy as np\n",
    "\n",
    "# from ase import io\n",
    "\n",
    "# import plotly.graph_objects as go\n",
    "\n",
    "# from pymatgen.io.ase import AseAtomsAdaptor\n",
    "# from pymatgen.analysis import local_env\n",
    "\n",
    "# # #########################################################\n",
    "# from misc_modules.pandas_methods import drop_columns"
   ]
  },
  {
   "cell_type": "code",
   "execution_count": 4,
   "metadata": {
    "jupyter": {
     "source_hidden": true
    }
   },
   "outputs": [],
   "source": [
    "# from IPython.display import display\n",
    "\n",
    "# import pandas as pd\n",
    "# pd.set_option(\"display.max_columns\", None)\n",
    "# pd.options.display.max_colwidth = 20\n",
    "# # pd.set_option('display.max_rows', None)\n",
    "\n",
    "\n",
    "# # #########################################################\n",
    "# from methods import (\n",
    "#     get_df_jobs_paths,\n",
    "#     get_df_dft,\n",
    "#     get_df_job_ids,\n",
    "#     get_df_jobs,\n",
    "#     get_df_jobs_data,\n",
    "#     get_df_slab_ids,\n",
    "#     get_df_jobs_data_clusters,\n",
    "#     get_df_jobs_anal,\n",
    "#     get_df_slabs_oh,\n",
    "#     get_df_init_slabs,\n",
    "#     get_df_magmoms,\n",
    "#     get_df_ads,\n",
    "#     get_df_atoms_sorted_ind,\n",
    "#     get_df_rerun_from_oh,\n",
    "#     get_df_slab_simil,\n",
    "#     )\n",
    "# from methods import (\n",
    "#     get_other_job_ids_in_set,\n",
    "#     read_magmom_comp_data,\n",
    "#     )"
   ]
  }
 ],
 "metadata": {
  "jupytext": {
   "formats": "ipynb,py:light"
  },
  "kernelspec": {
   "display_name": "Python [conda env:PROJ_irox_oer] *",
   "language": "python",
   "name": "conda-env-PROJ_irox_oer-py"
  },
  "language_info": {
   "codemirror_mode": {
    "name": "ipython",
    "version": 3
   },
   "file_extension": ".py",
   "mimetype": "text/x-python",
   "name": "python",
   "nbconvert_exporter": "python",
   "pygments_lexer": "ipython3",
   "version": "3.6.11"
  }
 },
 "nbformat": 4,
 "nbformat_minor": 4
}
