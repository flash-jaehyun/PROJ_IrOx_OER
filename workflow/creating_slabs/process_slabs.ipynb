{
 "cells": [
  {
   "cell_type": "markdown",
   "metadata": {},
   "source": [
    "# Further process slabs created in `create_slabs.ipynb`\n",
    "---\n",
    "\n"
   ]
  },
  {
   "cell_type": "markdown",
   "metadata": {},
   "source": [
    "# Import Modules"
   ]
  },
  {
   "cell_type": "code",
   "execution_count": 1,
   "metadata": {},
   "outputs": [
    {
     "name": "stdout",
     "output_type": "stream",
     "text": [
      "/mnt/f/Dropbox/01_norskov/00_git_repos/PROJ_IrOx_OER/workflow/creating_slabs\n"
     ]
    }
   ],
   "source": [
    "import os\n",
    "print(os.getcwd())\n",
    "import sys\n",
    "\n",
    "import json\n",
    "\n",
    "import pandas as pd\n",
    "\n",
    "from tqdm.notebook import tqdm\n",
    "\n",
    "import time\n",
    "from pathlib import Path\n",
    "import pickle\n",
    "\n",
    "\n",
    "# #########################################################\n",
    "from methods import (\n",
    "    get_df_dft,\n",
    "    # symmetrize_atoms,\n",
    "    # get_structure_coord_df, remove_atoms,\n",
    "    )\n",
    "\n",
    "from local_methods import (\n",
    "    constrain_slab,\n",
    "    resize_z_slab,\n",
    "    )"
   ]
  },
  {
   "cell_type": "markdown",
   "metadata": {},
   "source": [
    "# Read `df_slab` dataframe"
   ]
  },
  {
   "cell_type": "code",
   "execution_count": 2,
   "metadata": {},
   "outputs": [
    {
     "name": "stdout",
     "output_type": "stream",
     "text": [
      "df_slab_old.shape: (432, 5)\n"
     ]
    }
   ],
   "source": [
    "path_i = os.path.join(\"out_data\", \"df_slab.pickle\")\n",
    "if Path(path_i).is_file():\n",
    "    with open(path_i, \"rb\") as fle:\n",
    "        df_slab = pickle.load(fle)\n",
    "        print(\"df_slab_old.shape:\", df_slab.shape)\n",
    "else:\n",
    "    print(\"Oh oh, file should be here\")"
   ]
  },
  {
   "cell_type": "code",
   "execution_count": 3,
   "metadata": {},
   "outputs": [],
   "source": [
    "df_dft = get_df_dft()"
   ]
  },
  {
   "cell_type": "code",
   "execution_count": 4,
   "metadata": {},
   "outputs": [
    {
     "name": "stdout",
     "output_type": "stream",
     "text": [
      "DSKFJKS\n"
     ]
    }
   ],
   "source": [
    "if \"status\" in df_slab.columns:\n",
    "    print(\"DSKFJKS\")\n",
    "    df_slab_1 = df_slab[df_slab.status != \"Took too long\"]\n",
    "else:\n",
    "    print(\"eh\")\n",
    "    df_slab_1 = df_slab"
   ]
  },
  {
   "cell_type": "code",
   "execution_count": 5,
   "metadata": {},
   "outputs": [],
   "source": [
    "# df_slab_1.status.unique()\n",
    "\n",
    "# # df_slab[df_slab.status != \"Took too long\"]\n",
    "\n",
    "# df_slab.columns."
   ]
  },
  {
   "cell_type": "code",
   "execution_count": 6,
   "metadata": {},
   "outputs": [],
   "source": [
    "directory = \"out_data/final_slabs_1\"\n",
    "if not os.path.exists(directory):\n",
    "    os.makedirs(directory)\n",
    "\n",
    "directory = \"out_data/final_slabs_2\"\n",
    "if not os.path.exists(directory):\n",
    "    os.makedirs(directory)\n",
    "\n",
    "directory = \"out_data/bulk_structures_temp\"\n",
    "if not os.path.exists(directory):\n",
    "    os.makedirs(directory)"
   ]
  },
  {
   "cell_type": "code",
   "execution_count": 7,
   "metadata": {},
   "outputs": [
    {
     "data": {
      "application/vnd.jupyter.widget-view+json": {
       "model_id": "dd2faf1518764b41bdb6f506e825eedb",
       "version_major": 2,
       "version_minor": 0
      },
      "text/plain": [
       "HBox(children=(FloatProgress(value=0.0, description='1st loop', max=416.0, style=ProgressStyle(description_wid…"
      ]
     },
     "metadata": {},
     "output_type": "display_data"
    },
    {
     "name": "stdout",
     "output_type": "stream",
     "text": [
      "\n"
     ]
    }
   ],
   "source": [
    "data_dict_list = []\n",
    "iterator = tqdm(df_slab_1.index.tolist(), desc=\"1st loop\")\n",
    "\n",
    "# for i_cnt, row_i in df_slab_1.iterrows():\n",
    "for i_cnt, slab_id_i in enumerate(iterator):\n",
    "    row_i = df_slab_1.loc[slab_id_i]\n",
    "\n",
    "    data_dict_i = dict()\n",
    "    t0 = time.time()\n",
    "\n",
    "    # #####################################################\n",
    "    slab_id = row_i.name\n",
    "    slab = row_i.slab_final\n",
    "    bulk_id_i = row_i.bulk_id\n",
    "    facet_i = row_i.facet\n",
    "    # #####################################################\n",
    "\n",
    "    # slab_constrained = constrain_slab(atoms=slab)\n",
    "    slab_final = resize_z_slab(atoms=slab, vacuum=15)\n",
    "    slab_final.center()\n",
    "    slab_final.wrap()\n",
    "\n",
    "    # #####################################################\n",
    "    data_dict_i[\"slab_id\"] = slab_id\n",
    "    data_dict_i[\"bulk_id\"] = bulk_id_i\n",
    "    data_dict_i[\"facet\"] = facet_i\n",
    "    data_dict_i[\"slab_final\"] = slab_final\n",
    "    # data_dict_i[\"slab_constrained\"] = slab_constrained\n",
    "    data_dict_i[\"loop_time\"] = t0 - time.time()\n",
    "    \n",
    "    # print(data_dict_i[\"loop_time\"])\n",
    "    data_dict_list.append(data_dict_i)\n",
    "    \n",
    "    file_name = row_i.bulk_id + \"__\" + row_i.name + \"__\" + row_i.facet + \".cif\"\n",
    "    slab_final.write(\"out_data/final_slabs_1/\" + file_name)\n",
    "\n",
    "    file_name = row_i.bulk_id + \"__\" + row_i.name + \"__\" + row_i.facet + \".traj\"\n",
    "    slab_final.write(\"out_data/final_slabs_1/\" + file_name)"
   ]
  },
  {
   "cell_type": "code",
   "execution_count": 8,
   "metadata": {},
   "outputs": [
    {
     "data": {
      "text/html": [
       "<div>\n",
       "<style scoped>\n",
       "    .dataframe tbody tr th:only-of-type {\n",
       "        vertical-align: middle;\n",
       "    }\n",
       "\n",
       "    .dataframe tbody tr th {\n",
       "        vertical-align: top;\n",
       "    }\n",
       "\n",
       "    .dataframe thead th {\n",
       "        text-align: right;\n",
       "    }\n",
       "</style>\n",
       "<table border=\"1\" class=\"dataframe\">\n",
       "  <thead>\n",
       "    <tr style=\"text-align: right;\">\n",
       "      <th></th>\n",
       "      <th>slab_id</th>\n",
       "      <th>bulk_id</th>\n",
       "      <th>facet</th>\n",
       "      <th>slab_final</th>\n",
       "      <th>loop_time</th>\n",
       "    </tr>\n",
       "  </thead>\n",
       "  <tbody>\n",
       "    <tr>\n",
       "      <th>0</th>\n",
       "      <td>hirapewu_45</td>\n",
       "      <td>73nhvjxyxf</td>\n",
       "      <td>011</td>\n",
       "      <td>(Atom('O', [4.977352182850001, 4.9964319, 7.50...</td>\n",
       "      <td>-0.024913</td>\n",
       "    </tr>\n",
       "    <tr>\n",
       "      <th>1</th>\n",
       "      <td>hodukuma_46</td>\n",
       "      <td>73nhvjxyxf</td>\n",
       "      <td>110</td>\n",
       "      <td>(Atom('O', [3.57473825025, 0.5706587562499995,...</td>\n",
       "      <td>-0.002285</td>\n",
       "    </tr>\n",
       "    <tr>\n",
       "      <th>2</th>\n",
       "      <td>tetekuse_50</td>\n",
       "      <td>73nhvjxyxf</td>\n",
       "      <td>010</td>\n",
       "      <td>(Atom('O', [3.133508074350001, 1.6536866610000...</td>\n",
       "      <td>-0.002622</td>\n",
       "    </tr>\n",
       "    <tr>\n",
       "      <th>3</th>\n",
       "      <td>kurapadu_87</td>\n",
       "      <td>73nhvjxyxf</td>\n",
       "      <td>100</td>\n",
       "      <td>(Atom('O', [0.7876549999999998, 8.564576479249...</td>\n",
       "      <td>-0.001898</td>\n",
       "    </tr>\n",
       "    <tr>\n",
       "      <th>4</th>\n",
       "      <td>rutofupe_76</td>\n",
       "      <td>73nhvjxyxf</td>\n",
       "      <td>001</td>\n",
       "      <td>(Atom('O', [0.7876549999999998, 3.12983281715,...</td>\n",
       "      <td>-0.001814</td>\n",
       "    </tr>\n",
       "  </tbody>\n",
       "</table>\n",
       "</div>"
      ],
      "text/plain": [
       "       slab_id     bulk_id facet  \\\n",
       "0  hirapewu_45  73nhvjxyxf   011   \n",
       "1  hodukuma_46  73nhvjxyxf   110   \n",
       "2  tetekuse_50  73nhvjxyxf   010   \n",
       "3  kurapadu_87  73nhvjxyxf   100   \n",
       "4  rutofupe_76  73nhvjxyxf   001   \n",
       "\n",
       "                                          slab_final  loop_time  \n",
       "0  (Atom('O', [4.977352182850001, 4.9964319, 7.50...  -0.024913  \n",
       "1  (Atom('O', [3.57473825025, 0.5706587562499995,...  -0.002285  \n",
       "2  (Atom('O', [3.133508074350001, 1.6536866610000...  -0.002622  \n",
       "3  (Atom('O', [0.7876549999999998, 8.564576479249...  -0.001898  \n",
       "4  (Atom('O', [0.7876549999999998, 3.12983281715,...  -0.001814  "
      ]
     },
     "execution_count": 8,
     "metadata": {},
     "output_type": "execute_result"
    }
   ],
   "source": [
    "df = pd.DataFrame(data_dict_list)\n",
    "\n",
    "df.head()"
   ]
  },
  {
   "cell_type": "code",
   "execution_count": 9,
   "metadata": {
    "jupyter": {
     "source_hidden": true
    }
   },
   "outputs": [],
   "source": [
    "# #######################################################################\n",
    "data_path = os.path.join(\n",
    "    os.environ[\"PROJ_irox_oer\"],\n",
    "    \"workflow/creating_slabs/selecting_bulks\",\n",
    "    \"out_data/data.json\")\n",
    "with open(data_path, \"r\") as fle:\n",
    "    data = json.load(fle)\n",
    "# #######################################################################\n",
    "\n",
    "bulk_ids__octa_unique = data[\"bulk_ids__octa_unique\"]"
   ]
  },
  {
   "cell_type": "code",
   "execution_count": 10,
   "metadata": {},
   "outputs": [],
   "source": [
    "df_i = df[df.bulk_id.isin(bulk_ids__octa_unique)]\n",
    "\n",
    "for i_cnt, row_i in df_i.iterrows():\n",
    "    slab = row_i.slab_final\n",
    "\n",
    "    file_name = row_i.bulk_id + \"__\" + row_i.slab_id + \"__\" + row_i.facet + \".cif\"\n",
    "    slab.write(\"out_data/final_slabs_2/\" + file_name)\n",
    "\n",
    "    file_name = row_i.bulk_id + \"__\" + row_i.slab_id + \"__\" + row_i.facet + \".traj\"\n",
    "    slab.write(\"out_data/final_slabs_2/\" + file_name)"
   ]
  },
  {
   "cell_type": "raw",
   "metadata": {},
   "source": [
    "\n",
    "\n",
    "\n"
   ]
  },
  {
   "cell_type": "code",
   "execution_count": 47,
   "metadata": {},
   "outputs": [
    {
     "name": "stdout",
     "output_type": "stream",
     "text": [
      "slab: gisasaho_61\n",
      "bulk: 6qve7u7fcu\n"
     ]
    }
   ],
   "source": [
    "partial = \"gisasa\"\n",
    "for i_cnt, row_i in df_i.iterrows():\n",
    "\n",
    "    bulk_id = row_i.bulk_id\n",
    "    slab_id = row_i.slab_id\n",
    "\n",
    "    if partial in slab_id:\n",
    "        print(\"slab:\", slab_id)\n",
    "        print(\"bulk:\", bulk_id)\n",
    "\n",
    "# slab_id"
   ]
  },
  {
   "cell_type": "code",
   "execution_count": 12,
   "metadata": {},
   "outputs": [
    {
     "name": "stdout",
     "output_type": "stream",
     "text": [
      "x19jvf73mh\n"
     ]
    }
   ],
   "source": [
    "# partial = \"zy7ac\"\n",
    "# partial = \"vk9\"\n",
    "partial = \"x19jv\"\n",
    "for i in df_dft.index.tolist():\n",
    "    if partial in i:\n",
    "        print(i)"
   ]
  },
  {
   "cell_type": "code",
   "execution_count": 13,
   "metadata": {
    "jupyter": {
     "source_hidden": true
    }
   },
   "outputs": [],
   "source": [
    "# for i_cnt, row_i in df_dft.loc[bulk_ids__octa_unique].iterrows():\n",
    "#     atoms = row_i.atoms\n",
    "    \n",
    "#     atoms.write(\"out_data/bulk_structures_temp/\" + row_i.name + \".cif\")"
   ]
  },
  {
   "cell_type": "code",
   "execution_count": 14,
   "metadata": {
    "jupyter": {
     "source_hidden": true
    }
   },
   "outputs": [],
   "source": [
    "# bulks_to_not_process = [\n",
    "#     \"vqmdms9e8u\",\n",
    "#     \"6f9fzy7ac5\",\n",
    "#     \"8jvfcyvk92\",\n",
    "#     \"8s9ecomu9g\",\n",
    "#     \"binlzubqnp\",\n",
    "#     \"c38dvjmwbu\",\n",
    "#     \"cf9lbhvjmq\",\n",
    "#     \"ckbg7d9u6u\",\n",
    "#     \"nk8in1n383\",\n",
    "#     \"nkm5bynaza\",\n",
    "#     \"nt6f6ubucs\",\n",
    "#     \"x19jvf73mh\",\n",
    "#     ]\n",
    "\n",
    "# # #########################################################\n",
    "# import json\n",
    "# data_path = os.path.join(\"in_data/bulks_to_not_run.json\")\n",
    "# with open(data_path, \"w\") as fle:\n",
    "#     json.dump(bulks_to_not_process, fle, indent=2)\n",
    "# # #########################################################"
   ]
  },
  {
   "cell_type": "code",
   "execution_count": 15,
   "metadata": {
    "jupyter": {
     "source_hidden": true
    }
   },
   "outputs": [],
   "source": [
    "# import copy\n",
    "\n",
    "# import numpy as np\n",
    "# import pandas as pd\n",
    "\n",
    "# from ase import io\n",
    "\n",
    "# # from tqdm import tqdm\n",
    "# from tqdm.notebook import tqdm\n",
    "\n",
    "# # #########################################################\n",
    "\n",
    "\n",
    "# # #########################################################\n",
    "# from misc_modules.pandas_methods import drop_columns\n",
    "# from misc_modules.misc_methods import GetFriendlyID\n",
    "# from ase_modules.ase_methods import view_in_vesta\n",
    "\n",
    "# # #########################################################\n",
    "# from methods import (\n",
    "#     get_df_dft, symmetrize_atoms,\n",
    "#     get_structure_coord_df, remove_atoms)\n",
    "# from proj_data import metal_atom_symbol\n",
    "\n",
    "# # #########################################################\n",
    "# from local_methods import (\n",
    "#     analyse_local_coord_env, check_if_sys_processed,\n",
    "#     remove_nonsaturated_surface_metal_atoms,\n",
    "#     remove_noncoord_oxygens,\n",
    "#     create_slab_from_bulk,\n",
    "#     get_slab_thickness,\n",
    "#     remove_highest_metal_atoms,\n",
    "#     remove_all_atoms_above_cutoff,\n",
    "#     create_final_slab_master,\n",
    "#     )\n",
    "\n",
    "# from local_methods import calc_surface_area"
   ]
  }
 ],
 "metadata": {
  "kernelspec": {
   "display_name": "Python [conda env:PROJ_irox_oer] *",
   "language": "python",
   "name": "conda-env-PROJ_irox_oer-py"
  },
  "language_info": {
   "codemirror_mode": {
    "name": "ipython",
    "version": 3
   },
   "file_extension": ".py",
   "mimetype": "text/x-python",
   "name": "python",
   "nbconvert_exporter": "python",
   "pygments_lexer": "ipython3",
   "version": "3.6.10"
  }
 },
 "nbformat": 4,
 "nbformat_minor": 4
}
