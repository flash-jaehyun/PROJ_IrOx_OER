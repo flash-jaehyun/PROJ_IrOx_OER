{
 "cells": [
  {
   "cell_type": "code",
   "execution_count": 1,
   "metadata": {},
   "outputs": [],
   "source": [
    "# # Pickling data ###########################################\n",
    "# out_dict = dict()\n",
    "# out_dict[\"TEMP\"] = None\n",
    "\n",
    "# import os; import pickle\n",
    "# path_i = os.path.join(\n",
    "#     os.environ[\"HOME\"],\n",
    "#     \"__temp__\",\n",
    "#     \"temp.pickle\")\n",
    "# with open(path_i, \"wb\") as fle:\n",
    "#     pickle.dump(out_dict, fle)\n",
    "# # #########################################################"
   ]
  },
  {
   "cell_type": "code",
   "execution_count": 2,
   "metadata": {},
   "outputs": [],
   "source": [
    "# #########################################################\n",
    "import pickle; import os\n",
    "path_i = os.path.join(\n",
    "    os.environ[\"HOME\"],\n",
    "    \"__temp__\",\n",
    "    \"temp.pickle\")\n",
    "with open(path_i, \"rb\") as fle:\n",
    "    out_dict = pickle.load(fle)\n",
    "# #########################################################"
   ]
  },
  {
   "cell_type": "code",
   "execution_count": 42,
   "metadata": {},
   "outputs": [],
   "source": [
    "struct = out_dict[\"struct\"]\n",
    "\n",
    "# dir(struct[0])\n",
    "\n",
    "site = struct[-1]\n",
    "\n",
    "# dir(site.species)\n",
    "\n",
    "# site.oxi_state_guesses()\n",
    "# site.species.oxi_state_guesses()\n",
    "\n",
    "\n",
    "# dir(site.specie)\n",
    "# type(site.specie)\n",
    "# site.specie"
   ]
  },
  {
   "cell_type": "code",
   "execution_count": 50,
   "metadata": {},
   "outputs": [
    {
     "name": "stdout",
     "output_type": "stream",
     "text": [
      "type(struct): \n",
      " <class 'pymatgen.core.structure.Structure'>\n",
      "type(struct[-1]): \n",
      " <class 'pymatgen.core.sites.PeriodicSite'>\n",
      "type(struct[-1].specie): \n",
      " <enum 'Element'>\n"
     ]
    }
   ],
   "source": [
    "print(\"type(struct):\", \"\\n\", type(struct))\n",
    "\n",
    "print(\"type(struct[-1]):\", \"\\n\", type(struct[-1]))\n",
    "\n",
    "print(\"type(struct[-1].specie):\", \"\\n\", type(struct[-1].specie))"
   ]
  },
  {
   "cell_type": "code",
   "execution_count": null,
   "metadata": {},
   "outputs": [],
   "source": [
    "from pymatgen import Lattice, Structure, Molecule\n",
    "\n",
    "coords = [[0, 0, 0], [0.75,0.5,0.75]]\n",
    "lattice = Lattice.from_parameters(a=3.84, b=3.84, c=3.84, alpha=120,\n",
    "                                  beta=90, gamma=60)\n",
    "struct = Structure(lattice, [\"Si\", \"Si\"], coords)\n",
    "\n",
    "coords = [[0.000000, 0.000000, 0.000000],\n",
    "          [0.000000, 0.000000, 1.089000],\n",
    "          [1.026719, 0.000000, -0.363000],\n",
    "          [-0.513360, -0.889165, -0.363000],\n",
    "          [-0.513360, 0.889165, -0.363000]]\n",
    "methane = Molecule([\"C\", \"H\", \"H\", \"H\", \"H\"], coords)\n",
    "\n"
   ]
  }
 ],
 "metadata": {
  "kernelspec": {
   "display_name": "Python [conda env:PROJ_irox_oer] *",
   "language": "python",
   "name": "conda-env-PROJ_irox_oer-py"
  },
  "language_info": {
   "codemirror_mode": {
    "name": "ipython",
    "version": 3
   },
   "file_extension": ".py",
   "mimetype": "text/x-python",
   "name": "python",
   "nbconvert_exporter": "python",
   "pygments_lexer": "ipython3",
   "version": "3.6.10"
  }
 },
 "nbformat": 4,
 "nbformat_minor": 4
}
