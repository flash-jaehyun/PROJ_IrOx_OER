{
 "cells": [
  {
   "cell_type": "markdown",
   "metadata": {},
   "source": [
    "# Analayze local coordination environment of bulk IrOx polymorphs\n",
    "---\n",
    "\n",
    "This will determine which structures to select for further processing"
   ]
  },
  {
   "cell_type": "markdown",
   "metadata": {},
   "source": [
    "# Import Modules"
   ]
  },
  {
   "cell_type": "code",
   "execution_count": null,
   "metadata": {},
   "outputs": [],
   "source": [
    "import os\n",
    "print(os.getcwd())\n",
    "import sys\n",
    "\n",
    "from ase.db import connect\n",
    "import pandas as pd\n",
    "\n",
    "# #########################################################\n",
    "from methods import get_df_dft"
   ]
  },
  {
   "cell_type": "code",
   "execution_count": null,
   "metadata": {},
   "outputs": [],
   "source": [
    "# Contents will be saved to json\n",
    "out_dict = dict()\n",
    "\n",
    "directory = \"out_data\"\n",
    "if not os.path.exists(directory):\n",
    "    os.makedirs(directory)"
   ]
  },
  {
   "cell_type": "markdown",
   "metadata": {},
   "source": [
    "# Read file"
   ]
  },
  {
   "cell_type": "code",
   "execution_count": null,
   "metadata": {},
   "outputs": [],
   "source": [
    "FinalStructuresdb_file = os.path.join(\n",
    "    os.environ[\"PROJ_irox_oer_data\"],\n",
    "    \"active_learning_proj_data/FinalStructures_1.db\")\n",
    "db = connect(FinalStructuresdb_file)\n",
    "\n",
    "data_list = []\n",
    "for row in db.select():\n",
    "    row_dict = dict(\n",
    "        energy=row.get(\"energy\"),\n",
    "        **row.key_value_pairs)\n",
    "    data_list.append(row_dict)\n",
    "df = pd.DataFrame(data_list)\n",
    "\n",
    "df = df[~df[\"stoich\"].isna()]\n",
    "df = df.set_index(\"structure_id\")\n",
    "df = df.drop(columns=[\"energy\", \"id_old\", ])"
   ]
  },
  {
   "cell_type": "code",
   "execution_count": null,
   "metadata": {},
   "outputs": [],
   "source": [
    "df_dft = get_df_dft()"
   ]
  },
  {
   "cell_type": "code",
   "execution_count": null,
   "metadata": {},
   "outputs": [],
   "source": [
    "df_i = df[df.coor_env == \"O:6\"]\n",
    "\n",
    "print(\"Number of octahedral AB2:\", df_i[df_i.stoich == \"AB2\"].shape[0])\n",
    "print(\"Number of octahedral AB3:\", df_i[df_i.stoich == \"AB3\"].shape[0])"
   ]
  },
  {
   "cell_type": "code",
   "execution_count": null,
   "metadata": {},
   "outputs": [],
   "source": [
    "df_dft_i = df_dft.loc[\n",
    "    df_dft.index.intersection(\n",
    "        df_i.index.tolist()\n",
    "        )\n",
    "    ]\n",
    "\n",
    "out_dict[\"bulk_ids__octa_unique\"] = df_dft_i.index.tolist()\n",
    "\n",
    "df_dft_i.head()"
   ]
  },
  {
   "cell_type": "code",
   "execution_count": null,
   "metadata": {},
   "outputs": [],
   "source": [
    "import plotly.express as px\n",
    "fig = px.histogram(df_dft_i, x=\"num_atoms\", nbins=20)\n",
    "\n",
    "fig.update_layout(title=\"Number of atoms for unique octahedral IrOx bulk structures\")\n",
    "fig.show()"
   ]
  },
  {
   "cell_type": "code",
   "execution_count": null,
   "metadata": {},
   "outputs": [],
   "source": [
    "from plotting.my_plotly import my_plotly_plot\n",
    "\n",
    "my_plotly_plot(\n",
    "    figure=fig,\n",
    "    plot_name=\"atom_count_histogram_octahedral\",\n",
    "    write_html=True,\n",
    "    write_png=False,\n",
    "    png_scale=6.0,\n",
    "    write_pdf=False,\n",
    "    write_svg=False,\n",
    "    try_orca_write=False,\n",
    "    )"
   ]
  },
  {
   "cell_type": "markdown",
   "metadata": {},
   "source": [
    "# Saving data"
   ]
  },
  {
   "cell_type": "code",
   "execution_count": null,
   "metadata": {},
   "outputs": [],
   "source": [
    "# #######################################################################\n",
    "import json\n",
    "data_path = os.path.join(\"out_data/data.json\")\n",
    "with open(data_path, \"w\") as fle:\n",
    "    json.dump(out_dict, fle, indent=2)\n",
    "# #######################################################################"
   ]
  }
 ],
 "metadata": {
  "jupytext": {
   "formats": "ipynb,py:light"
  },
  "kernelspec": {
   "display_name": "Python [conda env:PROJ_irox_oer] *",
   "language": "python",
   "name": "conda-env-PROJ_irox_oer-py"
  },
  "language_info": {
   "codemirror_mode": {
    "name": "ipython",
    "version": 3
   },
   "file_extension": ".py",
   "mimetype": "text/x-python",
   "name": "python",
   "nbconvert_exporter": "python",
   "pygments_lexer": "ipython3",
   "version": "3.6.11"
  }
 },
 "nbformat": 4,
 "nbformat_minor": 4
}
