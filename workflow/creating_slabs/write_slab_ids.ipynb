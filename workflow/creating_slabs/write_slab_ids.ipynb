{
 "cells": [
  {
   "cell_type": "markdown",
   "metadata": {},
   "source": [
    "# Write Established Slab IDs to a File\n",
    "---\n",
    "\n",
    "I'm going to write the slab ids to a json file, the reason is that I'm worried since the slab ids are generated randomly upon creation of the slab that I will lose the id  for a specific bulk + facet combination. So I'm going to write the current slab ids to file and in the slab creation scripts if the bulk_id+facet combination already exists it will be taken from there"
   ]
  },
  {
   "cell_type": "markdown",
   "metadata": {},
   "source": [
    "# Import Modules"
   ]
  },
  {
   "cell_type": "code",
   "execution_count": 1,
   "metadata": {},
   "outputs": [
    {
     "name": "stdout",
     "output_type": "stream",
     "text": [
      "/mnt/f/Dropbox/01_norskov/00_git_repos/PROJ_IrOx_OER/workflow/creating_slabs\n"
     ]
    }
   ],
   "source": [
    "import os\n",
    "print(os.getcwd())\n",
    "import sys\n",
    "\n",
    "import pandas as pd\n",
    "\n",
    "# #########################################################\n",
    "from methods import get_df_slab"
   ]
  },
  {
   "cell_type": "code",
   "execution_count": 2,
   "metadata": {},
   "outputs": [],
   "source": [
    "df_slab = get_df_slab()"
   ]
  },
  {
   "cell_type": "code",
   "execution_count": 3,
   "metadata": {},
   "outputs": [
    {
     "name": "stdout",
     "output_type": "stream",
     "text": [
      "df_slab.shape: (1253, 7)\n"
     ]
    }
   ],
   "source": [
    "print(\"df_slab.shape:\", df_slab.shape)"
   ]
  },
  {
   "cell_type": "code",
   "execution_count": 4,
   "metadata": {},
   "outputs": [],
   "source": [
    "# assert False"
   ]
  },
  {
   "cell_type": "code",
   "execution_count": 5,
   "metadata": {},
   "outputs": [],
   "source": [
    "df_i = df_slab[[\"bulk_id\", \"facet\", \"slab_id\", ]]\n",
    "\n",
    "df_i.to_csv(\"out_data/slab_id_mapping.csv\", index=False)\n",
    "df_i.to_csv(\"in_data/slab_id_mapping.csv\", index=False)"
   ]
  },
  {
   "cell_type": "code",
   "execution_count": 6,
   "metadata": {},
   "outputs": [],
   "source": [
    "path_i = os.path.join(\n",
    "    os.environ[\"PROJ_irox_oer\"],\n",
    "    \"workflow/creating_slabs\",\n",
    "    \"in_data/slab_id_mapping.csv\")\n",
    "df_slab_ids = pd.read_csv(path_i, dtype=str)"
   ]
  },
  {
   "cell_type": "code",
   "execution_count": 7,
   "metadata": {},
   "outputs": [],
   "source": [
    "bulk_id_i = \"cq7smr6lvj\"\n",
    "# facet = (1, 0, 0)\n",
    "facet_i = \"100\"\n",
    "facet_i = \"109\""
   ]
  },
  {
   "cell_type": "code",
   "execution_count": 8,
   "metadata": {},
   "outputs": [],
   "source": [
    "from methods import get_df_slab_ids, get_slab_id\n",
    "\n",
    "df_slab_ids = get_df_slab_ids()\n",
    "slab_id_i = get_slab_id(bulk_id_i, facet_i, df_slab_ids)\n",
    "\n",
    "slab_id_i"
   ]
  }
 ],
 "metadata": {
  "jupytext": {
   "formats": "ipynb,py:light"
  },
  "kernelspec": {
   "display_name": "Python [conda env:PROJ_irox_oer] *",
   "language": "python",
   "name": "conda-env-PROJ_irox_oer-py"
  },
  "language_info": {
   "codemirror_mode": {
    "name": "ipython",
    "version": 3
   },
   "file_extension": ".py",
   "mimetype": "text/x-python",
   "name": "python",
   "nbconvert_exporter": "python",
   "pygments_lexer": "ipython3",
   "version": "3.6.11"
  }
 },
 "nbformat": 4,
 "nbformat_minor": 4
}
