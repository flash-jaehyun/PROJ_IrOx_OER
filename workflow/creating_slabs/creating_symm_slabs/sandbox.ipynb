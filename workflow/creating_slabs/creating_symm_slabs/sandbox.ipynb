{
 "cells": [
  {
   "cell_type": "code",
   "execution_count": 1,
   "metadata": {},
   "outputs": [],
   "source": [
    "from catkit.gen.surface import SlabGenerator"
   ]
  },
  {
   "cell_type": "code",
   "execution_count": 4,
   "metadata": {},
   "outputs": [],
   "source": [
    "# SlabGenerator(\n",
    "#     bulk,\n",
    "#     miller_index,\n",
    "\n",
    "#     20,\n",
    "#     vacuum=15,\n",
    "#     fixed=None,\n",
    "#     layer_type=\"sym\",\n",
    "#     attach_graph=True,\n",
    "#     standardize_bulk=True,\n",
    "#     primitive=True,\n",
    "#     tol=1e-03,\n",
    "#     )"
   ]
  },
  {
   "cell_type": "code",
   "execution_count": 5,
   "metadata": {},
   "outputs": [],
   "source": [
    "# SG = SlabGenerator(\n",
    "#     atoms,\n",
    "#     facet,\n",
    "\n",
    "#     20,\n",
    "#     vacuum=15,\n",
    "#     fixed=None,\n",
    "#     layer_type='ang',\n",
    "#     attach_graph=True,\n",
    "#     standardize_bulk=True,\n",
    "#     primitive=True,\n",
    "#     tol=1e-03,\n",
    "#     )"
   ]
  },
  {
   "cell_type": "code",
   "execution_count": null,
   "metadata": {},
   "outputs": [],
   "source": []
  }
 ],
 "metadata": {
  "jupytext": {
   "formats": "ipynb,py:light"
  },
  "kernelspec": {
   "display_name": "Python [conda env:PROJ_irox_oer] *",
   "language": "python",
   "name": "conda-env-PROJ_irox_oer-py"
  },
  "language_info": {
   "codemirror_mode": {
    "name": "ipython",
    "version": 3
   },
   "file_extension": ".py",
   "mimetype": "text/x-python",
   "name": "python",
   "nbconvert_exporter": "python",
   "pygments_lexer": "ipython3",
   "version": "3.6.11"
  }
 },
 "nbformat": 4,
 "nbformat_minor": 4
}
