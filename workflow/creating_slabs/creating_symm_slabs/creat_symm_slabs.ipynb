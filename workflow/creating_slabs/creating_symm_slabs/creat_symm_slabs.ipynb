{
 "cells": [
  {
   "cell_type": "markdown",
   "metadata": {},
   "source": [
    "# Import Modules"
   ]
  },
  {
   "cell_type": "code",
   "execution_count": 1,
   "metadata": {},
   "outputs": [
    {
     "name": "stdout",
     "output_type": "stream",
     "text": [
      "/mnt/f/Dropbox/01_norskov/00_git_repos/PROJ_IrOx_OER/workflow/creating_slabs/creating_symm_slabs\n"
     ]
    }
   ],
   "source": [
    "import os\n",
    "print(os.getcwd())\n",
    "import sys\n",
    "\n",
    "\n",
    "# #########################################################\n",
    "from methods import (\n",
    "    get_df_dft,\n",
    "    get_df_jobs,\n",
    "    get_df_jobs_data,\n",
    "    get_df_slab,\n",
    "\n",
    "    convert_str_facet_to_list,\n",
    "    )\n",
    "\n",
    "from local_methods import create_slab_from_bulk_tmp, create_final_slab_master_tmp"
   ]
  },
  {
   "cell_type": "markdown",
   "metadata": {},
   "source": [
    "# Read Data"
   ]
  },
  {
   "cell_type": "code",
   "execution_count": 2,
   "metadata": {},
   "outputs": [],
   "source": [
    "df_dft = get_df_dft()\n",
    "\n",
    "df_jobs = get_df_jobs()\n",
    "\n",
    "df_jobs_data = get_df_jobs_data()\n",
    "\n",
    "df_slab = get_df_slab()"
   ]
  },
  {
   "cell_type": "code",
   "execution_count": 3,
   "metadata": {},
   "outputs": [],
   "source": [
    "# Only taking systems which are being calculated (or finished) via DFT\n",
    "# df_slab_i = df_slab.loc[df_jobs.slab_id.unique().tolist()]\n",
    "\n",
    "slabs_dft_finished = df_jobs_data[df_jobs_data.completed == True].slab_id.tolist()\n",
    "df_slab_i = df_slab.loc[slabs_dft_finished]"
   ]
  },
  {
   "cell_type": "code",
   "execution_count": 4,
   "metadata": {},
   "outputs": [],
   "source": [
    "df_slab_i = df_slab_i[df_slab_i.bulk_id == \"cq7smr6lvj\"]"
   ]
  },
  {
   "cell_type": "code",
   "execution_count": 5,
   "metadata": {},
   "outputs": [
    {
     "data": {
      "text/html": [
       "<div>\n",
       "<style scoped>\n",
       "    .dataframe tbody tr th:only-of-type {\n",
       "        vertical-align: middle;\n",
       "    }\n",
       "\n",
       "    .dataframe tbody tr th {\n",
       "        vertical-align: top;\n",
       "    }\n",
       "\n",
       "    .dataframe thead th {\n",
       "        text-align: right;\n",
       "    }\n",
       "</style>\n",
       "<table border=\"1\" class=\"dataframe\">\n",
       "  <thead>\n",
       "    <tr style=\"text-align: right;\">\n",
       "      <th></th>\n",
       "      <th>slab_id</th>\n",
       "      <th>bulk_id</th>\n",
       "      <th>facet</th>\n",
       "      <th>slab_final</th>\n",
       "      <th>num_atoms</th>\n",
       "      <th>loop_time</th>\n",
       "      <th>iter_time_i</th>\n",
       "    </tr>\n",
       "    <tr>\n",
       "      <th>slab_id</th>\n",
       "      <th></th>\n",
       "      <th></th>\n",
       "      <th></th>\n",
       "      <th></th>\n",
       "      <th></th>\n",
       "      <th></th>\n",
       "      <th></th>\n",
       "    </tr>\n",
       "  </thead>\n",
       "  <tbody>\n",
       "    <tr>\n",
       "      <th>sekivema_89</th>\n",
       "      <td>sekivema_89</td>\n",
       "      <td>cq7smr6lvj</td>\n",
       "      <td>100</td>\n",
       "      <td>(Atom('O', [3.033379352999999, 3.5966878298999...</td>\n",
       "      <td>54</td>\n",
       "      <td>0.016979</td>\n",
       "      <td>56.744781</td>\n",
       "    </tr>\n",
       "  </tbody>\n",
       "</table>\n",
       "</div>"
      ],
      "text/plain": [
       "                 slab_id     bulk_id facet  \\\n",
       "slab_id                                      \n",
       "sekivema_89  sekivema_89  cq7smr6lvj   100   \n",
       "\n",
       "                                                    slab_final  num_atoms  \\\n",
       "slab_id                                                                     \n",
       "sekivema_89  (Atom('O', [3.033379352999999, 3.5966878298999...         54   \n",
       "\n",
       "             loop_time  iter_time_i  \n",
       "slab_id                              \n",
       "sekivema_89   0.016979    56.744781  "
      ]
     },
     "execution_count": 5,
     "metadata": {},
     "output_type": "execute_result"
    }
   ],
   "source": [
    "df_slab_i"
   ]
  },
  {
   "cell_type": "code",
   "execution_count": 6,
   "metadata": {},
   "outputs": [],
   "source": [
    "for slab_id, row_i in df_slab_i[[\"bulk_id\", \"facet\", ]].iterrows():\n",
    "    tmp = 42\n",
    "\n",
    "\n",
    "    # #####################################################\n",
    "    bulk_id = row_i.bulk_id\n",
    "    facet = row_i.facet\n",
    "    # #####################################################\n",
    "\n",
    "    # #####################################################\n",
    "    row_dft_i = df_dft.loc[bulk_id]\n",
    "    # #####################################################\n",
    "    bulk_atoms = row_dft_i.atoms\n",
    "    # #####################################################\n",
    "\n",
    "    facet_list = convert_str_facet_to_list(facet)\n",
    "\n",
    "    slab_0 = create_slab_from_bulk_tmp(\n",
    "        atoms=bulk_atoms, facet=facet_list)\n",
    "\n",
    "    # slab_1 = create_final_slab_master(atoms=slab_0)\n",
    "\n",
    "    # slab_2 = constrain_slab(atoms=slab_1)\n",
    "    # slab_final = slab_2\n",
    "\n",
    "    # df_coord_slab_final = get_structure_coord_df(slab_final)\n",
    "\n",
    "    file_name_i = \"temp_\" + bulk_id + \"_\" + slab_id + \".cif\"\n",
    "    file_path_i = os.path.join(\n",
    "        \"out_data\",\n",
    "        file_name_i)\n",
    "    # slab_0.write(\"out_data/temp.cif\")\n",
    "    slab_0.write(file_path_i)"
   ]
  },
  {
   "cell_type": "code",
   "execution_count": 7,
   "metadata": {},
   "outputs": [],
   "source": [
    "# slab_1 = create_final_slab_master_tmp(atoms=slab_0)"
   ]
  },
  {
   "cell_type": "raw",
   "metadata": {},
   "source": [
    "\n",
    "\n"
   ]
  },
  {
   "cell_type": "code",
   "execution_count": null,
   "metadata": {},
   "outputs": [],
   "source": [
    "# remove_all_atoms_above_cutoff_symm\n",
    "\n",
    "atoms = slab_0"
   ]
  },
  {
   "cell_type": "markdown",
   "metadata": {},
   "source": [
    "# Developing new symmetric surface cutter"
   ]
  },
  {
   "cell_type": "code",
   "execution_count": 8,
   "metadata": {},
   "outputs": [],
   "source": [
    "#| - Import Modules\n",
    "import os\n",
    "import sys\n",
    "\n",
    "import copy\n",
    "from pathlib import Path\n",
    "\n",
    "import json\n",
    "\n",
    "import numpy as np\n",
    "import pandas as pd\n",
    "\n",
    "# #############################################################################\n",
    "from ase import io\n",
    "\n",
    "from pymatgen.analysis.chemenv.coordination_environments.coordination_geometry_finder import LocalGeometryFinder\n",
    "from pymatgen.analysis.chemenv.coordination_environments.chemenv_strategies import (\n",
    "    SimplestChemenvStrategy,\n",
    "    MultiWeightsChemenvStrategy)\n",
    "from pymatgen.analysis.chemenv.coordination_environments.structure_environments import LightStructureEnvironments\n",
    "from pymatgen.io.ase import AseAtomsAdaptor\n",
    "\n",
    "from catkit.gen.surface import SlabGenerator\n",
    "\n",
    "# #############################################################################\n",
    "from methods import (\n",
    "    get_df_dft, symmetrize_atoms,\n",
    "    get_structure_coord_df, remove_atoms)\n",
    "from proj_data import metal_atom_symbol\n",
    "#__|\n",
    "\n",
    "from local_methods import (\n",
    "    remove_all_atoms_above_cutoff,\n",
    "    calc_surface_area,\n",
    "    remove_highest_metal_atoms,\n",
    "    get_slab_thickness,\n",
    "    create_slab_from_bulk_tmp,\n",
    "    remove_noncoord_oxygens,\n",
    "    remove_nonsaturated_surface_metal_atoms,\n",
    "    )"
   ]
  },
  {
   "cell_type": "code",
   "execution_count": 9,
   "metadata": {},
   "outputs": [],
   "source": [
    "# def create_final_slab_master_tmp(\n",
    "atoms=slab_0\n",
    "#     ):\n",
    "#     \"\"\"Master method to create final IrOx slab.\n",
    "#     \"\"\""
   ]
  },
  {
   "cell_type": "code",
   "execution_count": 10,
   "metadata": {},
   "outputs": [],
   "source": [
    "# def create_final_slab_master_tmp(\n",
    "#     atoms=None,\n",
    "#     ):\n",
    "#     \"\"\"Master method to create final IrOx slab.\n",
    "#     \"\"\"\n",
    "#| - create_final_slab_master\n",
    "TEMP = True\n",
    "slab = atoms\n",
    "\n",
    "###########################################################\n",
    "slab_thickness_i = get_slab_thickness(atoms=slab)\n",
    "# print(\"slab_thickness_i:\", slab_thickness_i)\n",
    "\n",
    "\n",
    "# slab = remove_all_atoms_above_cutoff(atoms=slab, cutoff_thickness=17)\n",
    "slab = remove_all_atoms_above_cutoff_symm(atoms=slab, cutoff_thickness=17)\n",
    "if TEMP:\n",
    "    slab.write(\"out_data/temp_out/slab_1_0.cif\")\n",
    "\n",
    "slab_thickness_i = get_slab_thickness(atoms=slab)\n",
    "# print(\"slab_thickness_i:\", slab_thickness_i)\n",
    "\n",
    "\n",
    "###########################################################\n",
    "slab = remove_nonsaturated_surface_metal_atoms(\n",
    "    atoms=slab,\n",
    "    dz=4)\n",
    "if TEMP:\n",
    "    slab.write(\"out_data/temp_out/slab_1_1.cif\")\n",
    "\n",
    "# slab.write(\"out_data/temp_2.cif\")\n",
    "slab_thickness_i = get_slab_thickness(atoms=slab)\n",
    "# print(\"slab_thickness_i:\", slab_thickness_i)\n",
    "\n",
    "slab = remove_noncoord_oxygens(atoms=slab)\n",
    "if TEMP:\n",
    "    slab.write(\"out_data/temp_out/slab_1_2.cif\")\n",
    "\n",
    "slab_thickness_i = get_slab_thickness(atoms=slab)\n",
    "# print(\"slab_thickness_i:\", slab_thickness_i)\n",
    "\n",
    "\n",
    "\n",
    "###########################################################\n",
    "i_cnt = 2\n",
    "while slab_thickness_i > 15:\n",
    "    i_cnt += 1\n",
    "    # print(i_cnt)\n",
    "\n",
    "    # #####################################################\n",
    "    # Figuring out how many surface atoms to remove at one time\n",
    "    # Taken from R-IrO2 (100), which has 8 surface Ir atoms and a surface area of 58 A^2\n",
    "    surf_area_per_surface_metal = 58 / 8\n",
    "    surface_area_i = calc_surface_area(atoms=slab)\n",
    "    ideal_num_surface_atoms = surface_area_i / surf_area_per_surface_metal\n",
    "    num_atoms_to_remove = ideal_num_surface_atoms / 3\n",
    "    num_atoms_to_remove = int(np.round(num_atoms_to_remove))\n",
    "    # #####################################################\n",
    "\n",
    "    slab_new_0 = remove_highest_metal_atoms(\n",
    "        atoms=slab,\n",
    "        num_atoms_to_remove=num_atoms_to_remove,\n",
    "        metal_atomic_number=77)\n",
    "    if TEMP:\n",
    "        slab_new_0.write(\"out_data/temp_out/slab_1_\" + str(i_cnt) + \"_0\" + \".cif\")\n",
    "\n",
    "    slab_new_1 = remove_nonsaturated_surface_metal_atoms(\n",
    "        atoms=slab_new_0,\n",
    "        dz=4)\n",
    "    if TEMP:\n",
    "        slab_new_1.write(\"out_data/temp_out/slab_1_\" + str(i_cnt) + \"_1\" + \".cif\")\n",
    "\n",
    "    slab_new_2 = remove_noncoord_oxygens(atoms=slab_new_1)\n",
    "    if TEMP:\n",
    "        slab_new_2.write(\"out_data/temp_out/slab_1_\" + str(i_cnt) + \"_2\" + \".cif\")\n",
    "\n",
    "\n",
    "    slab_thickness_i = get_slab_thickness(atoms=slab_new_2)\n",
    "    # print(\"slab_thickness_i:\", slab_thickness_i)\n",
    "\n",
    "    if TEMP:\n",
    "        slab_new_2.write(\"out_data/temp_out/slab_1_\" + str(i_cnt) + \".cif\")\n",
    "\n",
    "    slab = slab_new_2\n",
    "\n",
    "# return(slab)\n",
    "#__|"
   ]
  },
  {
   "cell_type": "code",
   "execution_count": 11,
   "metadata": {},
   "outputs": [],
   "source": [
    "slab_1 = slab"
   ]
  },
  {
   "cell_type": "raw",
   "metadata": {},
   "source": [
    "\n",
    "\n"
   ]
  },
  {
   "cell_type": "code",
   "execution_count": 12,
   "metadata": {},
   "outputs": [],
   "source": [
    "slab_1.write(\"out_data/temp_1.cif\")"
   ]
  },
  {
   "cell_type": "raw",
   "metadata": {},
   "source": [
    "\n",
    "\n"
   ]
  },
  {
   "cell_type": "code",
   "execution_count": 13,
   "metadata": {
    "jupyter": {
     "source_hidden": true
    }
   },
   "outputs": [],
   "source": [
    "# from catkit.gen import symmetry\n",
    "\n",
    "# # symmetry.g"
   ]
  }
 ],
 "metadata": {
  "jupytext": {
   "formats": "ipynb,py:light"
  },
  "kernelspec": {
   "display_name": "Python [conda env:PROJ_irox_oer] *",
   "language": "python",
   "name": "conda-env-PROJ_irox_oer-py"
  },
  "language_info": {
   "codemirror_mode": {
    "name": "ipython",
    "version": 3
   },
   "file_extension": ".py",
   "mimetype": "text/x-python",
   "name": "python",
   "nbconvert_exporter": "python",
   "pygments_lexer": "ipython3",
   "version": "3.6.11"
  }
 },
 "nbformat": 4,
 "nbformat_minor": 4
}
