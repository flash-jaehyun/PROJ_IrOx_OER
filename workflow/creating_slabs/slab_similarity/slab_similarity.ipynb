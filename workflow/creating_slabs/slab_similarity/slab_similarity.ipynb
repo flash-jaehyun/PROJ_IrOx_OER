{
 "cells": [
  {
   "cell_type": "markdown",
   "metadata": {},
   "source": [
    "# Compute similarity of constructed *O IrOx slabs\n",
    "---"
   ]
  },
  {
   "cell_type": "markdown",
   "metadata": {},
   "source": [
    "# Import Modules"
   ]
  },
  {
   "cell_type": "code",
   "execution_count": 1,
   "metadata": {},
   "outputs": [
    {
     "name": "stdout",
     "output_type": "stream",
     "text": [
      "/home/raulf2012/Dropbox/01_norskov/00_git_repos/PROJ_IrOx_OER/workflow/creating_slabs/slab_similarity\n"
     ]
    }
   ],
   "source": [
    "import os\n",
    "print(os.getcwd())\n",
    "import sys\n",
    "\n",
    "import pickle\n",
    "# from pathlib import Path\n",
    "\n",
    "import numpy as np\n",
    "\n",
    "# #########################################################\n",
    "# from StructurePrototypeAnalysisPackage.ccf import struc2ccf\n",
    "# from StructurePrototypeAnalysisPackage.ccf import struc2ccf, cal_ccf_d\n",
    "from StructurePrototypeAnalysisPackage.ccf import cal_ccf_d\n",
    "\n",
    "# #########################################################\n",
    "from methods import get_df_slab\n",
    "\n",
    "# #########################################################\n",
    "from local_methods import get_ccf"
   ]
  },
  {
   "cell_type": "markdown",
   "metadata": {},
   "source": [
    "# Script Inputs"
   ]
  },
  {
   "cell_type": "code",
   "execution_count": 2,
   "metadata": {},
   "outputs": [],
   "source": [
    "verbose = True\n",
    "\n",
    "r_cut_off = 10\n",
    "r_vector = np.arange(1, 10, 0.02)"
   ]
  },
  {
   "cell_type": "markdown",
   "metadata": {},
   "source": [
    "# Read Data"
   ]
  },
  {
   "cell_type": "code",
   "execution_count": 3,
   "metadata": {},
   "outputs": [],
   "source": [
    "df_slab = get_df_slab()"
   ]
  },
  {
   "cell_type": "markdown",
   "metadata": {},
   "source": [
    "# TEMP | Filtering down `df_slab`"
   ]
  },
  {
   "cell_type": "code",
   "execution_count": 4,
   "metadata": {},
   "outputs": [],
   "source": [
    "df_slab = df_slab[df_slab.bulk_id ==  \"mjctxrx3zf\"]"
   ]
  },
  {
   "cell_type": "raw",
   "metadata": {},
   "source": [
    "\n"
   ]
  },
  {
   "cell_type": "markdown",
   "metadata": {},
   "source": [
    "# Looping through slabs and computing CCF"
   ]
  },
  {
   "cell_type": "code",
   "execution_count": 5,
   "metadata": {},
   "outputs": [],
   "source": [
    "grouped = df_slab.groupby([\"bulk_id\"])\n",
    "for name_i, group_i in grouped:\n",
    "    tmp = 42\n",
    "    # print(name_i, \": \", group_i.shape[0], sep=\"\")\n",
    "\n",
    "# #########################################################\n",
    "# name_i = \"mjctxrx3zf\"\n",
    "# group_i = grouped.get_group(name_i)\n",
    "\n",
    "\n",
    "for slab_id_j, row_j in group_i.iterrows():\n",
    "\n",
    "    # #####################################################\n",
    "    # row_j = group_i.iloc[0]\n",
    "    # #####################################################\n",
    "    slab_final_j = row_j.slab_final\n",
    "    # #####################################################\n",
    "\n",
    "    ccf_j = get_ccf(\n",
    "        slab_id=slab_id_j,\n",
    "        slab_final=slab_final_j,\n",
    "        r_cut_off=r_cut_off,\n",
    "        r_vector=r_vector,\n",
    "        verbose=False)"
   ]
  },
  {
   "cell_type": "markdown",
   "metadata": {},
   "source": [
    "# Constructing D_ij matrix"
   ]
  },
  {
   "cell_type": "code",
   "execution_count": 6,
   "metadata": {},
   "outputs": [],
   "source": [
    "grouped = df_slab.groupby([\"bulk_id\"])\n",
    "for name_i, group_i in grouped:\n",
    "    tmp = 42"
   ]
  },
  {
   "cell_type": "code",
   "execution_count": 19,
   "metadata": {},
   "outputs": [
    {
     "name": "stdout",
     "output_type": "stream",
     "text": [
      "****************************************\n",
      "------------------------------\n",
      "0.0\n",
      "------------------------------\n",
      "0.005540846627527962\n",
      "------------------------------\n",
      "0.0013887571675932353\n",
      "------------------------------\n",
      "0.013798049078156405\n",
      "------------------------------\n",
      "0.002933486744792768\n",
      "------------------------------\n",
      "0.006193030194881599\n",
      "****************************************\n",
      "------------------------------\n",
      "0.005540846627527962\n",
      "------------------------------\n",
      "0.0\n",
      "------------------------------\n",
      "0.0035084742601720897\n",
      "------------------------------\n",
      "0.0032273816796852817\n",
      "------------------------------\n",
      "0.0021868124161814606\n",
      "------------------------------\n",
      "0.002066175016919858\n",
      "****************************************\n",
      "------------------------------\n",
      "0.0013887571675932353\n",
      "------------------------------\n",
      "0.0035084742601720897\n",
      "------------------------------\n",
      "2.220446049250313e-16\n",
      "------------------------------\n",
      "0.008598573477181404\n",
      "------------------------------\n",
      "0.00047076590123307227\n",
      "------------------------------\n",
      "0.0023237765527399645\n",
      "****************************************\n",
      "------------------------------\n",
      "0.013798049078156405\n",
      "------------------------------\n",
      "0.0032273816796852817\n",
      "------------------------------\n",
      "0.008598573477181404\n",
      "------------------------------\n",
      "0.0\n",
      "------------------------------\n",
      "0.005528894956666974\n",
      "------------------------------\n",
      "0.002720111392252811\n",
      "****************************************\n",
      "------------------------------\n",
      "0.002933486744792768\n",
      "------------------------------\n",
      "0.0021868124161814606\n",
      "------------------------------\n",
      "0.00047076590123307227\n",
      "------------------------------\n",
      "0.005528894956666974\n",
      "------------------------------\n",
      "0.0\n",
      "------------------------------\n",
      "0.0008541573999133467\n",
      "****************************************\n",
      "------------------------------\n",
      "0.006193030194881599\n",
      "------------------------------\n",
      "0.002066175016919858\n",
      "------------------------------\n",
      "0.0023237765527399645\n",
      "------------------------------\n",
      "0.002720111392252811\n",
      "------------------------------\n",
      "0.0008541573999133467\n",
      "------------------------------\n",
      "0.0\n"
     ]
    }
   ],
   "source": [
    "for slab_id_j, row_j in group_i.iterrows():\n",
    "    print(40 * \"*\")\n",
    "    for slab_id_k, row_k in group_i.iterrows():\n",
    "        print(30 * \"-\")\n",
    "        ccf_j = get_ccf(slab_id=slab_id_j, verbose=False)\n",
    "        ccf_k = get_ccf(slab_id=slab_id_k, verbose=False)\n",
    "\n",
    "        tmp = cal_ccf_d(ccf_j, ccf_k)\n",
    "        print(tmp)"
   ]
  },
  {
   "cell_type": "code",
   "execution_count": 11,
   "metadata": {},
   "outputs": [],
   "source": []
  },
  {
   "cell_type": "code",
   "execution_count": 9,
   "metadata": {},
   "outputs": [],
   "source": [
    "# from StructurePrototypeAnalysisPackage.ccf import (\n",
    "#     struc2ccf,\n",
    "#     cal_ccf_d,\n",
    "#     cal_inter_atomic_d,\n",
    "#     d2ccf,\n",
    "#     weight_f,\n",
    "#     pearson_cc,\n",
    "#     gaussian_f,\n",
    "#     element_tag,\n",
    "#     cell_range,\n",
    "#     count_atoms_dict,\n",
    "#     )\n",
    "\n",
    "# from StructurePrototypeAnalysisPackage.ccf import struc2ccf, cal_ccf_d"
   ]
  },
  {
   "cell_type": "code",
   "execution_count": null,
   "metadata": {},
   "outputs": [],
   "source": []
  },
  {
   "cell_type": "raw",
   "metadata": {},
   "source": [
    "\n",
    "\n"
   ]
  },
  {
   "cell_type": "code",
   "execution_count": 10,
   "metadata": {
    "jupyter": {
     "source_hidden": true
    }
   },
   "outputs": [],
   "source": [
    "# def get_ccf_i(slab_id=None, ):\n",
    "#     \"\"\"\n",
    "#     \"\"\"\n",
    "#     slab_id_i = slab_id\n",
    "\n",
    "#     directory = \"out_data/ccf_files\"\n",
    "#     name_i = slab_id_i + \".pickle\"\n",
    "#     # print(\"os:\", os)\n",
    "#     file_path_i = os.path.join(directory, name_i)\n",
    "\n",
    "#     my_file = Path(file_path_i)\n",
    "#     if my_file.is_file():\n",
    "#         if verbose:\n",
    "#             print(\"File exists already\")\n",
    "\n",
    "#         # #################################################\n",
    "#         import pickle; import os\n",
    "#         path_i = os.path.join(\n",
    "#             os.environ[\"PROJ_irox_oer\"],\n",
    "#             \"workflow/creating_slabs/slab_similarity\",\n",
    "#             file_path_i)\n",
    "#         with open(path_i, \"rb\") as fle:\n",
    "#             ccf_i = pickle.load(fle)\n",
    "#         # #################################################\n",
    "#     else:\n",
    "#         ccf_j = struc2ccf(slab_final_j, r_cut_off, r_vector)\n",
    "\n",
    "\n",
    "#         # Pickling data ###################################\n",
    "#         if not os.path.exists(directory): os.makedirs(directory)\n",
    "#         with open(file_path_i, \"wb\") as fle:\n",
    "#             pickle.dump(ccf_j, fle)\n",
    "#         # #################################################"
   ]
  }
 ],
 "metadata": {
  "jupytext": {
   "formats": "ipynb,py:light"
  },
  "kernelspec": {
   "display_name": "Python [conda env:PROJ_irox_oer] *",
   "language": "python",
   "name": "conda-env-PROJ_irox_oer-py"
  },
  "language_info": {
   "codemirror_mode": {
    "name": "ipython",
    "version": 3
   },
   "file_extension": ".py",
   "mimetype": "text/x-python",
   "name": "python",
   "nbconvert_exporter": "python",
   "pygments_lexer": "ipython3",
   "version": "3.6.11"
  }
 },
 "nbformat": 4,
 "nbformat_minor": 4
}
