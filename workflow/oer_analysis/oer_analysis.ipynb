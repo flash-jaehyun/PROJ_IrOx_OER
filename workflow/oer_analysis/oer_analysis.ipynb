{
 "cells": [
  {
   "cell_type": "markdown",
   "metadata": {},
   "source": [
    "# OER Analysis notebook"
   ]
  },
  {
   "cell_type": "markdown",
   "metadata": {},
   "source": [
    "# Import Modules"
   ]
  },
  {
   "cell_type": "code",
   "execution_count": null,
   "metadata": {
    "jupyter": {}
   },
   "outputs": [],
   "source": [
    "import os\n",
    "print(os.getcwd())\n",
    "import sys\n",
    "\n",
    "sys.path.insert(\n",
    "    0, os.path.join(\n",
    "        os.environ[\"PROJ_irox\"],\n",
    "        \"data\"))\n",
    "\n",
    "# #############################################################################\n",
    "# Python Modules\n",
    "import pickle\n",
    "\n",
    "import numpy as np\n",
    "import pandas as pd\n",
    "\n",
    "import plotly.graph_objs as go\n",
    "\n",
    "# #############################################################################\n",
    "# My Modules\n",
    "from oxr_reaction.oxr_rxn import ORR_Free_E_Plot\n",
    "from oxr_reaction.oxr_plotting_classes.oxr_plot_volcano import Volcano_Plot\n",
    "\n",
    "# #############################################################################\n",
    "# Project Data\n",
    "from proj_data_irox import (\n",
    "    smart_format_dict,\n",
    "    gas_molec_dict,\n",
    "    scaling_dict_ideal,\n",
    "    )\n",
    "\n",
    "from methods import (\n",
    "    get_df_ads,\n",
    "    get_df_jobs_paths,\n",
    "    get_df_jobs,\n",
    "    get_df_jobs_anal,\n",
    "    )\n",
    "\n",
    "# #############################################################################\n",
    "# Local Imports\n",
    "from plotting.my_plotly import my_plotly_plot"
   ]
  },
  {
   "cell_type": "markdown",
   "metadata": {},
   "source": [
    "# Script Inputs"
   ]
  },
  {
   "cell_type": "code",
   "execution_count": null,
   "metadata": {},
   "outputs": [],
   "source": [
    "save_plot = False\n",
    "plot_exp_traces = True"
   ]
  },
  {
   "cell_type": "markdown",
   "metadata": {},
   "source": [
    "# Read Data"
   ]
  },
  {
   "cell_type": "code",
   "execution_count": null,
   "metadata": {
    "jupyter": {}
   },
   "outputs": [],
   "source": [
    "# #########################################################\n",
    "df_ads = get_df_ads()\n",
    "\n",
    "df_ads = df_ads[~df_ads.g_oh.isna()]\n",
    "df_m = df_ads\n",
    "\n",
    "# #########################################################\n",
    "df_jobs_paths = get_df_jobs_paths()\n",
    "\n",
    "# #########################################################\n",
    "df_jobs = get_df_jobs()\n",
    "\n",
    "# #########################################################\n",
    "df_jobs_anal = get_df_jobs_anal()\n",
    "\n",
    "# #########################################################\n",
    "from methods import get_df_dft\n",
    "df_dft = get_df_dft()\n",
    "\n",
    "# #########################################################\n",
    "from methods import get_df_job_ids\n",
    "df_job_ids = get_df_job_ids()"
   ]
  },
  {
   "cell_type": "markdown",
   "metadata": {},
   "source": [
    "# Create ΔG_*OOH column from *OH energy"
   ]
  },
  {
   "cell_type": "code",
   "execution_count": null,
   "metadata": {},
   "outputs": [],
   "source": [
    "# df_m.g_ooh = 1.16 * df_m.g_oh + 2.8\n",
    "df_m[\"g_ooh\"] = df_m.g_oh + 2.8\n",
    "\n",
    "# df_m"
   ]
  },
  {
   "cell_type": "code",
   "execution_count": null,
   "metadata": {},
   "outputs": [],
   "source": [
    "smart_format_dict = [\n",
    "     \n",
    "    # [{\"stoich\": \"AB2\"}, {\"color2\": \"#7FC97F\"}],\n",
    "    # [{\"stoich\": \"AB3\"}, {\"color2\": \"#BEAED4\"}],\n",
    "\n",
    "    [{\"stoich\": \"AB2\"}, {\"color2\": \"black\"}],\n",
    "    [{\"stoich\": \"AB3\"}, {\"color2\": \"grey\"}],\n",
    "\n",
    "    ]\n",
    "\n",
    "ORR_PLT = ORR_Free_E_Plot(\n",
    "    free_energy_df=None,\n",
    "    state_title=\"ads\",\n",
    "    free_e_title=\"ads_g\",\n",
    "    # ads_g\tads\n",
    "    smart_format=smart_format_dict,\n",
    "    color_list=None,\n",
    "    rxn_type=\"OER\")\n",
    "\n",
    "\n",
    "df_m = df_m.set_index([\"compenv\", \"slab_id\", ], drop=False)\n",
    "\n",
    "\n",
    "paths_dict = dict()\n",
    "for name_i, row_i in df_m.iterrows():\n",
    "\n",
    "    # #####################################################\n",
    "    g_o_i = row_i.g_o\n",
    "    g_oh_i = row_i.g_oh\n",
    "    g_ooh_i = row_i.g_ooh\n",
    "    slab_id_i = row_i.slab_id\n",
    "    active_site_i = row_i.active_site\n",
    "    job_id_o_i = row_i.job_id_o\n",
    "    job_id_oh_i = row_i.job_id_oh\n",
    "    # #####################################################\n",
    "\n",
    "\n",
    "    # #####################################################\n",
    "    df_job_ids_i = df_job_ids[df_job_ids.slab_id == slab_id_i]\n",
    "\n",
    "    bulk_ids = df_job_ids_i.bulk_id.unique()\n",
    "\n",
    "    mess_i = \"SIJFIDSIFJIDSJIf\"\n",
    "    assert len(bulk_ids) == 1, mess_i\n",
    "\n",
    "    bulk_id_i = bulk_ids[0]\n",
    "\n",
    "    # #########################################################\n",
    "    row_dft_i = df_dft.loc[bulk_id_i]\n",
    "    # #########################################################\n",
    "    stoich_i = row_dft_i.stoich\n",
    "    # #########################################################\n",
    "\n",
    "\n",
    "    data_dict_list =  [\n",
    "        {\"ads_g\": g_o_i, \"ads\": \"o\", },\n",
    "        {\"ads_g\": g_oh_i, \"ads\": \"oh\", },\n",
    "        {\"ads_g\": g_ooh_i, \"ads\": \"ooh\", },\n",
    "        {\"ads_g\": 0., \"ads\": \"bulk\", },\n",
    "        ]\n",
    "    df_i = pd.DataFrame(data_dict_list)\n",
    "\n",
    "    df_i[\"stoich\"] = stoich_i\n",
    "\n",
    "\n",
    "    prop_name_list = [\n",
    "        \"stoich\",\n",
    "        ]\n",
    "\n",
    "    # #########################################################\n",
    "    # name_i = \"IDSJFISDf\"\n",
    "    name_i = slab_id_i + \"__\" + str(int(active_site_i))\n",
    "    ORR_PLT.add_series(\n",
    "        df_i,\n",
    "        plot_mode=\"all\",\n",
    "        overpotential_type=\"OER\",\n",
    "        property_key_list=prop_name_list,\n",
    "        add_overpot=False,\n",
    "        name_i=name_i,\n",
    "        )"
   ]
  },
  {
   "cell_type": "code",
   "execution_count": null,
   "metadata": {},
   "outputs": [],
   "source": [
    "print(list(paths_dict.keys()))\n",
    "print(\"\")\n",
    "\n",
    "# tmp = [print(i) for i in paths_dict[\"vuvunira_55__72\"]]\n",
    "# tmp = [print(i) for i in paths_dict[\"rakawavo_17__25\"]]"
   ]
  },
  {
   "cell_type": "code",
   "execution_count": null,
   "metadata": {},
   "outputs": [],
   "source": [
    "plot_range = {\n",
    "    # \"y\": [2.5, 1.4],\n",
    "    # \"x\": [1., 2.6],\n",
    "\n",
    "    \"y\": [3.7, 1.4],\n",
    "    \"x\": [0.5, 5.],\n",
    "    }\n",
    "\n",
    "VP = Volcano_Plot(\n",
    "    ORR_PLT,\n",
    "    x_ax_species=\"o-oh\",  # 'o-oh' or 'oh'\n",
    "    smart_format_dict=smart_format_dict,\n",
    "    plot_range=plot_range,\n",
    "    )\n",
    "\n",
    "VP.create_volcano_relations_plot()\n",
    "\n",
    "volcano_legs_data = VP.create_volcano_lines(\n",
    "    gas_molec_dict=gas_molec_dict,\n",
    "    scaling_dict=scaling_dict_ideal,\n",
    "    plot_all_legs=False,\n",
    "    plot_min_max_legs=True,\n",
    "    trace_priority=\"bottom\",  # 'top' or 'bottom'\n",
    "    )\n",
    "\n",
    "data = volcano_legs_data + VP.data_points\n",
    "\n",
    "layout = VP.get_plotly_layout()\n",
    "\n",
    "fig = go.Figure(\n",
    "    data=data,\n",
    "    layout=layout,\n",
    "    )\n",
    "\n",
    "my_plotly_plot(\n",
    "    figure=fig,\n",
    "    plot_name=\"out_plot_02_large\")\n",
    "\n",
    "fig.show()"
   ]
  },
  {
   "cell_type": "code",
   "execution_count": null,
   "metadata": {},
   "outputs": [],
   "source": [
    "df_ads.shape"
   ]
  },
  {
   "cell_type": "code",
   "execution_count": null,
   "metadata": {},
   "outputs": [],
   "source": [
    "df_ads"
   ]
  },
  {
   "cell_type": "raw",
   "metadata": {},
   "source": [
    "\n",
    "\n"
   ]
  },
  {
   "cell_type": "code",
   "execution_count": null,
   "metadata": {
    "jupyter": {}
   },
   "outputs": [],
   "source": [
    "# df_i[\"stoich\"] = stoich_i"
   ]
  },
  {
   "cell_type": "code",
   "execution_count": null,
   "metadata": {
    "jupyter": {}
   },
   "outputs": [],
   "source": [
    "# # df_m\n",
    "# df_i[\"stoich\"] = stoich_i\n",
    "\n",
    "# df_i"
   ]
  },
  {
   "cell_type": "code",
   "execution_count": null,
   "metadata": {
    "jupyter": {}
   },
   "outputs": [],
   "source": [
    "# assert False"
   ]
  },
  {
   "cell_type": "code",
   "execution_count": null,
   "metadata": {
    "jupyter": {}
   },
   "outputs": [],
   "source": [
    "# layout = \n",
    "\n",
    "# VP.get_plotly_layout?"
   ]
  }
 ],
 "metadata": {
  "jupytext": {
   "formats": "ipynb,py:light"
  },
  "kernelspec": {
   "display_name": "Python [conda env:PROJ_irox_oer] *",
   "language": "python",
   "name": "conda-env-PROJ_irox_oer-py"
  },
  "language_info": {
   "codemirror_mode": {
    "name": "ipython",
    "version": 3
   },
   "file_extension": ".py",
   "mimetype": "text/x-python",
   "name": "python",
   "nbconvert_exporter": "python",
   "pygments_lexer": "ipython3",
   "version": "3.6.11"
  }
 },
 "nbformat": 4,
 "nbformat_minor": 4
}
