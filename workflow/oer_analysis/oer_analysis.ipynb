{
 "cells": [
  {
   "cell_type": "markdown",
   "metadata": {},
   "source": [
    "# OER Volcano Plot\n",
    "---"
   ],
   "execution_count": null,
   "outputs": []
  },
  {
   "cell_type": "markdown",
   "metadata": {},
   "source": [
    "### Import Modules"
   ],
   "execution_count": null,
   "outputs": []
  },
  {
   "cell_type": "code",
   "execution_count": null,
   "metadata": {},
   "outputs": [],
   "source": [
    "import os\n",
    "print(os.getcwd())\n",
    "import sys\n",
    "import time; ti = time.time()\n",
    "\n",
    "sys.path.insert(\n",
    "    0, os.path.join(\n",
    "        os.environ[\"PROJ_irox\"],\n",
    "        \"data\"))\n",
    "\n",
    "# #########################################################\n",
    "# Python Modules\n",
    "import numpy as np\n",
    "\n",
    "import plotly.graph_objs as go\n",
    "# #########################################################\n",
    "# My Modules\n",
    "from oxr_reaction.oxr_plotting_classes.oxr_plot_volcano import Volcano_Plot\n",
    "from plotting.my_plotly import my_plotly_plot\n",
    "\n",
    "# #########################################################\n",
    "# Project Data\n",
    "from proj_data_irox import (\n",
    "    smart_format_dict,\n",
    "    gas_molec_dict,\n",
    "    scaling_dict_ideal,\n",
    "    )\n",
    "\n",
    "# #########################################################\n",
    "# Local Imports\n",
    "from local_methods import get_ORR_PLT"
   ]
  },
  {
   "cell_type": "code",
   "execution_count": null,
   "metadata": {},
   "outputs": [],
   "source": [
    "from methods import isnotebook    \n",
    "isnotebook_i = isnotebook()\n",
    "if isnotebook_i:\n",
    "    from tqdm.notebook import tqdm\n",
    "    verbose = True\n",
    "    show_plot = True\n",
    "else:\n",
    "    from tqdm import tqdm\n",
    "    verbose = False\n",
    "    show_plot = False"
   ]
  },
  {
   "cell_type": "markdown",
   "metadata": {},
   "source": [
    "### Script Inputs"
   ],
   "execution_count": null,
   "outputs": []
  },
  {
   "cell_type": "code",
   "execution_count": null,
   "metadata": {},
   "outputs": [],
   "source": [
    "save_plot = False\n",
    "plot_exp_traces = True"
   ]
  },
  {
   "cell_type": "raw",
   "metadata": {},
   "source": [
    "\n"
   ],
   "execution_count": null,
   "outputs": []
  },
  {
   "cell_type": "code",
   "execution_count": null,
   "metadata": {},
   "outputs": [],
   "source": [
    "%%capture\n",
    "\n",
    "ORR_PLT = get_ORR_PLT()"
   ]
  },
  {
   "cell_type": "code",
   "execution_count": null,
   "metadata": {},
   "outputs": [],
   "source": [
    "# assert False"
   ]
  },
  {
   "cell_type": "code",
   "execution_count": null,
   "metadata": {},
   "outputs": [],
   "source": [
    "plot_range = {\n",
    "    \"y\": [3.7, 1.2],\n",
    "    \"x\": [0.2, 3.3],\n",
    "    }\n",
    "\n",
    "VP = Volcano_Plot(\n",
    "    ORR_PLT,\n",
    "    x_ax_species=\"o-oh\",  # 'o-oh' or 'oh'\n",
    "    smart_format_dict=smart_format_dict,\n",
    "    plot_range=plot_range,\n",
    "    )\n",
    "\n",
    "VP.create_volcano_relations_plot()\n",
    "\n",
    "volcano_legs_data = VP.create_volcano_lines(\n",
    "    gas_molec_dict=gas_molec_dict,\n",
    "    scaling_dict=scaling_dict_ideal,\n",
    "    plot_all_legs=False,\n",
    "    plot_min_max_legs=True,\n",
    "    trace_priority=\"bottom\",  # 'top' or 'bottom'\n",
    "    )\n",
    "\n",
    "data = volcano_legs_data + VP.data_points\n",
    "\n",
    "layout = VP.get_plotly_layout()\n",
    "\n",
    "fig = go.Figure(\n",
    "    data=data,\n",
    "    layout=layout,\n",
    "    )\n",
    "\n",
    "# print(\"Commented out\")\n",
    "my_plotly_plot(\n",
    "    figure=fig,\n",
    "    save_dir=os.path.join(\n",
    "        os.environ[\"PROJ_irox_oer\"],\n",
    "        \"workflow/oer_analysis\"),\n",
    "    plot_name=\"out_plot_02_large\")"
   ]
  },
  {
   "cell_type": "code",
   "execution_count": null,
   "metadata": {},
   "outputs": [],
   "source": [
    "if show_plot:\n",
    "    fig.show()"
   ]
  },
  {
   "cell_type": "code",
   "execution_count": null,
   "metadata": {},
   "outputs": [],
   "source": [
    "# #########################################################\n",
    "print(20 * \"# # \")\n",
    "print(\"All done!\")\n",
    "print(\"Run time:\", np.round((time.time() - ti) / 60, 3), \"min\")\n",
    "print(\"oer_analysis.ipynb\")\n",
    "print(20 * \"# # \")\n",
    "# #########################################################"
   ]
  },
  {
   "cell_type": "raw",
   "metadata": {},
   "source": [
    "\n",
    "\n"
   ],
   "execution_count": null,
   "outputs": []
  },
  {
   "cell_type": "code",
   "execution_count": null,
   "metadata": {
    "jupyter": {}
   },
   "outputs": [],
   "source": [
    "# assert False"
   ]
  },
  {
   "cell_type": "code",
   "execution_count": null,
   "metadata": {
    "jupyter": {}
   },
   "outputs": [],
   "source": [
    "# print(list(paths_dict.keys()))\n",
    "# print(\"\")\n",
    "\n",
    "# tmp = [print(i) for i in paths_dict[\"vuvunira_55__72\"]]\n",
    "# tmp = [print(i) for i in paths_dict[\"rakawavo_17__25\"]]"
   ]
  },
  {
   "cell_type": "code",
   "execution_count": null,
   "metadata": {
    "jupyter": {}
   },
   "outputs": [],
   "source": [
    "# ORR_PLT"
   ]
  },
  {
   "cell_type": "code",
   "execution_count": null,
   "metadata": {
    "jupyter": {}
   },
   "outputs": [],
   "source": [
    "# # #########################################################\n",
    "# df_ads = get_df_ads()\n",
    "\n",
    "# df_ads = df_ads[~df_ads.g_oh.isna()]\n",
    "# df_m = df_ads\n",
    "\n",
    "# # #########################################################\n",
    "# df_jobs_paths = get_df_jobs_paths()\n",
    "\n",
    "# # #########################################################\n",
    "# df_jobs = get_df_jobs()\n",
    "\n",
    "# # #########################################################\n",
    "# df_jobs_anal = get_df_jobs_anal()\n",
    "\n",
    "# # #########################################################\n",
    "# from methods import get_df_dft\n",
    "# df_dft = get_df_dft()\n",
    "\n",
    "# # #########################################################\n",
    "# from methods import get_df_job_ids\n",
    "# df_job_ids = get_df_job_ids()"
   ]
  }
 ],
 "metadata": {
  "jupytext": {
   "encoding": "# -*- coding: utf-8 -*-",
   "formats": "ipynb,py:light"
  },
  "kernelspec": {
   "display_name": "Python [conda env:PROJ_irox_oer] *",
   "language": "python",
   "name": "conda-env-PROJ_irox_oer-py"
  },
  "language_info": {
   "codemirror_mode": {
    "name": "ipython",
    "version": 3
   },
   "file_extension": ".py",
   "mimetype": "text/x-python",
   "name": "python",
   "nbconvert_exporter": "python",
   "pygments_lexer": "ipython3",
   "version": "3.6.11"
  }
 },
 "nbformat": 4,
 "nbformat_minor": 4
}
