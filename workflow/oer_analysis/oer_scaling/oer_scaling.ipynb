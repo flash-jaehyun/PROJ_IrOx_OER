{
 "cells": [
  {
   "cell_type": "markdown",
   "metadata": {},
   "source": [
    "# Creating OER scaling plot from raw data, not my modules\n",
    "---"
   ],
   "execution_count": null,
   "outputs": []
  },
  {
   "cell_type": "markdown",
   "metadata": {},
   "source": [
    "### Import Modules"
   ],
   "execution_count": null,
   "outputs": []
  },
  {
   "cell_type": "code",
   "execution_count": null,
   "metadata": {
    "jupyter": {}
   },
   "outputs": [],
   "source": [
    "import os\n",
    "print(os.getcwd())\n",
    "import sys\n",
    "import time; ti = time.time()\n",
    "\n",
    "import copy\n",
    "\n",
    "import numpy as np\n",
    "\n",
    "from sklearn.metrics import mean_squared_error\n",
    "import plotly.graph_objs as go\n",
    "from plotly.subplots import make_subplots\n",
    "\n",
    "# #########################################################\n",
    "from proj_data import layout_shared as layout_shared_main\n",
    "from proj_data import scatter_shared_props as scatter_shared_props_main\n",
    "from proj_data import stoich_color_dict\n",
    "\n",
    "# #########################################################\n",
    "from methods import get_df_features_targets\n",
    "\n",
    "# #########################################################\n",
    "from layout import layout"
   ]
  },
  {
   "cell_type": "code",
   "execution_count": null,
   "metadata": {},
   "outputs": [],
   "source": [
    "from methods import isnotebook    \n",
    "isnotebook_i = isnotebook()\n",
    "if isnotebook_i:\n",
    "    from tqdm.notebook import tqdm\n",
    "    verbose = True\n",
    "    show_plot = True\n",
    "else:\n",
    "    from tqdm import tqdm\n",
    "    verbose = False\n",
    "    show_plot = False"
   ]
  },
  {
   "cell_type": "markdown",
   "metadata": {},
   "source": [
    "### Read Data"
   ],
   "execution_count": null,
   "outputs": []
  },
  {
   "cell_type": "code",
   "execution_count": null,
   "metadata": {},
   "outputs": [],
   "source": [
    "df_features_targets = get_df_features_targets()"
   ]
  },
  {
   "cell_type": "raw",
   "metadata": {},
   "source": [
    "\n"
   ],
   "execution_count": null,
   "outputs": []
  },
  {
   "cell_type": "code",
   "execution_count": null,
   "metadata": {},
   "outputs": [],
   "source": [
    "df_features_targets = df_features_targets.dropna(subset=[\n",
    "    (\"targets\", \"g_o\", \"\"),\n",
    "    (\"targets\", \"g_oh\", \"\"),\n",
    "    ])\n",
    "\n",
    "# df_targets = df_features_targets[\"targets\"].dropna()\n",
    "df_targets = df_features_targets[\"targets\"]\n",
    "\n",
    "x_array = df_targets[\"g_oh\"]\n",
    "y_array = df_targets[\"g_o\"]\n",
    "\n",
    "color_array = df_features_targets[\"format\"][\"color\"][\"stoich\"]"
   ]
  },
  {
   "cell_type": "code",
   "execution_count": null,
   "metadata": {},
   "outputs": [],
   "source": [
    "# print(111 * \"TEMP | \")\n",
    "# print(\"\")\n",
    "\n",
    "# df_features_targets.columns.tolist()\n",
    "\n",
    "# df_tmp = df_features_targets.loc[:, \n",
    "#     [\n",
    "#         ('format', 'color', 'stoich'),\n",
    "#         ('data', 'stoich', ''),\n",
    "#         ]\n",
    "#     ]\n",
    "\n",
    "# for index_i, row_i in df_tmp.iterrows():\n",
    "#     tmp = 42\n",
    "\n",
    "#     color_i = row_i[\"format\"][\"color\"][\"stoich\"]\n",
    "#     stoich_i = row_i[\"data\"][\"stoich\"][\"\"]\n",
    "\n",
    "#     # print(\"# \", stoich_i, \" '\", color_i, \"'\", sep=\"\")\n",
    "    \n",
    "#     if stoich_i == \"AB2\":\n",
    "#         if color_i == \"#46cf44\":\n",
    "#             tmp = 42\n",
    "#             # print(\"AB2 Good\")\n",
    "#         else:\n",
    "#             print(\"AB2 Bad\")\n",
    "\n",
    "#     if stoich_i == \"AB3\":\n",
    "#         if color_i == \"#42e3e3\":\n",
    "#             tmp = 42\n",
    "#             # print(\"AB3 Good\")\n",
    "#         else:\n",
    "#             print(\"AB3 Bad\")"
   ]
  },
  {
   "cell_type": "markdown",
   "metadata": {},
   "source": [
    "### Fitting data"
   ],
   "execution_count": null,
   "outputs": []
  },
  {
   "cell_type": "code",
   "execution_count": null,
   "metadata": {},
   "outputs": [],
   "source": [
    "x_poly = np.linspace(x_array.min() - 0.2, x_array.max() + 0.2, num=50)"
   ]
  },
  {
   "cell_type": "code",
   "execution_count": null,
   "metadata": {},
   "outputs": [],
   "source": [
    "z_1 = np.polyfit(\n",
    "    x_array, y_array,\n",
    "    1,\n",
    "    )\n",
    "\n",
    "p_1 = np.poly1d(z_1)\n",
    "\n",
    "print(\n",
    "    \"Polynomial Fit (1st order): \",\n",
    "    \"\\n\",\n",
    "    [np.round(i, 3) for i in list(z_1)],\n",
    "    sep=\"\")\n",
    "\n",
    "rmse_i = mean_squared_error(\n",
    "    y_array,\n",
    "    [p_1(i) for i in x_array],\n",
    "    squared=False)\n",
    "\n",
    "print(\n",
    "    \"RMSE (1st order): \",\n",
    "    rmse_i,\n",
    "    sep=\"\")\n",
    "\n",
    "y_poly_1 = [p_1(i) for i in x_poly]"
   ]
  },
  {
   "cell_type": "code",
   "execution_count": null,
   "metadata": {},
   "outputs": [],
   "source": [
    "z_2 = np.polyfit(\n",
    "    x_array, y_array,\n",
    "    2,\n",
    "    )\n",
    "\n",
    "p_2 = np.poly1d(z_2)\n",
    "\n",
    "print(\n",
    "    \"Polynomial Fit (2nd order): \",\n",
    "    \"\\n\",\n",
    "    [np.round(i, 3) for i in list(z_2)],\n",
    "    sep=\"\")\n",
    "\n",
    "rmse_i = mean_squared_error(\n",
    "    y_array,\n",
    "    [p_2(i) for i in x_array],\n",
    "    squared=False)\n",
    "\n",
    "print(\n",
    "    \"RMSE (2nd order): \",\n",
    "    rmse_i,\n",
    "    sep=\"\")\n",
    "\n",
    "y_poly_2 = [p_2(i) for i in x_poly]"
   ]
  },
  {
   "cell_type": "markdown",
   "metadata": {},
   "source": [
    "### Layout"
   ],
   "execution_count": null,
   "outputs": []
  },
  {
   "cell_type": "code",
   "execution_count": null,
   "metadata": {},
   "outputs": [],
   "source": [
    "layout_shared = copy.deepcopy(layout_shared_main)\n",
    "\n",
    "layout_master = layout_shared.update(\n",
    "    layout\n",
    "    )\n",
    "\n",
    "layout_master[\"xaxis\"][\"range\"] = [x_array.min() - 0.2, x_array.max() + 0.2]\n",
    "\n",
    "layout_master[\"title\"] = \"*O vs *OH Scaling Plot (1st and 2nd order fits)\""
   ]
  },
  {
   "cell_type": "markdown",
   "metadata": {},
   "source": [
    "### Instantiate scatter plots"
   ],
   "execution_count": null,
   "outputs": []
  },
  {
   "cell_type": "code",
   "execution_count": null,
   "metadata": {},
   "outputs": [],
   "source": [
    "trace_poly_1 = go.Scatter(\n",
    "    x=x_poly, y=y_poly_1,\n",
    "    mode=\"lines\",\n",
    "    line_color=\"grey\",\n",
    "    name=\"poly_fit (1st order)\",\n",
    "    )\n",
    "\n",
    "trace_poly_2 = go.Scatter(\n",
    "    x=x_poly, y=y_poly_2,\n",
    "    mode=\"lines\",\n",
    "    line_color=\"black\",\n",
    "    name=\"poly_fit (2nd order)\",\n",
    "    )"
   ]
  },
  {
   "cell_type": "code",
   "execution_count": null,
   "metadata": {},
   "outputs": [],
   "source": [
    "trace = go.Scatter(\n",
    "    x=x_array, y=y_array,\n",
    "    mode=\"markers\",\n",
    "    # marker_color=color_i,\n",
    "    marker_color=color_array,\n",
    "    name=\"main\",\n",
    "    )\n",
    "\n",
    "scatter_shared_props = copy.deepcopy(scatter_shared_props_main)\n",
    "\n",
    "trace = trace.update(\n",
    "    scatter_shared_props,\n",
    "    overwrite=False,\n",
    "    )"
   ]
  },
  {
   "cell_type": "markdown",
   "metadata": {},
   "source": [
    "### Instantiate figure"
   ],
   "execution_count": null,
   "outputs": []
  },
  {
   "cell_type": "code",
   "execution_count": null,
   "metadata": {},
   "outputs": [],
   "source": [
    "fig = go.Figure(\n",
    "    data=[\n",
    "        trace_poly_1,\n",
    "        trace_poly_2,\n",
    "        trace,\n",
    "        ],\n",
    "    layout=layout_master,\n",
    "    )\n",
    "\n",
    "fig.write_json(\n",
    "    os.path.join(\n",
    "        os.environ[\"PROJ_irox_oer\"],\n",
    "        \"workflow/oer_analysis/oer_scaling\", \n",
    "        \"out_plot/oer_scaling__O_vs_OH_plot.json\"))"
   ]
  },
  {
   "cell_type": "code",
   "execution_count": null,
   "metadata": {},
   "outputs": [],
   "source": [
    "if show_plot:\n",
    "    fig.show()"
   ]
  },
  {
   "cell_type": "raw",
   "metadata": {},
   "source": [
    "There seems to be some nonlinearities at weak bonding energies"
   ],
   "execution_count": null,
   "outputs": []
  },
  {
   "cell_type": "code",
   "execution_count": null,
   "metadata": {},
   "outputs": [],
   "source": [
    "# assert False"
   ]
  },
  {
   "cell_type": "raw",
   "metadata": {},
   "source": [
    "\n",
    "\n",
    "\n",
    "\n",
    "\n",
    "\n",
    "\n",
    "\n",
    "\n",
    "\n"
   ],
   "execution_count": null,
   "outputs": []
  },
  {
   "cell_type": "markdown",
   "metadata": {},
   "source": [
    "## Plotting Histogram"
   ],
   "execution_count": null,
   "outputs": []
  },
  {
   "cell_type": "code",
   "execution_count": null,
   "metadata": {},
   "outputs": [],
   "source": [
    "df_ab2 = df_features_targets[df_features_targets[\"data\"][\"stoich\"] == \"AB2\"]\n",
    "df_ab3 = df_features_targets[df_features_targets[\"data\"][\"stoich\"] == \"AB3\"]"
   ]
  },
  {
   "cell_type": "code",
   "execution_count": null,
   "metadata": {},
   "outputs": [],
   "source": [
    "print(\n",
    "\n",
    "    # \"\\n\",\n",
    "    \"AB2 \u0394G_O Mean: \",\n",
    "    df_ab2[\"targets\"][\"g_o\"].mean(),\n",
    "\n",
    "    \"\\n\",\n",
    "    \"AB3 \u0394G_O Mean: \",\n",
    "    df_ab3[\"targets\"][\"g_o\"].mean(),\n",
    "\n",
    "\n",
    "    \"\\n\",\n",
    "    \"diff: \",\n",
    "    df_ab3[\"targets\"][\"g_o\"].mean() - df_ab2[\"targets\"][\"g_o\"].mean(),\n",
    "\n",
    "    \"\\n\",\n",
    "    40 * \"-\",\n",
    "\n",
    "    \"\\n\",\n",
    "    \"AB2 \u0394G_OH Mean: \",\n",
    "    df_ab2[\"targets\"][\"g_oh\"].mean(),\n",
    "\n",
    "    \"\\n\",\n",
    "    \"AB3 \u0394G_OH Mean: \",\n",
    "    df_ab3[\"targets\"][\"g_oh\"].mean(),\n",
    "\n",
    "    \"\\n\",\n",
    "    \"diff: \",\n",
    "    df_ab3[\"targets\"][\"g_oh\"].mean() - df_ab2[\"targets\"][\"g_oh\"].mean(),\n",
    "\n",
    "    sep=\"\")"
   ]
  },
  {
   "cell_type": "code",
   "execution_count": null,
   "metadata": {},
   "outputs": [],
   "source": [
    "shared_layout_hist = go.Layout(\n",
    "    yaxis_title=\"N\",\n",
    "    barmode=\"overlay\",\n",
    "    )\n",
    "\n",
    "shared_trace_hist = dict(\n",
    "    opacity=0.55,\n",
    "    nbinsx=15,\n",
    "    )"
   ]
  },
  {
   "cell_type": "markdown",
   "metadata": {},
   "source": [
    "### Trying to get the number of data in bins to set y-axis range (NOT WORKING SO FAR)"
   ],
   "execution_count": null,
   "outputs": []
  },
  {
   "cell_type": "code",
   "execution_count": null,
   "metadata": {},
   "outputs": [],
   "source": [
    "# y_targets_list = [\n",
    "#     df_ab2.targets.g_oh,\n",
    "#     # df_ab3.targets.g_oh,\n",
    "#     # df_ab2.targets.g_o,\n",
    "#     # df_ab3.targets.g_o,\n",
    "#     ]\n",
    "\n",
    "# max_num_data_list = []\n",
    "# for y_target_i in y_targets_list:\n",
    "#     width = (y_target_i.max() - y_target_i.min()) / shared_trace_hist[\"nbinsx\"]\n",
    "\n",
    "#     num_data_in_sliver_list = []\n",
    "#     for i in np.linspace(y_target_i.min(), y_target_i.max(), 200):\n",
    "\n",
    "#         i_upper = i + width / 2\n",
    "#         i_lower = i - width / 2\n",
    "\n",
    "#         print(i_upper, i_lower)\n",
    "\n",
    "#         y_in_sliver = y_target_i[\n",
    "#             (y_target_i < i_upper) & \\\n",
    "#             (y_target_i > i_lower)\n",
    "#             ]\n",
    "\n",
    "#         num_data_in_sliver = y_in_sliver.shape[0]\n",
    "#         #print(num_data_in_sliver)\n",
    "#         num_data_in_sliver_list.append(num_data_in_sliver)\n",
    "\n",
    "#     max_num_data_in_sliver_i = np.max(num_data_in_sliver_list)\n",
    "#     print(max_num_data_in_sliver_i)\n",
    "#     print(\"\")\n",
    "#     max_num_data_list.append(max_num_data_in_sliver_i)\n",
    "\n",
    "# max_max_num_in_sliver = np.max(max_num_data_list)\n",
    "\n",
    "# max_max_num_in_sliver\n",
    "\n",
    "# # width = \n",
    "# (y_target_i.max() - y_target_i.min()) / shared_trace_hist[\"nbinsx\"]\n",
    "\n",
    "# # y_targets_list[0]\n",
    "\n",
    "# # y_in_sliver = \n",
    "# y_target_i[\n",
    "#     (y_target_i < 0.6) & \\\n",
    "#     (y_target_i > 0.4)\n",
    "#     ]"
   ]
  },
  {
   "cell_type": "markdown",
   "metadata": {},
   "source": [
    "### Instantiate *OH plots"
   ],
   "execution_count": null,
   "outputs": []
  },
  {
   "cell_type": "code",
   "execution_count": null,
   "metadata": {},
   "outputs": [],
   "source": [
    "%%capture\n",
    "\n",
    "fig_oh = go.Figure()\n",
    "\n",
    "fig_oh.add_trace(\n",
    "    go.Histogram(\n",
    "        x=df_ab2.targets.g_oh,\n",
    "        marker_color=stoich_color_dict[\"AB2\"],\n",
    "        name=\"AB2\",\n",
    "        ).update(dict1=shared_trace_hist)\n",
    "    )\n",
    "\n",
    "fig_oh.add_trace(\n",
    "    go.Histogram(\n",
    "        x=df_ab3.targets.g_oh,\n",
    "        marker_color=stoich_color_dict[\"AB3\"],\n",
    "        name=\"AB3\",\n",
    "        ).update(dict1=shared_trace_hist)\n",
    "    )\n",
    "\n",
    "# #########################################################\n",
    "# Layout manipulation\n",
    "layout_shared = copy.deepcopy(layout_shared_main)\n",
    "\n",
    "layout_shared.update(\n",
    "    go.Layout(\n",
    "        # title=\"TEMP01\",\n",
    "        xaxis=go.layout.XAxis(\n",
    "            title=\"\u0394G<sub>*OH</sub>\",\n",
    "            ),\n",
    "        ),\n",
    "    overwrite=False,\n",
    "    )\n",
    "\n",
    "layout_shared.update(shared_layout_hist)\n",
    "fig_oh.update_layout(dict1=layout_shared)"
   ]
  },
  {
   "cell_type": "markdown",
   "metadata": {},
   "source": [
    "### Instantiate *O plots"
   ],
   "execution_count": null,
   "outputs": []
  },
  {
   "cell_type": "code",
   "execution_count": null,
   "metadata": {},
   "outputs": [],
   "source": [
    "%%capture\n",
    "\n",
    "fig_o = go.Figure()\n",
    "\n",
    "fig_o.add_trace(\n",
    "    go.Histogram(\n",
    "        x=df_ab2.targets.g_o,\n",
    "        marker_color=stoich_color_dict[\"AB2\"],\n",
    "        name=\"AB2\",\n",
    "        ).update(dict1=shared_trace_hist)\n",
    "    )\n",
    "\n",
    "fig_o.add_trace(\n",
    "    go.Histogram(\n",
    "        x=df_ab3.targets.g_o,\n",
    "        marker_color=stoich_color_dict[\"AB3\"],\n",
    "        name=\"AB3\",\n",
    "        ).update(dict1=shared_trace_hist)\n",
    "    )\n",
    "\n",
    "# #########################################################\n",
    "# Layout manipulation\n",
    "layout_shared = copy.deepcopy(layout_shared_main)\n",
    "\n",
    "layout_shared.update(\n",
    "    go.Layout(\n",
    "        # title=\"\",\n",
    "        xaxis=go.layout.XAxis(\n",
    "            title=\"\u0394G<sub>*O</sub>\",\n",
    "            ),\n",
    "        ),\n",
    "    overwrite=False,\n",
    "    )\n",
    "\n",
    "layout_shared.update(shared_layout_hist)\n",
    "fig_o.update_layout(dict1=layout_shared)"
   ]
  },
  {
   "cell_type": "markdown",
   "metadata": {},
   "source": [
    "### Instantiate subplot"
   ],
   "execution_count": null,
   "outputs": []
  },
  {
   "cell_type": "code",
   "execution_count": null,
   "metadata": {},
   "outputs": [],
   "source": [
    "%%capture\n",
    "\n",
    "fig = make_subplots(rows=1, cols=2)\n",
    "\n",
    "for trace_i in fig_o.data:\n",
    "    fig.add_trace(\n",
    "        trace_i,\n",
    "        row=1, col=1,\n",
    "        )\n",
    "for trace_i in fig_oh.data:\n",
    "    fig.add_trace(\n",
    "        trace_i,\n",
    "        row=1, col=2,\n",
    "        )\n",
    "\n",
    "fig.update_layout(\n",
    "    height=600,\n",
    "    width=1000,\n",
    "    title_text=\"\u0394G<sub>*O</sub> and \u0394G<sub>*OH</sub> Histograms (eV)\",\n",
    "    )\n",
    "\n",
    "fig.update_layout(layout_shared_main)\n",
    "fig.update_layout(shared_layout_hist)\n",
    "\n",
    "fig.update_xaxes(\n",
    "    fig_o.layout[\"xaxis\"],\n",
    "    row=1, col=1,\n",
    "    overwrite=False,\n",
    "    )\n",
    "fig.update_xaxes(\n",
    "    fig_oh.layout[\"xaxis\"],\n",
    "    row=1, col=2,\n",
    "    overwrite=False,\n",
    "    )\n",
    "\n",
    "\n",
    "y_range_ub = 45\n",
    "\n",
    "fig.update_yaxes(\n",
    "    fig_o.layout[\"yaxis\"].update(\n",
    "        range=[0, y_range_ub],\n",
    "        ),\n",
    "    row=1, col=1,\n",
    "    overwrite=False,\n",
    "    )\n",
    "fig.update_yaxes(\n",
    "    fig_oh.layout[\"yaxis\"].update(\n",
    "        range=[0, y_range_ub],\n",
    "        ),\n",
    "\n",
    "    row=1, col=2,\n",
    "    overwrite=False,\n",
    "    )"
   ]
  },
  {
   "cell_type": "markdown",
   "metadata": {},
   "source": [
    "### Saving plot to json"
   ],
   "execution_count": null,
   "outputs": []
  },
  {
   "cell_type": "code",
   "execution_count": null,
   "metadata": {},
   "outputs": [],
   "source": [
    "fig.write_json(\n",
    "    os.path.join(\n",
    "        os.environ[\"PROJ_irox_oer\"],\n",
    "        \"workflow/oer_analysis/oer_scaling\", \n",
    "        \"out_plot/oer_scaling__O_OH_histogram.json\"))"
   ]
  },
  {
   "cell_type": "code",
   "execution_count": null,
   "metadata": {},
   "outputs": [],
   "source": [
    "if show_plot:\n",
    "    fig.show()"
   ]
  },
  {
   "cell_type": "code",
   "execution_count": null,
   "metadata": {},
   "outputs": [],
   "source": [
    "# #########################################################\n",
    "print(20 * \"# # \")\n",
    "print(\"All done!\")\n",
    "print(\"Run time:\", np.round((time.time() - ti) / 60, 3), \"min\")\n",
    "print(\"oer_scaling.ipynb\")\n",
    "print(20 * \"# # \")\n",
    "# #########################################################"
   ]
  },
  {
   "cell_type": "raw",
   "metadata": {},
   "source": [
    "\n",
    "\n"
   ],
   "execution_count": null,
   "outputs": []
  },
  {
   "cell_type": "code",
   "execution_count": null,
   "metadata": {
    "jupyter": {}
   },
   "outputs": [],
   "source": [
    "# stoich_color_dict[\"AB2\"]\n",
    "\n",
    "# go.Histogram?"
   ]
  },
  {
   "cell_type": "code",
   "execution_count": null,
   "metadata": {
    "jupyter": {}
   },
   "outputs": [],
   "source": [
    "# df_features_targets.head()\n",
    "\n",
    "# df_features_targets.columns.tolist()"
   ]
  },
  {
   "cell_type": "code",
   "execution_count": null,
   "metadata": {
    "jupyter": {}
   },
   "outputs": [],
   "source": [
    "# color_i"
   ]
  },
  {
   "cell_type": "code",
   "execution_count": null,
   "metadata": {
    "jupyter": {}
   },
   "outputs": [],
   "source": [
    "# print(len(x_array))\n",
    "# print(len(y_array))\n",
    "# print(len(color_i))"
   ]
  },
  {
   "cell_type": "code",
   "execution_count": null,
   "metadata": {
    "jupyter": {}
   },
   "outputs": [],
   "source": [
    "# df_targets.sort_values(\"g_oh\")"
   ]
  }
 ],
 "metadata": {
  "jupytext": {
   "encoding": "# -*- coding: utf-8 -*-",
   "formats": "ipynb,py:light"
  },
  "kernelspec": {
   "display_name": "Python [conda env:PROJ_irox_oer] *",
   "language": "python",
   "name": "conda-env-PROJ_irox_oer-py"
  },
  "language_info": {
   "codemirror_mode": {
    "name": "ipython",
    "version": 3
   },
   "file_extension": ".py",
   "mimetype": "text/x-python",
   "name": "python",
   "nbconvert_exporter": "python",
   "pygments_lexer": "ipython3",
   "version": "3.6.10"
  }
 },
 "nbformat": 4,
 "nbformat_minor": 4
}
