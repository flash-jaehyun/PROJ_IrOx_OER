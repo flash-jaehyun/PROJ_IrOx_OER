{
 "cells": [
  {
   "cell_type": "markdown",
   "metadata": {},
   "source": [
    "# Import Modules"
   ]
  },
  {
   "cell_type": "code",
   "execution_count": 1,
   "metadata": {},
   "outputs": [
    {
     "name": "stdout",
     "output_type": "stream",
     "text": [
      "/home/raulf2012/Dropbox/01_norskov/00_git_repos/PROJ_IrOx_OER/workflow/feature_engineering/oxid_state\n"
     ]
    }
   ],
   "source": [
    "import os\n",
    "print(os.getcwd())\n",
    "import sys\n",
    "\n",
    "# import numpy as np\n",
    "import pandas as pd\n",
    "\n",
    "# #########################################################\n",
    "from proj_data import metal_atom_symbol\n",
    "\n",
    "from methods import (\n",
    "    get_df_jobs_anal,\n",
    "    get_df_atoms_sorted_ind,\n",
    "    get_df_active_sites,\n",
    "    get_df_coord,\n",
    "    )\n",
    "\n",
    "# #########################################################\n",
    "from local_methods import get_effective_ox_state"
   ]
  },
  {
   "cell_type": "markdown",
   "metadata": {},
   "source": [
    "# Script Inputs"
   ]
  },
  {
   "cell_type": "code",
   "execution_count": 2,
   "metadata": {},
   "outputs": [],
   "source": [
    "# verbose = True\n",
    "verbose = False"
   ]
  },
  {
   "cell_type": "markdown",
   "metadata": {},
   "source": [
    "# Read Data"
   ]
  },
  {
   "cell_type": "code",
   "execution_count": 3,
   "metadata": {},
   "outputs": [],
   "source": [
    "df_jobs_anal = get_df_jobs_anal()\n",
    "\n",
    "df_atoms_sorted_ind = get_df_atoms_sorted_ind()\n",
    "\n",
    "df_active_sites = get_df_active_sites()"
   ]
  },
  {
   "cell_type": "raw",
   "metadata": {},
   "source": [
    "\n",
    "\n"
   ]
  },
  {
   "cell_type": "code",
   "execution_count": 4,
   "metadata": {},
   "outputs": [],
   "source": [
    "# df_jobs_anal[df_jobs_anal.job_id_max == \"vupihona_68\"].index.tolist()"
   ]
  },
  {
   "cell_type": "code",
   "execution_count": 5,
   "metadata": {},
   "outputs": [],
   "source": [
    "# df_jobs_anal = df_jobs_anal.loc[\n",
    "#     [('nersc', 'galopuba_86', 'o', 'NaN', 1)]\n",
    "#     ]"
   ]
  },
  {
   "cell_type": "code",
   "execution_count": 6,
   "metadata": {},
   "outputs": [],
   "source": [
    "df_jobs_anal_i =  df_jobs_anal[df_jobs_anal.job_completely_done == True]\n",
    "\n",
    "idx = pd.IndexSlice\n",
    "df_jobs_anal_i = df_jobs_anal_i.loc[idx[:, :, \"o\", :, :], :]\n",
    "\n",
    "# #########################################################\n",
    "data_dict_list = []\n",
    "for name_i, row_i in df_jobs_anal_i.iterrows():\n",
    "    if verbose:\n",
    "        name_concat_i = \"_\".join([str(i) for i in list(name_i)])\n",
    "        print(40 * \"=\")\n",
    "        print(name_concat_i)\n",
    "\n",
    "    # #####################################################\n",
    "    name_dict_i = dict(zip(\n",
    "        list(df_jobs_anal_i.index.names),\n",
    "        list(name_i)))\n",
    "    # #####################################################\n",
    "    compenv_i = name_i[0]\n",
    "    slab_id_i = name_i[1]\n",
    "    ads_i = name_i[2]\n",
    "    active_site_i = name_i[3]\n",
    "    att_num_i = name_i[4]\n",
    "    # #####################################################\n",
    "\n",
    "\n",
    "    # #####################################################\n",
    "    row_atoms_i = df_atoms_sorted_ind.loc[name_i]\n",
    "    # #####################################################\n",
    "    atoms_sorted_good_i = row_atoms_i.atoms_sorted_good\n",
    "    # #####################################################\n",
    "    atoms = atoms_sorted_good_i\n",
    "\n",
    "    # #####################################################\n",
    "    row_sites_i = df_active_sites.loc[slab_id_i]\n",
    "    # #####################################################\n",
    "    active_sites_unique_i = row_sites_i.active_sites_unique\n",
    "    # #####################################################\n",
    "\n",
    "    \n",
    "    for active_site_j in active_sites_unique_i:\n",
    "        data_dict_j = dict()\n",
    "        if verbose:\n",
    "            print(\"\\t\", \"active_site_j:\", active_site_j)\n",
    "\n",
    "        # #################################################\n",
    "        name_i = (\n",
    "            compenv_i, slab_id_i, ads_i,\n",
    "            active_site_i, att_num_i)\n",
    "        df_coord_i = get_df_coord(\n",
    "            mode=\"post-dft\",\n",
    "            post_dft_name_tuple=name_i)\n",
    "\n",
    "        eff_ox_j = get_effective_ox_state(\n",
    "            df_coord_i=df_coord_i,\n",
    "            active_site_j=active_site_j,\n",
    "            metal_atom_symbol=metal_atom_symbol)\n",
    "        # #################################################\n",
    "\n",
    "        # #################################################\n",
    "        data_dict_j.update(name_dict_i)\n",
    "        data_dict_j[\"eff_oxid_state\"] = eff_ox_j\n",
    "        data_dict_j[\"active_site\"] = active_site_j\n",
    "        # data_dict_j[\"\"] = \n",
    "        # data_dict_j[\"\"] = \n",
    "        # data_dict_j[\"\"] = \n",
    "        # data_dict_j[\"\"] = \n",
    "        # #################################################\n",
    "        data_dict_list.append(data_dict_j)\n",
    "        # #################################################"
   ]
  },
  {
   "cell_type": "code",
   "execution_count": 7,
   "metadata": {},
   "outputs": [
    {
     "data": {
      "text/html": [
       "<div>\n",
       "<style scoped>\n",
       "    .dataframe tbody tr th:only-of-type {\n",
       "        vertical-align: middle;\n",
       "    }\n",
       "\n",
       "    .dataframe tbody tr th {\n",
       "        vertical-align: top;\n",
       "    }\n",
       "\n",
       "    .dataframe thead th {\n",
       "        text-align: right;\n",
       "    }\n",
       "</style>\n",
       "<table border=\"1\" class=\"dataframe\">\n",
       "  <thead>\n",
       "    <tr style=\"text-align: right;\">\n",
       "      <th></th>\n",
       "      <th>compenv</th>\n",
       "      <th>slab_id</th>\n",
       "      <th>ads</th>\n",
       "      <th>active_site</th>\n",
       "      <th>att_num</th>\n",
       "      <th>eff_oxid_state</th>\n",
       "    </tr>\n",
       "  </thead>\n",
       "  <tbody>\n",
       "    <tr>\n",
       "      <th>0</th>\n",
       "      <td>nersc</td>\n",
       "      <td>fosurufu_23</td>\n",
       "      <td>o</td>\n",
       "      <td>43</td>\n",
       "      <td>1</td>\n",
       "      <td>7.333333</td>\n",
       "    </tr>\n",
       "    <tr>\n",
       "      <th>1</th>\n",
       "      <td>nersc</td>\n",
       "      <td>fosurufu_23</td>\n",
       "      <td>o</td>\n",
       "      <td>45</td>\n",
       "      <td>1</td>\n",
       "      <td>7.333333</td>\n",
       "    </tr>\n",
       "    <tr>\n",
       "      <th>2</th>\n",
       "      <td>nersc</td>\n",
       "      <td>galopuba_86</td>\n",
       "      <td>o</td>\n",
       "      <td>21</td>\n",
       "      <td>1</td>\n",
       "      <td>6.000000</td>\n",
       "    </tr>\n",
       "    <tr>\n",
       "      <th>3</th>\n",
       "      <td>nersc</td>\n",
       "      <td>gubufafu_74</td>\n",
       "      <td>o</td>\n",
       "      <td>16</td>\n",
       "      <td>1</td>\n",
       "      <td>8.000000</td>\n",
       "    </tr>\n",
       "    <tr>\n",
       "      <th>4</th>\n",
       "      <td>nersc</td>\n",
       "      <td>gubufafu_74</td>\n",
       "      <td>o</td>\n",
       "      <td>20</td>\n",
       "      <td>1</td>\n",
       "      <td>8.000000</td>\n",
       "    </tr>\n",
       "  </tbody>\n",
       "</table>\n",
       "</div>"
      ],
      "text/plain": [
       "  compenv      slab_id ads  active_site  att_num  eff_oxid_state\n",
       "0   nersc  fosurufu_23   o           43        1        7.333333\n",
       "1   nersc  fosurufu_23   o           45        1        7.333333\n",
       "2   nersc  galopuba_86   o           21        1        6.000000\n",
       "3   nersc  gubufafu_74   o           16        1        8.000000\n",
       "4   nersc  gubufafu_74   o           20        1        8.000000"
      ]
     },
     "execution_count": 7,
     "metadata": {},
     "output_type": "execute_result"
    }
   ],
   "source": [
    "# eff_oxid_state.tolist()\n",
    "df_eff_ox =  pd.DataFrame(data_dict_list)\n",
    "df_eff_ox.head()"
   ]
  },
  {
   "cell_type": "code",
   "execution_count": 17,
   "metadata": {},
   "outputs": [],
   "source": [
    "# # Pickling data ###########################################\n",
    "# import os; import pickle\n",
    "# directory = \"out_data\"\n",
    "# if not os.path.exists(directory): os.makedirs(directory)\n",
    "# with open(os.path.join(directory, \"df_eff_ox.pickle\"), \"wb\") as fle:\n",
    "#     pickle.dump(df_eff_ox, fle)\n",
    "# # #########################################################"
   ]
  },
  {
   "cell_type": "code",
   "execution_count": null,
   "metadata": {},
   "outputs": [],
   "source": [
    "root_path_i = os.path.join(\n",
    "    os.environ[\"PROJ_irox_oer\"],\n",
    "    \"workflow/feature_engineering/oxid_state\")\n",
    "\n",
    "# Pickling data ###########################################\n",
    "import os; import pickle\n",
    "directory = os.path.join(root_path_i, \"out_data\")\n",
    "if not os.path.exists(directory): os.makedirs(directory)\n",
    "path_i = os.path.join(root_path_i, \"out_data/df_eff_ox.pickle\")\n",
    "with open(path_i, \"wb\") as fle:\n",
    "    pickle.dump(df_eff_ox, fle)\n",
    "# #########################################################\n",
    "\n",
    "# #########################################################\n",
    "import pickle; import os\n",
    "with open(path_i, \"rb\") as fle:\n",
    "    df_eff_ox = pickle.load(fle)\n",
    "# #########################################################"
   ]
  },
  {
   "cell_type": "code",
   "execution_count": 9,
   "metadata": {},
   "outputs": [
    {
     "data": {
      "text/html": [
       "<div>\n",
       "<style scoped>\n",
       "    .dataframe tbody tr th:only-of-type {\n",
       "        vertical-align: middle;\n",
       "    }\n",
       "\n",
       "    .dataframe tbody tr th {\n",
       "        vertical-align: top;\n",
       "    }\n",
       "\n",
       "    .dataframe thead th {\n",
       "        text-align: right;\n",
       "    }\n",
       "</style>\n",
       "<table border=\"1\" class=\"dataframe\">\n",
       "  <thead>\n",
       "    <tr style=\"text-align: right;\">\n",
       "      <th></th>\n",
       "      <th>compenv</th>\n",
       "      <th>slab_id</th>\n",
       "      <th>ads</th>\n",
       "      <th>active_site</th>\n",
       "      <th>att_num</th>\n",
       "      <th>eff_oxid_state</th>\n",
       "    </tr>\n",
       "  </thead>\n",
       "  <tbody>\n",
       "    <tr>\n",
       "      <th>0</th>\n",
       "      <td>nersc</td>\n",
       "      <td>fosurufu_23</td>\n",
       "      <td>o</td>\n",
       "      <td>43</td>\n",
       "      <td>1</td>\n",
       "      <td>7.333333</td>\n",
       "    </tr>\n",
       "    <tr>\n",
       "      <th>1</th>\n",
       "      <td>nersc</td>\n",
       "      <td>fosurufu_23</td>\n",
       "      <td>o</td>\n",
       "      <td>45</td>\n",
       "      <td>1</td>\n",
       "      <td>7.333333</td>\n",
       "    </tr>\n",
       "    <tr>\n",
       "      <th>2</th>\n",
       "      <td>nersc</td>\n",
       "      <td>galopuba_86</td>\n",
       "      <td>o</td>\n",
       "      <td>21</td>\n",
       "      <td>1</td>\n",
       "      <td>6.000000</td>\n",
       "    </tr>\n",
       "    <tr>\n",
       "      <th>3</th>\n",
       "      <td>nersc</td>\n",
       "      <td>gubufafu_74</td>\n",
       "      <td>o</td>\n",
       "      <td>16</td>\n",
       "      <td>1</td>\n",
       "      <td>8.000000</td>\n",
       "    </tr>\n",
       "    <tr>\n",
       "      <th>4</th>\n",
       "      <td>nersc</td>\n",
       "      <td>gubufafu_74</td>\n",
       "      <td>o</td>\n",
       "      <td>20</td>\n",
       "      <td>1</td>\n",
       "      <td>8.000000</td>\n",
       "    </tr>\n",
       "  </tbody>\n",
       "</table>\n",
       "</div>"
      ],
      "text/plain": [
       "  compenv      slab_id ads  active_site  att_num  eff_oxid_state\n",
       "0   nersc  fosurufu_23   o           43        1        7.333333\n",
       "1   nersc  fosurufu_23   o           45        1        7.333333\n",
       "2   nersc  galopuba_86   o           21        1        6.000000\n",
       "3   nersc  gubufafu_74   o           16        1        8.000000\n",
       "4   nersc  gubufafu_74   o           20        1        8.000000"
      ]
     },
     "execution_count": 9,
     "metadata": {},
     "output_type": "execute_result"
    }
   ],
   "source": [
    "from methods import get_df_eff_ox\n",
    "\n",
    "df_eff_ox_tmp = get_df_eff_ox()\n",
    "df_eff_ox_tmp.head()"
   ]
  },
  {
   "cell_type": "code",
   "execution_count": 10,
   "metadata": {},
   "outputs": [],
   "source": [
    "# # #########################################################\n",
    "# import pickle; import os\n",
    "# path_i = os.path.join(\n",
    "#     os.environ[\"PROJ_irox_oer\"],\n",
    "#     \"workflow/feature_engineering\",\n",
    "#     \"out_data/df_eff_ox.pickle\")\n",
    "# with open(path_i, \"rb\") as fle:\n",
    "#     df_eff_ox = pickle.load(fle)\n",
    "# # #########################################################"
   ]
  },
  {
   "cell_type": "code",
   "execution_count": 11,
   "metadata": {},
   "outputs": [],
   "source": [
    "# /home/raulf2012/Dropbox/01_norskov/00_git_repos/PROJ_IrOx_OER/workflow/feature_engineering\n"
   ]
  },
  {
   "cell_type": "raw",
   "metadata": {},
   "source": [
    "\n",
    "\n",
    "\n"
   ]
  },
  {
   "cell_type": "code",
   "execution_count": 12,
   "metadata": {},
   "outputs": [],
   "source": [
    "# atoms.write(\"tmp.traj\")\n",
    "# atoms.write(\"tmp.cif\")"
   ]
  },
  {
   "cell_type": "raw",
   "metadata": {},
   "source": [
    "\n",
    "\n"
   ]
  },
  {
   "cell_type": "code",
   "execution_count": 13,
   "metadata": {
    "jupyter": {
     "source_hidden": true
    }
   },
   "outputs": [],
   "source": [
    "# df_jobs_anal_i"
   ]
  },
  {
   "cell_type": "code",
   "execution_count": 14,
   "metadata": {
    "jupyter": {
     "source_hidden": true
    }
   },
   "outputs": [],
   "source": [
    "# def get_effective_ox_state(\n",
    "#     df_coord_i=None,\n",
    "#     ):\n",
    "#     \"\"\"\n",
    "#     \"\"\"\n",
    "#     #| - get_effective_ox_state\n",
    "#     df_coord_i = df_coord_i.set_index(\"structure_index\", drop=False)\n",
    "\n",
    "#     # #########################################################\n",
    "#     # row_coord_i = df_coord_i.loc[21]\n",
    "#     row_coord_i = df_coord_i.loc[active_site_j]\n",
    "\n",
    "#     nn_info_i = row_coord_i.nn_info\n",
    "\n",
    "#     neighbor_count_i = row_coord_i.neighbor_count\n",
    "#     num_Ir_neigh = neighbor_count_i.get(\"Ir\", 0)\n",
    "\n",
    "#     mess_i = \"For now only deal with active sites that have 1 Ir neighbor\"\n",
    "#     assert num_Ir_neigh == 1, mess_i\n",
    "\n",
    "#     for j_cnt, nn_j in enumerate(nn_info_i):\n",
    "#         site_j = nn_j[\"site\"]\n",
    "#         elem_j = site_j.as_dict()[\"species\"][0][\"element\"]\n",
    "\n",
    "#         if elem_j == metal_atom_symbol:\n",
    "#             corr_j_cnt = j_cnt\n",
    "\n",
    "#     site_j = nn_info_i[corr_j_cnt]\n",
    "#     metal_index = site_j[\"site_index\"]\n",
    "\n",
    "#     # #########################################################\n",
    "#     row_coord_i = df_coord_i.loc[metal_index]\n",
    "\n",
    "#     neighbor_count_i = row_coord_i[\"neighbor_count\"]\n",
    "\n",
    "#     num_O_neigh = neighbor_count_i.get(\"O\", 0)\n",
    "\n",
    "#     mess_i = \"There should be exactly 6 oxygens about the Ir atom\"\n",
    "#     assert num_O_neigh == 6, mess_i\n",
    "\n",
    "#     num_neighbors_i = row_coord_i.num_neighbors\n",
    "\n",
    "#     mess_i = \"Only 6 neighbors total is allowed, all oxygens\"\n",
    "#     assert num_neighbors_i == 6, mess_i\n",
    "\n",
    "#     nn_info_i =  row_coord_i.nn_info\n",
    "\n",
    "\n",
    "#     # #########################################################\n",
    "#     second_shell_coord_list = []\n",
    "#     tmp_list = []\n",
    "#     for nn_j in nn_info_i:\n",
    "#         tmp = 42\n",
    "\n",
    "#         site_index = nn_j[\"site_index\"]\n",
    "\n",
    "#         row_coord_j = df_coord_i.loc[site_index]\n",
    "\n",
    "#         neighbor_count_j = row_coord_j.neighbor_count\n",
    "\n",
    "#         num_Ir_neigh_j = neighbor_count_j.get(\"Ir\", 0)\n",
    "\n",
    "#         # print(\"num_Ir_neigh_j:\", num_Ir_neigh_j)\n",
    "\n",
    "#         second_shell_coord_list.append(num_Ir_neigh_j)\n",
    "\n",
    "#         tmp_list.append(2 / num_Ir_neigh_j)\n",
    "\n",
    "#     # second_shell_coord_list\n",
    "#     effective_ox_state = np.sum(tmp_list)\n",
    "#     #__|"
   ]
  },
  {
   "cell_type": "code",
   "execution_count": 15,
   "metadata": {},
   "outputs": [],
   "source": [
    "# \"_\".join([str(i) for i in list(name_i)])"
   ]
  },
  {
   "cell_type": "code",
   "execution_count": 16,
   "metadata": {},
   "outputs": [],
   "source": [
    "# atoms\n",
    "# atoms\n",
    "# row_i"
   ]
  }
 ],
 "metadata": {
  "jupytext": {
   "formats": "ipynb,py:light"
  },
  "kernelspec": {
   "display_name": "Python [conda env:PROJ_irox_oer] *",
   "language": "python",
   "name": "conda-env-PROJ_irox_oer-py"
  },
  "language_info": {
   "codemirror_mode": {
    "name": "ipython",
    "version": 3
   },
   "file_extension": ".py",
   "mimetype": "text/x-python",
   "name": "python",
   "nbconvert_exporter": "python",
   "pygments_lexer": "ipython3",
   "version": "3.6.11"
  }
 },
 "nbformat": 4,
 "nbformat_minor": 4
}
