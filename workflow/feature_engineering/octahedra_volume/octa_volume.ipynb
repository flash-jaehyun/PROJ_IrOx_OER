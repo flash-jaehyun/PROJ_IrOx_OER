{
 "cells": [
  {
   "cell_type": "markdown",
   "metadata": {},
   "source": [
    "# Calculating the octahedral volume and other geometric quantities\n",
    "---"
   ]
  },
  {
   "cell_type": "markdown",
   "metadata": {},
   "source": [
    "# Import Modules"
   ]
  },
  {
   "cell_type": "code",
   "execution_count": 1,
   "metadata": {},
   "outputs": [
    {
     "name": "stdout",
     "output_type": "stream",
     "text": [
      "/home/raulf2012/Dropbox/01_norskov/00_git_repos/PROJ_IrOx_OER/workflow/feature_engineering/octahedra_volume\n"
     ]
    }
   ],
   "source": [
    "import os\n",
    "print(os.getcwd())\n",
    "import sys\n",
    "import time; ti = time.time()\n",
    "\n",
    "import copy\n",
    "\n",
    "import numpy as np\n",
    "import pandas as pd\n",
    "\n",
    "# pd.set_option(\"display.max_columns\", None)\n",
    "pd.set_option('display.max_rows', None)\n",
    "# pd.options.display.max_colwidth = 100\n",
    "\n",
    "# #########################################################\n",
    "from proj_data import metal_atom_symbol\n",
    "metal_atom_symbol_i = metal_atom_symbol\n",
    "\n",
    "from methods import (\n",
    "    get_df_jobs_anal,\n",
    "    get_df_atoms_sorted_ind,\n",
    "    get_df_active_sites,\n",
    "    get_df_coord,\n",
    "    )\n",
    "\n",
    "# #########################################################\n",
    "# from local_methods import process_row\n",
    "from local_methods import process_row_2 as process_row"
   ]
  },
  {
   "cell_type": "code",
   "execution_count": 2,
   "metadata": {},
   "outputs": [],
   "source": [
    "from methods import isnotebook    \n",
    "isnotebook_i = isnotebook()\n",
    "if isnotebook_i:\n",
    "    from tqdm.notebook import tqdm\n",
    "    verbose = True\n",
    "else:\n",
    "    from tqdm import tqdm\n",
    "    verbose = False"
   ]
  },
  {
   "cell_type": "markdown",
   "metadata": {},
   "source": [
    "# Read Data"
   ]
  },
  {
   "cell_type": "code",
   "execution_count": 3,
   "metadata": {},
   "outputs": [],
   "source": [
    "df_jobs_anal = get_df_jobs_anal()\n",
    "df_jobs_anal_i = df_jobs_anal\n",
    "\n",
    "df_atoms_sorted_ind = get_df_atoms_sorted_ind()\n",
    "\n",
    "df_active_sites = get_df_active_sites()"
   ]
  },
  {
   "cell_type": "raw",
   "metadata": {},
   "source": [
    "\n",
    "\n"
   ]
  },
  {
   "cell_type": "code",
   "execution_count": 4,
   "metadata": {},
   "outputs": [],
   "source": [
    "sys.path.insert(0,\n",
    "    os.path.join(\n",
    "        os.environ[\"PROJ_irox_oer\"],\n",
    "        \"workflow/feature_engineering\"))\n",
    "\n",
    "from feature_engineering_methods import get_df_feat_rows\n",
    "df_feat_rows = get_df_feat_rows(\n",
    "    df_jobs_anal=df_jobs_anal,\n",
    "    df_atoms_sorted_ind=df_atoms_sorted_ind,\n",
    "    df_active_sites=df_active_sites,\n",
    "    )"
   ]
  },
  {
   "cell_type": "code",
   "execution_count": 11,
   "metadata": {},
   "outputs": [],
   "source": [
    "# print(222 * \"TEMP | \")\n",
    "# verbose = False"
   ]
  },
  {
   "cell_type": "code",
   "execution_count": 6,
   "metadata": {},
   "outputs": [
    {
     "data": {
      "application/vnd.jupyter.widget-view+json": {
       "model_id": "ae3e5e68d02744ed905bcc04b69f7188",
       "version_major": 2,
       "version_minor": 0
      },
      "text/plain": [
       "HBox(children=(FloatProgress(value=0.0, description='1st loop', max=1655.0, style=ProgressStyle(description_wi…"
      ]
     },
     "metadata": {},
     "output_type": "display_data"
    },
    {
     "name": "stdout",
     "output_type": "stream",
     "text": [
      "\n"
     ]
    }
   ],
   "source": [
    "# #########################################################\n",
    "data_dict_list = []\n",
    "# #########################################################\n",
    "iterator = tqdm(df_feat_rows.index, desc=\"1st loop\")\n",
    "for i_cnt, index_i in enumerate(iterator):\n",
    "    # #####################################################\n",
    "    row_i = df_feat_rows.loc[index_i]\n",
    "    # #####################################################\n",
    "    compenv_i = row_i.compenv\n",
    "    slab_id_i = row_i.slab_id\n",
    "    ads_i = row_i.ads\n",
    "    active_site_orig_i = row_i.active_site_orig\n",
    "    att_num_i = row_i.att_num\n",
    "    job_id_max_i = row_i.job_id_max\n",
    "    active_site_i = row_i.active_site\n",
    "    # #####################################################\n",
    "\n",
    "    if active_site_orig_i == \"NaN\":\n",
    "        from_oh_i = False\n",
    "    else:\n",
    "        from_oh_i = True\n",
    "\n",
    "    name_i = (\n",
    "        row_i.compenv, row_i.slab_id, row_i.ads,\n",
    "        row_i.active_site_orig, row_i.att_num,\n",
    "        )\n",
    "\n",
    "    # #####################################################\n",
    "    row_atoms_i = df_atoms_sorted_ind.loc[name_i]\n",
    "    # #####################################################\n",
    "    atoms_i = row_atoms_i.atoms_sorted_good\n",
    "    # #####################################################\n",
    "\n",
    "\n",
    "    out_dict = process_row(\n",
    "        name=name_i,\n",
    "        active_site=active_site_i,\n",
    "        active_site_original=active_site_orig_i,\n",
    "        atoms=atoms_i,\n",
    "        verbose=verbose,\n",
    "        )\n",
    "\n",
    "    # #####################################################\n",
    "    data_dict_i = dict()\n",
    "    # #####################################################\n",
    "    data_dict_i[\"job_id_max\"] = job_id_max_i\n",
    "    data_dict_i[\"from_oh\"] = from_oh_i\n",
    "    data_dict_i[\"active_site\"] = active_site_i\n",
    "    data_dict_i[\"compenv\"] = compenv_i\n",
    "    data_dict_i[\"slab_id\"] = slab_id_i\n",
    "    data_dict_i[\"ads\"] = ads_i\n",
    "    data_dict_i[\"active_site_orig\"] = active_site_orig_i\n",
    "    data_dict_i[\"att_num\"] = att_num_i\n",
    "    # #####################################################\n",
    "    data_dict_i.update(out_dict)\n",
    "    # #####################################################\n",
    "    data_dict_list.append(data_dict_i)\n",
    "    # #####################################################\n",
    "\n",
    "\n",
    "# #########################################################\n",
    "df_octa_vol = pd.DataFrame(data_dict_list)\n",
    "\n",
    "from misc_modules.pandas_methods import reorder_df_columns\n",
    "col_order_list = [\"compenv\", \"slab_id\", \"ads\", \"active_site\", \"att_num\"]\n",
    "df_octa_vol = reorder_df_columns(col_order_list, df_octa_vol)\n",
    "# #########################################################"
   ]
  },
  {
   "cell_type": "code",
   "execution_count": 9,
   "metadata": {},
   "outputs": [],
   "source": [
    "df_octa_vol = df_octa_vol.set_index(\n",
    "    # [\"compenv\", \"slab_id\", \"ads\", \"active_site\", \"att_num\", ],\n",
    "    [\"compenv\", \"slab_id\", \"ads\", \"active_site\", \"att_num\", \"from_oh\"],\n",
    "    drop=False)"
   ]
  },
  {
   "cell_type": "code",
   "execution_count": 10,
   "metadata": {},
   "outputs": [],
   "source": [
    "df = df_octa_vol\n",
    "\n",
    "multi_columns_dict = {\n",
    "    \"features\": [\"active_o_metal_dist\", \"ir_o_mean\", \"ir_o_std\", \"octa_vol\", ],\n",
    "    \"data\": [\"from_oh\", \"compenv\", \"slab_id\", \"ads\", \"att_num\", \"active_site\", \"job_id_max\", ],\n",
    "\n",
    "    # \"features\": [\"eff_oxid_state\", ],\n",
    "    # \"data\": [\"job_id_max\", \"from_oh\", \"compenv\", \"slab_id\", \"ads\", \"att_num\", ]\n",
    "    }\n",
    "\n",
    "nested_columns = dict()\n",
    "for col_header, cols in multi_columns_dict.items():\n",
    "    for col_j in cols:\n",
    "        nested_columns[col_j] = (col_header, col_j)\n",
    "\n",
    "df = df.rename(columns=nested_columns)\n",
    "df.columns = [c if isinstance(c, tuple) else (\"\", c) for c in df.columns]\n",
    "df.columns = pd.MultiIndex.from_tuples(df.columns)\n",
    "\n",
    "df_octa_vol = df"
   ]
  },
  {
   "cell_type": "code",
   "execution_count": 11,
   "metadata": {},
   "outputs": [],
   "source": [
    "df_octa_vol = df_octa_vol.reindex(columns = [\"data\", \"features\", ], level=0)"
   ]
  },
  {
   "cell_type": "code",
   "execution_count": 12,
   "metadata": {},
   "outputs": [
    {
     "data": {
      "text/html": [
       "<div>\n",
       "<style scoped>\n",
       "    .dataframe tbody tr th:only-of-type {\n",
       "        vertical-align: middle;\n",
       "    }\n",
       "\n",
       "    .dataframe tbody tr th {\n",
       "        vertical-align: top;\n",
       "    }\n",
       "\n",
       "    .dataframe thead tr th {\n",
       "        text-align: left;\n",
       "    }\n",
       "\n",
       "    .dataframe thead tr:last-of-type th {\n",
       "        text-align: right;\n",
       "    }\n",
       "</style>\n",
       "<table border=\"1\" class=\"dataframe\">\n",
       "  <thead>\n",
       "    <tr>\n",
       "      <th></th>\n",
       "      <th></th>\n",
       "      <th></th>\n",
       "      <th></th>\n",
       "      <th></th>\n",
       "      <th></th>\n",
       "      <th colspan=\"7\" halign=\"left\">data</th>\n",
       "      <th colspan=\"4\" halign=\"left\">features</th>\n",
       "    </tr>\n",
       "    <tr>\n",
       "      <th></th>\n",
       "      <th></th>\n",
       "      <th></th>\n",
       "      <th></th>\n",
       "      <th></th>\n",
       "      <th></th>\n",
       "      <th>compenv</th>\n",
       "      <th>slab_id</th>\n",
       "      <th>ads</th>\n",
       "      <th>active_site</th>\n",
       "      <th>att_num</th>\n",
       "      <th>job_id_max</th>\n",
       "      <th>from_oh</th>\n",
       "      <th>active_o_metal_dist</th>\n",
       "      <th>ir_o_mean</th>\n",
       "      <th>ir_o_std</th>\n",
       "      <th>octa_vol</th>\n",
       "    </tr>\n",
       "    <tr>\n",
       "      <th>compenv</th>\n",
       "      <th>slab_id</th>\n",
       "      <th>ads</th>\n",
       "      <th>active_site</th>\n",
       "      <th>att_num</th>\n",
       "      <th>from_oh</th>\n",
       "      <th></th>\n",
       "      <th></th>\n",
       "      <th></th>\n",
       "      <th></th>\n",
       "      <th></th>\n",
       "      <th></th>\n",
       "      <th></th>\n",
       "      <th></th>\n",
       "      <th></th>\n",
       "      <th></th>\n",
       "      <th></th>\n",
       "    </tr>\n",
       "  </thead>\n",
       "  <tbody>\n",
       "    <tr>\n",
       "      <th rowspan=\"5\" valign=\"top\">nersc</th>\n",
       "      <th rowspan=\"2\" valign=\"top\">fosurufu_23</th>\n",
       "      <th rowspan=\"2\" valign=\"top\">o</th>\n",
       "      <th>43.0</th>\n",
       "      <th>1</th>\n",
       "      <th>False</th>\n",
       "      <td>nersc</td>\n",
       "      <td>fosurufu_23</td>\n",
       "      <td>o</td>\n",
       "      <td>43.0</td>\n",
       "      <td>1</td>\n",
       "      <td>wototabi_72</td>\n",
       "      <td>False</td>\n",
       "      <td>1.757003</td>\n",
       "      <td>1.952891</td>\n",
       "      <td>0.163121</td>\n",
       "      <td>9.310264</td>\n",
       "    </tr>\n",
       "    <tr>\n",
       "      <th>45.0</th>\n",
       "      <th>1</th>\n",
       "      <th>False</th>\n",
       "      <td>nersc</td>\n",
       "      <td>fosurufu_23</td>\n",
       "      <td>o</td>\n",
       "      <td>45.0</td>\n",
       "      <td>1</td>\n",
       "      <td>wototabi_72</td>\n",
       "      <td>False</td>\n",
       "      <td>1.751524</td>\n",
       "      <td>1.952891</td>\n",
       "      <td>0.163121</td>\n",
       "      <td>9.310264</td>\n",
       "    </tr>\n",
       "    <tr>\n",
       "      <th>galopuba_86</th>\n",
       "      <th>o</th>\n",
       "      <th>21.0</th>\n",
       "      <th>1</th>\n",
       "      <th>False</th>\n",
       "      <td>nersc</td>\n",
       "      <td>galopuba_86</td>\n",
       "      <td>o</td>\n",
       "      <td>21.0</td>\n",
       "      <td>1</td>\n",
       "      <td>fatimuse_24</td>\n",
       "      <td>False</td>\n",
       "      <td>1.749184</td>\n",
       "      <td>1.985623</td>\n",
       "      <td>0.115797</td>\n",
       "      <td>9.719644</td>\n",
       "    </tr>\n",
       "    <tr>\n",
       "      <th rowspan=\"2\" valign=\"top\">gubufafu_74</th>\n",
       "      <th rowspan=\"2\" valign=\"top\">o</th>\n",
       "      <th>16.0</th>\n",
       "      <th>1</th>\n",
       "      <th>False</th>\n",
       "      <td>nersc</td>\n",
       "      <td>gubufafu_74</td>\n",
       "      <td>o</td>\n",
       "      <td>16.0</td>\n",
       "      <td>1</td>\n",
       "      <td>nileribu_07</td>\n",
       "      <td>False</td>\n",
       "      <td>1.799507</td>\n",
       "      <td>1.872250</td>\n",
       "      <td>0.068363</td>\n",
       "      <td>8.732127</td>\n",
       "    </tr>\n",
       "    <tr>\n",
       "      <th>20.0</th>\n",
       "      <th>1</th>\n",
       "      <th>False</th>\n",
       "      <td>nersc</td>\n",
       "      <td>gubufafu_74</td>\n",
       "      <td>o</td>\n",
       "      <td>20.0</td>\n",
       "      <td>1</td>\n",
       "      <td>nileribu_07</td>\n",
       "      <td>False</td>\n",
       "      <td>1.785505</td>\n",
       "      <td>1.872250</td>\n",
       "      <td>0.068363</td>\n",
       "      <td>8.732127</td>\n",
       "    </tr>\n",
       "  </tbody>\n",
       "</table>\n",
       "</div>"
      ],
      "text/plain": [
       "                                                       data                   \\\n",
       "                                                    compenv      slab_id ads   \n",
       "compenv slab_id     ads active_site att_num from_oh                            \n",
       "nersc   fosurufu_23 o   43.0        1       False     nersc  fosurufu_23   o   \n",
       "                        45.0        1       False     nersc  fosurufu_23   o   \n",
       "        galopuba_86 o   21.0        1       False     nersc  galopuba_86   o   \n",
       "        gubufafu_74 o   16.0        1       False     nersc  gubufafu_74   o   \n",
       "                        20.0        1       False     nersc  gubufafu_74   o   \n",
       "\n",
       "                                                                         \\\n",
       "                                                    active_site att_num   \n",
       "compenv slab_id     ads active_site att_num from_oh                       \n",
       "nersc   fosurufu_23 o   43.0        1       False          43.0       1   \n",
       "                        45.0        1       False          45.0       1   \n",
       "        galopuba_86 o   21.0        1       False          21.0       1   \n",
       "        gubufafu_74 o   16.0        1       False          16.0       1   \n",
       "                        20.0        1       False          20.0       1   \n",
       "\n",
       "                                                                          \\\n",
       "                                                      job_id_max from_oh   \n",
       "compenv slab_id     ads active_site att_num from_oh                        \n",
       "nersc   fosurufu_23 o   43.0        1       False    wototabi_72   False   \n",
       "                        45.0        1       False    wototabi_72   False   \n",
       "        galopuba_86 o   21.0        1       False    fatimuse_24   False   \n",
       "        gubufafu_74 o   16.0        1       False    nileribu_07   False   \n",
       "                        20.0        1       False    nileribu_07   False   \n",
       "\n",
       "                                                               features  \\\n",
       "                                                    active_o_metal_dist   \n",
       "compenv slab_id     ads active_site att_num from_oh                       \n",
       "nersc   fosurufu_23 o   43.0        1       False              1.757003   \n",
       "                        45.0        1       False              1.751524   \n",
       "        galopuba_86 o   21.0        1       False              1.749184   \n",
       "        gubufafu_74 o   16.0        1       False              1.799507   \n",
       "                        20.0        1       False              1.785505   \n",
       "\n",
       "                                                                         \\\n",
       "                                                    ir_o_mean  ir_o_std   \n",
       "compenv slab_id     ads active_site att_num from_oh                       \n",
       "nersc   fosurufu_23 o   43.0        1       False    1.952891  0.163121   \n",
       "                        45.0        1       False    1.952891  0.163121   \n",
       "        galopuba_86 o   21.0        1       False    1.985623  0.115797   \n",
       "        gubufafu_74 o   16.0        1       False    1.872250  0.068363   \n",
       "                        20.0        1       False    1.872250  0.068363   \n",
       "\n",
       "                                                               \n",
       "                                                     octa_vol  \n",
       "compenv slab_id     ads active_site att_num from_oh            \n",
       "nersc   fosurufu_23 o   43.0        1       False    9.310264  \n",
       "                        45.0        1       False    9.310264  \n",
       "        galopuba_86 o   21.0        1       False    9.719644  \n",
       "        gubufafu_74 o   16.0        1       False    8.732127  \n",
       "                        20.0        1       False    8.732127  "
      ]
     },
     "execution_count": 12,
     "metadata": {},
     "output_type": "execute_result"
    }
   ],
   "source": [
    "df_octa_vol.head()"
   ]
  },
  {
   "cell_type": "raw",
   "metadata": {},
   "source": [
    "\n",
    "\n",
    "\n",
    "\n",
    "\n",
    "\n"
   ]
  },
  {
   "cell_type": "code",
   "execution_count": 14,
   "metadata": {},
   "outputs": [],
   "source": [
    "root_path_i = os.path.join(\n",
    "    os.environ[\"PROJ_irox_oer\"],\n",
    "    \"workflow/feature_engineering/octahedra_volume\")\n",
    "\n",
    "# Pickling data ###########################################\n",
    "import os; import pickle\n",
    "directory = os.path.join(root_path_i, \"out_data\")\n",
    "if not os.path.exists(directory): os.makedirs(directory)\n",
    "path_i = os.path.join(root_path_i, \"out_data/df_octa_vol.pickle\")\n",
    "with open(path_i, \"wb\") as fle:\n",
    "    pickle.dump(df_octa_vol, fle)\n",
    "# #########################################################\n",
    "\n",
    "# #########################################################\n",
    "import pickle; import os\n",
    "with open(path_i, \"rb\") as fle:\n",
    "    df_octa_vol = pickle.load(fle)\n",
    "# #########################################################"
   ]
  },
  {
   "cell_type": "code",
   "execution_count": 15,
   "metadata": {},
   "outputs": [
    {
     "name": "stdout",
     "output_type": "stream",
     "text": [
      "# # # # # # # # # # # # # # # # # # # # # # # # # # # # # # # # # # # # # # # # \n",
      "All done!\n",
      "Run time: 0.462 min\n",
      "octa_volume.ipynb\n",
      "# # # # # # # # # # # # # # # # # # # # # # # # # # # # # # # # # # # # # # # # \n"
     ]
    }
   ],
   "source": [
    "# #########################################################\n",
    "print(20 * \"# # \")\n",
    "print(\"All done!\")\n",
    "print(\"Run time:\", np.round((time.time() - ti) / 60, 3), \"min\")\n",
    "print(\"octa_volume.ipynb\")\n",
    "print(20 * \"# # \")\n",
    "# #########################################################"
   ]
  },
  {
   "cell_type": "raw",
   "metadata": {},
   "source": [
    "\n",
    "\n"
   ]
  }
 ],
 "metadata": {
  "jupytext": {
   "formats": "ipynb,py:light"
  },
  "kernelspec": {
   "display_name": "Python [conda env:PROJ_irox_oer] *",
   "language": "python",
   "name": "conda-env-PROJ_irox_oer-py"
  },
  "language_info": {
   "codemirror_mode": {
    "name": "ipython",
    "version": 3
   },
   "file_extension": ".py",
   "mimetype": "text/x-python",
   "name": "python",
   "nbconvert_exporter": "python",
   "pygments_lexer": "ipython3",
   "version": "3.6.11"
  }
 },
 "nbformat": 4,
 "nbformat_minor": 4
}
