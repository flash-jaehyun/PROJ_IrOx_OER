{
 "cells": [
  {
   "cell_type": "code",
   "execution_count": 1,
   "metadata": {},
   "outputs": [],
   "source": [
    "import numpy as np"
   ]
  },
  {
   "cell_type": "code",
   "execution_count": 2,
   "metadata": {},
   "outputs": [],
   "source": [
    "from local_methods import get_octa_vol, get_octa_geom"
   ]
  },
  {
   "cell_type": "code",
   "execution_count": 3,
   "metadata": {},
   "outputs": [],
   "source": [
    "# #########################################################\n",
    "import pickle; import os\n",
    "path_i = os.path.join(\n",
    "    # os.environ[\"\"],\n",
    "    \"__temp__\",\n",
    "    \"data.pickle\")\n",
    "with open(path_i, \"rb\") as fle:\n",
    "    out_data = pickle.load(fle)\n",
    "# #########################################################\n",
    "\n",
    "# out_data.keys()\n",
    "\n",
    "df_coord_i = out_data[\"df_coord_i\"]\n",
    "active_site_j = out_data[\"active_site_j\"]\n",
    "\n",
    "atoms = out_data[\"atoms\"]"
   ]
  },
  {
   "cell_type": "code",
   "execution_count": 4,
   "metadata": {},
   "outputs": [
    {
     "name": "stdout",
     "output_type": "stream",
     "text": [
      "active_site_j: 45\n"
     ]
    }
   ],
   "source": [
    "print(\"active_site_j:\", active_site_j)\n",
    "\n",
    "atoms.write(\"__temp__/tmp.cif\")"
   ]
  },
  {
   "cell_type": "code",
   "execution_count": 5,
   "metadata": {},
   "outputs": [],
   "source": [
    "# df_coord_i=None\n",
    "# active_site_j=None\n",
    "# atoms=None\n",
    "# verbose=False"
   ]
  },
  {
   "cell_type": "code",
   "execution_count": 6,
   "metadata": {},
   "outputs": [],
   "source": [
    "# def get_octa_geom(\n",
    "#     df_coord_i=None,\n",
    "#     active_site_j=None,\n",
    "#     atoms=None,\n",
    "#     verbose=False,\n",
    "#     ):\n",
    "\"\"\"\n",
    "\"\"\"\n",
    "#| - get_octa_geom\n",
    "out_dict = dict(\n",
    "    active_o_metal_dist=None,\n",
    "    ir_o_mean=None,\n",
    "    ir_o_std=None,\n",
    "    )\n",
    "\n",
    "row_coord_i = df_coord_i[df_coord_i.structure_index == active_site_j]\n",
    "row_coord_i = row_coord_i.iloc[0]\n",
    "\n",
    "nn_info_i = row_coord_i.nn_info\n",
    "\n",
    "ir_nn = nn_info_i[0]\n",
    "ir_coord = ir_nn[\"site\"].coords\n",
    "\n",
    "active_o_has_1_neigh = True\n",
    "if len(nn_info_i) != 1:\n",
    "    print(\"Need to return NaN\")\n",
    "    active_o_has_1_neigh = False\n",
    "else:\n",
    "    #| - Calculating the distance between the active O atom and Ir\n",
    "    atom_active_o = atoms[active_site_j]\n",
    "\n",
    "    diff_list = atom_active_o.position - ir_coord\n",
    "    dist_i = (np.sum([i ** 2 for i in diff_list])) ** (1 / 2)\n",
    "\n",
    "    # ir_nn[\"site\"].coords\n",
    "\n",
    "    out_dict[\"active_o_metal_dist\"] = dist_i\n",
    "    #__|\n",
    "\n",
    "if active_o_has_1_neigh:\n",
    "    ir_site_index = ir_nn[\"site_index\"]\n",
    "\n",
    "    row_coord_j = df_coord_i[df_coord_i.structure_index == ir_site_index]\n",
    "    row_coord_j = row_coord_j.iloc[0]\n",
    "\n",
    "    nn_info_ir = row_coord_j.nn_info\n",
    "\n",
    "    if len(nn_info_ir) != 6:\n",
    "        print(\"Pass NaN\")\n",
    "    else:\n",
    "        ir_o_distances = []\n",
    "        for nn_j in nn_info_ir:\n",
    "            diff_list = nn_j[\"site\"].coords - ir_coord\n",
    "            dist_i = (np.sum([i ** 2 for i in diff_list])) ** (1 / 2)\n",
    "            ir_o_distances.append(dist_i)\n",
    "\n",
    "        ir_o_mean = np.mean(ir_o_distances)\n",
    "        ir_o_std = np.std(ir_o_distances)\n",
    "        out_dict[\"ir_o_mean\"] = ir_o_mean\n",
    "        out_dict[\"ir_o_std\"] = ir_o_std\n",
    "\n",
    "# return(out_dict)\n",
    "#__|"
   ]
  },
  {
   "cell_type": "code",
   "execution_count": 10,
   "metadata": {},
   "outputs": [
    {
     "data": {
      "text/plain": [
       "{'active_o_metal_dist': 1.7515243193001446,\n",
       " 'ir_o_mean': 1.9528914477961858,\n",
       " 'ir_o_std': 0.1631214960205401}"
      ]
     },
     "execution_count": 10,
     "metadata": {},
     "output_type": "execute_result"
    }
   ],
   "source": [
    "out_dict"
   ]
  },
  {
   "cell_type": "code",
   "execution_count": 7,
   "metadata": {},
   "outputs": [],
   "source": [
    "ir_site_index = ir_nn[\"site_index\"]\n",
    "\n",
    "row_coord_j = df_coord_i[df_coord_i.structure_index == ir_site_index]\n",
    "row_coord_j = row_coord_j.iloc[0]\n",
    "\n",
    "nn_info_ir = row_coord_j.nn_info\n",
    "\n",
    "if len(nn_info_ir) != 6:\n",
    "    print(\"Pass NaN\")\n",
    "else:\n",
    "    ir_o_distances = []\n",
    "    for nn_j in nn_info_ir:\n",
    "        diff_list = nn_j[\"site\"].coords - ir_coord\n",
    "        dist_i = (np.sum([i ** 2 for i in diff_list])) ** (1 / 2)\n",
    "        ir_o_distances.append(dist_i)\n",
    "\n",
    "    ir_o_mean = np.mean(ir_o_distances)\n",
    "    ir_o_std = np.std(ir_o_distances)\n",
    "    out_dict[\"ir_o_mean\"] = ir_o_mean\n",
    "    out_dict[\"ir_o_std\"] = ir_o_std"
   ]
  },
  {
   "cell_type": "code",
   "execution_count": null,
   "metadata": {},
   "outputs": [],
   "source": []
  },
  {
   "cell_type": "code",
   "execution_count": 8,
   "metadata": {},
   "outputs": [],
   "source": [
    "# octa_geom_dict = get_octa_geom(\n",
    "#     df_coord_i=df_coord_i,\n",
    "#     active_site_j=active_site_j,\n",
    "#     atoms=atoms,\n",
    "#     verbose=False,\n",
    "#     )\n",
    "# octa_geom_dict"
   ]
  },
  {
   "cell_type": "code",
   "execution_count": 9,
   "metadata": {},
   "outputs": [
    {
     "ename": "AssertionError",
     "evalue": "",
     "output_type": "error",
     "traceback": [
      "\u001b[0;31m---------------------------------------------------------------------------\u001b[0m",
      "\u001b[0;31mAssertionError\u001b[0m                            Traceback (most recent call last)",
      "\u001b[0;32m<ipython-input-9-a871fdc9ebee>\u001b[0m in \u001b[0;36m<module>\u001b[0;34m\u001b[0m\n\u001b[0;32m----> 1\u001b[0;31m \u001b[0;32massert\u001b[0m \u001b[0;32mFalse\u001b[0m\u001b[0;34m\u001b[0m\u001b[0;34m\u001b[0m\u001b[0m\n\u001b[0m",
      "\u001b[0;31mAssertionError\u001b[0m: "
     ]
    }
   ],
   "source": [
    "assert False"
   ]
  },
  {
   "cell_type": "code",
   "execution_count": null,
   "metadata": {
    "jupyter": {
     "source_hidden": true
    }
   },
   "outputs": [],
   "source": [
    "# row_coord_i = df_coord_i[df_coord_i.structure_index == active_site_j]\n",
    "# row_coord_i = row_coord_i.iloc[0]\n",
    "\n",
    "# nn_info_i = row_coord_i.nn_info\n",
    "\n",
    "# if len(nn_info_i) != 1:\n",
    "#     print(\"Need to return NaN\")\n",
    "\n",
    "# # nn_info_i[0][\"site\"].coords\n",
    "\n",
    "# # dir(nn_info_i[0][\"site\"])\n",
    "# # row_coord_i\n",
    "# # df_coord_i\n",
    "# # print(atom_active_o.position)\n",
    "# # print(nn_info_i[0][\"site\"].coords)\n",
    "\n",
    "# atom_active_o = atoms[active_site_j]\n",
    "\n",
    "# # dir(atom_active_o)\n",
    "\n",
    "# diff_list = atom_active_o.position - nn_info_i[0][\"site\"].coords\n",
    "# dist_i = (np.sum([i ** 2 for i in diff_list])) ** (1 / 2)\n",
    "\n",
    "# dist_i"
   ]
  },
  {
   "cell_type": "raw",
   "metadata": {},
   "source": [
    "\n",
    "\n",
    "\n",
    "\n",
    "\n",
    "\n"
   ]
  },
  {
   "cell_type": "code",
   "execution_count": null,
   "metadata": {},
   "outputs": [],
   "source": [
    "# vol_i = get_octa_vol(\n",
    "#     df_coord_i=df_coord_i,\n",
    "#     active_site_j=active_site_j,\n",
    "#     )\n",
    "# vol_i"
   ]
  },
  {
   "cell_type": "code",
   "execution_count": null,
   "metadata": {},
   "outputs": [],
   "source": [
    "# df_coord_i=None\n",
    "# active_site_j=None\n",
    "verbose=False"
   ]
  },
  {
   "cell_type": "code",
   "execution_count": null,
   "metadata": {},
   "outputs": [],
   "source": [
    "# def get_octa_vol(\n",
    "#     df_coord_i=None,\n",
    "#     active_site_j=None,\n",
    "#     verbose=False,\n",
    "#     ):\n",
    "\"\"\"\n",
    "\"\"\"\n",
    "#| - get_octa_vol\n",
    "# #########################################################\n",
    "row_coord_i = df_coord_i[df_coord_i.structure_index == active_site_j]\n",
    "row_coord_i = row_coord_i.iloc[0]\n",
    "# #########################################################\n",
    "nn_info_i = row_coord_i.nn_info\n",
    "# #########################################################\n",
    "\n",
    "if len(nn_info_i) != 1:\n",
    "    volume=None\n",
    "    # return(None)\n",
    "    \n",
    "# mess_i = \"Must  only have one row  here\"\n",
    "# assert len(nn_info_i) == 1, mess_i\n",
    "\n",
    "nn_info_i = nn_info_i[0]\n",
    "\n",
    "metal_index_i = nn_info_i[\"site_index\"]\n",
    "\n",
    "\n",
    "# #########################################################\n",
    "# #########################################################\n",
    "# #########################################################\n",
    "\n",
    "\n",
    "row_coord_i = df_coord_i[df_coord_i.structure_index == metal_index_i]\n",
    "row_coord_i = row_coord_i.iloc[0]\n",
    "\n",
    "nn_info = row_coord_i.nn_info\n",
    "\n",
    "#\n",
    "if len(nn_info) != 6:\n",
    "    if verbose:\n",
    "        print(\"This active site Ir doesn't have 6 nearest neighbors\")\n",
    "    volume=None\n",
    "    # return(volume)\n",
    "\n",
    "coord_list = []\n",
    "for nn_j in nn_info:\n",
    "    site_j = nn_j[\"site\"]\n",
    "    coords_j = site_j.coords\n",
    "    coord_list.append(coords_j)\n",
    "\n",
    "# coord_list\n",
    "\n",
    "import numpy as np\n",
    "from scipy.spatial import ConvexHull\n",
    "\n",
    "# points = np.array([[....]])\n",
    "volume = ConvexHull(coord_list).volume\n",
    "\n",
    "# return(volume)\n",
    "#__|"
   ]
  },
  {
   "cell_type": "code",
   "execution_count": null,
   "metadata": {},
   "outputs": [],
   "source": [
    "nn_info\n",
    "\n",
    "volume"
   ]
  },
  {
   "cell_type": "code",
   "execution_count": null,
   "metadata": {},
   "outputs": [],
   "source": [
    "volume"
   ]
  },
  {
   "cell_type": "code",
   "execution_count": null,
   "metadata": {},
   "outputs": [],
   "source": [
    "nn_info_i"
   ]
  },
  {
   "cell_type": "code",
   "execution_count": null,
   "metadata": {},
   "outputs": [],
   "source": [
    "coord_list"
   ]
  },
  {
   "cell_type": "code",
   "execution_count": null,
   "metadata": {},
   "outputs": [],
   "source": [
    "nn_info"
   ]
  },
  {
   "cell_type": "raw",
   "metadata": {},
   "source": [
    "\n",
    "\n"
   ]
  },
  {
   "cell_type": "code",
   "execution_count": null,
   "metadata": {
    "jupyter": {
     "source_hidden": true
    }
   },
   "outputs": [],
   "source": [
    "# # def get_octa_vol(\n",
    "# #     df_coord_i=None,\n",
    "# #     active_site_j=None,\n",
    "# #     verbose=False,\n",
    "# #     ):\n",
    "# \"\"\"\n",
    "# \"\"\"\n",
    "# #| - get_octa_vol\n",
    "# # #########################################################\n",
    "# row_coord_i = df_coord_i[df_coord_i.structure_index == active_site_j]\n",
    "# row_coord_i = row_coord_i.iloc[0]\n",
    "# # #########################################################\n",
    "# nn_info_i = row_coord_i.nn_info\n",
    "# # #########################################################\n",
    "\n",
    "# mess_i = \"Must  only have one row  here\"\n",
    "# assert len(nn_info_i) == 1, mess_i\n",
    "\n",
    "# nn_info_i = nn_info_i[0]\n",
    "\n",
    "# metal_index_i = nn_info_i[\"site_index\"]\n",
    "\n",
    "\n",
    "# # #########################################################\n",
    "# # #########################################################\n",
    "# # #########################################################\n",
    "\n",
    "\n",
    "# row_coord_i = df_coord_i[df_coord_i.structure_index == metal_index_i]\n",
    "# row_coord_i = row_coord_i.iloc[0]\n",
    "\n",
    "# nn_info = row_coord_i.nn_info\n",
    "\n",
    "# # \n",
    "# if nn_info != 6:\n",
    "#     if verbose:\n",
    "#         print(\"This active site Ir doesn't have 6 nearest neighbors\")\n",
    "#     return(None)\n",
    "\n",
    "# coord_list = []\n",
    "# for nn_j in nn_info:\n",
    "#     site_j = nn_j[\"site\"]\n",
    "#     coords_j = site_j.coords\n",
    "#     coord_list.append(coords_j)\n",
    "\n",
    "# # coord_list\n",
    "\n",
    "# import numpy as np\n",
    "# from scipy.spatial import ConvexHull\n",
    "\n",
    "# # points = np.array([[....]])\n",
    "# volume = ConvexHull(coord_list).volume\n",
    "\n",
    "# # return(volume)\n",
    "# #__|"
   ]
  }
 ],
 "metadata": {
  "jupytext": {
   "formats": "ipynb,py:light"
  },
  "kernelspec": {
   "display_name": "Python [conda env:PROJ_irox_oer] *",
   "language": "python",
   "name": "conda-env-PROJ_irox_oer-py"
  },
  "language_info": {
   "codemirror_mode": {
    "name": "ipython",
    "version": 3
   },
   "file_extension": ".py",
   "mimetype": "text/x-python",
   "name": "python",
   "nbconvert_exporter": "python",
   "pygments_lexer": "ipython3",
   "version": "3.6.11"
  }
 },
 "nbformat": 4,
 "nbformat_minor": 4
}
