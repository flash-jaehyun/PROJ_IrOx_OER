{
 "cells": [
  {
   "cell_type": "markdown",
   "metadata": {},
   "source": [
    "# Collect feature data into master dataframe\n",
    "---"
   ]
  },
  {
   "cell_type": "markdown",
   "metadata": {},
   "source": [
    "# Import Modules"
   ]
  },
  {
   "cell_type": "code",
   "execution_count": 1,
   "metadata": {},
   "outputs": [
    {
     "name": "stdout",
     "output_type": "stream",
     "text": [
      "/home/raulf2012/Dropbox/01_norskov/00_git_repos/PROJ_IrOx_OER/workflow/feature_engineering\n"
     ]
    }
   ],
   "source": [
    "import os\n",
    "print(os.getcwd())\n",
    "import sys\n",
    "\n",
    "import pandas as pd\n",
    "\n",
    "# #########################################################\n",
    "from methods import get_df_octa_vol, get_df_eff_ox\n",
    "from methods import get_df_dft\n",
    "from methods import get_df_job_ids"
   ]
  },
  {
   "cell_type": "markdown",
   "metadata": {},
   "source": [
    "# Read feature dataframes"
   ]
  },
  {
   "cell_type": "code",
   "execution_count": 2,
   "metadata": {},
   "outputs": [],
   "source": [
    "df_octa_vol = get_df_octa_vol()\n",
    "\n",
    "df_eff_ox = get_df_eff_ox()\n",
    "\n",
    "df_dft = get_df_dft()\n",
    "\n",
    "df_job_ids = get_df_job_ids()"
   ]
  },
  {
   "cell_type": "markdown",
   "metadata": {},
   "source": [
    "# Setting proper indices for join"
   ]
  },
  {
   "cell_type": "code",
   "execution_count": 3,
   "metadata": {},
   "outputs": [],
   "source": [
    "df_eff_ox = df_eff_ox.set_index(\n",
    "    [\"compenv\", \"slab_id\", \"ads\", \"active_site\", \"att_num\", ],\n",
    "    drop=True)\n",
    "\n",
    "df_octa_vol = df_octa_vol.set_index(\n",
    "    [\"compenv\", \"slab_id\", \"ads\", \"active_site\", \"att_num\", ],\n",
    "    drop=True)"
   ]
  },
  {
   "cell_type": "markdown",
   "metadata": {},
   "source": [
    "# Combine dataframes"
   ]
  },
  {
   "cell_type": "code",
   "execution_count": 4,
   "metadata": {},
   "outputs": [
    {
     "data": {
      "text/html": [
       "<div>\n",
       "<style scoped>\n",
       "    .dataframe tbody tr th:only-of-type {\n",
       "        vertical-align: middle;\n",
       "    }\n",
       "\n",
       "    .dataframe tbody tr th {\n",
       "        vertical-align: top;\n",
       "    }\n",
       "\n",
       "    .dataframe thead th {\n",
       "        text-align: right;\n",
       "    }\n",
       "</style>\n",
       "<table border=\"1\" class=\"dataframe\">\n",
       "  <thead>\n",
       "    <tr style=\"text-align: right;\">\n",
       "      <th></th>\n",
       "      <th></th>\n",
       "      <th></th>\n",
       "      <th></th>\n",
       "      <th></th>\n",
       "      <th>eff_oxid_state</th>\n",
       "      <th>active_o_metal_dist</th>\n",
       "      <th>ir_o_mean</th>\n",
       "      <th>ir_o_std</th>\n",
       "      <th>octa_vol</th>\n",
       "    </tr>\n",
       "    <tr>\n",
       "      <th>compenv</th>\n",
       "      <th>slab_id</th>\n",
       "      <th>ads</th>\n",
       "      <th>active_site</th>\n",
       "      <th>att_num</th>\n",
       "      <th></th>\n",
       "      <th></th>\n",
       "      <th></th>\n",
       "      <th></th>\n",
       "      <th></th>\n",
       "    </tr>\n",
       "  </thead>\n",
       "  <tbody>\n",
       "    <tr>\n",
       "      <th rowspan=\"5\" valign=\"top\">nersc</th>\n",
       "      <th rowspan=\"2\" valign=\"top\">fosurufu_23</th>\n",
       "      <th rowspan=\"2\" valign=\"top\">o</th>\n",
       "      <th>43</th>\n",
       "      <th>1</th>\n",
       "      <td>7.333333</td>\n",
       "      <td>1.757003</td>\n",
       "      <td>1.952891</td>\n",
       "      <td>0.163121</td>\n",
       "      <td>9.310264</td>\n",
       "    </tr>\n",
       "    <tr>\n",
       "      <th>45</th>\n",
       "      <th>1</th>\n",
       "      <td>7.333333</td>\n",
       "      <td>1.751524</td>\n",
       "      <td>1.952891</td>\n",
       "      <td>0.163121</td>\n",
       "      <td>9.310264</td>\n",
       "    </tr>\n",
       "    <tr>\n",
       "      <th>galopuba_86</th>\n",
       "      <th>o</th>\n",
       "      <th>21</th>\n",
       "      <th>1</th>\n",
       "      <td>6.000000</td>\n",
       "      <td>1.749184</td>\n",
       "      <td>6.507621</td>\n",
       "      <td>1.266644</td>\n",
       "      <td>9.719644</td>\n",
       "    </tr>\n",
       "    <tr>\n",
       "      <th rowspan=\"2\" valign=\"top\">gubufafu_74</th>\n",
       "      <th rowspan=\"2\" valign=\"top\">o</th>\n",
       "      <th>16</th>\n",
       "      <th>1</th>\n",
       "      <td>8.000000</td>\n",
       "      <td>1.799507</td>\n",
       "      <td>1.872250</td>\n",
       "      <td>0.068363</td>\n",
       "      <td>8.732127</td>\n",
       "    </tr>\n",
       "    <tr>\n",
       "      <th>20</th>\n",
       "      <th>1</th>\n",
       "      <td>8.000000</td>\n",
       "      <td>1.785505</td>\n",
       "      <td>1.872250</td>\n",
       "      <td>0.068363</td>\n",
       "      <td>8.732127</td>\n",
       "    </tr>\n",
       "  </tbody>\n",
       "</table>\n",
       "</div>"
      ],
      "text/plain": [
       "                                             eff_oxid_state  \\\n",
       "compenv slab_id     ads active_site att_num                   \n",
       "nersc   fosurufu_23 o   43          1              7.333333   \n",
       "                        45          1              7.333333   \n",
       "        galopuba_86 o   21          1              6.000000   \n",
       "        gubufafu_74 o   16          1              8.000000   \n",
       "                        20          1              8.000000   \n",
       "\n",
       "                                             active_o_metal_dist  ir_o_mean  \\\n",
       "compenv slab_id     ads active_site att_num                                   \n",
       "nersc   fosurufu_23 o   43          1                   1.757003   1.952891   \n",
       "                        45          1                   1.751524   1.952891   \n",
       "        galopuba_86 o   21          1                   1.749184   6.507621   \n",
       "        gubufafu_74 o   16          1                   1.799507   1.872250   \n",
       "                        20          1                   1.785505   1.872250   \n",
       "\n",
       "                                             ir_o_std  octa_vol  \n",
       "compenv slab_id     ads active_site att_num                      \n",
       "nersc   fosurufu_23 o   43          1        0.163121  9.310264  \n",
       "                        45          1        0.163121  9.310264  \n",
       "        galopuba_86 o   21          1        1.266644  9.719644  \n",
       "        gubufafu_74 o   16          1        0.068363  8.732127  \n",
       "                        20          1        0.068363  8.732127  "
      ]
     },
     "execution_count": 4,
     "metadata": {},
     "output_type": "execute_result"
    }
   ],
   "source": [
    "df_list = [\n",
    "    df_eff_ox,\n",
    "    df_octa_vol,\n",
    "    ]\n",
    "\n",
    "df_features = pd.concat(df_list, axis=1)\n",
    "df_features.head()"
   ]
  },
  {
   "cell_type": "markdown",
   "metadata": {},
   "source": [
    "# Adding in bulk data"
   ]
  },
  {
   "cell_type": "code",
   "execution_count": 5,
   "metadata": {},
   "outputs": [],
   "source": [
    "def method(row_i):\n",
    "    new_column_values_dict = {\n",
    "        \"dH_bulk\": None,\n",
    "        \"volume_pa\": None,\n",
    "        }\n",
    "\n",
    "    # #####################################################\n",
    "    slab_id_i = row_i.name[1]\n",
    "    # #####################################################\n",
    "    bulk_ids = df_job_ids[df_job_ids.slab_id == slab_id_i].bulk_id.unique()\n",
    "    mess_i = \"ikjisdjf\"\n",
    "    assert len(bulk_ids) == 1, mess_i\n",
    "    bulk_id_i = bulk_ids[0]\n",
    "    # #####################################################\n",
    "\n",
    "    # #####################################################\n",
    "    row_dft_i = df_dft.loc[bulk_id_i]\n",
    "    # #####################################################\n",
    "    dH_i = row_dft_i.dH\n",
    "    volume_pa = row_dft_i.volume_pa\n",
    "    # #####################################################\n",
    "\n",
    "\n",
    "    # #####################################################\n",
    "    new_column_values_dict[\"dH_bulk\"] = dH_i\n",
    "    new_column_values_dict[\"volume_pa\"] = volume_pa\n",
    "    # #####################################################\n",
    "    for key, value in new_column_values_dict.items():\n",
    "        row_i[key] = value\n",
    "    return(row_i)\n",
    "\n",
    "df_features = df_features.apply(method, axis=1)"
   ]
  },
  {
   "cell_type": "code",
   "execution_count": 6,
   "metadata": {},
   "outputs": [],
   "source": [
    "# assert False"
   ]
  },
  {
   "cell_type": "markdown",
   "metadata": {},
   "source": [
    "# Save data to pickle"
   ]
  },
  {
   "cell_type": "code",
   "execution_count": 7,
   "metadata": {},
   "outputs": [],
   "source": [
    "root_path_i = os.path.join(\n",
    "    os.environ[\"PROJ_irox_oer\"],\n",
    "    \"workflow/feature_engineering\")\n",
    "\n",
    "# Pickling data ###########################################\n",
    "import os; import pickle\n",
    "directory = os.path.join(root_path_i, \"out_data\")\n",
    "if not os.path.exists(directory): os.makedirs(directory)\n",
    "path_i = os.path.join(root_path_i, \"out_data/df_features.pickle\")\n",
    "with open(path_i, \"wb\") as fle:\n",
    "    pickle.dump(df_features, fle)\n",
    "# #########################################################\n",
    "\n",
    "# #########################################################\n",
    "import pickle; import os\n",
    "with open(path_i, \"rb\") as fle:\n",
    "    df_features = pickle.load(fle)\n",
    "# #########################################################"
   ]
  },
  {
   "cell_type": "code",
   "execution_count": 8,
   "metadata": {},
   "outputs": [
    {
     "data": {
      "text/html": [
       "<div>\n",
       "<style scoped>\n",
       "    .dataframe tbody tr th:only-of-type {\n",
       "        vertical-align: middle;\n",
       "    }\n",
       "\n",
       "    .dataframe tbody tr th {\n",
       "        vertical-align: top;\n",
       "    }\n",
       "\n",
       "    .dataframe thead th {\n",
       "        text-align: right;\n",
       "    }\n",
       "</style>\n",
       "<table border=\"1\" class=\"dataframe\">\n",
       "  <thead>\n",
       "    <tr style=\"text-align: right;\">\n",
       "      <th></th>\n",
       "      <th></th>\n",
       "      <th></th>\n",
       "      <th></th>\n",
       "      <th></th>\n",
       "      <th>eff_oxid_state</th>\n",
       "      <th>active_o_metal_dist</th>\n",
       "      <th>ir_o_mean</th>\n",
       "      <th>ir_o_std</th>\n",
       "      <th>octa_vol</th>\n",
       "      <th>dH_bulk</th>\n",
       "      <th>volume_pa</th>\n",
       "    </tr>\n",
       "    <tr>\n",
       "      <th>compenv</th>\n",
       "      <th>slab_id</th>\n",
       "      <th>ads</th>\n",
       "      <th>active_site</th>\n",
       "      <th>att_num</th>\n",
       "      <th></th>\n",
       "      <th></th>\n",
       "      <th></th>\n",
       "      <th></th>\n",
       "      <th></th>\n",
       "      <th></th>\n",
       "      <th></th>\n",
       "    </tr>\n",
       "  </thead>\n",
       "  <tbody>\n",
       "    <tr>\n",
       "      <th rowspan=\"5\" valign=\"top\">nersc</th>\n",
       "      <th rowspan=\"2\" valign=\"top\">fosurufu_23</th>\n",
       "      <th rowspan=\"2\" valign=\"top\">o</th>\n",
       "      <th>43</th>\n",
       "      <th>1</th>\n",
       "      <td>7.333333</td>\n",
       "      <td>1.757003</td>\n",
       "      <td>1.952891</td>\n",
       "      <td>0.163121</td>\n",
       "      <td>9.310264</td>\n",
       "      <td>-0.595820</td>\n",
       "      <td>13.422324</td>\n",
       "    </tr>\n",
       "    <tr>\n",
       "      <th>45</th>\n",
       "      <th>1</th>\n",
       "      <td>7.333333</td>\n",
       "      <td>1.751524</td>\n",
       "      <td>1.952891</td>\n",
       "      <td>0.163121</td>\n",
       "      <td>9.310264</td>\n",
       "      <td>-0.595820</td>\n",
       "      <td>13.422324</td>\n",
       "    </tr>\n",
       "    <tr>\n",
       "      <th>galopuba_86</th>\n",
       "      <th>o</th>\n",
       "      <th>21</th>\n",
       "      <th>1</th>\n",
       "      <td>6.000000</td>\n",
       "      <td>1.749184</td>\n",
       "      <td>6.507621</td>\n",
       "      <td>1.266644</td>\n",
       "      <td>9.719644</td>\n",
       "      <td>-0.606853</td>\n",
       "      <td>14.047474</td>\n",
       "    </tr>\n",
       "    <tr>\n",
       "      <th rowspan=\"2\" valign=\"top\">gubufafu_74</th>\n",
       "      <th rowspan=\"2\" valign=\"top\">o</th>\n",
       "      <th>16</th>\n",
       "      <th>1</th>\n",
       "      <td>8.000000</td>\n",
       "      <td>1.799507</td>\n",
       "      <td>1.872250</td>\n",
       "      <td>0.068363</td>\n",
       "      <td>8.732127</td>\n",
       "      <td>-0.418717</td>\n",
       "      <td>12.740641</td>\n",
       "    </tr>\n",
       "    <tr>\n",
       "      <th>20</th>\n",
       "      <th>1</th>\n",
       "      <td>8.000000</td>\n",
       "      <td>1.785505</td>\n",
       "      <td>1.872250</td>\n",
       "      <td>0.068363</td>\n",
       "      <td>8.732127</td>\n",
       "      <td>-0.418717</td>\n",
       "      <td>12.740641</td>\n",
       "    </tr>\n",
       "    <tr>\n",
       "      <th>...</th>\n",
       "      <th>...</th>\n",
       "      <th>...</th>\n",
       "      <th>...</th>\n",
       "      <th>...</th>\n",
       "      <td>...</td>\n",
       "      <td>...</td>\n",
       "      <td>...</td>\n",
       "      <td>...</td>\n",
       "      <td>...</td>\n",
       "      <td>...</td>\n",
       "      <td>...</td>\n",
       "    </tr>\n",
       "    <tr>\n",
       "      <th rowspan=\"5\" valign=\"top\">slac</th>\n",
       "      <th>vuraruna_65</th>\n",
       "      <th>o</th>\n",
       "      <th>50</th>\n",
       "      <th>1</th>\n",
       "      <td>NaN</td>\n",
       "      <td>1.732568</td>\n",
       "      <td>NaN</td>\n",
       "      <td>NaN</td>\n",
       "      <td>NaN</td>\n",
       "      <td>0.337350</td>\n",
       "      <td>10.874901</td>\n",
       "    </tr>\n",
       "    <tr>\n",
       "      <th rowspan=\"4\" valign=\"top\">wefakuko_75</th>\n",
       "      <th rowspan=\"4\" valign=\"top\">o</th>\n",
       "      <th>39</th>\n",
       "      <th>1</th>\n",
       "      <td>NaN</td>\n",
       "      <td>1.768140</td>\n",
       "      <td>NaN</td>\n",
       "      <td>NaN</td>\n",
       "      <td>NaN</td>\n",
       "      <td>-0.580270</td>\n",
       "      <td>12.348048</td>\n",
       "    </tr>\n",
       "    <tr>\n",
       "      <th>40</th>\n",
       "      <th>1</th>\n",
       "      <td>NaN</td>\n",
       "      <td>1.750359</td>\n",
       "      <td>NaN</td>\n",
       "      <td>NaN</td>\n",
       "      <td>NaN</td>\n",
       "      <td>-0.580270</td>\n",
       "      <td>12.348048</td>\n",
       "    </tr>\n",
       "    <tr>\n",
       "      <th>42</th>\n",
       "      <th>1</th>\n",
       "      <td>NaN</td>\n",
       "      <td>1.763135</td>\n",
       "      <td>NaN</td>\n",
       "      <td>NaN</td>\n",
       "      <td>NaN</td>\n",
       "      <td>-0.580270</td>\n",
       "      <td>12.348048</td>\n",
       "    </tr>\n",
       "    <tr>\n",
       "      <th>43</th>\n",
       "      <th>1</th>\n",
       "      <td>NaN</td>\n",
       "      <td>1.742876</td>\n",
       "      <td>NaN</td>\n",
       "      <td>NaN</td>\n",
       "      <td>NaN</td>\n",
       "      <td>-0.580270</td>\n",
       "      <td>12.348048</td>\n",
       "    </tr>\n",
       "  </tbody>\n",
       "</table>\n",
       "<p>99 rows × 7 columns</p>\n",
       "</div>"
      ],
      "text/plain": [
       "                                             eff_oxid_state  \\\n",
       "compenv slab_id     ads active_site att_num                   \n",
       "nersc   fosurufu_23 o   43          1              7.333333   \n",
       "                        45          1              7.333333   \n",
       "        galopuba_86 o   21          1              6.000000   \n",
       "        gubufafu_74 o   16          1              8.000000   \n",
       "                        20          1              8.000000   \n",
       "...                                                     ...   \n",
       "slac    vuraruna_65 o   50          1                   NaN   \n",
       "        wefakuko_75 o   39          1                   NaN   \n",
       "                        40          1                   NaN   \n",
       "                        42          1                   NaN   \n",
       "                        43          1                   NaN   \n",
       "\n",
       "                                             active_o_metal_dist  ir_o_mean  \\\n",
       "compenv slab_id     ads active_site att_num                                   \n",
       "nersc   fosurufu_23 o   43          1                   1.757003   1.952891   \n",
       "                        45          1                   1.751524   1.952891   \n",
       "        galopuba_86 o   21          1                   1.749184   6.507621   \n",
       "        gubufafu_74 o   16          1                   1.799507   1.872250   \n",
       "                        20          1                   1.785505   1.872250   \n",
       "...                                                          ...        ...   \n",
       "slac    vuraruna_65 o   50          1                   1.732568        NaN   \n",
       "        wefakuko_75 o   39          1                   1.768140        NaN   \n",
       "                        40          1                   1.750359        NaN   \n",
       "                        42          1                   1.763135        NaN   \n",
       "                        43          1                   1.742876        NaN   \n",
       "\n",
       "                                             ir_o_std  octa_vol   dH_bulk  \\\n",
       "compenv slab_id     ads active_site att_num                                 \n",
       "nersc   fosurufu_23 o   43          1        0.163121  9.310264 -0.595820   \n",
       "                        45          1        0.163121  9.310264 -0.595820   \n",
       "        galopuba_86 o   21          1        1.266644  9.719644 -0.606853   \n",
       "        gubufafu_74 o   16          1        0.068363  8.732127 -0.418717   \n",
       "                        20          1        0.068363  8.732127 -0.418717   \n",
       "...                                               ...       ...       ...   \n",
       "slac    vuraruna_65 o   50          1             NaN       NaN  0.337350   \n",
       "        wefakuko_75 o   39          1             NaN       NaN -0.580270   \n",
       "                        40          1             NaN       NaN -0.580270   \n",
       "                        42          1             NaN       NaN -0.580270   \n",
       "                        43          1             NaN       NaN -0.580270   \n",
       "\n",
       "                                             volume_pa  \n",
       "compenv slab_id     ads active_site att_num             \n",
       "nersc   fosurufu_23 o   43          1        13.422324  \n",
       "                        45          1        13.422324  \n",
       "        galopuba_86 o   21          1        14.047474  \n",
       "        gubufafu_74 o   16          1        12.740641  \n",
       "                        20          1        12.740641  \n",
       "...                                                ...  \n",
       "slac    vuraruna_65 o   50          1        10.874901  \n",
       "        wefakuko_75 o   39          1        12.348048  \n",
       "                        40          1        12.348048  \n",
       "                        42          1        12.348048  \n",
       "                        43          1        12.348048  \n",
       "\n",
       "[99 rows x 7 columns]"
      ]
     },
     "execution_count": 8,
     "metadata": {},
     "output_type": "execute_result"
    }
   ],
   "source": [
    "from methods import get_df_features\n",
    "get_df_features()"
   ]
  },
  {
   "cell_type": "raw",
   "metadata": {},
   "source": [
    "\n",
    "\n"
   ]
  },
  {
   "cell_type": "code",
   "execution_count": 9,
   "metadata": {
    "jupyter": {
     "source_hidden": true
    }
   },
   "outputs": [],
   "source": [
    "# # #########################################################\n",
    "# import pickle; import os\n",
    "# path_i = os.path.join(\n",
    "#     os.environ[\"PROJ_irox_oer\"],\n",
    "#     \"workflow/feature_engineering\",\n",
    "#     \"out_data/df_features.pickle\")\n",
    "# with open(path_i, \"rb\") as fle:\n",
    "#     df_features = pickle.load(fle)\n",
    "# # #########################################################"
   ]
  },
  {
   "cell_type": "code",
   "execution_count": 10,
   "metadata": {
    "jupyter": {
     "source_hidden": true
    }
   },
   "outputs": [],
   "source": [
    "# # Pickling data ###########################################\n",
    "# import os; import pickle\n",
    "# directory = \"out_data\"\n",
    "# if not os.path.exists(directory): os.makedirs(directory)\n",
    "# with open(os.path.join(directory, \"df_features.pickle\"), \"wb\") as fle:\n",
    "#     pickle.dump(df_features, fle)\n",
    "# # #########################################################"
   ]
  },
  {
   "cell_type": "code",
   "execution_count": 11,
   "metadata": {
    "jupyter": {
     "source_hidden": true
    }
   },
   "outputs": [],
   "source": [
    "# row_i = df_features.iloc[0]\n",
    "\n",
    "# slab_id_i = row_i.name[1]\n",
    "\n",
    "# bulk_ids = df_job_ids[df_job_ids.slab_id == slab_id_i].bulk_id.unique()\n",
    "# mess_i = \"ikjisdjf\"\n",
    "# assert len(bulk_ids) == 1, mess_i\n",
    "# bulk_id_i = bulk_ids[0]\n",
    "\n",
    "# row_dft_i = df_dft.loc[bulk_id_i]\n",
    "\n",
    "# dH_i = row_dft_i.dH\n",
    "# volume_pa = row_dft_i.volume_pa"
   ]
  },
  {
   "cell_type": "code",
   "execution_count": 12,
   "metadata": {
    "jupyter": {
     "source_hidden": true
    }
   },
   "outputs": [],
   "source": [
    "# # def method(row_i, argument_0, optional_arg=None):\n",
    "# def method(row_i):\n",
    "#     new_column_values_dict = {\n",
    "#         \"TEMP\": None,\n",
    "#         }\n",
    "\n",
    "\n",
    "#     # #########################################################\n",
    "#     # row_i = df_dft.iloc[0]\n",
    "#     # #########################################################\n",
    "#     bulk_id_i = row_i.name\n",
    "#     # #########################################################\n",
    "\n",
    "#     tmp = df_job_ids[df_job_ids.bulk_id == bulk_id_i]\n",
    "#     if tmp.shape[0] > 0:\n",
    "#         print(bulk_id_i)\n",
    "#     # print(tmp.shape[0])\n",
    "\n",
    "#     # bulk_id_i\n",
    "\n",
    "#     # #########################################################################\n",
    "#     for key, value in new_column_values_dict.items():\n",
    "#         row_i[key] = value\n",
    "#     return(row_i)\n",
    "\n",
    "# df_i = df_dft\n",
    "\n",
    "# # arg1 = \"TEMP_0\"\n",
    "# # df_i[\"column_name\"] = df_i.apply(\n",
    "# df_i = df_i.apply(\n",
    "#     method,\n",
    "#     axis=1,\n",
    "#     # args=(arg1, ),\n",
    "#     # optional_arg=\"TEMP_1\"\n",
    "#     )\n",
    "# df_i"
   ]
  },
  {
   "cell_type": "code",
   "execution_count": 13,
   "metadata": {
    "jupyter": {
     "source_hidden": true
    }
   },
   "outputs": [],
   "source": [
    "# # #########################################################\n",
    "# # row_i = df_dft.iloc[0]\n",
    "# row_i = df_dft.loc[\"b49kx4c19q\"]\n",
    "# # #########################################################\n",
    "# bulk_id_i = row_i.name\n",
    "# # #########################################################\n",
    "\n",
    "# tmp = df_job_ids[df_job_ids.bulk_id == bulk_id_i]\n",
    "# print(tmp.shape[0])\n",
    "\n",
    "# # bulk_id_i\n",
    "# tmp"
   ]
  },
  {
   "cell_type": "code",
   "execution_count": 14,
   "metadata": {
    "jupyter": {
     "source_hidden": true
    }
   },
   "outputs": [],
   "source": [
    "# row_i"
   ]
  },
  {
   "cell_type": "code",
   "execution_count": 15,
   "metadata": {
    "jupyter": {
     "source_hidden": true
    }
   },
   "outputs": [],
   "source": [
    "# lst_0 = list(set(df_job_ids.bulk_id.tolist()))\n",
    "# lst_1 = df_dft.index.tolist()\n",
    "\n",
    "# # a = [1,2,3,4,5]\n",
    "# # b = [1,3,5,6]\n",
    "\n",
    "# list(set(lst_0) & set(lst_1))"
   ]
  }
 ],
 "metadata": {
  "jupytext": {
   "formats": "ipynb,py:light"
  },
  "kernelspec": {
   "display_name": "Python [conda env:PROJ_irox_oer] *",
   "language": "python",
   "name": "conda-env-PROJ_irox_oer-py"
  },
  "language_info": {
   "codemirror_mode": {
    "name": "ipython",
    "version": 3
   },
   "file_extension": ".py",
   "mimetype": "text/x-python",
   "name": "python",
   "nbconvert_exporter": "python",
   "pygments_lexer": "ipython3",
   "version": "3.6.11"
  }
 },
 "nbformat": 4,
 "nbformat_minor": 4
}
