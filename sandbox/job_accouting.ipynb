{
 "cells": [
  {
   "cell_type": "markdown",
   "metadata": {},
   "source": [
    "# Import Modules"
   ]
  },
  {
   "cell_type": "code",
   "execution_count": 1,
   "metadata": {},
   "outputs": [
    {
     "name": "stdout",
     "output_type": "stream",
     "text": [
      "/home/raulf2012/Dropbox/01_norskov/00_git_repos/PROJ_IrOx_OER/sandbox\n"
     ]
    }
   ],
   "source": [
    "import os\n",
    "print(os.getcwd())\n",
    "import sys\n",
    "\n",
    "import pandas as pd\n",
    "# pd.set_option(\"display.max_columns\", None)\n",
    "pd.set_option('display.max_rows', None)\n",
    "# pd.options.display.max_colwidth = 100"
   ]
  },
  {
   "cell_type": "code",
   "execution_count": 2,
   "metadata": {},
   "outputs": [],
   "source": [
    "from methods import (\n",
    "    get_df_jobs_anal,\n",
    "    get_df_jobs,\n",
    "    get_df_oer_groups,\n",
    "    get_df_slabs_to_run,\n",
    "    get_df_active_sites,\n",
    "    )"
   ]
  },
  {
   "cell_type": "markdown",
   "metadata": {},
   "source": [
    "# Read Data"
   ]
  },
  {
   "cell_type": "code",
   "execution_count": 3,
   "metadata": {},
   "outputs": [],
   "source": [
    "df_jobs_anal = get_df_jobs_anal()\n",
    "df_jobs = get_df_jobs()\n",
    "df_oer_groups = get_df_oer_groups()\n",
    "df_slabs_to_run = get_df_slabs_to_run()\n",
    "df_active_sites = get_df_active_sites()"
   ]
  },
  {
   "cell_type": "code",
   "execution_count": 4,
   "metadata": {},
   "outputs": [],
   "source": [
    "df_slabs_to_run = df_slabs_to_run.set_index([\"compenv\", \"slab_id\", \"att_num\", ], drop=False)"
   ]
  },
  {
   "cell_type": "raw",
   "metadata": {},
   "source": [
    "\n"
   ]
  },
  {
   "cell_type": "code",
   "execution_count": 5,
   "metadata": {},
   "outputs": [
    {
     "name": "stdout",
     "output_type": "stream",
     "text": [
      "Total *O systems: 40\n",
      "*O systems done: 39\n",
      "*O systems not done: 1\n"
     ]
    }
   ],
   "source": [
    "idx = pd.IndexSlice\n",
    "df_jobs_anal_o = df_jobs_anal.loc[idx[:, :, \"o\", :, :], :]\n",
    "\n",
    "# #########################################################\n",
    "print(\n",
    "    \"Total *O systems: \",\n",
    "    df_jobs_anal_o.shape[0],\n",
    "    sep=\"\",\n",
    "    )\n",
    "\n",
    "# #########################################################\n",
    "print(\n",
    "    \"*O systems done: \",\n",
    "    df_jobs_anal_o[df_jobs_anal_o.job_completely_done == True].shape[0],\n",
    "    sep=\"\",\n",
    "    )\n",
    "\n",
    "# #########################################################\n",
    "print(\n",
    "    \"*O systems not done: \",\n",
    "    df_jobs_anal_o[df_jobs_anal_o.job_completely_done == False].shape[0],\n",
    "    sep=\"\",\n",
    "    )"
   ]
  },
  {
   "cell_type": "code",
   "execution_count": 6,
   "metadata": {},
   "outputs": [
    {
     "name": "stdout",
     "output_type": "stream",
     "text": [
      "\n",
      "\n",
      "tot_num_active_sites: 101\n",
      "tot_num_active_sites__ok: 54\n",
      "tot_num_active_sites__bad: 45\n"
     ]
    }
   ],
   "source": [
    "tot_num_active_sites = 0\n",
    "\n",
    "tot_num_active_sites__bad = 0\n",
    "tot_num_active_sites__ok = 0\n",
    "tot_num_active_sites__not_proc_man = 0\n",
    "for name_i, row_i in df_jobs_anal_o.iterrows():\n",
    "\n",
    "    # #####################################################\n",
    "    compenv_i = name_i[0]\n",
    "    slab_id_i = name_i[1]\n",
    "    ads_i = name_i[2]\n",
    "    active_site_i = name_i[3]\n",
    "    att_num_i = name_i[4]\n",
    "    # #####################################################\n",
    "\n",
    "    # #####################################################\n",
    "    row_active_sites_i = df_active_sites.loc[slab_id_i]\n",
    "    # #####################################################\n",
    "    active_sites_unique_i = row_active_sites_i.active_sites_unique\n",
    "    # #####################################################\n",
    "\n",
    "    num_active_sites_i = len(active_sites_unique_i)\n",
    "\n",
    "    # Totalling the number of unique active sites\n",
    "    tot_num_active_sites += num_active_sites_i\n",
    "\n",
    "    index_j = (compenv_i, slab_id_i, att_num_i, )\n",
    "    if index_j in df_slabs_to_run.index:\n",
    "        row_slabs_to_run_i = df_slabs_to_run.loc[index_j]\n",
    "        status_i = row_slabs_to_run_i.status\n",
    "    else:\n",
    "        status_i = \"NaN\"\n",
    "\n",
    "    idx = pd.IndexSlice\n",
    "    # df_jobs_anal_bare = df_jobs_anal.loc[idx[compenv_i, slab_id_i, :, :, :], :]\n",
    "    df_jobs_anal_bare = df_jobs_anal.loc[idx[compenv_i, slab_id_i, \"bare\", :, :], :]\n",
    "\n",
    "    # from IPython.display import display\n",
    "    # print(40 * \"*\")\n",
    "    # display(df_jobs_anal_bare)\n",
    "    # print(40 * \"*\")\n",
    "\n",
    "    num_systems_i = df_jobs_anal_bare.shape[0]\n",
    "\n",
    "    # print(\n",
    "    #     name_i,\n",
    "    #     \"|\",\n",
    "    #     status_i,\n",
    "    #     \"|\",\n",
    "    #     # \"df_jobs_anal_bare.shape:\",\n",
    "    #     num_systems_i,\n",
    "    #     \"|\",\n",
    "    #     num_active_sites_i,\n",
    "    #     )\n",
    "\n",
    "\n",
    "    if status_i == \"bad\":\n",
    "        tot_num_active_sites__bad += num_active_sites_i\n",
    "\n",
    "\n",
    "    elif status_i == \"ok\":\n",
    "        tot_num_active_sites__ok += num_active_sites_i\n",
    "\n",
    "        if num_systems_i != num_active_sites_i:\n",
    "            tmp = 42\n",
    "    else:\n",
    "        # print(name_i)\n",
    "        # print(\"Not bad oor ok!!!\")\n",
    "        tot_num_active_sites__not_proc_man += num_active_sites_i\n",
    "\n",
    "\n",
    "            # #############################################\n",
    "            # print(\n",
    "            #     name_i,\n",
    "            #     \"|\",\n",
    "            #     status_i,\n",
    "            #     \"|\",\n",
    "            #     # \"df_jobs_anal_bare.shape:\",\n",
    "            #     num_systems_i,\n",
    "            #     \"|\",\n",
    "            #     num_active_sites_i,\n",
    "            #     )\n",
    "\n",
    "print(\"\")\n",
    "print(\"\")\n",
    "print(\"tot_num_active_sites:\", tot_num_active_sites)\n",
    "print(\"tot_num_active_sites__ok:\", tot_num_active_sites__ok)\n",
    "print(\"tot_num_active_sites__bad:\", tot_num_active_sites__bad)"
   ]
  },
  {
   "cell_type": "code",
   "execution_count": 7,
   "metadata": {},
   "outputs": [
    {
     "name": "stdout",
     "output_type": "stream",
     "text": [
      "Total number of bare (*) systems: 101\n",
      "\n",
      "Completed bare (*) systems: 54\n",
      "Systems not run b.c. *O was bad: 45\n",
      "Systems whose *O is not done or not manually inspected: 2\n"
     ]
    }
   ],
   "source": [
    "print(\n",
    "    \"Total number of bare (*) systems: \",\n",
    "    tot_num_active_sites,\n",
    "    \"\\n\",\n",
    "    sep=\"\")\n",
    "\n",
    "print(\n",
    "    \"Completed bare (*) systems: \",\n",
    "    tot_num_active_sites__ok,\n",
    "    sep=\"\")\n",
    "\n",
    "print(\n",
    "    \"Systems not run b.c. *O was bad: \",\n",
    "    tot_num_active_sites__bad,\n",
    "    sep=\"\")\n",
    "\n",
    "print(\n",
    "    \"Systems whose *O is not done or not manually inspected: \",\n",
    "    tot_num_active_sites__not_proc_man,\n",
    "    sep=\"\")\n",
    "\n",
    "# print(\"tot_num_active_sites__bad:\", tot_num_active_sites__bad)"
   ]
  },
  {
   "cell_type": "code",
   "execution_count": 8,
   "metadata": {},
   "outputs": [
    {
     "data": {
      "text/html": [
       "<div>\n",
       "<style scoped>\n",
       "    .dataframe tbody tr th:only-of-type {\n",
       "        vertical-align: middle;\n",
       "    }\n",
       "\n",
       "    .dataframe tbody tr th {\n",
       "        vertical-align: top;\n",
       "    }\n",
       "\n",
       "    .dataframe thead th {\n",
       "        text-align: right;\n",
       "    }\n",
       "</style>\n",
       "<table border=\"1\" class=\"dataframe\">\n",
       "  <thead>\n",
       "    <tr style=\"text-align: right;\">\n",
       "      <th></th>\n",
       "      <th></th>\n",
       "      <th></th>\n",
       "      <th></th>\n",
       "      <th></th>\n",
       "      <th>job_id_max</th>\n",
       "      <th>timed_out</th>\n",
       "      <th>completed</th>\n",
       "      <th>brmix_issue</th>\n",
       "      <th>job_understandable</th>\n",
       "      <th>decision</th>\n",
       "      <th>dft_params_new</th>\n",
       "      <th>job_completely_done</th>\n",
       "    </tr>\n",
       "    <tr>\n",
       "      <th>compenv</th>\n",
       "      <th>slab_id</th>\n",
       "      <th>ads</th>\n",
       "      <th>active_site</th>\n",
       "      <th>att_num</th>\n",
       "      <th></th>\n",
       "      <th></th>\n",
       "      <th></th>\n",
       "      <th></th>\n",
       "      <th></th>\n",
       "      <th></th>\n",
       "      <th></th>\n",
       "      <th></th>\n",
       "    </tr>\n",
       "  </thead>\n",
       "  <tbody>\n",
       "    <tr>\n",
       "      <th rowspan=\"2\" valign=\"top\">nersc</th>\n",
       "      <th>fosurufu_23</th>\n",
       "      <th>o</th>\n",
       "      <th>NaN</th>\n",
       "      <th>1</th>\n",
       "      <td>sufarabe_10</td>\n",
       "      <td>None</td>\n",
       "      <td>True</td>\n",
       "      <td>None</td>\n",
       "      <td>True</td>\n",
       "      <td>[nothing, All done]</td>\n",
       "      <td>{}</td>\n",
       "      <td>True</td>\n",
       "    </tr>\n",
       "    <tr>\n",
       "      <th>galopuba_86</th>\n",
       "      <th>o</th>\n",
       "      <th>NaN</th>\n",
       "      <th>1</th>\n",
       "      <td>wipugigu_63</td>\n",
       "      <td>None</td>\n",
       "      <td>True</td>\n",
       "      <td>None</td>\n",
       "      <td>True</td>\n",
       "      <td>[nothing, All done]</td>\n",
       "      <td>{}</td>\n",
       "      <td>True</td>\n",
       "    </tr>\n",
       "  </tbody>\n",
       "</table>\n",
       "</div>"
      ],
      "text/plain": [
       "                                              job_id_max timed_out  completed  \\\n",
       "compenv slab_id     ads active_site att_num                                     \n",
       "nersc   fosurufu_23 o   NaN         1        sufarabe_10      None       True   \n",
       "        galopuba_86 o   NaN         1        wipugigu_63      None       True   \n",
       "\n",
       "                                            brmix_issue  job_understandable  \\\n",
       "compenv slab_id     ads active_site att_num                                   \n",
       "nersc   fosurufu_23 o   NaN         1              None                True   \n",
       "        galopuba_86 o   NaN         1              None                True   \n",
       "\n",
       "                                                        decision  \\\n",
       "compenv slab_id     ads active_site att_num                        \n",
       "nersc   fosurufu_23 o   NaN         1        [nothing, All done]   \n",
       "        galopuba_86 o   NaN         1        [nothing, All done]   \n",
       "\n",
       "                                            dft_params_new  \\\n",
       "compenv slab_id     ads active_site att_num                  \n",
       "nersc   fosurufu_23 o   NaN         1                   {}   \n",
       "        galopuba_86 o   NaN         1                   {}   \n",
       "\n",
       "                                             job_completely_done  \n",
       "compenv slab_id     ads active_site att_num                       \n",
       "nersc   fosurufu_23 o   NaN         1                       True  \n",
       "        galopuba_86 o   NaN         1                       True  "
      ]
     },
     "execution_count": 8,
     "metadata": {},
     "output_type": "execute_result"
    }
   ],
   "source": [
    "df_jobs_anal_o.iloc[0:2]"
   ]
  },
  {
   "cell_type": "code",
   "execution_count": 9,
   "metadata": {},
   "outputs": [],
   "source": [
    "# df_slabs_to_run.iloc[0:2]\n",
    "\n",
    "# df_index_i = df_jobs_anal_o.index.to_frame()\n",
    "\n",
    "\n",
    "good_indices_to_keep = []\n",
    "for name_i, row_i in df_jobs_anal_o.iterrows():\n",
    "\n",
    "    # #########################################################\n",
    "    compenv_i = name_i[0]\n",
    "    slab_id_i = name_i[1]\n",
    "    ads_i = name_i[2]\n",
    "    active_site_i = name_i[3]\n",
    "    att_num_i = name_i[4]\n",
    "    # #########################################################\n",
    "\n",
    "\n",
    "    key_i = (compenv_i, slab_id_i, att_num_i, )\n",
    "    if key_i in df_slabs_to_run.index:\n",
    "        row_slabs_i = df_slabs_to_run.loc[key_i]\n",
    "        status_i = row_slabs_i.status\n",
    "    else:\n",
    "        status_i = None\n",
    "\n",
    "    if status_i == \"ok\":\n",
    "        good_indices_to_keep.append(name_i)\n",
    "\n",
    "df_jobs_anal_o_ok = df_jobs_anal_o.loc[\n",
    "    good_indices_to_keep    \n",
    "    ]"
   ]
  },
  {
   "cell_type": "code",
   "execution_count": 19,
   "metadata": {},
   "outputs": [],
   "source": [
    "# df_jobs_anal_o_ok__slac = df_jobs_anal_o_ok[df_jobs_anal_o_ok.compenv == \"slac\"]\n",
    "# df_jobs_anal_o_ok\n",
    "\n",
    "idx = pd.IndexSlice\n",
    "df_jobs_anal_o_ok__slac = df_jobs_anal_o_ok.loc[idx[\"slac\", :, :, :, :], :]\n",
    "\n",
    "idx = pd.IndexSlice\n",
    "df_jobs_anal_o_ok__sher = df_jobs_anal_o_ok.loc[idx[\"sherlock\", :, :, :, :], :]\n",
    "\n",
    "idx = pd.IndexSlice\n",
    "df_jobs_anal_o_ok__nersc = df_jobs_anal_o_ok.loc[idx[\"nersc\", :, :, :, :], :]"
   ]
  },
  {
   "cell_type": "code",
   "execution_count": null,
   "metadata": {},
   "outputs": [],
   "source": [
    "print(40 * \"*\")\n",
    "print(40 * \"*\")\n",
    "print(40 * \"*\")\n",
    "print(\"Slac\")"
   ]
  },
  {
   "cell_type": "code",
   "execution_count": 17,
   "metadata": {
    "collapsed": true,
    "jupyter": {
     "outputs_hidden": true
    }
   },
   "outputs": [],
   "source": [
    "tot_num_oh_jobs = 0\n",
    "tot_num_oh_jobs_2 = 0\n",
    "tot_num_completed_oh_jobs = 0\n",
    "\n",
    "tot_num_oh_job_sets = 0\n",
    "tot_num_job_sets_with_compl_oh = 0\n",
    "# for name_i, row_i in df_jobs_anal_o_ok.iterrows():\n",
    "for name_i, row_i in df_jobs_anal_o_ok__slac.iterrows():\n",
    "\n",
    "    # #####################################################\n",
    "    compenv_i = name_i[0]\n",
    "    slab_id_i = name_i[1]\n",
    "    ads_i = name_i[2]\n",
    "    active_site_i = name_i[3]\n",
    "    att_num_i = name_i[4]\n",
    "    # #####################################################\n",
    "\n",
    "    # #####################################################\n",
    "    row_active_sites_i = df_active_sites.loc[slab_id_i]\n",
    "    # #####################################################\n",
    "    active_sites_unique_i = row_active_sites_i.active_sites_unique\n",
    "    # #####################################################\n",
    "\n",
    "    num_active_sites_i = len(active_sites_unique_i)\n",
    "\n",
    "    # Totalling the number of unique active sites\n",
    "    tot_num_active_sites += num_active_sites_i\n",
    "\n",
    "    for active_site_j in active_sites_unique_i:\n",
    "        tot_num_oh_job_sets += 1\n",
    "\n",
    "        df_jobs_i = df_jobs[\n",
    "            (df_jobs.compenv == compenv_i) & \\\n",
    "            (df_jobs.slab_id == slab_id_i) & \\\n",
    "            (df_jobs.ads == \"oh\") & \\\n",
    "            (df_jobs.active_site == active_site_j) & \\\n",
    "            [True for i in range(len(df_jobs))]\n",
    "            ]\n",
    "\n",
    "        num_oh_calcs = df_jobs_i.att_num.unique().shape[0]\n",
    "        tot_num_oh_jobs += num_oh_calcs\n",
    "        tot_num_oh_jobs_2 += 4\n",
    "\n",
    "        # #################################################\n",
    "        df_index = df_jobs_anal.index.to_frame()\n",
    "        df_index_j = df_index[\n",
    "            (df_index.compenv == compenv_i) & \\\n",
    "            (df_index.slab_id == slab_id_i) & \\\n",
    "            (df_index.ads == \"oh\") & \\\n",
    "            (df_index.active_site == active_site_j) & \\\n",
    "            [True for i in range(len(df_index))]\n",
    "            ]\n",
    "\n",
    "        df_jobs_anal_oh_j = df_jobs_anal.loc[\n",
    "            df_index_j.index    \n",
    "            ]\n",
    "\n",
    "        df_i = df_jobs_anal_oh_j[df_jobs_anal_oh_j.job_completely_done == True]\n",
    "        completed_oh_i = df_i.shape[0]\n",
    "\n",
    "        tot_num_completed_oh_jobs += completed_oh_i\n",
    "\n",
    "        if completed_oh_i > 0:\n",
    "            tot_num_job_sets_with_compl_oh += 1\n",
    "        else:\n",
    "            tmp = 42\n",
    "#             from IPython.display import display\n",
    "#             print(40 * \"*\")\n",
    "#             print(name_i, active_site_j)\n",
    "#             display(df_jobs_anal_oh_j)\n",
    "\n",
    "print(\"tot_num_oh_jobs:\", tot_num_oh_jobs)\n",
    "print(\"tot_num_oh_jobs_2:\", tot_num_oh_jobs_2)\n",
    "print(\"tot_num_completed_oh_jobs:\", tot_num_completed_oh_jobs)\n",
    "print(\"tot_num_oh_job_sets:\", tot_num_oh_job_sets)\n",
    "print(\"tot_num_job_sets_with_compl_oh:\", tot_num_job_sets_with_compl_oh)"
   ]
  },
  {
   "cell_type": "code",
   "execution_count": null,
   "metadata": {},
   "outputs": [],
   "source": [
    "print(40 * \"*\")\n",
    "print(40 * \"*\")\n",
    "print(40 * \"*\")\n",
    "print(\"Sherlock\")"
   ]
  },
  {
   "cell_type": "code",
   "execution_count": null,
   "metadata": {},
   "outputs": [],
   "source": [
    "tot_num_oh_jobs = 0\n",
    "tot_num_oh_jobs_2 = 0\n",
    "tot_num_completed_oh_jobs = 0\n",
    "\n",
    "tot_num_oh_job_sets = 0\n",
    "tot_num_job_sets_with_compl_oh = 0\n",
    "# for name_i, row_i in df_jobs_anal_o_ok.iterrows():\n",
    "for name_i, row_i in df_jobs_anal_o_ok__sher.iterrows():\n",
    "\n",
    "    # #####################################################\n",
    "    compenv_i = name_i[0]\n",
    "    slab_id_i = name_i[1]\n",
    "    ads_i = name_i[2]\n",
    "    active_site_i = name_i[3]\n",
    "    att_num_i = name_i[4]\n",
    "    # #####################################################\n",
    "\n",
    "    # #####################################################\n",
    "    row_active_sites_i = df_active_sites.loc[slab_id_i]\n",
    "    # #####################################################\n",
    "    active_sites_unique_i = row_active_sites_i.active_sites_unique\n",
    "    # #####################################################\n",
    "\n",
    "    num_active_sites_i = len(active_sites_unique_i)\n",
    "\n",
    "    # Totalling the number of unique active sites\n",
    "    tot_num_active_sites += num_active_sites_i\n",
    "\n",
    "    for active_site_j in active_sites_unique_i:\n",
    "        tot_num_oh_job_sets += 1\n",
    "\n",
    "        df_jobs_i = df_jobs[\n",
    "            (df_jobs.compenv == compenv_i) & \\\n",
    "            (df_jobs.slab_id == slab_id_i) & \\\n",
    "            (df_jobs.ads == \"oh\") & \\\n",
    "            (df_jobs.active_site == active_site_j) & \\\n",
    "            [True for i in range(len(df_jobs))]\n",
    "            ]\n",
    "\n",
    "        num_oh_calcs = df_jobs_i.att_num.unique().shape[0]\n",
    "        tot_num_oh_jobs += num_oh_calcs\n",
    "        tot_num_oh_jobs_2 += 4\n",
    "\n",
    "        # #################################################\n",
    "        df_index = df_jobs_anal.index.to_frame()\n",
    "        df_index_j = df_index[\n",
    "            (df_index.compenv == compenv_i) & \\\n",
    "            (df_index.slab_id == slab_id_i) & \\\n",
    "            (df_index.ads == \"oh\") & \\\n",
    "            (df_index.active_site == active_site_j) & \\\n",
    "            [True for i in range(len(df_index))]\n",
    "            ]\n",
    "\n",
    "        df_jobs_anal_oh_j = df_jobs_anal.loc[\n",
    "            df_index_j.index    \n",
    "            ]\n",
    "\n",
    "        df_i = df_jobs_anal_oh_j[df_jobs_anal_oh_j.job_completely_done == True]\n",
    "        completed_oh_i = df_i.shape[0]\n",
    "\n",
    "        tot_num_completed_oh_jobs += completed_oh_i\n",
    "\n",
    "        if completed_oh_i > 0:\n",
    "            tot_num_job_sets_with_compl_oh += 1\n",
    "        else:\n",
    "            tmp = 42\n",
    "#             from IPython.display import display\n",
    "#             print(40 * \"*\")\n",
    "#             print(name_i, active_site_j)\n",
    "#             display(df_jobs_anal_oh_j)\n",
    "\n",
    "print(\"tot_num_oh_jobs:\", tot_num_oh_jobs)\n",
    "print(\"tot_num_oh_jobs_2:\", tot_num_oh_jobs_2)\n",
    "print(\"tot_num_completed_oh_jobs:\", tot_num_completed_oh_jobs)\n",
    "print(\"tot_num_oh_job_sets:\", tot_num_oh_job_sets)\n",
    "print(\"tot_num_job_sets_with_compl_oh:\", tot_num_job_sets_with_compl_oh)"
   ]
  },
  {
   "cell_type": "code",
   "execution_count": null,
   "metadata": {},
   "outputs": [],
   "source": [
    "print(40 * \"*\")\n",
    "print(40 * \"*\")\n",
    "print(40 * \"*\")\n",
    "print(\"NERSC\")"
   ]
  },
  {
   "cell_type": "code",
   "execution_count": 21,
   "metadata": {},
   "outputs": [
    {
     "name": "stdout",
     "output_type": "stream",
     "text": [
      "tot_num_oh_jobs: 0\n",
      "tot_num_oh_jobs_2: 96\n",
      "tot_num_completed_oh_jobs: 0\n",
      "tot_num_oh_job_sets: 24\n",
      "tot_num_job_sets_with_compl_oh: 0\n"
     ]
    }
   ],
   "source": [
    "tot_num_oh_jobs = 0\n",
    "tot_num_oh_jobs_2 = 0\n",
    "tot_num_completed_oh_jobs = 0\n",
    "\n",
    "tot_num_oh_job_sets = 0\n",
    "tot_num_job_sets_with_compl_oh = 0\n",
    "# for name_i, row_i in df_jobs_anal_o_ok.iterrows():\n",
    "# for name_i, row_i in df_jobs_anal_o_ok__sher.iterrows():\n",
    "for name_i, row_i in df_jobs_anal_o_ok__nersc.iterrows():\n",
    "\n",
    "    # #####################################################\n",
    "    compenv_i = name_i[0]\n",
    "    slab_id_i = name_i[1]\n",
    "    ads_i = name_i[2]\n",
    "    active_site_i = name_i[3]\n",
    "    att_num_i = name_i[4]\n",
    "    # #####################################################\n",
    "\n",
    "    # #####################################################\n",
    "    row_active_sites_i = df_active_sites.loc[slab_id_i]\n",
    "    # #####################################################\n",
    "    active_sites_unique_i = row_active_sites_i.active_sites_unique\n",
    "    # #####################################################\n",
    "\n",
    "    num_active_sites_i = len(active_sites_unique_i)\n",
    "\n",
    "    # Totalling the number of unique active sites\n",
    "    tot_num_active_sites += num_active_sites_i\n",
    "\n",
    "    for active_site_j in active_sites_unique_i:\n",
    "        tot_num_oh_job_sets += 1\n",
    "\n",
    "        df_jobs_i = df_jobs[\n",
    "            (df_jobs.compenv == compenv_i) & \\\n",
    "            (df_jobs.slab_id == slab_id_i) & \\\n",
    "            (df_jobs.ads == \"oh\") & \\\n",
    "            (df_jobs.active_site == active_site_j) & \\\n",
    "            [True for i in range(len(df_jobs))]\n",
    "            ]\n",
    "\n",
    "        num_oh_calcs = df_jobs_i.att_num.unique().shape[0]\n",
    "        tot_num_oh_jobs += num_oh_calcs\n",
    "        tot_num_oh_jobs_2 += 4\n",
    "\n",
    "        # #################################################\n",
    "        df_index = df_jobs_anal.index.to_frame()\n",
    "        df_index_j = df_index[\n",
    "            (df_index.compenv == compenv_i) & \\\n",
    "            (df_index.slab_id == slab_id_i) & \\\n",
    "            (df_index.ads == \"oh\") & \\\n",
    "            (df_index.active_site == active_site_j) & \\\n",
    "            [True for i in range(len(df_index))]\n",
    "            ]\n",
    "\n",
    "        df_jobs_anal_oh_j = df_jobs_anal.loc[\n",
    "            df_index_j.index    \n",
    "            ]\n",
    "\n",
    "        df_i = df_jobs_anal_oh_j[df_jobs_anal_oh_j.job_completely_done == True]\n",
    "        completed_oh_i = df_i.shape[0]\n",
    "\n",
    "        tot_num_completed_oh_jobs += completed_oh_i\n",
    "\n",
    "        if completed_oh_i > 0:\n",
    "            tot_num_job_sets_with_compl_oh += 1\n",
    "        else:\n",
    "            tmp = 42\n",
    "#             from IPython.display import display\n",
    "#             print(40 * \"*\")\n",
    "#             print(name_i, active_site_j)\n",
    "#             display(df_jobs_anal_oh_j)\n",
    "\n",
    "print(\"tot_num_oh_jobs:\", tot_num_oh_jobs)\n",
    "print(\"tot_num_oh_jobs_2:\", tot_num_oh_jobs_2)\n",
    "print(\"tot_num_completed_oh_jobs:\", tot_num_completed_oh_jobs)\n",
    "print(\"tot_num_oh_job_sets:\", tot_num_oh_job_sets)\n",
    "print(\"tot_num_job_sets_with_compl_oh:\", tot_num_job_sets_with_compl_oh)"
   ]
  },
  {
   "cell_type": "code",
   "execution_count": 13,
   "metadata": {},
   "outputs": [],
   "source": [
    "# df_jobs_anal.iloc[0:2]\n",
    "\n",
    "# active_site_j"
   ]
  },
  {
   "cell_type": "code",
   "execution_count": 14,
   "metadata": {},
   "outputs": [
    {
     "ename": "AssertionError",
     "evalue": "",
     "output_type": "error",
     "traceback": [
      "\u001b[0;31m---------------------------------------------------------------------------\u001b[0m",
      "\u001b[0;31mAssertionError\u001b[0m                            Traceback (most recent call last)",
      "\u001b[0;32m<ipython-input-14-a871fdc9ebee>\u001b[0m in \u001b[0;36m<module>\u001b[0;34m\u001b[0m\n\u001b[0;32m----> 1\u001b[0;31m \u001b[0;32massert\u001b[0m \u001b[0;32mFalse\u001b[0m\u001b[0;34m\u001b[0m\u001b[0;34m\u001b[0m\u001b[0m\n\u001b[0m",
      "\u001b[0;31mAssertionError\u001b[0m: "
     ]
    }
   ],
   "source": [
    "assert False"
   ]
  },
  {
   "cell_type": "code",
   "execution_count": null,
   "metadata": {
    "jupyter": {
     "source_hidden": true
    }
   },
   "outputs": [],
   "source": [
    "    # num_systems_i = df_jobs_anal_bare.shape[0]\n",
    "\n",
    "\n",
    "    # if status_i == \"bad\":\n",
    "    #     tot_num_active_sites__bad += num_active_sites_i\n",
    "\n",
    "    # elif status_i == \"ok\":\n",
    "    #     tot_num_active_sites__ok += num_active_sites_i\n",
    "    #     if num_systems_i != num_active_sites_i:\n",
    "    #         tmp = 42\n",
    "    # else:\n",
    "    #     tot_num_active_sites__not_proc_man += num_active_sites_i\n",
    "\n",
    "# print(\"\")\n",
    "# print(\"\")\n",
    "# print(\"tot_num_active_sites:\", tot_num_active_sites)\n",
    "# print(\"tot_num_active_sites__ok:\", tot_num_active_sites__ok)\n",
    "# print(\"tot_num_active_sites__bad:\", tot_num_active_sites__bad)"
   ]
  },
  {
   "cell_type": "code",
   "execution_count": null,
   "metadata": {
    "jupyter": {
     "source_hidden": true
    }
   },
   "outputs": [],
   "source": [
    "# df_jobs_i = df_jobs[\n",
    "#     (df_jobs.compenv == compenv_i) & \\\n",
    "#     (df_jobs.slab_id == slab_id_i) & \\\n",
    "#     (df_jobs.ads == \"oh\") & \\\n",
    "#     (df_jobs.active_site == active_site_j) & \\\n",
    "#     [True for i in range(len(df_jobs))]\n",
    "#     ]\n",
    "\n",
    "# num_oh_calcs = df_jobs_i.att_num.unique().shape[0]"
   ]
  },
  {
   "cell_type": "code",
   "execution_count": null,
   "metadata": {},
   "outputs": [],
   "source": [
    "45 + 54"
   ]
  },
  {
   "cell_type": "code",
   "execution_count": null,
   "metadata": {},
   "outputs": [],
   "source": [
    "df_jobs_anal_bare"
   ]
  },
  {
   "cell_type": "code",
   "execution_count": null,
   "metadata": {},
   "outputs": [],
   "source": [
    "assert False"
   ]
  },
  {
   "cell_type": "code",
   "execution_count": null,
   "metadata": {},
   "outputs": [],
   "source": [
    "# index_j = (compenv_i, slab_id_i, att_num_i, )\n",
    "index_j = (\"slac\", \"garituna_73\", )\n",
    "\n",
    "df_jobs_anal.loc[index_j]"
   ]
  },
  {
   "cell_type": "code",
   "execution_count": null,
   "metadata": {},
   "outputs": [],
   "source": [
    "df_jobs[\n",
    "    (df_jobs.compenv == \"slac\") & \\\n",
    "    (df_jobs.slab_id == \"garituna_73\") & \\\n",
    "    [True for i in range(len(df_jobs))]\n",
    "    ]"
   ]
  },
  {
   "cell_type": "code",
   "execution_count": null,
   "metadata": {},
   "outputs": [],
   "source": [
    "assert False"
   ]
  },
  {
   "cell_type": "code",
   "execution_count": null,
   "metadata": {},
   "outputs": [],
   "source": [
    "group_cols = [\"compenv\", \"bulk_id\", ]\n",
    "grouped = df_jobs.groupby(group_cols)\n",
    "for name, group in grouped:\n",
    "    tmp = 42"
   ]
  },
  {
   "cell_type": "raw",
   "metadata": {},
   "source": [
    "\n",
    "\n"
   ]
  },
  {
   "cell_type": "code",
   "execution_count": null,
   "metadata": {
    "jupyter": {
     "source_hidden": true
    }
   },
   "outputs": [],
   "source": [
    "# df_slabs_to_run\n",
    "\n",
    "# df_jobs\n",
    "\n",
    "# df_jobs_anal\n",
    "\n",
    "# df_active_sites"
   ]
  }
 ],
 "metadata": {
  "jupytext": {
   "formats": "ipynb,py:light"
  },
  "kernelspec": {
   "display_name": "Python [conda env:PROJ_irox_oer] *",
   "language": "python",
   "name": "conda-env-PROJ_irox_oer-py"
  },
  "language_info": {
   "codemirror_mode": {
    "name": "ipython",
    "version": 3
   },
   "file_extension": ".py",
   "mimetype": "text/x-python",
   "name": "python",
   "nbconvert_exporter": "python",
   "pygments_lexer": "ipython3",
   "version": "3.6.11"
  }
 },
 "nbformat": 4,
 "nbformat_minor": 4
}
