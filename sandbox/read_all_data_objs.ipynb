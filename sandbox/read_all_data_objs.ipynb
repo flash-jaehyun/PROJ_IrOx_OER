{
 "cells": [
  {
   "cell_type": "markdown",
   "metadata": {},
   "source": [
    "# Import Modules"
   ],
   "execution_count": null,
   "outputs": []
  },
  {
   "cell_type": "code",
   "execution_count": null,
   "metadata": {
    "jupyter": {}
   },
   "outputs": [],
   "source": [
    "import os\n",
    "print(os.getcwd())\n",
    "import sys\n",
    "\n",
    "from IPython.display import display\n",
    "\n",
    "import pandas as pd\n",
    "pd.set_option(\"display.max_columns\", None)\n",
    "pd.options.display.max_colwidth = 20\n",
    "# pd.set_option('display.max_rows', None)\n",
    "\n",
    "# #########################################################\n",
    "# from methods import get_df_jobs_paths\n",
    "from methods import (\n",
    "    get_df_jobs_paths,\n",
    "    get_df_dft,\n",
    "    get_df_job_ids,\n",
    "    get_df_jobs,\n",
    "    get_df_jobs_data,\n",
    "    get_df_slab,\n",
    "    get_df_slab_ids,\n",
    "    get_df_jobs_data_clusters,\n",
    "    get_df_jobs_anal,\n",
    "    get_df_slabs_oh,\n",
    "    get_df_init_slabs,\n",
    "    get_df_magmoms,\n",
    "    )"
   ]
  },
  {
   "cell_type": "code",
   "execution_count": null,
   "metadata": {},
   "outputs": [],
   "source": [
    "import os\n",
    "import sys\n",
    "\n",
    "import copy\n",
    "import shutil\n",
    "from pathlib import Path\n",
    "from contextlib import contextmanager\n",
    "\n",
    "# import pickle; import os\n",
    "\n",
    "import pickle\n",
    "import  json\n",
    "\n",
    "import pandas as pd\n",
    "import numpy as np\n",
    "\n",
    "from ase import io\n",
    "\n",
    "import plotly.graph_objects as go\n",
    "\n",
    "from pymatgen.io.ase import AseAtomsAdaptor\n",
    "from pymatgen.analysis import local_env\n",
    "\n",
    "# #########################################################\n",
    "from misc_modules.pandas_methods import drop_columns"
   ]
  },
  {
   "cell_type": "code",
   "execution_count": null,
   "metadata": {},
   "outputs": [],
   "source": [
    "from methods import get_other_job_ids_in_set"
   ]
  },
  {
   "cell_type": "markdown",
   "metadata": {},
   "source": [
    "# Read data objects with methods"
   ],
   "execution_count": null,
   "outputs": []
  },
  {
   "cell_type": "code",
   "execution_count": null,
   "metadata": {},
   "outputs": [],
   "source": [
    "df_dft = get_df_dft()\n",
    "df_job_ids = get_df_job_ids()\n",
    "df_jobs = get_df_jobs(exclude_wsl_paths=True)\n",
    "df_jobs_data = get_df_jobs_data(exclude_wsl_paths=True)\n",
    "df_jobs_data_clusters = get_df_jobs_data_clusters()\n",
    "df_slab = get_df_slab()\n",
    "df_slab_ids = get_df_slab_ids()\n",
    "df_jobs_anal = get_df_jobs_anal()\n",
    "df_jobs_paths = get_df_jobs_paths()\n",
    "df_slabs_oh = get_df_slabs_oh()\n",
    "df_init_slabs = get_df_init_slabs()\n",
    "df_magmoms = get_df_magmoms()"
   ]
  },
  {
   "cell_type": "code",
   "execution_count": null,
   "metadata": {},
   "outputs": [],
   "source": [
    "def display_df(df, df_name, display_head=True, num_spaces=3):\n",
    "    print(40 * \"*\")\n",
    "    print(df_name)\n",
    "    print(\"df_i.shape:\", df_i.shape)\n",
    "    print(40 * \"*\")\n",
    "\n",
    "    if display_head:\n",
    "        display(df.head())\n",
    "\n",
    "    print(num_spaces * \"\\n\")"
   ]
  },
  {
   "cell_type": "code",
   "execution_count": null,
   "metadata": {},
   "outputs": [],
   "source": [
    "df_list = [\n",
    "    (\"df_dft\", df_dft),\n",
    "    (\"df_job_ids\", df_job_ids),\n",
    "    (\"df_jobs\", df_jobs),\n",
    "    (\"df_jobs_data\", df_jobs_data),\n",
    "    (\"df_jobs_data_clusters\", df_jobs_data_clusters),\n",
    "    (\"df_slab\", df_slab),\n",
    "    (\"df_slab_ids\", df_slab_ids),\n",
    "    (\"df_jobs_anal\", df_jobs_anal),\n",
    "    (\"df_jobs_paths\", df_jobs_paths),\n",
    "    (\"df_slabs_oh\", df_slabs_oh),\n",
    "    (\"df_magmoms\", df_magmoms),\n",
    "    ]"
   ]
  },
  {
   "cell_type": "code",
   "execution_count": null,
   "metadata": {},
   "outputs": [],
   "source": [
    "for name_i, df_i in df_list:\n",
    "    display_df(df_i, name_i)"
   ]
  },
  {
   "cell_type": "code",
   "execution_count": null,
   "metadata": {},
   "outputs": [],
   "source": [
    "print(\"\")\n",
    "print(\"\")\n",
    "\n",
    "for name_i, df_i in df_list:\n",
    "    display_df(\n",
    "        df_i,\n",
    "        name_i,\n",
    "        display_head=False,\n",
    "        num_spaces=0)"
   ]
  },
  {
   "cell_type": "raw",
   "metadata": {},
   "source": [
    "\n",
    "\n",
    "\n",
    "\n",
    "\n",
    "\n",
    "\n",
    "\n",
    "\n",
    "\n",
    "\n",
    "\n",
    "\n",
    "\n",
    "\n",
    "\n",
    "\n",
    "\n",
    "\n",
    "\n",
    "\n",
    "\n",
    "\n"
   ],
   "execution_count": null,
   "outputs": []
  },
  {
   "cell_type": "markdown",
   "metadata": {},
   "source": [
    "# TEST TEST TEST TEST"
   ],
   "execution_count": null,
   "outputs": []
  },
  {
   "cell_type": "code",
   "execution_count": null,
   "metadata": {},
   "outputs": [],
   "source": [
    "df_jobs[\n",
    "    (df_jobs.ads == \"oh\") & \\\n",
    "    (df_jobs.bulk_id == \"81meck64ba\") & \\\n",
    "    \n",
    "    # (df_jobs.compenv == \"nersc\") & \\\n",
    "    [True for i in range(len(df_jobs))]\n",
    "    ]"
   ]
  },
  {
   "cell_type": "code",
   "execution_count": null,
   "metadata": {},
   "outputs": [],
   "source": [
    "assert False"
   ]
  },
  {
   "cell_type": "code",
   "execution_count": null,
   "metadata": {},
   "outputs": [],
   "source": [
    "# job_id = \"gasusupo_45\"\n",
    "job_id = \"pewehobe_99\"\n",
    "\n",
    "row_jobs = df_jobs.loc[job_id]\n",
    "row_paths = df_jobs_paths.loc[job_id]\n",
    "\n",
    "# row_paths.gdrive_path\n",
    "row_paths.path_full"
   ]
  },
  {
   "cell_type": "code",
   "execution_count": null,
   "metadata": {},
   "outputs": [],
   "source": [
    "df_jobs_i = get_other_job_ids_in_set(job_id, df_jobs=df_jobs)\n",
    "\n",
    "# df_jobs_paths.loc[\n",
    "df_jobs_data.loc[\n",
    "    df_jobs_i.index    \n",
    "    ]"
   ]
  },
  {
   "cell_type": "code",
   "execution_count": null,
   "metadata": {},
   "outputs": [],
   "source": [
    "# def get_other_job_ids_in_set():\n",
    "#     \"\"\"\n",
    "#     \"\"\"\n",
    "#     row_jobs = df_jobs.loc[job_id]\n",
    "\n",
    "#     compenv_i = row_jobs.compenv\n",
    "#     bulk_id_i = row_jobs.bulk_id\n",
    "#     slab_id_i = row_jobs.slab_id\n",
    "#     ads_i = row_jobs.ads\n",
    "#     att_num_i = row_jobs.att_num\n",
    "\n",
    "#     df_jobs_i = df_jobs[\n",
    "#         (df_jobs.compenv == compenv_i) & \\\n",
    "#         (df_jobs.bulk_id == bulk_id_i) & \\\n",
    "#         (df_jobs.slab_id == slab_id_i) & \\\n",
    "#         (df_jobs.ads == ads_i) & \\\n",
    "#         (df_jobs.att_num == att_num_i) & \\\n",
    "#         [True for i in range(len(df_jobs))]\n",
    "#         ]\n",
    "\n",
    "#     return(df_jobs_i)"
   ]
  },
  {
   "cell_type": "code",
   "execution_count": null,
   "metadata": {},
   "outputs": [],
   "source": [
    "assert False"
   ]
  },
  {
   "cell_type": "code",
   "execution_count": null,
   "metadata": {},
   "outputs": [],
   "source": [
    "# # \"b5cgvsb16w/111/oh/active_site__62/03_attempt/_05/out_data\"\n",
    "\n",
    "# df_jobs[\n",
    "#     (df_jobs.bulk_id == \"b5cgvsb16w\") & \\\n",
    "#     (df_jobs.ads == \"oh\") & \\\n",
    "#     (df_jobs.active_site == 62.) & \\\n",
    "#     (df_jobs.att_num == 3) & \\\n",
    "#     [True for i in range(len(df_jobs))]\n",
    "#     ]"
   ]
  },
  {
   "cell_type": "code",
   "execution_count": null,
   "metadata": {},
   "outputs": [],
   "source": [
    "# job_id =  \"wadifowe_41\"\n",
    "\n",
    "# df_jobs.loc[job_id]\n",
    "\n",
    "# # df_jobs_paths.loc[job_id].gdrive_path"
   ]
  },
  {
   "cell_type": "code",
   "execution_count": null,
   "metadata": {},
   "outputs": [],
   "source": [
    "assert False"
   ]
  },
  {
   "cell_type": "code",
   "execution_count": null,
   "metadata": {},
   "outputs": [],
   "source": [
    "df_jobs_anal_i = df_jobs_anal[df_jobs_anal.job_completely_done == True]\n",
    "\n",
    "var = \"o\"\n",
    "df_jobs_anal_i = df_jobs_anal_i.query('ads == @var')\n",
    "\n",
    "for i_cnt, (name_i, row_i) in enumerate(df_jobs_anal_i.iterrows()):\n",
    "    tmp = 42\n",
    "\n",
    "# #####################################################\n",
    "job_id_max_i = row_i.job_id_max\n",
    "# #####################################################\n",
    "\n",
    "# #####################################################\n",
    "row_paths_i = df_jobs_paths.loc[job_id_max_i]\n",
    "# #####################################################\n",
    "gdrive_path = row_paths_i.gdrive_path\n",
    "# #####################################################\n",
    "\n",
    "in_dir = os.path.join(\n",
    "    os.environ[\"PROJ_irox_oer_gdrive\"],\n",
    "    gdrive_path,\n",
    "    )\n",
    "\n",
    "out_dir = os.path.join(\"__test__/completed_*O_slabs\")"
   ]
  },
  {
   "cell_type": "code",
   "execution_count": null,
   "metadata": {},
   "outputs": [],
   "source": [
    "gdrive_path"
   ]
  },
  {
   "cell_type": "code",
   "execution_count": null,
   "metadata": {},
   "outputs": [],
   "source": [
    "assert False"
   ]
  },
  {
   "cell_type": "code",
   "execution_count": null,
   "metadata": {},
   "outputs": [],
   "source": [
    "# from methods import read_magmom_comp_data\n",
    "\n",
    "# magmom_data_dict = read_magmom_comp_data()"
   ]
  },
  {
   "cell_type": "code",
   "execution_count": null,
   "metadata": {},
   "outputs": [],
   "source": [
    "# #########################################################\n",
    "import pickle; import os\n",
    "\n",
    "# path_i = os.path.join(\n",
    "#     os.environ[\"\"],\n",
    "#     \"\",\n",
    "#     \"\")\n",
    "\n",
    "path_i = \"/home/raulf2012/Dropbox/01_norskov/00_git_repos/PROJ_IrOx_OER/dft_workflow/job_analysis/compare_magmoms/out_data/magmom_comparison_data.pickle\"\n",
    "\n",
    "\n",
    "with open(path_i, \"rb\") as fle:\n",
    "    magmom_data_dict = pickle.load(fle)\n",
    "# #########################################################"
   ]
  },
  {
   "cell_type": "code",
   "execution_count": null,
   "metadata": {},
   "outputs": [],
   "source": [
    "# magmom_data_dict."
   ]
  },
  {
   "cell_type": "code",
   "execution_count": null,
   "metadata": {},
   "outputs": [],
   "source": [
    "df_jobs.loc[\"genubeve_94\"]\n",
    "\n",
    "df_magmoms.loc[\"genubeve_94\"]"
   ]
  },
  {
   "cell_type": "code",
   "execution_count": null,
   "metadata": {},
   "outputs": [],
   "source": [
    "df_jobs_anal\n",
    "\n",
    "groupby_cols = [\"compenv\", \"slab_id\", \"active_site\", ]\n",
    "grouped = df_jobs_anal.groupby(groupby_cols)\n",
    "for name_i, group in grouped:\n",
    "    tmp = 42\n",
    "\n",
    "# grouped.get_group\n",
    "grouped.get_group(('slac', 'fagumoha_68', 62.0))"
   ]
  },
  {
   "cell_type": "code",
   "execution_count": null,
   "metadata": {},
   "outputs": [],
   "source": [
    "compenv_i = \"slac\"\n",
    "slab_id_i = \"fagumoha_68\"\n",
    "active_site_i = 62.\n",
    "\n",
    "\n",
    "df_jobs[\n",
    "    (df_jobs.compenv == compenv_i) & \\\n",
    "    (df_jobs.slab_id == slab_id_i) & \\\n",
    "    (df_jobs.active_site == active_site_i) & \\\n",
    "    [True for i in range(len(df_jobs))]\n",
    "    ]"
   ]
  },
  {
   "cell_type": "raw",
   "metadata": {},
   "source": [
    "\n",
    "\n",
    "\n"
   ],
   "execution_count": null,
   "outputs": []
  },
  {
   "cell_type": "code",
   "execution_count": null,
   "metadata": {},
   "outputs": [],
   "source": [
    "assert False"
   ]
  },
  {
   "cell_type": "code",
   "execution_count": null,
   "metadata": {
    "jupyter": {}
   },
   "outputs": [],
   "source": [
    "job_ids = ['rawupuga_30', 'fubemoro_70', 'liluluhu_67', 'dinagiso_25']\n",
    "for i_cnt, i in enumerate(df_jobs_paths.loc[job_ids].gdrive_path):\n",
    "\n",
    "    dir_i = os.path.join(\n",
    "        os.environ[\"PROJ_irox_oer_gdrive\"], i)\n",
    "\n",
    "    path_i = os.path.join(\n",
    "        dir_i, \"final_with_calculator.traj\")\n",
    "\n",
    "    directory = \"__temp__/temp_atoms_write\"\n",
    "    if not os.path.exists(directory): os.makedirs(directory)\n",
    "    \n",
    "    # #####################################################\n",
    "    out_path = os.path.join(\n",
    "        os.environ[\"PROJ_irox_oer\"],\n",
    "        \"workflow\",\n",
    "        \"__temp__/temp_atoms_write\")\n",
    "\n",
    "    file_name_prefix = str(i_cnt).zfill(3)\n",
    "    # out_file = os.path.join(out_path, str(i_cnt).zfill(3) + \".traj\")\n",
    "    out_file = os.path.join(out_path, file_name_prefix + \".traj\")\n",
    "\n",
    "    shutil.copyfile(\n",
    "        path_i, out_file)\n",
    "\n",
    "    # #####################################################\n",
    "    atoms_i = io.read(path_i)\n",
    "    atoms_i.write(\n",
    "        os.path.join(\n",
    "            out_path,\n",
    "            file_name_prefix + \".cif\"\n",
    "            )\n",
    "        )"
   ]
  },
  {
   "cell_type": "code",
   "execution_count": null,
   "metadata": {
    "jupyter": {}
   },
   "outputs": [],
   "source": [
    "df_jobs_data.loc[\n",
    "    job_ids\n",
    "    ]\n",
    "\n",
    "-585.723757 - -585.599615"
   ]
  },
  {
   "cell_type": "code",
   "execution_count": null,
   "metadata": {
    "jupyter": {}
   },
   "outputs": [],
   "source": [
    "job_id = \"tikuboli_46\"\n",
    "\n",
    "df_jobs_paths.loc[job_id].gdrive_path"
   ]
  },
  {
   "cell_type": "code",
   "execution_count": null,
   "metadata": {
    "jupyter": {}
   },
   "outputs": [],
   "source": [
    "assert False"
   ]
  },
  {
   "cell_type": "code",
   "execution_count": null,
   "metadata": {
    "jupyter": {}
   },
   "outputs": [],
   "source": [
    "job_id = \"bomowoto_88\"\n",
    "\n",
    "df_jobs_paths.loc[job_id].gdrive_path"
   ]
  },
  {
   "cell_type": "code",
   "execution_count": null,
   "metadata": {
    "jupyter": {}
   },
   "outputs": [],
   "source": [
    "job_ids =  [\n",
    "    'wulumoha_81',\n",
    "    'kefasowu_80',\n",
    "    'supibepa_48',\n",
    "    'kefadusu_22',\n",
    "    'butapime_67',\n",
    "    'lerosove_43',\n",
    "    'kosivele_15',\n",
    "    'bomowoto_88',\n",
    "    'buwinalo_86',\n",
    "    'tonipita_82',\n",
    "    'lunosahi_89',\n",
    "    'dirigufo_28',\n",
    "    'dofusoba_54',\n",
    "    'pufanime_49',\n",
    "    'sebitubi_78',\n",
    "    'betarara_84',\n",
    "    'novadesu_38',\n",
    "    'tuvavali_48',\n",
    "    'mekififo_83',\n",
    "    'weratovu_37',\n",
    "    'mowavuna_20',\n",
    "    'ronafaki_75',\n",
    "    'higewedo_88',\n",
    "    'wodurowa_29',\n",
    "    'kilalawi_94',\n",
    "    'kuvapabo_66',\n",
    "    'dinibone_46',\n",
    "    'kavuvuhe_72',\n",
    "    'kusewage_44',\n",
    "    'kufuwudi_46',\n",
    "    ]\n",
    "\n",
    "\n",
    "job_ids = ['kefasowu_80',\n",
    " 'kefadusu_22',\n",
    " 'butapime_67',\n",
    " 'tonipita_82',\n",
    " 'pufanime_49',\n",
    " 'sebitubi_78',\n",
    " 'betarara_84',\n",
    " 'tuvavali_48',\n",
    " 'mowavuna_20',\n",
    " 'higewedo_88',\n",
    " 'kilalawi_94',\n",
    " 'kuvapabo_66',\n",
    " 'dinibone_46']\n",
    "\n",
    "job_ids = ['kefadusu_22',\n",
    " 'butapime_67',\n",
    " 'tonipita_82',\n",
    " 'pufanime_49',\n",
    " 'sebitubi_78',\n",
    " 'betarara_84',\n",
    " 'tuvavali_48',\n",
    " 'kilalawi_94',\n",
    " 'kuvapabo_66',\n",
    " 'dinibone_46']\n",
    "\n",
    "for job_id_i, row_i in df_jobs_paths.loc[job_ids].iterrows():\n",
    "    gdrive_path_i = row_i.gdrive_path\n",
    "\n",
    "    path_i = os.path.join(\n",
    "        os.environ[\"PROJ_irox_oer_gdrive\"],\n",
    "        gdrive_path_i,\n",
    "        \"job.out\")\n",
    "    # print(path_i, \"\\\\\")"
   ]
  },
  {
   "cell_type": "code",
   "execution_count": null,
   "metadata": {
    "jupyter": {}
   },
   "outputs": [],
   "source": [
    "# df_jobs_anal = df_jobs_anal.set_index(\"job_id_max\") \n",
    "# df_jobs_anal.loc[job_ids]\n",
    "\n",
    "df_jobs_data.loc[job_ids]"
   ]
  },
  {
   "cell_type": "code",
   "execution_count": null,
   "metadata": {
    "jupyter": {},
    "lines_to_next_cell": 0
   },
   "outputs": [],
   "source": [
    "# len(job_ids)\n",
    "# 30"
   ]
  },
  {
   "cell_type": "code",
   "execution_count": null,
   "metadata": {
    "jupyter": {},
    "lines_to_next_cell": 2
   },
   "outputs": [],
   "source": []
  },
  {
   "cell_type": "code",
   "execution_count": null,
   "metadata": {
    "jupyter": {}
   },
   "outputs": [],
   "source": [
    "# df_jobs_paths.loc[\"wahumosa_87\"].gdrive_path\n",
    "\n",
    "# df_jobs_paths.loc[\"kefimeni_60\"].gdrive_path\n",
    "\n",
    "df_jobs_paths.loc[\"vuvibolo_50\"].gdrive_path\n",
    "\n",
    "\n",
    "\n",
    "\n",
    "\n",
    "\n",
    "\n",
    "# df_jobs.loc[\"kefadusu_22\"]"
   ]
  },
  {
   "cell_type": "code",
   "execution_count": null,
   "metadata": {
    "jupyter": {}
   },
   "outputs": [],
   "source": [
    "assert False"
   ]
  },
  {
   "cell_type": "code",
   "execution_count": null,
   "metadata": {
    "jupyter": {}
   },
   "outputs": [],
   "source": [
    "df_jobs_anal[df_jobs_anal.job_id_max == \"koduvaka_72\"]"
   ]
  },
  {
   "cell_type": "code",
   "execution_count": null,
   "metadata": {
    "jupyter": {},
    "lines_to_next_cell": 2
   },
   "outputs": [],
   "source": [
    "df_jobs_data.loc[[\"koduvaka_72\"]]"
   ]
  },
  {
   "cell_type": "code",
   "execution_count": null,
   "metadata": {
    "jupyter": {}
   },
   "outputs": [],
   "source": [
    "df_jobs_paths.loc[\"koduvaka_72\"].gdrive_path\n",
    "\n",
    "df_jobs.loc[\"koduvaka_72\"]\n",
    "\n",
    "df_jobs[\n",
    "    (df_jobs.compenv == \"slac\") & \\\n",
    "    (df_jobs.slab_id == \"fagumoha_68\") & \\\n",
    "    (df_jobs.ads == \"oh\") & \\\n",
    "    (df_jobs.active_site == 62.) & \\\n",
    "    (df_jobs.att_num == 0) & \\\n",
    "    [True for i in range(len(df_jobs))]\n",
    "    ]\n",
    "\n",
    "\"nebokipa_96\",\n",
    "\"hotefihe_55\",\n",
    "\"koduvaka_72\","
   ]
  },
  {
   "cell_type": "code",
   "execution_count": null,
   "metadata": {
    "jupyter": {}
   },
   "outputs": [],
   "source": [
    "df_jobs_anal[df_jobs_anal.job_id_max == \"koduvaka_72\"]"
   ]
  },
  {
   "cell_type": "code",
   "execution_count": null,
   "metadata": {
    "jupyter": {}
   },
   "outputs": [],
   "source": [
    "df_jobs[\n",
    "    (df_jobs.compenv == \"slac\") & \\\n",
    "    [True for i in range(len(df_jobs))]\n",
    "    ]"
   ]
  },
  {
   "cell_type": "code",
   "execution_count": null,
   "metadata": {
    "jupyter": {},
    "lines_to_next_cell": 0
   },
   "outputs": [],
   "source": [
    "df_index = df_jobs_anal.index.to_frame()\n",
    "\n",
    "df_index_i = df_index[\n",
    "    (df_index.compenv == \"slac\") & \\\n",
    "    (df_index_i.ads == \"oh\") & \\\n",
    "    [True for i in range(len(df_index))]\n",
    "    ]\n",
    "\n",
    "\n",
    "df_jobs_anal.loc[\n",
    "    df_index_i.index\n",
    "    ]"
   ]
  },
  {
   "cell_type": "code",
   "execution_count": null,
   "metadata": {
    "jupyter": {},
    "lines_to_next_cell": 2
   },
   "outputs": [],
   "source": []
  },
  {
   "cell_type": "code",
   "execution_count": null,
   "metadata": {
    "jupyter": {}
   },
   "outputs": [],
   "source": [
    "assert False"
   ]
  },
  {
   "cell_type": "code",
   "execution_count": null,
   "metadata": {
    "jupyter": {}
   },
   "outputs": [],
   "source": [
    "frag_i = \"b5cgvsb16w/111/oh/active_site__62/02_attempt\"\n",
    "\n",
    "for job_id_i, row_i in df_jobs_paths.iterrows():\n",
    "    path_full_i = row_i.path_full\n",
    "\n",
    "    if frag_i in path_full_i:\n",
    "        print(job_id_i)\n",
    "\n",
    "job_ids = [\n",
    "    \"lehowika_51\",\n",
    "    \"gonahafo_24\",\n",
    "    \"tawawobu_24\",\n",
    "    ]\n",
    "\n",
    "df_jobs.loc[job_ids]\n",
    "    \n",
    "# df_jobs_paths.loc[job_ids].path_short.tolist()\n",
    "# df_jobs_paths.loc[job_ids].path_rel_to_proj.tolist()\n",
    "df_jobs_paths.loc[job_ids].gdrive_path.tolist()"
   ]
  },
  {
   "cell_type": "code",
   "execution_count": null,
   "metadata": {
    "jupyter": {}
   },
   "outputs": [],
   "source": [
    "path_full_i"
   ]
  },
  {
   "cell_type": "code",
   "execution_count": null,
   "metadata": {
    "jupyter": {}
   },
   "outputs": [],
   "source": [
    "assert False"
   ]
  },
  {
   "cell_type": "code",
   "execution_count": null,
   "metadata": {
    "jupyter": {}
   },
   "outputs": [],
   "source": [
    "job_id = \"hifevufa_15\"\n",
    "df_jobs_paths.loc[job_id].gdrive_path\n",
    "\n",
    "# df_jobs.loc[job_id]"
   ]
  },
  {
   "cell_type": "code",
   "execution_count": null,
   "metadata": {
    "jupyter": {}
   },
   "outputs": [],
   "source": [
    "assert False"
   ]
  },
  {
   "cell_type": "code",
   "execution_count": null,
   "metadata": {
    "jupyter": {}
   },
   "outputs": [],
   "source": [
    "df_jobs[\n",
    "\n",
    "(df_jobs.slab_id == \"mubolemu_18\") & \\\n",
    "(df_jobs.compenv == \"nersc\") & \\\n",
    "(df_jobs.ads == \"bare\") & \\\n",
    "(df_jobs.att_num == 1)\n",
    " \n",
    "]"
   ]
  },
  {
   "cell_type": "code",
   "execution_count": null,
   "metadata": {
    "jupyter": {}
   },
   "outputs": [],
   "source": [
    "df_jobs_paths.loc[\"gipiwata_19\"].gdrive_path"
   ]
  },
  {
   "cell_type": "code",
   "execution_count": null,
   "metadata": {
    "jupyter": {}
   },
   "outputs": [],
   "source": [
    "# df_jobs_data_clusters\n",
    "\n",
    "for job_id_i, row_i in df_jobs_paths.iterrows():\n",
    "    frag_i = \"xu6ivyvfvf/131/oh/active_site__81/01_attempt/_01\"\n",
    "    if frag_i in row_i.path_full:\n",
    "        tmp = 42\n",
    "        # print(row_i)\n",
    "\n",
    "\n",
    "\"wipuhite_59\""
   ]
  },
  {
   "cell_type": "code",
   "execution_count": null,
   "metadata": {
    "jupyter": {}
   },
   "outputs": [],
   "source": [
    "df_jobs_data.loc[\"wipuhite_59\"]"
   ]
  },
  {
   "cell_type": "code",
   "execution_count": null,
   "metadata": {
    "jupyter": {}
   },
   "outputs": [],
   "source": [
    "# df_jobs_data_clusters\n",
    "\n",
    "df_jobs_data_clusters.loc[\n",
    "    (df_jobs_data_clusters.compenv == \"sherlock\") & \\\n",
    "    (df_jobs_data_clusters.ads == \"oh\") & \\\n",
    "    (df_jobs_data_clusters.facet == \"010\") & \\\n",
    "    (df_jobs_data_clusters.slab_id == \"fogalonu_46\") & \\\n",
    "    [True for i in range(len(df_jobs_data_clusters))]\n",
    "    ]"
   ]
  },
  {
   "cell_type": "code",
   "execution_count": null,
   "metadata": {
    "jupyter": {}
   },
   "outputs": [],
   "source": [
    "assert False"
   ]
  },
  {
   "cell_type": "code",
   "execution_count": null,
   "metadata": {
    "jupyter": {}
   },
   "outputs": [],
   "source": [
    "job_id_i = \"fusoreva_23\"\n",
    "df_job_ids[df_job_ids.job_id == \"fusoreva_23\"]"
   ]
  },
  {
   "cell_type": "code",
   "execution_count": null,
   "metadata": {
    "jupyter": {}
   },
   "outputs": [],
   "source": [
    "assert False"
   ]
  },
  {
   "cell_type": "code",
   "execution_count": null,
   "metadata": {
    "jupyter": {}
   },
   "outputs": [],
   "source": [
    "# df_jobs_data.loc[[\"vurabamu_02\"]]\n",
    "\n",
    "# df_jobs_data.columns"
   ]
  },
  {
   "cell_type": "code",
   "execution_count": null,
   "metadata": {
    "jupyter": {}
   },
   "outputs": [],
   "source": [
    "df_jobs_anal_i = df_jobs_anal\n",
    "\n",
    "df_jobs_anal_i = df_jobs_anal_i[df_jobs_anal_i.job_completely_done == True]\n",
    "\n",
    "# #########################################################\n",
    "var = \"o\"\n",
    "df_jobs_anal_o = df_jobs_anal_i.query('ads == @var')\n",
    "\n",
    "var = \"oh\"\n",
    "df_jobs_anal_oh = df_jobs_anal_i.query('ads == @var')\n",
    "\n",
    "var = \"bare\"\n",
    "df_jobs_anal_bare = df_jobs_anal_i.query('ads == @var')"
   ]
  },
  {
   "cell_type": "code",
   "execution_count": null,
   "metadata": {
    "jupyter": {}
   },
   "outputs": [],
   "source": [
    "# df_jobs_anal_bare"
   ]
  },
  {
   "cell_type": "code",
   "execution_count": null,
   "metadata": {
    "jupyter": {}
   },
   "outputs": [],
   "source": [
    "df_i = df_jobs_anal_oh.index.to_frame(index=False)\n",
    "# df_i = df_jobs_anal_oh.index.to_frame(index=True)\n",
    "\n",
    "grouped = df_i.groupby([\"compenv\", \"slab_id\", \"ads\", \"active_site\", ])\n",
    "for name, group in grouped:\n",
    "    print(40 * \"*\")\n",
    "\n",
    "    # #####################################################\n",
    "    df_index_o = df_jobs_anal_o.index.to_frame(index=False)\n",
    "    df_i = df_index_o\n",
    "    df_i = df_i[\n",
    "        (df_i.compenv == name[0]) & \\\n",
    "        (df_i.slab_id == name[1]) & \\\n",
    "        (df_i.ads == \"o\")\n",
    "        # (df_i. == name[2]) & \\\n",
    "        ]\n",
    "\n",
    "    found_o = False\n",
    "    if df_i.shape[0] > 0:\n",
    "        found_o = True\n",
    "        # print(\"Found an *O slab\")\n",
    "\n",
    "    # #####################################################\n",
    "    df_index_bare = df_jobs_anal_bare.index.to_frame(index=False)\n",
    "    df_i = df_index_bare\n",
    "    df_i = df_i[\n",
    "        (df_i.compenv == name[0]) & \\\n",
    "        (df_i.slab_id == name[1]) & \\\n",
    "        (df_i.ads == \"bare\") & \\\n",
    "        # (df_i. == name[2]) & \\\n",
    "        [True for i in range(len(df_i))]\n",
    "        ]\n",
    "\n",
    "    found_bare = False\n",
    "    if df_i.shape[0] > 0:\n",
    "        found_bare = True\n",
    "        # print(\"Found an * slab\")\n",
    "    \n",
    "    if found_o and found_bare:\n",
    "        print(name)\n",
    "\n",
    "    if not found_o:\n",
    "        print(\"ISDJFIjidsojfisjdi\")\n",
    "\n",
    "    if not found_bare:\n",
    "        print(\"Bare not finished:\", name)"
   ]
  },
  {
   "cell_type": "code",
   "execution_count": null,
   "metadata": {
    "jupyter": {}
   },
   "outputs": [],
   "source": [
    "df_jobs[\n",
    "    (df_jobs.compenv == \"slac\") & \\\n",
    "    (df_jobs.slab_id == \"mesufagi_19\") & \\\n",
    "    (df_jobs.ads == \"bare\") & \\\n",
    "    (df_jobs.active_site == 33.) & \\\n",
    "    [True for i in range(len(df_jobs))]\n",
    "    ]\n",
    "\n",
    "\n",
    "\n",
    "df_jobs_paths.loc[\n",
    "    \"ronafaki_75\"\n",
    "    ].path_full\n",
    "\n",
    "df_jobs_anal[df_jobs_anal.job_id_max == \"ronafaki_75\"]\n",
    "\n",
    "df_jobs_data.loc[[\"ronafaki_75\"]]"
   ]
  },
  {
   "cell_type": "code",
   "execution_count": null,
   "metadata": {
    "jupyter": {}
   },
   "outputs": [],
   "source": [
    "# name\n",
    "df_jobs_anal_i = df_jobs_anal\n",
    "\n",
    "# df_jobs_anal_i\n",
    "\n",
    "var = \"bare\"\n",
    "df_jobs_anal_i = df_jobs_anal_i.query('ads == @var')\n",
    "\n",
    "df_jobs_anal_i[df_jobs_anal_i.job_completely_done != True]"
   ]
  },
  {
   "cell_type": "code",
   "execution_count": null,
   "metadata": {
    "jupyter": {}
   },
   "outputs": [],
   "source": [
    "# df_index_o.iloc[0:1]"
   ]
  },
  {
   "cell_type": "code",
   "execution_count": null,
   "metadata": {
    "jupyter": {}
   },
   "outputs": [],
   "source": [
    "# df_index_bare"
   ]
  },
  {
   "cell_type": "code",
   "execution_count": null,
   "metadata": {
    "jupyter": {}
   },
   "outputs": [],
   "source": [
    "# # mess_i = \"temp\"\n",
    "# # assert df_i.shape[0] == 1, mess_i\n",
    "\n",
    "# if df_i.shape[0] > 0:\n",
    "#     print(\"Found an *O slab\")"
   ]
  },
  {
   "cell_type": "code",
   "execution_count": null,
   "metadata": {
    "jupyter": {}
   },
   "outputs": [],
   "source": [
    "for name_i, row_i in df_jobs_anal_oh.iterrows():\n",
    "\n",
    "    # name_o = (name_i[0], name_i[1], \"o\", name_i[3], name_i[4], )\n",
    "    name_o = (name_i[0], name_i[1], \"o\", \"NaN\", name_i[4], )\n",
    "    name_bare = (name_i[0], name_i[1], \"bare\", name_i[3], name_i[4], )\n",
    "    \n",
    "    tmp = name_o in df_jobs_anal_bare.index.tolist()\n",
    "    if tmp:\n",
    "        print(\"IJDIFIS\")\n",
    "        break\n",
    "\n",
    "\n",
    "    o_slab_avail = False\n",
    "    if name_o in df_jobs_anal_o.index:\n",
    "        o_slab_avail = True\n",
    "\n",
    "    bare_slab_avail = False\n",
    "    if name_bare in df_jobs_anal_bare.index:\n",
    "        bare_slab_avail = True\n",
    "\n",
    "    if bare_slab_avail and o_slab_avail:\n",
    "        print(\"PIJDFIS\")"
   ]
  },
  {
   "cell_type": "code",
   "execution_count": null,
   "metadata": {
    "jupyter": {}
   },
   "outputs": [],
   "source": [
    "# name_i"
   ]
  },
  {
   "cell_type": "code",
   "execution_count": null,
   "metadata": {
    "jupyter": {}
   },
   "outputs": [],
   "source": [
    "# df_jobs_anal_bare"
   ]
  },
  {
   "cell_type": "code",
   "execution_count": null,
   "metadata": {
    "jupyter": {}
   },
   "outputs": [],
   "source": [
    "# name_i\n",
    "\n",
    "# name_o\n",
    "\n",
    "# df_jobs_anal_bare"
   ]
  },
  {
   "cell_type": "code",
   "execution_count": null,
   "metadata": {
    "jupyter": {}
   },
   "outputs": [],
   "source": [
    "assert False"
   ]
  },
  {
   "cell_type": "raw",
   "metadata": {},
   "source": [
    "\n",
    "\n",
    "\n",
    "\n",
    "\n",
    "\n",
    "\n",
    "\n"
   ],
   "execution_count": null,
   "outputs": []
  },
  {
   "cell_type": "code",
   "execution_count": null,
   "metadata": {
    "jupyter": {}
   },
   "outputs": [],
   "source": [
    "df_jobs_anal_i = df_jobs_anal\n",
    "\n",
    "var = \"sherlock\"\n",
    "df_jobs_anal_i = df_jobs_anal_i.query('compenv == @var')\n",
    "\n",
    "var = \"putarude_21\"\n",
    "df_jobs_anal_i = df_jobs_anal_i.query('slab_id == @var')\n",
    "\n",
    "df_jobs_anal_i"
   ]
  },
  {
   "cell_type": "code",
   "execution_count": null,
   "metadata": {
    "jupyter": {}
   },
   "outputs": [],
   "source": [
    "df_jobs_anal[df_jobs_anal.job_completely_done == True]\n",
    "\n",
    "\n",
    "df_jobs_paths.loc[\"vurabamu_02\"].path_short"
   ]
  },
  {
   "cell_type": "code",
   "execution_count": null,
   "metadata": {
    "jupyter": {}
   },
   "outputs": [],
   "source": [
    "\n",
    "\n",
    "# df_job_ids[df_job_ids.job_id == \"bisidebi_63\"]\n",
    "\n",
    "# sherlock putarude_21\to\tNaN\t1\tbisidebi_63\n",
    "\n",
    "df_job_ids[\n",
    "    (df_job_ids.compenv == \"sherlock\") & \\\n",
    "    (df_job_ids.ads == \"o\") & \\\n",
    "    (df_job_ids.slab_id == \"putarude_21\")\n",
    "    # (df_job_ids.active_site == \"NaN\")\n",
    "    ]"
   ]
  },
  {
   "cell_type": "code",
   "execution_count": null,
   "metadata": {
    "jupyter": {}
   },
   "outputs": [],
   "source": [
    "# df_jobs.loc[\"nebubudo_77\"]"
   ]
  },
  {
   "cell_type": "code",
   "execution_count": null,
   "metadata": {
    "jupyter": {}
   },
   "outputs": [],
   "source": [
    "df_jobs_data[df_jobs_data.job_id == \"nebubudo_77\"]\n",
    "\n",
    "df_jobs_paths.loc[\"nebubudo_77\"].gdrive_path"
   ]
  },
  {
   "cell_type": "code",
   "execution_count": null,
   "metadata": {
    "jupyter": {}
   },
   "outputs": [],
   "source": [
    "\"nubifoki_79\" in df_job_ids.job_id.tolist()\n",
    "\n",
    "df_job_ids[df_job_ids.job_id == \"nubifoki_79\"]"
   ]
  },
  {
   "cell_type": "code",
   "execution_count": null,
   "metadata": {
    "jupyter": {}
   },
   "outputs": [],
   "source": [
    "assert False"
   ]
  },
  {
   "cell_type": "markdown",
   "metadata": {},
   "source": [
    "df_jobs_paths.loc[\"bokedolu_84\"]"
   ],
   "execution_count": null,
   "outputs": []
  },
  {
   "cell_type": "code",
   "execution_count": null,
   "metadata": {
    "jupyter": {},
    "lines_to_next_cell": 2
   },
   "outputs": [],
   "source": []
  },
  {
   "cell_type": "code",
   "execution_count": null,
   "metadata": {
    "jupyter": {}
   },
   "outputs": [],
   "source": [
    "# df_jobs[    \n",
    "# (df_jobs.compenv == \"sherlock\") & \\\n",
    "# (df_jobs.slab_id == \"dekififo_82\")\n",
    "# ]\n",
    "\n",
    "# df_jobs.loc[\"dekififo_82\"]\n",
    "\n",
    "# ('sherlock', 'dekififo_82', 0)"
   ]
  },
  {
   "cell_type": "code",
   "execution_count": null,
   "metadata": {
    "jupyter": {}
   },
   "outputs": [],
   "source": [
    "# df_job_ids[\n",
    "# #     (df_job_ids.compenv == \"sherlock\") & \\\n",
    "#     (df_job_ids.job_id == \"dekififo_82\")\n",
    "#     ]\n",
    "\n",
    "# \"dekififo_82\" in df_job_ids.job_id.tolist()\n",
    "\n",
    "\n",
    "\n",
    "grouped = df_job_ids.groupby([\"compenv\", \"bulk_id\", \"facet\", \"slab_id\", \"att_num\", \"rev_num\", \"ads\", \"active_site\", ])\n",
    "for name, group in grouped:\n",
    "    tmp = 42\n",
    "\n",
    "group"
   ]
  },
  {
   "cell_type": "code",
   "execution_count": null,
   "metadata": {
    "jupyter": {}
   },
   "outputs": [],
   "source": [
    "df_jobs.shape"
   ]
  },
  {
   "cell_type": "code",
   "execution_count": null,
   "metadata": {
    "jupyter": {}
   },
   "outputs": [],
   "source": [
    "assert False"
   ]
  },
  {
   "cell_type": "code",
   "execution_count": null,
   "metadata": {
    "jupyter": {}
   },
   "outputs": [],
   "source": [
    "# df_jobs_anal\n",
    "\n",
    "var = \"mesufagi_19\"\n",
    "df_jobs_anal_i = df_jobs_anal.query('slab_id == @var')\n",
    "df_jobs_anal_i"
   ]
  },
  {
   "cell_type": "code",
   "execution_count": null,
   "metadata": {
    "jupyter": {}
   },
   "outputs": [],
   "source": [
    "# df_jobs_anal\n",
    "\n",
    "var = \"rakawavo_17\"\n",
    "df_jobs_anal.query('slab_id == @var')"
   ]
  },
  {
   "cell_type": "code",
   "execution_count": null,
   "metadata": {
    "jupyter": {}
   },
   "outputs": [],
   "source": [
    "# df_jobs.loc[\"nasibuka_44\"]\n",
    "\n",
    "# df_jobs_data.loc[\"nasibuka_44\"]\n",
    "\n",
    "df_jobs"
   ]
  },
  {
   "cell_type": "raw",
   "metadata": {},
   "source": [
    "\n",
    "\n",
    "\n",
    "\n",
    "\n",
    "\n",
    "\n",
    "\n",
    "\n",
    "\n"
   ],
   "execution_count": null,
   "outputs": []
  },
  {
   "cell_type": "code",
   "execution_count": null,
   "metadata": {
    "jupyter": {}
   },
   "outputs": [],
   "source": [
    "# df_jobs_anal\n",
    "\n",
    "var = \"oh\"\n",
    "df_jobs_anal_i = df_jobs_anal.query('ads == @var')\n",
    "\n",
    "df_jobs_anal_i[df_jobs_anal_i.job_completely_done == True]\n",
    "\n",
    "# #########################################################\n",
    "# #########################################################\n",
    "\n",
    "# df_jobs_data.loc[[\n",
    "#     \"vomevase_19\",\n",
    "#     \"siletibu_45\",\n",
    "#     ]]\n",
    "\n",
    "# df_jobs_paths.loc[[\n",
    "#     \"vomevase_19\",\n",
    "#     \"siletibu_45\",\n",
    "#     ]].path_full.tolist()"
   ]
  },
  {
   "cell_type": "code",
   "execution_count": null,
   "metadata": {
    "jupyter": {}
   },
   "outputs": [],
   "source": [
    "df_jobs[\n",
    "    (df_jobs.compenv == \"slac\") & \\\n",
    "    (df_jobs.slab_id == \"mesufagi_19\")\n",
    "#     (df_jobs.active_site == 33)\n",
    "    ]"
   ]
  },
  {
   "cell_type": "code",
   "execution_count": null,
   "metadata": {
    "jupyter": {}
   },
   "outputs": [],
   "source": [
    "df_jobs_anal_i = df_jobs_anal\n",
    "\n",
    "var = \"slac\"\n",
    "df_jobs_anal_i.query('compenv == @var')\n",
    "\n",
    "var = \"mesufagi_19\"\n",
    "df_jobs_anal_i.query('slab_id == @var')\n",
    "\n",
    "# var = 33\n",
    "# df_jobs_anal_i.query('active_site == @var')"
   ]
  },
  {
   "cell_type": "code",
   "execution_count": null,
   "metadata": {
    "jupyter": {}
   },
   "outputs": [],
   "source": [
    "df_jobs.loc[\"gawobenu_61\"]\n",
    "\n",
    "df_jobs_paths.loc[\"gawobenu_61\"].gdrive_path"
   ]
  },
  {
   "cell_type": "code",
   "execution_count": null,
   "metadata": {
    "jupyter": {}
   },
   "outputs": [],
   "source": [
    "# df_job_ids[\n",
    "#     () & \\\n",
    "#     ]\n",
    "\n",
    "# /scratch/users/flores12/PROJ_IrOx_OER/dft_workflow/run_slabs/\n",
    "# run_oh_covered/out_data/dft_jobs/7h7yns937p/101/oh/active_site__75/01_attempt/_01\n",
    "\n",
    "df = df_job_ids\n",
    "df = df[\n",
    "    (df[\"compenv\"] == \"sherlock\") &\n",
    "    (df[\"bulk_id\"] == \"7h7yns937p\") &\n",
    "    (df[\"facet\"] == \"101\") &\n",
    "    (df[\"ads\"] == \"oh\") &\n",
    "    (df[\"active_site\"] == 75.0) &\n",
    "    (df[\"att_num\"] == 1) &\n",
    "    [True for i in range(len(df))]\n",
    "    ]\n",
    "job_id_i = df.job_id.iloc[0]\n",
    "df"
   ]
  },
  {
   "cell_type": "code",
   "execution_count": null,
   "metadata": {
    "jupyter": {}
   },
   "outputs": [],
   "source": [
    "# df_jobs_data[df_jobs_data.job_id == \"bobenite_26\"]\n",
    "# df_jobs_data[df_jobs_data.job_id == job_id_i]\n",
    "\n",
    "display(df_jobs_data[df_jobs_data.job_id == job_id_i])\n",
    "\n",
    "# df_jobs_data\n",
    "# df_jobs_anal[df_jobs_anal.job_id_max == \"bobenite_26\"]\n",
    "\n",
    "# df_jobs_anal.loc[(\"sherlock\", )]\n",
    "\n",
    "# display(df_jobs_anal[df_jobs_anal.job_id_max == \"bobenite_26\"])\n",
    "display(df_jobs_anal[df_jobs_anal.job_id_max == job_id_i])"
   ]
  },
  {
   "cell_type": "code",
   "execution_count": null,
   "metadata": {
    "jupyter": {}
   },
   "outputs": [],
   "source": [
    "df_jobs_paths.loc[\n",
    "    \"voburula_03\"\n",
    "    ].gdrive_path\n",
    "\n",
    "# df_jobs_anal[df_jobs_anal.job_id_max == \"voburula_03\"]"
   ]
  },
  {
   "cell_type": "code",
   "execution_count": null,
   "metadata": {
    "jupyter": {}
   },
   "outputs": [],
   "source": [
    "df_job_ids[df_job_ids.job_id == \"hutoruwa_20\"]"
   ]
  },
  {
   "cell_type": "code",
   "execution_count": null,
   "metadata": {
    "jupyter": {}
   },
   "outputs": [],
   "source": [
    "df_job_ids[df_job_ids.job_id == \"didaveri_93\"]"
   ]
  },
  {
   "cell_type": "code",
   "execution_count": null,
   "metadata": {
    "jupyter": {}
   },
   "outputs": [],
   "source": [
    "df_job_ids.shape"
   ]
  },
  {
   "cell_type": "code",
   "execution_count": null,
   "metadata": {
    "jupyter": {}
   },
   "outputs": [],
   "source": [
    "df_jobs.shape"
   ]
  },
  {
   "cell_type": "code",
   "execution_count": null,
   "metadata": {
    "jupyter": {}
   },
   "outputs": [],
   "source": [
    "assert False"
   ]
  },
  {
   "cell_type": "raw",
   "metadata": {},
   "source": [
    "\n",
    "\n",
    "\n",
    "\n",
    "\n"
   ],
   "execution_count": null,
   "outputs": []
  },
  {
   "cell_type": "code",
   "execution_count": null,
   "metadata": {
    "jupyter": {}
   },
   "outputs": [],
   "source": [
    "frag_i = \"lafa\"\n",
    "for i in df_jobs.job_id.tolist():\n",
    "# for i in df_jobs.slab_id.tolist():\n",
    "    if frag_i in i:\n",
    "        print(i)\n",
    "        \n",
    "df_jobs.loc[\"lafamiwa_73\"]"
   ]
  },
  {
   "cell_type": "code",
   "execution_count": null,
   "metadata": {
    "jupyter": {}
   },
   "outputs": [],
   "source": [
    "df_jobs_paths.loc[\"lafamiwa_73\"]"
   ]
  },
  {
   "cell_type": "code",
   "execution_count": null,
   "metadata": {
    "jupyter": {}
   },
   "outputs": [],
   "source": [
    "df_jobs"
   ]
  },
  {
   "cell_type": "code",
   "execution_count": null,
   "metadata": {
    "jupyter": {}
   },
   "outputs": [],
   "source": [
    "df_jobs."
   ]
  },
  {
   "cell_type": "code",
   "execution_count": null,
   "metadata": {
    "jupyter": {}
   },
   "outputs": [],
   "source": [
    "assert False"
   ]
  },
  {
   "cell_type": "code",
   "execution_count": null,
   "metadata": {
    "jupyter": {}
   },
   "outputs": [],
   "source": [
    "df_jobs_i = df_jobs[\n",
    "    (df_jobs.ads == \"bare\") & \\\n",
    "    # (df_jobs.compenv == \"slac\") & \\\n",
    "    # (df_jobs.slab_id == \"kalisule_45\") & \\\n",
    "    # (df_jobs.ads == \"bare\") & \\\n",
    "    [True for i in range(len(df_jobs))]\n",
    "    ]\n",
    "\n",
    "# for job_id_i in df_jobs_i.index:\n",
    "#     tmp = 42\n",
    "#     tmp = df_jobs_data.loc[[job_id_i]].shape\n",
    "#     print(tmp)"
   ]
  },
  {
   "cell_type": "code",
   "execution_count": null,
   "metadata": {
    "jupyter": {}
   },
   "outputs": [],
   "source": [
    "df_jobs_data_i = df_jobs_data.loc[\n",
    "    df_jobs_i.index\n",
    "    ]\n",
    "\n",
    "\n",
    "# df_jobs_data_i.columns.tolist()\n",
    "\n",
    "# Ignore these\n",
    "\n",
    "\n",
    "all_cols = [\n",
    "    \"bulk_id\",\n",
    "    \"slab_id\",\n",
    "    \"job_id\",\n",
    "    \"facet\",\n",
    "    \"compenv\",\n",
    "    \"att_num\",\n",
    "    \"rev_num\",\n",
    "    \"timed_out\",\n",
    "    \"error\",\n",
    "    \"error_type\",\n",
    "    \"brmix_issue\",\n",
    "    \"completed\",\n",
    "    \"num_steps\",\n",
    "    \"ediff_conv_reached\",\n",
    "    \"num_scf_cycles\",\n",
    "    \"N_tot\",\n",
    "    \"frac_true\",\n",
    "    \"frac_false\",\n",
    "    \"run_start_time\",\n",
    "    \"time_str\",\n",
    "    \"run_time\",\n",
    "    \"irr_kpts\",\n",
    "    \"final_atoms\",\n",
    "    \"magmoms\",\n",
    "    \"ads_i\",\n",
    "    \"unique_key\",\n",
    "    \"job_state\",\n",
    "    ]\n",
    "\n",
    "\n",
    "ignore_cols = [\n",
    "    \"unique_key\",\n",
    "    \"ads_i\",\n",
    "    \"magmoms\",\n",
    "    \"final_atoms\",\n",
    "    \"irr_kpts\",\n",
    "    \"run_time\",\n",
    "    \"time_str\",\n",
    "    \"run_start_time\",\n",
    "\n",
    "    \"job_id\",\n",
    "    \"slab_id\",\n",
    "    \"bulk_id\",\n",
    "\n",
    "    \"att_num\",\n",
    "    \"rev_num\",\n",
    "    \"facet\",\n",
    "\n",
    "    \"frac_false\",\n",
    "    \n",
    "    # TEMP\n",
    "    \"completed\",\n",
    "    ]"
   ]
  },
  {
   "cell_type": "code",
   "execution_count": null,
   "metadata": {
    "jupyter": {}
   },
   "outputs": [],
   "source": [
    "custom_cols = list(set(all_cols) - set(ignore_cols))\n",
    "\n",
    "df_jobs_data_i = df_jobs_data_i[\n",
    "    custom_cols\n",
    "    ]"
   ]
  },
  {
   "cell_type": "code",
   "execution_count": null,
   "metadata": {
    "jupyter": {}
   },
   "outputs": [],
   "source": [
    "from misc_modules.pandas_methods import reorder_df_columns\n",
    "\n",
    "\n",
    "col_order_list = [\n",
    "    \"compenv\",\n",
    "    \"facet\",\n",
    "    \"att_num\",\n",
    "    \"job_id\",\n",
    "    \"slab_id\",\n",
    "    \"bulk_id\",\n",
    "    \"rev_num\",\n",
    "\n",
    "\n",
    "    \"job_state\",\n",
    "    \"completed\",\n",
    "\n",
    "    \"N_tot\",\n",
    "    \"num_steps\",\n",
    "    \"num_scf_cycles\",\n",
    "    \"frac_true\",\n",
    "    \"frac_false\",\n",
    "\n",
    "    \"error\",\n",
    "    \"error_type\",\n",
    "    \"brmix_issue\",\n",
    "    \"ediff_conv_reached\",\n",
    "    \"timed_out\",\n",
    "    ]\n",
    "\n",
    "df_jobs_data_i = reorder_df_columns(col_order_list, df_jobs_data_i)"
   ]
  },
  {
   "cell_type": "code",
   "execution_count": null,
   "metadata": {
    "jupyter": {}
   },
   "outputs": [],
   "source": [
    "df_jobs_data_i[df_jobs_data_i.num_steps == 0].shape\n",
    "df_jobs_data_i"
   ]
  },
  {
   "cell_type": "code",
   "execution_count": null,
   "metadata": {
    "jupyter": {}
   },
   "outputs": [],
   "source": [
    "\"voburula_03\""
   ]
  },
  {
   "cell_type": "code",
   "execution_count": null,
   "metadata": {
    "jupyter": {}
   },
   "outputs": [],
   "source": [
    "assert False"
   ]
  },
  {
   "cell_type": "code",
   "execution_count": null,
   "metadata": {
    "jupyter": {}
   },
   "outputs": [],
   "source": [
    "assert False"
   ]
  },
  {
   "cell_type": "code",
   "execution_count": null,
   "metadata": {
    "jupyter": {}
   },
   "outputs": [],
   "source": [
    "grouped = df_jobs.groupby([\"slab_id\", \"att_num\"])\n",
    "for name, group in grouped:\n",
    "    print(name)\n",
    "    if name[0] == \"kalisule_45\":\n",
    "        break\n",
    "    tmp = 42\n",
    "\n",
    "group = group.sort_values(\"rev_num\")\n",
    "\n",
    "job_ids = group.job_id\n",
    "# df_jobs_data.loc[job_ids]"
   ]
  },
  {
   "cell_type": "code",
   "execution_count": null,
   "metadata": {
    "jupyter": {}
   },
   "outputs": [],
   "source": [
    "# df_jobs_data_clusters\n",
    "\n",
    "df_jobs.slab_id.unique().tolist()"
   ]
  },
  {
   "cell_type": "code",
   "execution_count": null,
   "metadata": {
    "jupyter": {}
   },
   "outputs": [],
   "source": [
    "# df_jobs_data_clusters\n",
    "\n",
    "# df_jobs.path_job_root_w_att_rev.tolist()\n",
    "\n",
    "# frag_i = \"b19q9p6k72/101/01_attempt/_03\"\n",
    "\n",
    "# for job_id, row_i in df_jobs.iterrows():\n",
    "#     path_i = row_i.path_job_root_w_att_rev\n",
    "#     if frag_i in path_i:\n",
    "#         print(job_id)"
   ]
  },
  {
   "cell_type": "code",
   "execution_count": null,
   "metadata": {
    "jupyter": {}
   },
   "outputs": [],
   "source": [
    "df_jobs[df_jobs.ads == \"bare\"]\n",
    "\n",
    "df_jobs_data.loc[\"bopimusi_43\"]"
   ]
  },
  {
   "cell_type": "code",
   "execution_count": null,
   "metadata": {
    "jupyter": {}
   },
   "outputs": [],
   "source": [
    "# job_id_i = \"weritidu_20\"\n",
    "\n",
    "# #########################################################\n",
    "# df_jobs.loc[job_id_i]\n",
    "\n",
    "# df_jobs.path_rel_to_proj.tolist()\n",
    "\n",
    "# df_jobs[df_jobs.compenv == \"nersc\"].shape"
   ]
  },
  {
   "cell_type": "code",
   "execution_count": null,
   "metadata": {
    "jupyter": {}
   },
   "outputs": [],
   "source": [
    "# df_jobs_data_clusters.loc[\"weritidu_20\"]\n",
    "\n",
    "# df_jobs_data_clusters[df_jobs_data_clusters.slab_id == \"solaleda_75\"]"
   ]
  },
  {
   "cell_type": "code",
   "execution_count": null,
   "metadata": {
    "jupyter": {}
   },
   "outputs": [],
   "source": [
    "# df_jobs_data[df_jobs_data.compenv == \"sherlock\"]\n",
    "\n",
    "df_jobs[\n",
    "    (df_jobs.bulk_id == \"7h7yns937p\") & \\\n",
    "    [True for i in range(len(df_jobs))]\n",
    "    ]\n",
    "\n",
    "df_jobs.loc[\"tuhiboni_73\"]\n",
    "df_jobs.loc[\"tuhiboni_73\"].path_job_root\n",
    "\n",
    "# df_jobs_data.loc[\"tuhiboni_73\"]"
   ]
  },
  {
   "cell_type": "code",
   "execution_count": null,
   "metadata": {
    "jupyter": {}
   },
   "outputs": [],
   "source": [
    "print(df_jobs_data.shape)\n",
    "print(df_jobs.shape)\n",
    "\n",
    "df_jobs_data[df_jobs_data.compenv == \"sherlock\"]"
   ]
  },
  {
   "cell_type": "code",
   "execution_count": null,
   "metadata": {
    "jupyter": {}
   },
   "outputs": [],
   "source": [
    "# job_id_i = \"kusenahi_90\"\n",
    "# print(df_jobs.loc[job_id_i].path_short.tolist()[0])\n",
    "# print(\"\")\n",
    "# df_jobs_data.loc[job_id_i]"
   ]
  },
  {
   "cell_type": "code",
   "execution_count": null,
   "metadata": {
    "jupyter": {}
   },
   "outputs": [],
   "source": [
    "# df_jobs_data\n",
    "\n",
    "print(df_jobs_data_clusters.shape)\n",
    "print(df_jobs.shape)"
   ]
  },
  {
   "cell_type": "code",
   "execution_count": null,
   "metadata": {
    "jupyter": {},
    "lines_to_next_cell": 0
   },
   "outputs": [],
   "source": [
    "# df_jobs_data\n",
    "# b5cgvsb16w/111/01_attempt/_03\n",
    "# df_jobs_i = \n",
    "# df_jobs.path_short\n",
    "# df_jobs.path_short.tolist()"
   ]
  },
  {
   "cell_type": "code",
   "execution_count": null,
   "metadata": {
    "jupyter": {},
    "lines_to_next_cell": 2
   },
   "outputs": [],
   "source": []
  },
  {
   "cell_type": "code",
   "execution_count": null,
   "metadata": {
    "jupyter": {}
   },
   "outputs": [],
   "source": [
    "df_jobs_i = df_jobs[df_jobs.compenv == \"slac\"]\n",
    "\n",
    "test_path = \"b5cgvsb16w/111/01_attempt/_03\"\n",
    "# df_jobs_i\n",
    "\n",
    "for job_id_i, row_i in df_jobs_i.iterrows():\n",
    "\n",
    "    path_short_i = row_i.path_short\n",
    "    if path_short_i == test_path:\n",
    "        print(row_i)"
   ]
  },
  {
   "cell_type": "code",
   "execution_count": null,
   "metadata": {
    "jupyter": {},
    "lines_to_next_cell": 0
   },
   "outputs": [],
   "source": [
    "df_jobs_data.loc[\"bupidafo_75\"].iloc[-1]\n",
    "\n",
    "job_id = \"pakehisi_06\"\n",
    "\n",
    "df_jobs_data_clusters.loc[[job_id]]\n",
    "df_jobs_data.loc[[job_id]]"
   ]
  },
  {
   "cell_type": "code",
   "execution_count": null,
   "metadata": {
    "jupyter": {}
   },
   "outputs": [],
   "source": [
    "df_jobs_paths.iloc[0].to_dict()"
   ]
  },
  {
   "cell_type": "code",
   "execution_count": null,
   "metadata": {},
   "outputs": [],
   "source": [
    "for name_i, row_i in df_slabs_oh.iterrows():\n",
    "\n",
    "    # #####################################################\n",
    "    atoms_i = row_i.slab_oh\n",
    "    magmoms_i = atoms_i.get_initial_magnetic_moments()\n",
    "    # #####################################################\n",
    "\n",
    "    # print(magmoms_i)\n",
    "    # print(\"---\")"
   ]
  },
  {
   "cell_type": "code",
   "execution_count": null,
   "metadata": {},
   "outputs": [],
   "source": []
  }
 ],
 "metadata": {
  "jupytext": {
   "formats": "ipynb,py:light"
  },
  "kernelspec": {
   "display_name": "Python [conda env:PROJ_irox_oer] *",
   "language": "python",
   "name": "conda-env-PROJ_irox_oer-py"
  },
  "language_info": {
   "codemirror_mode": {
    "name": "ipython",
    "version": 3
   },
   "file_extension": ".py",
   "mimetype": "text/x-python",
   "name": "python",
   "nbconvert_exporter": "python",
   "pygments_lexer": "ipython3",
   "version": "3.6.11"
  }
 },
 "nbformat": 4,
 "nbformat_minor": 4
}
