{
 "cells": [
  {
   "cell_type": "code",
   "execution_count": 1,
   "metadata": {
    "jupyter": {
     "source_hidden": true
    },
    "lines_to_next_cell": 0
   },
   "outputs": [],
   "source": [
    "import os\n",
    "import sys\n",
    "\n",
    "import copy\n",
    "import shutil\n",
    "from pathlib import Path\n",
    "from contextlib import contextmanager\n",
    "\n",
    "# import pickle; import os\n",
    "\n",
    "import pickle\n",
    "import  json\n",
    "\n",
    "import pandas as pd\n",
    "import numpy as np\n",
    "\n",
    "from ase import io\n",
    "from ase.visualize import view\n",
    "\n",
    "import plotly.graph_objects as go\n",
    "\n",
    "from pymatgen.io.ase import AseAtomsAdaptor\n",
    "from pymatgen.analysis import local_env\n",
    "\n",
    "# #########################################################\n",
    "from misc_modules.pandas_methods import drop_columns\n",
    "\n",
    "from methods import read_magmom_comp_data\n",
    "\n",
    "import os\n",
    "import sys\n",
    "\n",
    "from IPython.display import display\n",
    "\n",
    "import pandas as pd\n",
    "pd.set_option(\"display.max_columns\", None)\n",
    "pd.options.display.max_colwidth = 20\n",
    "# pd.set_option('display.max_rows', None)\n",
    "\n",
    "# #########################################################\n",
    "from methods import (\n",
    "    get_df_jobs_paths,\n",
    "    get_df_dft,\n",
    "    get_df_job_ids,\n",
    "    get_df_jobs,\n",
    "    get_df_jobs_data,\n",
    "    get_df_slab,\n",
    "    get_df_slab_ids,\n",
    "    get_df_jobs_data_clusters,\n",
    "    get_df_jobs_anal,\n",
    "    get_df_slabs_oh,\n",
    "    get_df_init_slabs,\n",
    "    get_df_magmoms,\n",
    "    get_df_ads,\n",
    "    get_df_atoms_sorted_ind,\n",
    "    get_df_rerun_from_oh,\n",
    "    get_df_slab_simil,\n",
    "    get_df_active_sites,\n",
    "    get_df_features_targets,\n",
    "\n",
    "    get_other_job_ids_in_set,\n",
    "    read_magmom_comp_data,\n",
    "\n",
    "    get_df_coord,\n",
    "    get_df_slabs_to_run,\n",
    "    get_df_features,\n",
    "    )"
   ]
  },
  {
   "cell_type": "code",
   "execution_count": 2,
   "metadata": {
    "jupyter": {
     "source_hidden": true
    }
   },
   "outputs": [],
   "source": [
    "df_dft = get_df_dft()\n",
    "df_job_ids = get_df_job_ids()\n",
    "df_jobs = get_df_jobs(exclude_wsl_paths=True)\n",
    "df_jobs_data = get_df_jobs_data(exclude_wsl_paths=True)\n",
    "df_jobs_data_clusters = get_df_jobs_data_clusters()\n",
    "df_slab = get_df_slab()\n",
    "df_slab_ids = get_df_slab_ids()\n",
    "df_jobs_anal = get_df_jobs_anal()\n",
    "df_jobs_paths = get_df_jobs_paths()\n",
    "df_slabs_oh = get_df_slabs_oh()\n",
    "df_init_slabs = get_df_init_slabs()\n",
    "df_magmoms = get_df_magmoms()\n",
    "df_ads = get_df_ads()\n",
    "df_atoms_sorted_ind = get_df_atoms_sorted_ind()\n",
    "df_rerun_from_oh = get_df_rerun_from_oh()\n",
    "magmom_data_dict = read_magmom_comp_data()\n",
    "df_slab_simil = get_df_slab_simil()\n",
    "df_active_sites = get_df_active_sites()\n",
    "df_features_targets = get_df_features_targets()\n",
    "df_slabs_to_run = get_df_slabs_to_run()\n",
    "df_features = get_df_features()"
   ]
  },
  {
   "cell_type": "code",
   "execution_count": 3,
   "metadata": {
    "jupyter": {
     "source_hidden": true
    },
    "lines_to_next_cell": 0
   },
   "outputs": [],
   "source": [
    "def display_df(df, df_name, display_head=True, num_spaces=3):\n",
    "    print(40 * \"*\")\n",
    "    print(df_name)\n",
    "    print(\"df_i.shape:\", df_i.shape)\n",
    "    print(40 * \"*\")\n",
    "\n",
    "    if display_head:\n",
    "        display(df.head())\n",
    "\n",
    "    print(num_spaces * \"\\n\")\n",
    "\n",
    "df_list = [\n",
    "    (\"df_dft\", df_dft),\n",
    "    (\"df_job_ids\", df_job_ids),\n",
    "    (\"df_jobs\", df_jobs),\n",
    "    (\"df_jobs_data\", df_jobs_data),\n",
    "    (\"df_jobs_data_clusters\", df_jobs_data_clusters),\n",
    "    (\"df_slab\", df_slab),\n",
    "    (\"df_slab_ids\", df_slab_ids),\n",
    "    (\"df_jobs_anal\", df_jobs_anal),\n",
    "    (\"df_jobs_paths\", df_jobs_paths),\n",
    "    (\"df_slabs_oh\", df_slabs_oh),\n",
    "    (\"df_magmoms\", df_magmoms),\n",
    "    (\"df_ads\", df_ads),\n",
    "    (\"df_atoms_sorted_ind\", df_atoms_sorted_ind),\n",
    "    (\"df_rerun_from_oh\", df_rerun_from_oh),\n",
    "    (\"df_slab_simil\", df_slab_simil),\n",
    "    (\"df_active_sites\", df_active_sites),\n",
    "    ]\n",
    "\n",
    "# for name_i, df_i in df_list:\n",
    "#     display_df(df_i, name_i)\n",
    "\n",
    "# print(\"\")\n",
    "# print(\"\")\n",
    "\n",
    "# for name_i, df_i in df_list:\n",
    "#     display_df(\n",
    "#         df_i,\n",
    "#         name_i,\n",
    "#         display_head=False,\n",
    "#         num_spaces=0)"
   ]
  },
  {
   "cell_type": "raw",
   "metadata": {},
   "source": [
    "\n",
    "\n",
    "\n",
    "\n",
    "\n",
    "\n",
    "\n",
    "\n",
    "\n",
    "\n",
    "\n",
    "\n",
    "\n"
   ]
  },
  {
   "cell_type": "code",
   "execution_count": 4,
   "metadata": {},
   "outputs": [
    {
     "name": "stdout",
     "output_type": "stream",
     "text": [
      "\n",
      "\n",
      "\n",
      "\n"
     ]
    }
   ],
   "source": [
    "print(3 * \"\\n\")"
   ]
  },
  {
   "cell_type": "markdown",
   "metadata": {},
   "source": [
    "# TEST TEST TEST TEST"
   ]
  },
  {
   "cell_type": "code",
   "execution_count": 11,
   "metadata": {},
   "outputs": [
    {
     "data": {
      "text/html": [
       "<div>\n",
       "<style scoped>\n",
       "    .dataframe tbody tr th:only-of-type {\n",
       "        vertical-align: middle;\n",
       "    }\n",
       "\n",
       "    .dataframe tbody tr th {\n",
       "        vertical-align: top;\n",
       "    }\n",
       "\n",
       "    .dataframe thead th {\n",
       "        text-align: right;\n",
       "    }\n",
       "</style>\n",
       "<table border=\"1\" class=\"dataframe\">\n",
       "  <thead>\n",
       "    <tr style=\"text-align: right;\">\n",
       "      <th></th>\n",
       "      <th>bulk_id</th>\n",
       "      <th>slab_id</th>\n",
       "      <th>job_id</th>\n",
       "      <th>facet</th>\n",
       "      <th>compenv</th>\n",
       "      <th>ads</th>\n",
       "      <th>active_site</th>\n",
       "      <th>att_num</th>\n",
       "      <th>rev_num</th>\n",
       "      <th>compenv_origin</th>\n",
       "      <th>submitted</th>\n",
       "      <th>num_revs</th>\n",
       "    </tr>\n",
       "    <tr>\n",
       "      <th>job_id</th>\n",
       "      <th></th>\n",
       "      <th></th>\n",
       "      <th></th>\n",
       "      <th></th>\n",
       "      <th></th>\n",
       "      <th></th>\n",
       "      <th></th>\n",
       "      <th></th>\n",
       "      <th></th>\n",
       "      <th></th>\n",
       "      <th></th>\n",
       "      <th></th>\n",
       "    </tr>\n",
       "  </thead>\n",
       "  <tbody>\n",
       "  </tbody>\n",
       "</table>\n",
       "</div>"
      ],
      "text/plain": [
       "Empty DataFrame\n",
       "Columns: [bulk_id, slab_id, job_id, facet, compenv, ads, active_site, att_num, rev_num, compenv_origin, submitted, num_revs]\n",
       "Index: []"
      ]
     },
     "execution_count": 11,
     "metadata": {},
     "output_type": "execute_result"
    }
   ],
   "source": [
    "# slab_id_i = \"pumusuma_66\"\n",
    "slab_id_i = \"romudini_21\"\n",
    "\n",
    "# df_jobs.head()\n",
    "\n",
    "df_jobs[df_jobs.slab_id == slab_id_i]"
   ]
  },
  {
   "cell_type": "code",
   "execution_count": 12,
   "metadata": {},
   "outputs": [
    {
     "data": {
      "text/plain": [
       "slab_id                   romudini_21\n",
       "bulk_id                    nd919pnr6q\n",
       "facet                            2-21\n",
       "slab_thick                    12.0076\n",
       "num_atoms                          73\n",
       "slab_final        (Atom('O', [5.90...\n",
       "loop_time                   0.0192313\n",
       "iter_time_i                   122.536\n",
       "facet_rank                          1\n",
       "slab_final_old    (Atom('O', [5.86...\n",
       "phase                               2\n",
       "source                            xrd\n",
       "surf_area                     89.3731\n",
       "cell_mag_x                    6.44623\n",
       "cell_mag_y                    13.9546\n",
       "is_repeated                     False\n",
       "repeat_list                 (1, 1, 1)\n",
       "unique_slab                      True\n",
       "Name: romudini_21, dtype: object"
      ]
     },
     "execution_count": 12,
     "metadata": {},
     "output_type": "execute_result"
    }
   ],
   "source": [
    "df_slab.loc[\"romudini_21\"]"
   ]
  },
  {
   "cell_type": "code",
   "execution_count": 6,
   "metadata": {},
   "outputs": [
    {
     "ename": "AssertionError",
     "evalue": "",
     "output_type": "error",
     "traceback": [
      "\u001b[0;31m---------------------------------------------------------------------------\u001b[0m",
      "\u001b[0;31mAssertionError\u001b[0m                            Traceback (most recent call last)",
      "\u001b[0;32m<ipython-input-6-a871fdc9ebee>\u001b[0m in \u001b[0;36m<module>\u001b[0;34m\u001b[0m\n\u001b[0;32m----> 1\u001b[0;31m \u001b[0;32massert\u001b[0m \u001b[0;32mFalse\u001b[0m\u001b[0;34m\u001b[0m\u001b[0;34m\u001b[0m\u001b[0m\n\u001b[0m",
      "\u001b[0;31mAssertionError\u001b[0m: "
     ]
    }
   ],
   "source": [
    "assert False"
   ]
  },
  {
   "cell_type": "code",
   "execution_count": null,
   "metadata": {},
   "outputs": [],
   "source": [
    "# df_dft\n",
    "# df_slab.shape\n",
    "\n",
    "df_slab_2 = get_df_slab(mode=\"almost-final\")\n",
    "\n",
    "df_slab_2.shape"
   ]
  },
  {
   "cell_type": "code",
   "execution_count": null,
   "metadata": {},
   "outputs": [],
   "source": [
    "# (519, 8)\n",
    "# (533, 8)\n",
    "# (544, 8)"
   ]
  },
  {
   "cell_type": "code",
   "execution_count": null,
   "metadata": {},
   "outputs": [],
   "source": [
    "# name_i = ('n36axdbw65', '023')\n",
    "# name_i = ('mkbj6e6e9p', '232')\n",
    "# name_i = ('v1xpx482ba', '20-21')\n",
    "# name_i = ('v1xpx482ba', '20-23')\n",
    "\n",
    "# name_i = ('n36axdbw65', '023')\n",
    "# <--------------------\n",
    "# name_i = ('mkbj6e6e9p', '232')\n",
    "# <--------------------\n",
    "# name_i = ('v1xpx482ba', '20-21')\n",
    "# <--------------------\n",
    "name_i = ('v1xpx482ba', '20-23')\n",
    "# <--------------------"
   ]
  },
  {
   "cell_type": "code",
   "execution_count": null,
   "metadata": {},
   "outputs": [],
   "source": [
    "df = df_slab\n",
    "df = df[\n",
    "    (df[\"bulk_id\"] == name_i[0]) &\n",
    "    (df[\"facet\"] == name_i[1]) &\n",
    "    [True for i in range(len(df))]\n",
    "    ]\n",
    "df"
   ]
  },
  {
   "cell_type": "code",
   "execution_count": null,
   "metadata": {},
   "outputs": [],
   "source": [
    "df = df_slab_2\n",
    "df = df[\n",
    "    (df[\"bulk_id\"] == name_i[0]) &\n",
    "    (df[\"facet\"] == name_i[1]) &\n",
    "    [True for i in range(len(df))]\n",
    "    ]\n",
    "df"
   ]
  },
  {
   "cell_type": "code",
   "execution_count": null,
   "metadata": {},
   "outputs": [],
   "source": [
    "assert False"
   ]
  },
  {
   "cell_type": "code",
   "execution_count": null,
   "metadata": {},
   "outputs": [],
   "source": [
    "# slab_id_to_drop = \"dupugulo_25\"\n",
    "# slab_id_to_drop = \"rehunuho_26\"\n",
    "# slab_id_to_drop = \"wovaseli_71\"\n",
    "slab_id_to_drop = \"pipotune_15\""
   ]
  },
  {
   "cell_type": "code",
   "execution_count": null,
   "metadata": {},
   "outputs": [],
   "source": [
    "# df_slab = df_slab.drop(slab_id_to_drop)\n",
    "\n",
    "df_slab_2 = df_slab_2.drop(slab_id_to_drop)"
   ]
  },
  {
   "cell_type": "code",
   "execution_count": null,
   "metadata": {},
   "outputs": [],
   "source": [
    "# import os; import pickle\n",
    "# directory = os.path.join(\n",
    "#     os.environ[\"PROJ_irox_oer\"],\n",
    "#     \"workflow/creating_slabs\",\n",
    "#     \"out_data\")\n",
    "# if not os.path.exists(directory): os.makedirs(directory)\n",
    "# with open(os.path.join(directory, \"df_slab_final.pickle\"), \"wb\") as fle:\n",
    "#     pickle.dump(df_slab, fle)"
   ]
  },
  {
   "cell_type": "code",
   "execution_count": null,
   "metadata": {},
   "outputs": [],
   "source": [
    "import os; import pickle\n",
    "directory = os.path.join(\n",
    "    os.environ[\"PROJ_irox_oer\"],\n",
    "    \"workflow/creating_slabs\",\n",
    "    \"out_data\")\n",
    "if not os.path.exists(directory): os.makedirs(directory)\n",
    "with open(os.path.join(directory, \"df_slab.pickle\"), \"wb\") as fle:\n",
    "    pickle.dump(df_slab_2, fle)"
   ]
  },
  {
   "cell_type": "code",
   "execution_count": null,
   "metadata": {},
   "outputs": [],
   "source": [
    "assert False"
   ]
  },
  {
   "cell_type": "raw",
   "metadata": {},
   "source": [
    "\n"
   ]
  },
  {
   "cell_type": "code",
   "execution_count": null,
   "metadata": {},
   "outputs": [],
   "source": [
    "# Getting rid of these rows\n",
    "\n",
    "# fevofivo_15\tn36axdbw65\t023\n"
   ]
  },
  {
   "cell_type": "code",
   "execution_count": null,
   "metadata": {},
   "outputs": [],
   "source": [
    "df = df_slab_2\n",
    "df = df[\n",
    "    (df[\"bulk_id\"] == \"vl9on5zpm1\") &\n",
    "    # (df[\"\"] == \"\") &\n",
    "    # (df[\"\"] == \"\") &\n",
    "    [True for i in range(len(df))]\n",
    "    ]\n",
    "df"
   ]
  },
  {
   "cell_type": "code",
   "execution_count": null,
   "metadata": {},
   "outputs": [],
   "source": [
    "assert False"
   ]
  },
  {
   "cell_type": "code",
   "execution_count": null,
   "metadata": {
    "jupyter": {
     "source_hidden": true
    }
   },
   "outputs": [],
   "source": [
    "# df_jobs_anal[df_jobs_anal.job_id_max == job_id_j]\n",
    "\n",
    "df_ind_i = df_jobs_anal.index.to_frame()\n",
    "\n",
    "df = df_ind_i\n",
    "df = df[\n",
    "    (df[\"compenv\"] == \"sherlock\") &\n",
    "    (df[\"slab_id\"] == \"likeniri_51\") &\n",
    "    # (df[\"\"] == \"\") &\n",
    "    [True for i in range(len(df))]\n",
    "    ]\n",
    "\n",
    "df_jobs_anal.loc[\n",
    "    df.index\n",
    "    ]"
   ]
  },
  {
   "cell_type": "code",
   "execution_count": null,
   "metadata": {
    "jupyter": {
     "source_hidden": true
    }
   },
   "outputs": [],
   "source": [
    "df = df_jobs_data\n",
    "df = df[\n",
    "    (df[\"compenv\"] == \"sherlock\") &\n",
    "    (df[\"slab_id\"] == \"likeniri_51\") &\n",
    "    # (df[\"\"] == \"\") &\n",
    "    [True for i in range(len(df))]\n",
    "    ]\n",
    "df.sort_values(\"rev_num\")"
   ]
  },
  {
   "cell_type": "code",
   "execution_count": null,
   "metadata": {
    "jupyter": {
     "source_hidden": true
    }
   },
   "outputs": [],
   "source": [
    "assert False"
   ]
  },
  {
   "cell_type": "code",
   "execution_count": null,
   "metadata": {
    "jupyter": {
     "source_hidden": true
    }
   },
   "outputs": [],
   "source": [
    "df_feat_ab2 = df_features_targets[\n",
    "    df_features_targets[\"data\"][\"stoich\"] == \"AB2\"\n",
    "    ]\n",
    "df_feat_ab2 = df_feat_ab2.sort_values((\"targets\", \"g_oh\", \"\"), ascending=False)\n",
    "\n",
    "df_feat_ab3 = df_features_targets[\n",
    "    df_features_targets[\"data\"][\"stoich\"] == \"AB3\"\n",
    "    ]\n",
    "df_feat_ab3 = df_feat_ab3.sort_values((\"targets\", \"g_oh\", \"\"), ascending=False)"
   ]
  },
  {
   "cell_type": "code",
   "execution_count": null,
   "metadata": {
    "jupyter": {
     "source_hidden": true
    }
   },
   "outputs": [],
   "source": [
    "df_feat_ab2"
   ]
  },
  {
   "cell_type": "code",
   "execution_count": null,
   "metadata": {
    "jupyter": {
     "source_hidden": true
    }
   },
   "outputs": [],
   "source": [
    "df_feat_ab3"
   ]
  },
  {
   "cell_type": "code",
   "execution_count": null,
   "metadata": {
    "jupyter": {
     "source_hidden": true
    }
   },
   "outputs": [],
   "source": [
    "assert False"
   ]
  },
  {
   "cell_type": "code",
   "execution_count": null,
   "metadata": {
    "jupyter": {
     "source_hidden": true
    }
   },
   "outputs": [],
   "source": [
    "df_features[\n",
    "    df_features[\"features\"][\"octa_vol\"].isna()\n",
    "    ].shape"
   ]
  },
  {
   "cell_type": "code",
   "execution_count": null,
   "metadata": {
    "jupyter": {
     "source_hidden": true
    }
   },
   "outputs": [],
   "source": [
    "# ('sherlock', 'telibose_95', 54.0, )\n",
    "\n",
    "df = df_jobs\n",
    "df = df[\n",
    "    (df[\"compenv\"] == \"sherlock\") &\n",
    "    (df[\"slab_id\"] == \"telibose_95\") &\n",
    "    (df[\"ads\"] == \"o\") &\n",
    "    [True for i in range(len(df))]\n",
    "    ]\n",
    "df"
   ]
  },
  {
   "cell_type": "code",
   "execution_count": null,
   "metadata": {
    "jupyter": {
     "source_hidden": true
    }
   },
   "outputs": [],
   "source": [
    "df_jobs_paths.loc[\"dipekilo_07\"].gdrive_path"
   ]
  },
  {
   "cell_type": "code",
   "execution_count": null,
   "metadata": {
    "jupyter": {
     "source_hidden": true
    }
   },
   "outputs": [],
   "source": [
    "assert False"
   ]
  },
  {
   "cell_type": "code",
   "execution_count": null,
   "metadata": {
    "jupyter": {
     "source_hidden": true
    }
   },
   "outputs": [],
   "source": [
    "# 122 polymorphs are octahedral and unique\n",
    "# >>> Removing 12 systems manually because they are not good\n",
    "# -----\n",
    "# 110 polymorphs now\n",
    "\n",
    "\n",
    "# # ###############################################\n",
    "# 49 are layered materials\n",
    "# 61 are non-layered materials\n",
    "# -----\n",
    "# 61 polymorphs now\n",
    "\n",
    "\n",
    "# # ###############################################\n",
    "# 15 polymorphs are above the 0.3 eV/atom above hull cutoff\n",
    "# -----\n",
    "# 46 polymorphs now\n",
    "\n",
    "\n",
    "# # ###############################################\n",
    "# -----"
   ]
  }
 ],
 "metadata": {
  "jupytext": {
   "formats": "ipynb,py:light"
  },
  "kernelspec": {
   "display_name": "Python [conda env:PROJ_irox_oer] *",
   "language": "python",
   "name": "conda-env-PROJ_irox_oer-py"
  },
  "language_info": {
   "codemirror_mode": {
    "name": "ipython",
    "version": 3
   },
   "file_extension": ".py",
   "mimetype": "text/x-python",
   "name": "python",
   "nbconvert_exporter": "python",
   "pygments_lexer": "ipython3",
   "version": "3.6.11"
  }
 },
 "nbformat": 4,
 "nbformat_minor": 4
}
