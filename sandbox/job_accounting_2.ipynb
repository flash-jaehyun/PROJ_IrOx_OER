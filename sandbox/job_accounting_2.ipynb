{
 "cells": [
  {
   "cell_type": "markdown",
   "metadata": {},
   "source": [
    "### Import Modules"
   ]
  },
  {
   "cell_type": "code",
   "execution_count": 1,
   "metadata": {},
   "outputs": [
    {
     "name": "stdout",
     "output_type": "stream",
     "text": [
      "/mnt/f/Dropbox/01_norskov/00_git_repos/PROJ_IrOx_OER/sandbox\n"
     ]
    }
   ],
   "source": [
    "import os\n",
    "print(os.getcwd())\n",
    "import sys\n",
    "\n",
    "import pandas as pd\n",
    "pd.set_option(\"display.max_columns\", None)\n",
    "pd.set_option('display.max_rows', None)\n",
    "# pd.options.display.max_colwidth = 100\n",
    "\n",
    "# #########################################################\n",
    "from methods import (\n",
    "    get_df_jobs,\n",
    "    get_df_jobs_anal,\n",
    "    get_df_jobs_data,\n",
    "\n",
    "    get_df_slab,\n",
    "    )"
   ]
  },
  {
   "cell_type": "code",
   "execution_count": 2,
   "metadata": {},
   "outputs": [],
   "source": [
    "from methods import get_other_job_ids_in_set"
   ]
  },
  {
   "cell_type": "markdown",
   "metadata": {},
   "source": [
    "### Read Data"
   ]
  },
  {
   "cell_type": "code",
   "execution_count": 3,
   "metadata": {},
   "outputs": [],
   "source": [
    "df_jobs = get_df_jobs()\n",
    "df_jobs_anal = get_df_jobs_anal()\n",
    "df_jobs_data = get_df_jobs_data()\n",
    "\n",
    "df_slab = get_df_slab()"
   ]
  },
  {
   "cell_type": "code",
   "execution_count": 4,
   "metadata": {},
   "outputs": [],
   "source": [
    "df_slab_i = df_slab[df_slab.phase == 2]\n",
    "\n",
    "slab_ids = df_slab_i.index.tolist()"
   ]
  },
  {
   "cell_type": "code",
   "execution_count": 5,
   "metadata": {},
   "outputs": [],
   "source": [
    "df_jobs_i = df_jobs[\n",
    "    df_jobs.slab_id.isin(slab_ids)\n",
    "    ]\n",
    "\n",
    "df_jobs_anal_i = df_jobs_anal[\n",
    "    df_jobs_anal.index.to_frame().slab_id.isin(slab_ids)\n",
    "    ]"
   ]
  },
  {
   "cell_type": "code",
   "execution_count": 6,
   "metadata": {},
   "outputs": [
    {
     "data": {
      "text/html": [
       "<div>\n",
       "<style scoped>\n",
       "    .dataframe tbody tr th:only-of-type {\n",
       "        vertical-align: middle;\n",
       "    }\n",
       "\n",
       "    .dataframe tbody tr th {\n",
       "        vertical-align: top;\n",
       "    }\n",
       "\n",
       "    .dataframe thead th {\n",
       "        text-align: right;\n",
       "    }\n",
       "</style>\n",
       "<table border=\"1\" class=\"dataframe\">\n",
       "  <thead>\n",
       "    <tr style=\"text-align: right;\">\n",
       "      <th></th>\n",
       "      <th></th>\n",
       "      <th></th>\n",
       "      <th></th>\n",
       "      <th></th>\n",
       "      <th>job_id_max</th>\n",
       "      <th>timed_out</th>\n",
       "      <th>completed</th>\n",
       "      <th>brmix_issue</th>\n",
       "      <th>job_understandable</th>\n",
       "      <th>decision</th>\n",
       "      <th>dft_params_new</th>\n",
       "      <th>job_completely_done</th>\n",
       "    </tr>\n",
       "    <tr>\n",
       "      <th>compenv</th>\n",
       "      <th>slab_id</th>\n",
       "      <th>ads</th>\n",
       "      <th>active_site</th>\n",
       "      <th>att_num</th>\n",
       "      <th></th>\n",
       "      <th></th>\n",
       "      <th></th>\n",
       "      <th></th>\n",
       "      <th></th>\n",
       "      <th></th>\n",
       "      <th></th>\n",
       "      <th></th>\n",
       "    </tr>\n",
       "  </thead>\n",
       "  <tbody>\n",
       "    <tr>\n",
       "      <th>sherlock</th>\n",
       "      <th>lenabefe_62</th>\n",
       "      <th>o</th>\n",
       "      <th>49.0</th>\n",
       "      <th>1</th>\n",
       "      <td>sufakitu_01</td>\n",
       "      <td>None</td>\n",
       "      <td>False</td>\n",
       "      <td>None</td>\n",
       "      <td>False</td>\n",
       "      <td>[nothing, not understandable]</td>\n",
       "      <td>{}</td>\n",
       "      <td>False</td>\n",
       "    </tr>\n",
       "    <tr>\n",
       "      <th rowspan=\"2\" valign=\"top\">slac</th>\n",
       "      <th>dabipilo_28</th>\n",
       "      <th>o</th>\n",
       "      <th>59.0</th>\n",
       "      <th>1</th>\n",
       "      <td>mefohano_91</td>\n",
       "      <td>None</td>\n",
       "      <td>False</td>\n",
       "      <td>None</td>\n",
       "      <td>False</td>\n",
       "      <td>[nothing, not understandable]</td>\n",
       "      <td>{}</td>\n",
       "      <td>False</td>\n",
       "    </tr>\n",
       "    <tr>\n",
       "      <th>vomelawi_63</th>\n",
       "      <th>o</th>\n",
       "      <th>63.0</th>\n",
       "      <th>1</th>\n",
       "      <td>nopawapa_53</td>\n",
       "      <td>None</td>\n",
       "      <td>False</td>\n",
       "      <td>None</td>\n",
       "      <td>False</td>\n",
       "      <td>[nothing, not understandable]</td>\n",
       "      <td>{}</td>\n",
       "      <td>False</td>\n",
       "    </tr>\n",
       "  </tbody>\n",
       "</table>\n",
       "</div>"
      ],
      "text/plain": [
       "                                               job_id_max timed_out  \\\n",
       "compenv  slab_id     ads active_site att_num                          \n",
       "sherlock lenabefe_62 o   49.0        1        sufakitu_01      None   \n",
       "slac     dabipilo_28 o   59.0        1        mefohano_91      None   \n",
       "         vomelawi_63 o   63.0        1        nopawapa_53      None   \n",
       "\n",
       "                                              completed brmix_issue  \\\n",
       "compenv  slab_id     ads active_site att_num                          \n",
       "sherlock lenabefe_62 o   49.0        1            False        None   \n",
       "slac     dabipilo_28 o   59.0        1            False        None   \n",
       "         vomelawi_63 o   63.0        1            False        None   \n",
       "\n",
       "                                              job_understandable  \\\n",
       "compenv  slab_id     ads active_site att_num                       \n",
       "sherlock lenabefe_62 o   49.0        1                     False   \n",
       "slac     dabipilo_28 o   59.0        1                     False   \n",
       "         vomelawi_63 o   63.0        1                     False   \n",
       "\n",
       "                                                                   decision  \\\n",
       "compenv  slab_id     ads active_site att_num                                  \n",
       "sherlock lenabefe_62 o   49.0        1        [nothing, not understandable]   \n",
       "slac     dabipilo_28 o   59.0        1        [nothing, not understandable]   \n",
       "         vomelawi_63 o   63.0        1        [nothing, not understandable]   \n",
       "\n",
       "                                             dft_params_new  \\\n",
       "compenv  slab_id     ads active_site att_num                  \n",
       "sherlock lenabefe_62 o   49.0        1                   {}   \n",
       "slac     dabipilo_28 o   59.0        1                   {}   \n",
       "         vomelawi_63 o   63.0        1                   {}   \n",
       "\n",
       "                                              job_completely_done  \n",
       "compenv  slab_id     ads active_site att_num                       \n",
       "sherlock lenabefe_62 o   49.0        1                      False  \n",
       "slac     dabipilo_28 o   59.0        1                      False  \n",
       "         vomelawi_63 o   63.0        1                      False  "
      ]
     },
     "execution_count": 6,
     "metadata": {},
     "output_type": "execute_result"
    }
   ],
   "source": [
    "df_index = df_jobs_anal_i.index.to_frame()\n",
    "\n",
    "df_jobs_anal_o = df_jobs_anal_i.loc[\n",
    "    df_index[df_index.ads == \"o\"].index\n",
    "    ]\n",
    "\n",
    "df_jobs_anal_o_i = df_jobs_anal_o[df_jobs_anal_o.job_completely_done == False]\n",
    "\n",
    "indices_to_keep = []\n",
    "for index_i, row_i in df_jobs_anal_o_i.iterrows():\n",
    "    decision_i = row_i.decision\n",
    "\n",
    "    if \"PENDING\" not in decision_i and \"RUNNING\" not in decision_i:\n",
    "        indices_to_keep.append(index_i)\n",
    "\n",
    "df_jobs_anal_o_i.loc[\n",
    "    indices_to_keep\n",
    "    ]"
   ]
  },
  {
   "cell_type": "code",
   "execution_count": 11,
   "metadata": {},
   "outputs": [],
   "source": [
    "# assert False"
   ]
  },
  {
   "cell_type": "code",
   "execution_count": 13,
   "metadata": {},
   "outputs": [
    {
     "name": "stdout",
     "output_type": "stream",
     "text": [
      "('sherlock', 'begefabi_44', 'o', 'NaN', 1)\n"
     ]
    }
   ],
   "source": [
    "name_i = ('sherlock', 'begefabi_44', 'o', 'NaN', 1)\n",
    "\n",
    "df_jobs_anal_o_i = df_jobs_anal_o.loc[[name_i]]\n",
    "# df_jobs_anal_o_i = df_jobs_anal_o\n",
    "\n",
    "for index_i, row_i in df_jobs_anal_o_i.iterrows():\n",
    "    # #####################################################\n",
    "    compenv_i, slab_id_i, ads_i, active_site_i, att_num_i = index_i\n",
    "    # #####################################################\n",
    "    job_id_max_i = row_i.job_id_max\n",
    "    # #####################################################\n",
    "\n",
    "\n",
    "    df_jobs_oer = get_other_job_ids_in_set(\n",
    "        job_id_max_i,\n",
    "        df_jobs=df_jobs,\n",
    "        oer_set=True,\n",
    "        )\n",
    "\n",
    "    bare_present = \"bare\" in df_jobs_oer.ads.unique()\n",
    "\n",
    "    if not bare_present:\n",
    "        print(index_i)"
   ]
  },
  {
   "cell_type": "code",
   "execution_count": 14,
   "metadata": {},
   "outputs": [
    {
     "data": {
      "text/html": [
       "<div>\n",
       "<style scoped>\n",
       "    .dataframe tbody tr th:only-of-type {\n",
       "        vertical-align: middle;\n",
       "    }\n",
       "\n",
       "    .dataframe tbody tr th {\n",
       "        vertical-align: top;\n",
       "    }\n",
       "\n",
       "    .dataframe thead th {\n",
       "        text-align: right;\n",
       "    }\n",
       "</style>\n",
       "<table border=\"1\" class=\"dataframe\">\n",
       "  <thead>\n",
       "    <tr style=\"text-align: right;\">\n",
       "      <th></th>\n",
       "      <th>bulk_id</th>\n",
       "      <th>slab_id</th>\n",
       "      <th>job_id</th>\n",
       "      <th>facet</th>\n",
       "      <th>compenv</th>\n",
       "      <th>ads</th>\n",
       "      <th>active_site</th>\n",
       "      <th>att_num</th>\n",
       "      <th>rev_num</th>\n",
       "      <th>compenv_origin</th>\n",
       "      <th>submitted</th>\n",
       "      <th>num_revs</th>\n",
       "    </tr>\n",
       "    <tr>\n",
       "      <th>job_id</th>\n",
       "      <th></th>\n",
       "      <th></th>\n",
       "      <th></th>\n",
       "      <th></th>\n",
       "      <th></th>\n",
       "      <th></th>\n",
       "      <th></th>\n",
       "      <th></th>\n",
       "      <th></th>\n",
       "      <th></th>\n",
       "      <th></th>\n",
       "      <th></th>\n",
       "    </tr>\n",
       "  </thead>\n",
       "  <tbody>\n",
       "    <tr>\n",
       "      <th>ludusuka_09</th>\n",
       "      <td>bpc2nk6qz1</td>\n",
       "      <td>begefabi_44</td>\n",
       "      <td>ludusuka_09</td>\n",
       "      <td>111</td>\n",
       "      <td>sherlock</td>\n",
       "      <td>o</td>\n",
       "      <td>NaN</td>\n",
       "      <td>1</td>\n",
       "      <td>1</td>\n",
       "      <td>wsl</td>\n",
       "      <td>True</td>\n",
       "      <td>2</td>\n",
       "    </tr>\n",
       "    <tr>\n",
       "      <th>ludusuka_09</th>\n",
       "      <td>bpc2nk6qz1</td>\n",
       "      <td>begefabi_44</td>\n",
       "      <td>ludusuka_09</td>\n",
       "      <td>111</td>\n",
       "      <td>sherlock</td>\n",
       "      <td>o</td>\n",
       "      <td>NaN</td>\n",
       "      <td>1</td>\n",
       "      <td>1</td>\n",
       "      <td>wsl</td>\n",
       "      <td>True</td>\n",
       "      <td>2</td>\n",
       "    </tr>\n",
       "    <tr>\n",
       "      <th>bedafoho_09</th>\n",
       "      <td>bpc2nk6qz1</td>\n",
       "      <td>begefabi_44</td>\n",
       "      <td>bedafoho_09</td>\n",
       "      <td>111</td>\n",
       "      <td>sherlock</td>\n",
       "      <td>o</td>\n",
       "      <td>NaN</td>\n",
       "      <td>1</td>\n",
       "      <td>2</td>\n",
       "      <td>wsl</td>\n",
       "      <td>True</td>\n",
       "      <td>2</td>\n",
       "    </tr>\n",
       "    <tr>\n",
       "      <th>bedafoho_09</th>\n",
       "      <td>bpc2nk6qz1</td>\n",
       "      <td>begefabi_44</td>\n",
       "      <td>bedafoho_09</td>\n",
       "      <td>111</td>\n",
       "      <td>sherlock</td>\n",
       "      <td>o</td>\n",
       "      <td>NaN</td>\n",
       "      <td>1</td>\n",
       "      <td>2</td>\n",
       "      <td>wsl</td>\n",
       "      <td>True</td>\n",
       "      <td>2</td>\n",
       "    </tr>\n",
       "  </tbody>\n",
       "</table>\n",
       "</div>"
      ],
      "text/plain": [
       "                bulk_id      slab_id       job_id facet   compenv ads  \\\n",
       "job_id                                                                  \n",
       "ludusuka_09  bpc2nk6qz1  begefabi_44  ludusuka_09   111  sherlock   o   \n",
       "ludusuka_09  bpc2nk6qz1  begefabi_44  ludusuka_09   111  sherlock   o   \n",
       "bedafoho_09  bpc2nk6qz1  begefabi_44  bedafoho_09   111  sherlock   o   \n",
       "bedafoho_09  bpc2nk6qz1  begefabi_44  bedafoho_09   111  sherlock   o   \n",
       "\n",
       "            active_site  att_num  rev_num compenv_origin submitted  num_revs  \n",
       "job_id                                                                        \n",
       "ludusuka_09         NaN        1        1            wsl      True         2  \n",
       "ludusuka_09         NaN        1        1            wsl      True         2  \n",
       "bedafoho_09         NaN        1        2            wsl      True         2  \n",
       "bedafoho_09         NaN        1        2            wsl      True         2  "
      ]
     },
     "execution_count": 14,
     "metadata": {},
     "output_type": "execute_result"
    }
   ],
   "source": [
    "df_jobs_oer"
   ]
  },
  {
   "cell_type": "code",
   "execution_count": null,
   "metadata": {},
   "outputs": [],
   "source": [
    "assert False"
   ]
  },
  {
   "cell_type": "code",
   "execution_count": null,
   "metadata": {},
   "outputs": [],
   "source": [
    "print(\n",
    "    \"Number of job sets total:\",\n",
    "    df_jobs_anal_i.shape[0],\n",
    "    )\n",
    "\n",
    "print(\n",
    "    \"Number of completed job sets:\",\n",
    "    df_jobs_anal_i[df_jobs_anal_i.job_completely_done == True].shape[0]\n",
    "    )"
   ]
  },
  {
   "cell_type": "code",
   "execution_count": null,
   "metadata": {},
   "outputs": [],
   "source": [
    "df_jobs_anal_i[df_jobs_anal_i.job_completely_done == False]"
   ]
  },
  {
   "cell_type": "code",
   "execution_count": null,
   "metadata": {},
   "outputs": [],
   "source": [
    "assert False"
   ]
  },
  {
   "cell_type": "code",
   "execution_count": null,
   "metadata": {},
   "outputs": [],
   "source": [
    "# Number of job sets total: 253\n",
    "# Number of completed job sets: 223\n",
    "\n",
    "# Number of job sets total: 223\n",
    "# Number of completed job sets: 124\n",
    "\n",
    "# Number of job sets total: 223\n",
    "# Number of completed job sets: 120"
   ]
  },
  {
   "cell_type": "code",
   "execution_count": null,
   "metadata": {},
   "outputs": [],
   "source": [
    "df_index_i = df_jobs_anal_i.index.to_frame()\n",
    "\n",
    "df_index_bare_i = df_index_i[df_index_i.ads == \"bare\"]"
   ]
  },
  {
   "cell_type": "code",
   "execution_count": null,
   "metadata": {},
   "outputs": [],
   "source": [
    "print(\n",
    "    \"Number of bare calculations, this will be the number of new data points:\",\n",
    "    \"\\n\",\n",
    "    df_index_bare_i.shape[0],\n",
    "    sep=\"\")"
   ]
  },
  {
   "cell_type": "code",
   "execution_count": null,
   "metadata": {},
   "outputs": [],
   "source": [
    "for name_i, row_i in df_index_bare_i.iterrows():\n",
    "    compenv_i, slab_id_i, ads_i, active_site_i, att_num_i = name_i\n",
    "\n",
    "\n",
    "\n",
    "\n",
    "    idx = pd.IndexSlice\n",
    "    df_ind_0 = df_index_i.loc[idx[compenv_i, slab_id_i, :, active_site_i, :], :]\n",
    "\n",
    "    idx = pd.IndexSlice\n",
    "    df_ind_1 = df_index_i.loc[idx[compenv_i, slab_id_i, \"o\", \"NaN\", :], :]\n",
    "\n",
    "    df_ind = pd.concat([df_ind_0, df_ind_1])\n",
    "\n",
    "    df_jobs_anal_tmp = df_jobs_anal_i.loc[\n",
    "        df_ind.index\n",
    "        ]\n",
    "\n",
    "    df_jobs_anal_tmp = df_jobs_anal_tmp.drop(\n",
    "        columns=[\"timed_out\", \"completed\", \"brmix_issue\", \"dft_params_new\", ])\n",
    "\n",
    "\n",
    "    idx = pd.IndexSlice\n",
    "    df_bare_i = df_jobs_anal_tmp.loc[idx[:, :, \"bare\", :, :], :]\n",
    "\n",
    "    if True not in df_bare_i.job_completely_done.tolist():\n",
    "        from IPython.display import display\n",
    "        print(40 * \"*\")\n",
    "        display(\n",
    "            df_jobs_anal_tmp\n",
    "            )\n",
    "        print(\"\")\n",
    "        print(\"\")"
   ]
  },
  {
   "cell_type": "code",
   "execution_count": null,
   "metadata": {},
   "outputs": [],
   "source": [
    "df_jobs_anal_tmp"
   ]
  },
  {
   "cell_type": "code",
   "execution_count": null,
   "metadata": {},
   "outputs": [],
   "source": [
    "# idx = pd.IndexSlice\n",
    "# df_bare_i = df_jobs_anal_tmp.loc[idx[:, :, \"bare\", :, :], :]\n",
    "\n",
    "# if True not in df_bare_i.job_completely_done.tolist():\n",
    "#     print(\"IDJIFDI\")"
   ]
  },
  {
   "cell_type": "code",
   "execution_count": null,
   "metadata": {},
   "outputs": [],
   "source": [
    "df_jobs_anal[df_jobs_anal.job_id_max == \"bitakito_28\"]"
   ]
  },
  {
   "cell_type": "code",
   "execution_count": null,
   "metadata": {},
   "outputs": [],
   "source": [
    "# ['dahuvisi_85', 'peligiti_14', 'fukudiko_66', 'fipipida_61', 'tibunane_36', 'rehurese_36', 'hutepimu_57', 'bitakito_28']"
   ]
  },
  {
   "cell_type": "code",
   "execution_count": null,
   "metadata": {},
   "outputs": [],
   "source": [
    "# df_index_bare_i"
   ]
  }
 ],
 "metadata": {
  "jupytext": {
   "formats": "ipynb,py:light"
  },
  "kernelspec": {
   "display_name": "Python [conda env:PROJ_irox_oer] *",
   "language": "python",
   "name": "conda-env-PROJ_irox_oer-py"
  },
  "language_info": {
   "codemirror_mode": {
    "name": "ipython",
    "version": 3
   },
   "file_extension": ".py",
   "mimetype": "text/x-python",
   "name": "python",
   "nbconvert_exporter": "python",
   "pygments_lexer": "ipython3",
   "version": "3.6.11"
  }
 },
 "nbformat": 4,
 "nbformat_minor": 4
}
