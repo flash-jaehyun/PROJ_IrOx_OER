{
 "cells": [
  {
   "cell_type": "markdown",
   "metadata": {},
   "source": [
    "# Setup new jobs to resubmit *O (and possibly *) from *OH to achieve better magmom matching\n",
    "---"
   ]
  },
  {
   "cell_type": "markdown",
   "metadata": {},
   "source": [
    "# Import Modules"
   ]
  },
  {
   "cell_type": "code",
   "execution_count": 1,
   "metadata": {
    "jupyter": {
     "source_hidden": true
    }
   },
   "outputs": [
    {
     "name": "stdout",
     "output_type": "stream",
     "text": [
      "/home/raulf2012/Dropbox/01_norskov/00_git_repos/PROJ_IrOx_OER/dft_workflow/run_slabs/setup_jobs_from_oh\n"
     ]
    }
   ],
   "source": [
    "import os\n",
    "print(os.getcwd())\n",
    "import sys\n",
    "\n",
    "import copy\n",
    "\n",
    "import numpy as np\n",
    "import pandas as pd\n",
    "\n",
    "# #########################################################\n",
    "from methods import (\n",
    "    get_df_jobs,\n",
    "    get_df_jobs_anal,\n",
    "    get_df_oer_groups,\n",
    "    get_df_jobs_oh_anal,\n",
    "    get_df_rerun_from_oh,\n",
    "    get_df_atoms_sorted_ind,\n",
    "    )\n",
    "\n",
    "from methods import get_df_coord\n",
    "from methods import get_df_jobs_paths"
   ]
  },
  {
   "cell_type": "code",
   "execution_count": 2,
   "metadata": {},
   "outputs": [],
   "source": [
    "import json\n",
    "\n",
    "from dft_workflow_methods import get_job_spec_dft_params\n",
    "\n",
    "from shutil import copyfile"
   ]
  },
  {
   "cell_type": "markdown",
   "metadata": {},
   "source": [
    "# Read Data"
   ]
  },
  {
   "cell_type": "code",
   "execution_count": 3,
   "metadata": {
    "jupyter": {
     "source_hidden": true
    }
   },
   "outputs": [],
   "source": [
    "df_jobs = get_df_jobs()\n",
    "\n",
    "df_oer_groups = get_df_oer_groups()\n",
    "\n",
    "df_jobs_oh_anal = get_df_jobs_oh_anal()\n",
    "\n",
    "df_rerun_from_oh = get_df_rerun_from_oh()\n",
    "\n",
    "df_atoms_sorted_ind = get_df_atoms_sorted_ind()\n",
    "\n",
    "df_jobs_paths = get_df_jobs_paths()"
   ]
  },
  {
   "cell_type": "raw",
   "metadata": {},
   "source": [
    "\n"
   ]
  },
  {
   "cell_type": "code",
   "execution_count": 4,
   "metadata": {},
   "outputs": [
    {
     "name": "stdout",
     "output_type": "stream",
     "text": [
      "TEMP TEMP TEMP TEMP TEMP \n",
      "/home/raulf2012/Dropbox/01_norskov/00_git_repos/PROJ_IrOx_OER/dft_workflow/run_slabs/setup_jobs_from_oh\n"
     ]
    }
   ],
   "source": [
    "df_rerun_from_oh_i = df_rerun_from_oh[df_rerun_from_oh.rerun_from_oh == True]\n",
    "\n",
    "print(5 * \"TEMP \")\n",
    "df_rerun_from_oh_i = df_rerun_from_oh_i.iloc[[-1]]\n",
    "\n",
    "# #########################################################\n",
    "data_dict_list_o = []\n",
    "data_dict_list_bare = []\n",
    "# #########################################################\n",
    "for i_cnt, row_i in df_rerun_from_oh_i.iterrows():\n",
    "    data_dict_o_i = dict()\n",
    "    data_dict_bare_i = dict()\n",
    "\n",
    "    # #####################################################\n",
    "    compenv_i = row_i.compenv\n",
    "    slab_id_i = row_i.slab_id\n",
    "    active_site_i = row_i.active_site\n",
    "    job_id_most_stable_i = row_i.job_id_most_stable\n",
    "    # #####################################################\n",
    "\n",
    "    # #########################################################\n",
    "    row_jobs_i = df_jobs.loc[job_id_most_stable_i]\n",
    "    # #########################################################\n",
    "    att_num_i = row_jobs_i.att_num\n",
    "    # #########################################################\n",
    "\n",
    "    # #########################################################\n",
    "    # #########################################################\n",
    "    # #########################################################\n",
    "\n",
    "    # #########################################################\n",
    "    idx_i = pd.IndexSlice[compenv_i, slab_id_i, \"oh\", active_site_i, att_num_i]\n",
    "    row_atoms_i = df_atoms_sorted_ind.loc[idx_i, :]\n",
    "    # #########################################################\n",
    "    atoms_i = row_atoms_i.atoms_sorted_good\n",
    "    magmoms_sorted_good_i = row_atoms_i.magmoms_sorted_good\n",
    "    # #########################################################\n",
    "\n",
    "    if atoms_i.calc is None:\n",
    "        if magmoms_sorted_good_i is not None:\n",
    "            atoms_i.set_initial_magnetic_moments(magmoms_sorted_good_i)\n",
    "        else:\n",
    "            print(\"Not good there should be something here\")\n",
    "    else:\n",
    "        atoms_i.set_initial_magnetic_moments(\n",
    "            atoms_i.get_magnetic_moments()\n",
    "            )\n",
    "\n",
    "    # #########################################################\n",
    "    from local_methods import get_bare_o_from_oh\n",
    "    bare_o_out_dict =  get_bare_o_from_oh(\n",
    "        compenv=compenv_i,\n",
    "        slab_id=slab_id_i,\n",
    "        active_site=active_site_i,\n",
    "        att_num=att_num_i,\n",
    "        atoms=atoms_i,\n",
    "        )\n",
    "    atoms_bare = bare_o_out_dict[\"atoms_bare\"]\n",
    "    atoms_O = bare_o_out_dict[\"atoms_O\"]\n",
    "\n",
    "    write_atoms = True\n",
    "    if write_atoms:\n",
    "        atoms_i.write(\"__temp__/oh.traj\")\n",
    "        atoms_bare.write(\"__temp__/bare.traj\")\n",
    "        atoms_O.write(\"__temp__/o.traj\")\n",
    "\n",
    "    # #########################################################\n",
    "    # Getting the att_num values for *O  and bare jobs so new ones can be assigned \n",
    "    df_jobs_i = df_jobs[\n",
    "        (df_jobs.compenv == compenv_i) & \\\n",
    "        (df_jobs.slab_id == slab_id_i) & \\\n",
    "        # (df_jobs.active_site == active_site_i) & \\\n",
    "        [True for i in range(len(df_jobs))]\n",
    "        ]\n",
    "    df_jobs_o_i = df_jobs_i[\n",
    "        (df_jobs_i.ads == \"o\")\n",
    "        ]\n",
    "\n",
    "    unique_att_nums_o = list(df_jobs_o_i.att_num.unique())\n",
    "    new_att_num_o = np.max(unique_att_nums_o) + 1\n",
    "\n",
    "    df_jobs_oh_i = df_jobs_i[\n",
    "        (df_jobs_i.ads == \"bare\") & \\\n",
    "        (df_jobs_i.active_site == active_site_i) & \\\n",
    "        [True for i in range(len(df_jobs_i))]\n",
    "        ]\n",
    "    unique_att_nums_bare = list(df_jobs_oh_i.att_num.unique())\n",
    "    new_att_num_bare = np.max(unique_att_nums_bare) + 1\n",
    "\n",
    "    unique_bulk_ids = list(df_jobs_i.bulk_id.unique())\n",
    "    mess_i = \"iSSJfi\"\n",
    "    assert len(unique_bulk_ids) == 1, mess_i\n",
    "    bulk_id_i = unique_bulk_ids[0]\n",
    "\n",
    "    unique_facets = list(df_jobs_i.facet.unique())\n",
    "    mess_i = \"iSSJfi\"\n",
    "    assert len(unique_facets) == 1, mess_i\n",
    "    facet_i = unique_facets[0]\n",
    "\n",
    "\n",
    "\n",
    "    # #####################################################\n",
    "    # #####################################################\n",
    "    # #####################################################\n",
    "    # #####################################################\n",
    "    # #####################################################\n",
    "    # #####################################################\n",
    "    # #####################################################\n",
    "    # #####################################################\n",
    "    # #####################################################\n",
    "    # #####################################################\n",
    "    # #####################################################\n",
    "    # #####################################################\n",
    "    # #####################################################\n",
    "    # #####################################################\n",
    "    # #####################################################\n",
    "    # #####################################################\n",
    "    # #####################################################\n",
    "    # #####################################################\n",
    "\n",
    "\n",
    "\n",
    "    # #########################################################\n",
    "    # Creating new directories\n",
    "    new_o_path = os.path.join(\n",
    "        os.environ[\"PROJ_irox_oer_gdrive\"],\n",
    "        \"dft_workflow/run_slabs\",\n",
    "        \"run_o_covered/out_data/dft_jobs\",\n",
    "        compenv_i, bulk_id_i, facet_i,\n",
    "        str(new_att_num_o).zfill(2) + \"_attempt\",\n",
    "        \"_01\",\n",
    "        )\n",
    "\n",
    "\n",
    "    if not os.path.exists(new_o_path):\n",
    "        os.makedirs(new_o_path)\n",
    "\n",
    "        # #############################################\n",
    "        # Copy dft script to job folder\n",
    "        copyfile(\n",
    "            os.path.join(os.environ[\"PROJ_irox_oer\"], \"dft_workflow/dft_scripts/slab_dft.py\"),\n",
    "            os.path.join(new_o_path, \"model.py\"),\n",
    "            )\n",
    "\n",
    "        # #############################################\n",
    "        # Copy atoms object to job folder\n",
    "        atoms_O.write(\n",
    "            os.path.join(new_o_path, \"init.traj\")\n",
    "            )\n",
    "        num_atoms_i = atoms_O.get_global_number_of_atoms()\n",
    "\n",
    "        # #############################################\n",
    "        data_dict_o_i[\"compenv\"] = compenv_i\n",
    "        data_dict_o_i[\"slab_id\"] = slab_id_i\n",
    "        data_dict_o_i[\"bulk_id\"] = bulk_id_i\n",
    "        data_dict_o_i[\"att_num\"] = new_att_num_o\n",
    "        data_dict_o_i[\"rev_num\"] = 1\n",
    "        data_dict_o_i[\"active_site\"] = \"NaN\"\n",
    "        data_dict_o_i[\"facet\"] = facet_i\n",
    "        data_dict_o_i[\"slab\"] = atoms_O\n",
    "        data_dict_o_i[\"num_atoms\"] = num_atoms_i\n",
    "        # data_dict_i[\"path_i\"] = path_i\n",
    "        data_dict_o_i[\"path_full\"] = new_o_path\n",
    "        # #############################################\n",
    "        data_dict_list_o.append(data_dict_o_i)\n",
    "        # #############################################\n",
    "\n",
    "    # #####################################################\n",
    "    # #####################################################\n",
    "    # #####################################################\n",
    "    # #####################################################\n",
    "    # #####################################################\n",
    "    # #####################################################\n",
    "    # #####################################################\n",
    "    # #####################################################\n",
    "    # #####################################################\n",
    "    # #####################################################\n",
    "    # #####################################################\n",
    "    # #####################################################\n",
    "    # #####################################################\n",
    "    # #####################################################\n",
    "    # #####################################################\n",
    "    # #####################################################\n",
    "    # #####################################################\n",
    "    # #####################################################\n",
    "\n",
    "\n",
    "    new_bare_path = os.path.join(\n",
    "        os.environ[\"PROJ_irox_oer_gdrive\"],\n",
    "        \"dft_workflow/run_slabs\",\n",
    "        \"run_bare_oh_covered/out_data/dft_jobs\",\n",
    "        compenv_i, bulk_id_i, facet_i,\n",
    "        \"bare\",\n",
    "        \"active_site__\" + str(int(active_site_i)),\n",
    "        str(new_att_num_bare).zfill(2) + \"_attempt\",\n",
    "        \"_01\",\n",
    "        )\n",
    "\n",
    "    if not os.path.exists(new_bare_path):\n",
    "        os.makedirs(new_bare_path)\n",
    "\n",
    "        # #############################################\n",
    "        # Copy dft script to job folder\n",
    "        copyfile(\n",
    "            os.path.join(os.environ[\"PROJ_irox_oer\"], \"dft_workflow/dft_scripts/slab_dft.py\"),\n",
    "            os.path.join(new_bare_path, \"model.py\"),\n",
    "            )\n",
    "\n",
    "        # #############################################\n",
    "        # Copy atoms object to job folder\n",
    "        atoms_bare.write(\n",
    "            os.path.join(new_bare_path, \"init.traj\")\n",
    "            )\n",
    "        num_atoms_i = atoms_bare.get_global_number_of_atoms()\n",
    "\n",
    "        # #############################################\n",
    "        data_dict_bare_i[\"compenv\"] = compenv_i\n",
    "        data_dict_bare_i[\"slab_id\"] = slab_id_i\n",
    "        data_dict_bare_i[\"bulk_id\"] = bulk_id_i\n",
    "        data_dict_bare_i[\"att_num\"] = new_att_num_o\n",
    "        data_dict_bare_i[\"rev_num\"] = 1\n",
    "        data_dict_bare_i[\"active_site\"] = \"NaN\"\n",
    "        data_dict_bare_i[\"facet\"] = facet_i\n",
    "        data_dict_bare_i[\"slab\"] = atoms_bare\n",
    "        data_dict_bare_i[\"num_atoms\"] = num_atoms_i\n",
    "        data_dict_bare_i[\"path_full\"] = new_bare_path\n",
    "        # #############################################\n",
    "        data_dict_list_bare.append(data_dict_bare_i)\n",
    "        # #############################################\n",
    "\n",
    "        slac_sub_queue_i = \"suncat2\"\n",
    "        dft_params_i = get_job_spec_dft_params(\n",
    "            compenv=compenv_i,\n",
    "            slac_sub_queue=slac_sub_queue_i,\n",
    "            )\n",
    "        dft_params_i[\"ispin\"] = 2\n",
    "\n",
    "        # #################################################\n",
    "        with open(os.path.join(new_bare_path, \"dft-params.json\"), \"w+\") as fle:\n",
    "            json.dump(dft_params_i, fle, indent=2, skipkeys=True)\n",
    "        # #################################################\n",
    "        with open(os.path.join(new_o_path, \"dft-params.json\"), \"w+\") as fle:\n",
    "            json.dump(dft_params_i, fle, indent=2, skipkeys=True)"
   ]
  },
  {
   "cell_type": "code",
   "execution_count": 7,
   "metadata": {},
   "outputs": [
    {
     "data": {
      "text/plain": [
       "array([ 0.843,  0.837,  0.264,  0.215, -0.818,  0.823,  0.624,  0.68 ,\n",
       "        0.031,  0.004,  0.006, -0.005, -0.053, -0.044,  0.489, -0.312,\n",
       "       -0.044, -0.055, -0.002,  0.013,  0.02 ,  0.009,  0.018, -0.009,\n",
       "       -0.076,  0.018,  0.012,  0.001,  0.012, -0.005, -0.06 ,  0.045,\n",
       "        0.006, -0.027, -0.004,  0.009, -0.018, -0.002,  0.022,  0.02 ,\n",
       "       -0.013, -0.014, -0.003,  0.001, -0.003,  0.002, -0.007, -0.002,\n",
       "        0.002, -0.011, -0.019, -0.011,  0.007,  0.02 , -0.045, -0.041,\n",
       "       -0.006, -0.013,  0.009, -0.001,  0.007,  0.001,  0.026,  0.044,\n",
       "        0.001,  0.005, -0.041, -0.013,  0.013, -0.004,  0.004,  0.007,\n",
       "       -0.027,  0.   ,  0.002, -0.008, -0.005, -0.006, -0.231, -0.083,\n",
       "       -0.04 , -0.037, -0.022, -0.007, -0.022, -0.008, -0.005,  0.107,\n",
       "        0.379,  0.082,  0.016, -0.061, -0.04 , -0.007,  0.196, -0.001,\n",
       "        0.113,  0.528,  0.043,  0.021,  0.   ])"
      ]
     },
     "execution_count": 7,
     "metadata": {},
     "output_type": "execute_result"
    }
   ],
   "source": [
    "atoms_i.get_initial_magnetic_moments()\n"
   ]
  },
  {
   "cell_type": "code",
   "execution_count": 5,
   "metadata": {},
   "outputs": [
    {
     "ename": "PropertyNotImplementedError",
     "evalue": "The property \"magmoms\" is not available.",
     "output_type": "error",
     "traceback": [
      "\u001b[0;31m---------------------------------------------------------------------------\u001b[0m",
      "\u001b[0;31mPropertyNotImplementedError\u001b[0m               Traceback (most recent call last)",
      "\u001b[0;32m<ipython-input-5-144695f6d97e>\u001b[0m in \u001b[0;36m<module>\u001b[0;34m\u001b[0m\n\u001b[1;32m      5\u001b[0m \u001b[0;34m\u001b[0m\u001b[0m\n\u001b[1;32m      6\u001b[0m atoms_i.set_initial_magnetic_moments(\n\u001b[0;32m----> 7\u001b[0;31m     \u001b[0matoms_i\u001b[0m\u001b[0;34m.\u001b[0m\u001b[0mget_magnetic_moments\u001b[0m\u001b[0;34m(\u001b[0m\u001b[0;34m)\u001b[0m\u001b[0;34m\u001b[0m\u001b[0;34m\u001b[0m\u001b[0m\n\u001b[0m\u001b[1;32m      8\u001b[0m     )\n",
      "\u001b[0;32m~/anaconda3/envs/PROJ_irox_oer/lib/python3.6/site-packages/ase/atoms.py\u001b[0m in \u001b[0;36mget_magnetic_moments\u001b[0;34m(self)\u001b[0m\n\u001b[1;32m    619\u001b[0m         \u001b[0;32mif\u001b[0m \u001b[0mself\u001b[0m\u001b[0;34m.\u001b[0m\u001b[0m_calc\u001b[0m \u001b[0;32mis\u001b[0m \u001b[0;32mNone\u001b[0m\u001b[0;34m:\u001b[0m\u001b[0;34m\u001b[0m\u001b[0;34m\u001b[0m\u001b[0m\n\u001b[1;32m    620\u001b[0m             \u001b[0;32mraise\u001b[0m \u001b[0mRuntimeError\u001b[0m\u001b[0;34m(\u001b[0m\u001b[0;34m'Atoms object has no calculator.'\u001b[0m\u001b[0;34m)\u001b[0m\u001b[0;34m\u001b[0m\u001b[0;34m\u001b[0m\u001b[0m\n\u001b[0;32m--> 621\u001b[0;31m         \u001b[0;32mreturn\u001b[0m \u001b[0mself\u001b[0m\u001b[0;34m.\u001b[0m\u001b[0m_calc\u001b[0m\u001b[0;34m.\u001b[0m\u001b[0mget_magnetic_moments\u001b[0m\u001b[0;34m(\u001b[0m\u001b[0mself\u001b[0m\u001b[0;34m)\u001b[0m\u001b[0;34m\u001b[0m\u001b[0;34m\u001b[0m\u001b[0m\n\u001b[0m\u001b[1;32m    622\u001b[0m \u001b[0;34m\u001b[0m\u001b[0m\n\u001b[1;32m    623\u001b[0m     \u001b[0;32mdef\u001b[0m \u001b[0mget_magnetic_moment\u001b[0m\u001b[0;34m(\u001b[0m\u001b[0mself\u001b[0m\u001b[0;34m)\u001b[0m\u001b[0;34m:\u001b[0m\u001b[0;34m\u001b[0m\u001b[0;34m\u001b[0m\u001b[0m\n",
      "\u001b[0;32m~/anaconda3/envs/PROJ_irox_oer/lib/python3.6/site-packages/ase/calculators/calculator.py\u001b[0m in \u001b[0;36mget_magnetic_moments\u001b[0;34m(self, atoms)\u001b[0m\n\u001b[1;32m    676\u001b[0m     \u001b[0;32mdef\u001b[0m \u001b[0mget_magnetic_moments\u001b[0m\u001b[0;34m(\u001b[0m\u001b[0mself\u001b[0m\u001b[0;34m,\u001b[0m \u001b[0matoms\u001b[0m\u001b[0;34m=\u001b[0m\u001b[0;32mNone\u001b[0m\u001b[0;34m)\u001b[0m\u001b[0;34m:\u001b[0m\u001b[0;34m\u001b[0m\u001b[0;34m\u001b[0m\u001b[0m\n\u001b[1;32m    677\u001b[0m         \u001b[0;34m\"\"\"Calculate magnetic moments projected onto atoms.\"\"\"\u001b[0m\u001b[0;34m\u001b[0m\u001b[0;34m\u001b[0m\u001b[0m\n\u001b[0;32m--> 678\u001b[0;31m         \u001b[0;32mreturn\u001b[0m \u001b[0mself\u001b[0m\u001b[0;34m.\u001b[0m\u001b[0mget_property\u001b[0m\u001b[0;34m(\u001b[0m\u001b[0;34m'magmoms'\u001b[0m\u001b[0;34m,\u001b[0m \u001b[0matoms\u001b[0m\u001b[0;34m)\u001b[0m\u001b[0;34m\u001b[0m\u001b[0;34m\u001b[0m\u001b[0m\n\u001b[0m\u001b[1;32m    679\u001b[0m \u001b[0;34m\u001b[0m\u001b[0m\n\u001b[1;32m    680\u001b[0m     \u001b[0;32mdef\u001b[0m \u001b[0mget_property\u001b[0m\u001b[0;34m(\u001b[0m\u001b[0mself\u001b[0m\u001b[0;34m,\u001b[0m \u001b[0mname\u001b[0m\u001b[0;34m,\u001b[0m \u001b[0matoms\u001b[0m\u001b[0;34m=\u001b[0m\u001b[0;32mNone\u001b[0m\u001b[0;34m,\u001b[0m \u001b[0mallow_calculation\u001b[0m\u001b[0;34m=\u001b[0m\u001b[0;32mTrue\u001b[0m\u001b[0;34m)\u001b[0m\u001b[0;34m:\u001b[0m\u001b[0;34m\u001b[0m\u001b[0;34m\u001b[0m\u001b[0m\n",
      "\u001b[0;32m~/anaconda3/envs/PROJ_irox_oer/lib/python3.6/site-packages/ase/calculators/singlepoint.py\u001b[0m in \u001b[0;36mget_property\u001b[0;34m(self, name, atoms, allow_calculation)\u001b[0m\n\u001b[1;32m     45\u001b[0m             \u001b[0;32mif\u001b[0m \u001b[0mallow_calculation\u001b[0m\u001b[0;34m:\u001b[0m\u001b[0;34m\u001b[0m\u001b[0;34m\u001b[0m\u001b[0m\n\u001b[1;32m     46\u001b[0m                 raise PropertyNotImplementedError(\n\u001b[0;32m---> 47\u001b[0;31m                     'The property \"{0}\" is not available.'.format(name))\n\u001b[0m\u001b[1;32m     48\u001b[0m             \u001b[0;32mreturn\u001b[0m \u001b[0;32mNone\u001b[0m\u001b[0;34m\u001b[0m\u001b[0;34m\u001b[0m\u001b[0m\n\u001b[1;32m     49\u001b[0m \u001b[0;34m\u001b[0m\u001b[0m\n",
      "\u001b[0;31mPropertyNotImplementedError\u001b[0m: The property \"magmoms\" is not available."
     ]
    }
   ],
   "source": [
    "atoms_i.get_initial_magnetic_moments()\n",
    "\n",
    "\n",
    "# atoms_i.set_initial_magnetic_moments(magmoms_sorted_good_i)\n",
    "\n",
    "atoms_i.set_initial_magnetic_moments(\n",
    "    atoms_i.get_magnetic_moments()\n",
    "    )"
   ]
  },
  {
   "cell_type": "code",
   "execution_count": null,
   "metadata": {},
   "outputs": [],
   "source": [
    "atoms_i.get_initial_magnetic_moments()"
   ]
  },
  {
   "cell_type": "raw",
   "metadata": {},
   "source": [
    "\n"
   ]
  }
 ],
 "metadata": {
  "jupytext": {
   "formats": "ipynb,py:light"
  },
  "kernelspec": {
   "display_name": "Python [conda env:PROJ_irox_oer] *",
   "language": "python",
   "name": "conda-env-PROJ_irox_oer-py"
  },
  "language_info": {
   "codemirror_mode": {
    "name": "ipython",
    "version": 3
   },
   "file_extension": ".py",
   "mimetype": "text/x-python",
   "name": "python",
   "nbconvert_exporter": "python",
   "pygments_lexer": "ipython3",
   "version": "3.6.11"
  }
 },
 "nbformat": 4,
 "nbformat_minor": 4
}
