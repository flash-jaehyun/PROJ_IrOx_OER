{
 "cells": [
  {
   "cell_type": "markdown",
   "metadata": {},
   "source": [
    "# Setup new jobs to resubmit *O (and possibly *) from *OH to achieve better magmom matching\n",
    "---"
   ]
  },
  {
   "cell_type": "markdown",
   "metadata": {},
   "source": [
    "# Import Modules"
   ]
  },
  {
   "cell_type": "code",
   "execution_count": 1,
   "metadata": {},
   "outputs": [
    {
     "name": "stdout",
     "output_type": "stream",
     "text": [
      "/home/raulf2012/Dropbox/01_norskov/00_git_repos/PROJ_IrOx_OER/dft_workflow/run_slabs\n"
     ]
    }
   ],
   "source": [
    "import os\n",
    "print(os.getcwd())\n",
    "import sys\n",
    "\n",
    "import pandas as pd\n",
    "\n",
    "# #########################################################\n",
    "from methods import (\n",
    "    get_df_jobs,\n",
    "    get_df_jobs_anal,\n",
    "    get_df_oer_groups,\n",
    "    get_df_jobs_oh_anal,\n",
    "    get_df_rerun_from_oh,\n",
    "    get_df_atoms_sorted_ind,\n",
    "    )"
   ]
  },
  {
   "cell_type": "code",
   "execution_count": 2,
   "metadata": {},
   "outputs": [],
   "source": [
    "df_jobs = get_df_jobs()\n",
    "\n",
    "df_oer_groups = get_df_oer_groups()\n",
    "\n",
    "df_jobs_oh_anal = get_df_jobs_oh_anal()\n",
    "\n",
    "df_rerun_from_oh = get_df_rerun_from_oh()\n",
    "\n",
    "df_atoms_sorted_ind = get_df_atoms_sorted_ind()"
   ]
  },
  {
   "cell_type": "raw",
   "metadata": {},
   "source": [
    "\n"
   ]
  },
  {
   "cell_type": "code",
   "execution_count": 18,
   "metadata": {},
   "outputs": [],
   "source": [
    "df_rerun_from_oh_i = df_rerun_from_oh[df_rerun_from_oh.rerun_from_oh == True]\n",
    "\n",
    "# #########################################################\n",
    "# #########################################################\n",
    "for i_cnt, row_i in df_rerun_from_oh_i.iterrows():\n",
    "\n",
    "    # #####################################################\n",
    "    compenv_i = row_i.compenv\n",
    "    slab_id_i = row_i.slab_id\n",
    "    active_site_i = row_i.active_site\n",
    "    job_id_most_stable_i = row_i.job_id_most_stable\n",
    "    # #####################################################\n",
    "\n",
    "    # #########################################################\n",
    "    row_jobs_i = df_jobs.loc[job_id_most_stable_i]\n",
    "    # #########################################################\n",
    "    att_num_i = row_jobs_i.att_num\n",
    "    # #########################################################\n",
    "\n",
    "    # #########################################################\n",
    "    idx_i = pd.IndexSlice[compenv_i, slab_id_i, \"oh\", active_site_i, att_num_i]\n",
    "    row_atoms_i = df_atoms_sorted_ind.loc[idx_i, :]\n",
    "    # #########################################################\n",
    "    atoms_i = row_atoms_i.atoms_sorted_good\n",
    "    magmoms_sorted_good_i = row_atoms_i.magmoms_sorted_good\n",
    "    # #########################################################\n",
    "\n",
    "    if atoms_i.calc is None:\n",
    "        if magmoms_sorted_good_i is not None:\n",
    "            atoms_i.set_initial_magnetic_moments(magmoms_sorted_good_i)\n",
    "        else:\n",
    "            print(\"Not good there should be something here\")"
   ]
  },
  {
   "cell_type": "code",
   "execution_count": 29,
   "metadata": {},
   "outputs": [],
   "source": [
    "atoms_i.write(\"__temp__/tmp.traj\")"
   ]
  },
  {
   "cell_type": "raw",
   "metadata": {},
   "source": [
    "\n",
    "\n"
   ]
  },
  {
   "cell_type": "code",
   "execution_count": 30,
   "metadata": {
    "jupyter": {
     "source_hidden": true
    }
   },
   "outputs": [],
   "source": [
    "# df_atoms_sorted_ind"
   ]
  }
 ],
 "metadata": {
  "jupytext": {
   "formats": "ipynb,py:light"
  },
  "kernelspec": {
   "display_name": "Python [conda env:PROJ_irox_oer] *",
   "language": "python",
   "name": "conda-env-PROJ_irox_oer-py"
  },
  "language_info": {
   "codemirror_mode": {
    "name": "ipython",
    "version": 3
   },
   "file_extension": ".py",
   "mimetype": "text/x-python",
   "name": "python",
   "nbconvert_exporter": "python",
   "pygments_lexer": "ipython3",
   "version": "3.6.11"
  }
 },
 "nbformat": 4,
 "nbformat_minor": 4
}
