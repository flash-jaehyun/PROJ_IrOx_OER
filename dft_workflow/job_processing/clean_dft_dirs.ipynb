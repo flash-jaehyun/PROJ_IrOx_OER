{
 "cells": [
  {
   "cell_type": "markdown",
   "metadata": {},
   "source": [
    "# Clean DFT Jobs\n",
    "---\n",
    "\n",
    "Run in computer cluster to perform a variety of job clean and processing\n",
    "\n",
    "Currently the following things are done:\n",
    "\n",
    "1. Process large `job.out` files, if `job.out` is larger than `job_out_size_limit` than creates new `job.out.new` file removes middle section of file and leaves behind the beginning and end of the original file\n",
    "1. Rclone copy the job directories to the Stanford Google Drive\n",
    "\n",
    "## TODO\n",
    "* Remove large files if they are newer revisions (Only time you need large VASP files are when starting a new job and therefore need WAVECAR or charge files)"
   ]
  },
  {
   "cell_type": "markdown",
   "metadata": {},
   "source": [
    "# Import Modules"
   ]
  },
  {
   "cell_type": "code",
   "execution_count": 1,
   "metadata": {
    "jupyter": {
     "source_hidden": true
    }
   },
   "outputs": [
    {
     "name": "stdout",
     "output_type": "stream",
     "text": [
      "/home/raulf2012/Dropbox/01_norskov/00_git_repos/PROJ_IrOx_OER/dft_workflow/job_processing\n"
     ]
    }
   ],
   "source": [
    "import os\n",
    "print(os.getcwd())\n",
    "import sys\n",
    "\n",
    "import pickle\n",
    "import shutil\n",
    "from pathlib import Path\n",
    "import subprocess\n",
    "\n",
    "import numpy as np\n",
    "import pandas as pd\n",
    "from tqdm.notebook import tqdm\n",
    "\n",
    "\n",
    "# #########################################################\n",
    "from IPython.display import display\n",
    "\n",
    "# #########################################################\n",
    "from methods import (\n",
    "    get_df_jobs,\n",
    "    get_df_jobs_paths,\n",
    "    get_df_jobs_anal,\n",
    "    )\n",
    "\n",
    "# #########################################################\n",
    "from local_methods import (\n",
    "    cwd, process_large_job_out,\n",
    "    rclone_sync_job_dir,\n",
    "    parse_job_state,\n",
    "    )"
   ]
  },
  {
   "cell_type": "markdown",
   "metadata": {},
   "source": [
    "# Script Inputs"
   ]
  },
  {
   "cell_type": "code",
   "execution_count": 2,
   "metadata": {},
   "outputs": [],
   "source": [
    "verbose = False\n",
    "\n",
    "job_out_size_limit = 5  # MB"
   ]
  },
  {
   "cell_type": "code",
   "execution_count": 3,
   "metadata": {},
   "outputs": [],
   "source": [
    "compenv = os.environ.get(\"COMPENV\", None)\n",
    "\n",
    "# if compenv == \"wsl\":\n",
    "#     compenv = \"slac\"\n",
    "\n",
    "proj_dir = os.environ.get(\"PROJ_irox_oer\", None)"
   ]
  },
  {
   "cell_type": "markdown",
   "metadata": {},
   "source": [
    "# Read Data"
   ]
  },
  {
   "cell_type": "code",
   "execution_count": 4,
   "metadata": {},
   "outputs": [],
   "source": [
    "# #########################################################\n",
    "df_jobs = get_df_jobs(exclude_wsl_paths=False)\n",
    "df_i = df_jobs[df_jobs.compenv == compenv]\n",
    "\n",
    "# #########################################################\n",
    "df_jobs_paths = get_df_jobs_paths()\n",
    "df_jobs_paths_i = df_jobs_paths[df_jobs_paths.compenv == compenv]\n",
    "\n",
    "# #########################################################\n",
    "df_jobs_anal = get_df_jobs_anal()\n",
    "\n",
    "if verbose:\n",
    "    print(60 * \"-\")\n",
    "    print(\"Directories being parsed\")\n",
    "    tmp = [print(i) for i in df_jobs_paths_i.path_rel_to_proj.tolist()]\n",
    "    print(\"\")"
   ]
  },
  {
   "cell_type": "markdown",
   "metadata": {},
   "source": [
    "# Iterate through rows"
   ]
  },
  {
   "cell_type": "code",
   "execution_count": 2,
   "metadata": {},
   "outputs": [],
   "source": [
    "# TEMP\n",
    "# print(\"TEMP TEMP TEMP ju7y6iuesdfghuhertyui\")\n",
    "\n",
    "# #########################################################\n",
    "# df_i = df_i.loc[[\"dunivesu_80\"]]\n",
    "# df_i = df_i.loc[[\"mitanapo_92\"]] \n",
    "# df_i = df_i.loc[[\"tawawobu_24\"]] \n",
    "\n",
    "# df_i = df_i.loc[[\"kepigiwu_49\"]] "
   ]
  },
  {
   "cell_type": "code",
   "execution_count": 1,
   "metadata": {},
   "outputs": [],
   "source": [
    "# print(\"TEMP\")\n",
    "# assert False"
   ]
  },
  {
   "cell_type": "code",
   "execution_count": 33,
   "metadata": {},
   "outputs": [],
   "source": [
    "# jobs_processed = []\n",
    "\n",
    "iterator = tqdm(df_i.index.tolist(), desc=\"1st loop\")\n",
    "for index_i in iterator:\n",
    "    # #####################################################\n",
    "    row_i = df_i.loc[index_i]\n",
    "    # #####################################################\n",
    "    slab_id_i = row_i.slab_id\n",
    "    ads_i = row_i.ads\n",
    "    att_num_i = row_i.att_num\n",
    "    compenv_i = row_i.compenv\n",
    "    active_site_i = row_i.active_site\n",
    "    # #####################################################\n",
    "\n",
    "    if active_site_i == \"NaN\":\n",
    "        tmp = 42\n",
    "    elif np.isnan(active_site_i):\n",
    "        active_site_i = \"NaN\"\n",
    "    \n",
    "\n",
    "    # #####################################################\n",
    "    df_jobs_paths_i = df_jobs_paths[df_jobs_paths.compenv == compenv_i]\n",
    "    row_jobs_paths_i = df_jobs_paths_i.loc[index_i]\n",
    "    # #####################################################\n",
    "    path_job_root_w_att_rev = row_jobs_paths_i.path_job_root_w_att_rev\n",
    "    path_full = row_jobs_paths_i.path_full\n",
    "    path_rel_to_proj = row_jobs_paths_i.path_rel_to_proj\n",
    "    # #####################################################\n",
    "\n",
    "    # #####################################################\n",
    "    in_index = df_jobs_anal.index.isin(\n",
    "        [(compenv_i, slab_id_i, ads_i, active_site_i, att_num_i)]).any()\n",
    "    if in_index:\n",
    "        row_anal_i = df_jobs_anal.loc[\n",
    "            compenv_i, slab_id_i, ads_i, active_site_i, att_num_i]\n",
    "        # #################################################\n",
    "        job_completely_done_i = row_anal_i.job_completely_done\n",
    "        # #################################################\n",
    "    else:\n",
    "        job_completely_done_i = None\n",
    "\n",
    "    # if job_completely_done_i:\n",
    "    #     print(\"job done:\", path_full)\n",
    "\n",
    "    # #####################################################\n",
    "    path_i = os.path.join(\n",
    "        os.environ[\"PROJ_irox_oer\"],\n",
    "        path_rel_to_proj)\n",
    "    print(path_i)\n",
    "\n",
    "    # Don't run methods if not in remote cluster\n",
    "    if compenv != \"wsl\":\n",
    "        my_file = Path(path_i)\n",
    "        if my_file.is_dir():\n",
    "\n",
    "            # Only do these operations on non-running jobs\n",
    "            job_state_dict = parse_job_state(path_i)\n",
    "            job_state_i = job_state_dict[\"job_state\"]\n",
    "\n",
    "            if verbose:\n",
    "                print(\"job_state_i:\", job_state_i)\n",
    "\n",
    "            # #########################################\n",
    "            if job_state_i != \"RUNNING\":\n",
    "                process_large_job_out(\n",
    "                    path_i, job_out_size_limit=job_out_size_limit)\n",
    "\n",
    "            # #########################################\n",
    "            rclone_sync_job_dir(\n",
    "                path_job_root_w_att_rev=path_job_root_w_att_rev,\n",
    "                path_rel_to_proj=path_rel_to_proj,\n",
    "                verbose=False,\n",
    "                )"
   ]
  },
  {
   "cell_type": "code",
   "execution_count": 1,
   "metadata": {},
   "outputs": [],
   "source": [
    "# assert False"
   ]
  },
  {
   "cell_type": "markdown",
   "metadata": {},
   "source": [
    "# Remove systems that are completely done"
   ]
  },
  {
   "cell_type": "code",
   "execution_count": 1,
   "metadata": {},
   "outputs": [],
   "source": [
    "# iterator = tqdm(df_i.index.tolist(), desc=\"1st loop\")\n",
    "# for index_i in iterator:\n",
    "#     # #####################################################\n",
    "#     row_i = df_i.loc[index_i]\n",
    "#     # #####################################################\n",
    "#     slab_id_i = row_i.slab_id\n",
    "#     ads_i = row_i.ads\n",
    "#     att_num_i = row_i.att_num\n",
    "#     compenv_i = row_i.compenv\n",
    "#     active_site_i = row_i.active_site\n",
    "#     # #####################################################\n",
    "\n",
    "#     if active_site_i == \"NaN\":\n",
    "#         tmp = 42\n",
    "#     elif np.isnan(active_site_i):\n",
    "#         active_site_i = \"NaN\"\n",
    "\n",
    "#     # #####################################################\n",
    "#     df_jobs_paths_i = df_jobs_paths[df_jobs_paths.compenv == compenv_i]\n",
    "#     row_jobs_paths_i = df_jobs_paths_i.loc[index_i]\n",
    "#     # #####################################################\n",
    "#     path_job_root_w_att_rev = row_jobs_paths_i.path_job_root_w_att_rev\n",
    "#     path_full = row_jobs_paths_i.path_full\n",
    "#     path_rel_to_proj = row_jobs_paths_i.path_rel_to_proj\n",
    "#     # #####################################################\n",
    "\n",
    "#     # #####################################################\n",
    "#     in_index = df_jobs_anal.index.isin(\n",
    "#         [(compenv_i, slab_id_i, ads_i, active_site_i, att_num_i)]).any()\n",
    "#     if in_index:\n",
    "#         row_anal_i = df_jobs_anal.loc[\n",
    "#             compenv_i, slab_id_i, ads_i, active_site_i, att_num_i]\n",
    "#         # #################################################\n",
    "#         job_completely_done_i = row_anal_i.job_completely_done\n",
    "#         # #################################################\n",
    "#     else:\n",
    "#         continue\n",
    "\n",
    "\n",
    "\n",
    "\n",
    "#     path_i = os.path.join(os.environ[\"PROJ_irox_oer\"], path_rel_to_proj)\n",
    "\n",
    "#     # #####################################################\n",
    "#     if job_completely_done_i:\n",
    "\n",
    "#         # #####################################################\n",
    "#         # Check that the directory exists\n",
    "#         my_file = Path(path_i)\n",
    "#         dir_exists = False\n",
    "#         if my_file.is_dir():\n",
    "#             dir_exists = True\n",
    "\n",
    "#         # #####################################################\n",
    "#         # Check if .dft_clean file is present\n",
    "#         dft_clean_file_path = os.path.join(path_i, \".dft_clean\")\n",
    "#         my_file = Path(dft_clean_file_path)\n",
    "#         dft_clean_already_exists = False\n",
    "#         if my_file.is_file():\n",
    "#             dft_clean_already_exists = True\n",
    "\n",
    "#         # #####################################################\n",
    "#         if dir_exists:\n",
    "#             # Creating .dft_clean file\n",
    "#             if not dft_clean_already_exists:\n",
    "#                 with open(dft_clean_file_path, \"w\") as file:\n",
    "#                     file.write(\"\")\n",
    "\n",
    "#         # #####################################################\n",
    "#         # Remove directory\n",
    "#         if dir_exists and dft_clean_already_exists:\n",
    "#             print(\"Removing: \", path_i, sep=\"\")\n",
    "#             shutil.rmtree(path_i)"
   ]
  },
  {
   "cell_type": "raw",
   "metadata": {},
   "source": [
    "\n",
    "\n"
   ]
  },
  {
   "cell_type": "code",
   "execution_count": 31,
   "metadata": {
    "jupyter": {
     "source_hidden": true
    }
   },
   "outputs": [],
   "source": [
    "# # row_anal_i = df_jobs_anal.loc[\n",
    "# #     compenv_i, slab_id_i, ads_i, active_site_i, att_num_i]\n",
    "\n",
    "# in_index = df_jobs_anal.index.isin(\n",
    "#     [(compenv_i, slab_id_i, ads_i, active_site_i, att_num_i)]).any()"
   ]
  }
 ],
 "metadata": {
  "jupytext": {
   "formats": "ipynb,py:light"
  },
  "kernelspec": {
   "display_name": "Python [conda env:PROJ_irox_oer] *",
   "language": "python",
   "name": "conda-env-PROJ_irox_oer-py"
  },
  "language_info": {
   "codemirror_mode": {
    "name": "ipython",
    "version": 3
   },
   "file_extension": ".py",
   "mimetype": "text/x-python",
   "name": "python",
   "nbconvert_exporter": "python",
   "pygments_lexer": "ipython3",
   "version": "3.6.11"
  }
 },
 "nbformat": 4,
 "nbformat_minor": 4
}
