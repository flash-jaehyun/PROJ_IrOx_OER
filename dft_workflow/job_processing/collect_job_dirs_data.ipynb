{
 "cells": [
  {
   "cell_type": "markdown",
   "metadata": {},
   "source": [
    "# Collect/Collate Job Directory Data\n",
    "---\n",
    "\n",
    "Collect all DFT slab data dataframes from the clusters and collates them together"
   ]
  },
  {
   "cell_type": "markdown",
   "metadata": {},
   "source": [
    "# Import Modules"
   ]
  },
  {
   "cell_type": "code",
   "execution_count": 1,
   "metadata": {},
   "outputs": [
    {
     "name": "stdout",
     "output_type": "stream",
     "text": [
      "/home/raulf2012/Dropbox/01_norskov/00_git_repos/PROJ_IrOx_OER/dft_workflow/job_processing\n"
     ]
    }
   ],
   "source": [
    "import os\n",
    "print(os.getcwd())\n",
    "import sys\n",
    "\n",
    "import csv\n",
    "import pickle\n",
    "from pathlib import Path\n",
    "\n",
    "import numpy as np\n",
    "import pandas as pd\n",
    "pd.options.mode.chained_assignment = None  # default='warn'\n",
    "\n",
    "# #########################################################\n",
    "from methods import (\n",
    "    get_df_slab_ids,\n",
    "    get_slab_id,\n",
    "    get_df_job_ids,\n",
    "    get_job_id,\n",
    "    )\n",
    "\n",
    "# #########################################################\n",
    "from misc_modules.misc_methods import GetUniqueFriendlyID"
   ]
  },
  {
   "cell_type": "markdown",
   "metadata": {},
   "source": [
    "# Script Inputs"
   ]
  },
  {
   "cell_type": "code",
   "execution_count": 2,
   "metadata": {},
   "outputs": [],
   "source": [
    "verbose = False\n",
    "# verbose = True"
   ]
  },
  {
   "cell_type": "markdown",
   "metadata": {},
   "source": [
    "# Read Data"
   ]
  },
  {
   "cell_type": "code",
   "execution_count": 3,
   "metadata": {
    "lines_to_next_cell": 2
   },
   "outputs": [],
   "source": [
    "df_job_ids = get_df_job_ids()"
   ]
  },
  {
   "cell_type": "markdown",
   "metadata": {},
   "source": [
    "# Parse `df_jobs_base` files"
   ]
  },
  {
   "cell_type": "code",
   "execution_count": 4,
   "metadata": {},
   "outputs": [],
   "source": [
    "root_dir = os.path.join(\n",
    "    os.environ[\"PROJ_irox_oer\"],\n",
    "    \"dft_workflow/job_processing\",\n",
    "    \"out_data\")\n",
    "\n",
    "compenvs = [\n",
    "    \"nersc\",\n",
    "    \"sherlock\",\n",
    "    \"slac\",\n",
    "    \"wsl\",\n",
    "    ]\n",
    "\n",
    "df_list = []\n",
    "for compenv_i in compenvs:\n",
    "    file_i = \"df_jobs_base_\" + compenv_i + \".pickle\"\n",
    "    my_file = Path(os.path.join(root_dir, file_i))\n",
    "    if my_file.is_file():\n",
    "\n",
    "        # #################################################\n",
    "        path_i = os.path.join(\n",
    "            my_file._str)\n",
    "        with open(path_i, \"rb\") as fle:\n",
    "            df_i = pickle.load(fle)\n",
    "        # #################################################\n",
    "\n",
    "        df_i[\"compenv_origin\"] = compenv_i\n",
    "\n",
    "        df_list.append(df_i)\n",
    "\n",
    "df_comb = pd.concat(df_list, axis=0)\n",
    "df_comb = df_comb.reset_index(drop=True)\n",
    "\n",
    "# Change type of `num_revs` to int\n",
    "df_comb.num_revs = df_comb.num_revs.astype(\"int\")\n",
    "\n",
    "df_jobs = df_comb"
   ]
  },
  {
   "cell_type": "code",
   "execution_count": 7,
   "metadata": {},
   "outputs": [],
   "source": [
    "from misc_modules.pandas_methods import reorder_df_columns\n",
    "\n",
    "df_jobs = reorder_df_columns([\"compenv\", \"compenv_origin\"], df_jobs)"
   ]
  },
  {
   "cell_type": "code",
   "execution_count": 11,
   "metadata": {
    "lines_to_next_cell": 0
   },
   "outputs": [],
   "source": [
    "df_slab_ids = get_df_slab_ids()\n",
    "\n",
    "slab_ids = []\n",
    "for bulk_id_i, facet_i in zip(df_jobs.bulk_id.tolist(), df_jobs.facet.tolist()):\n",
    "    slab_id_i = get_slab_id(bulk_id_i, facet_i, df_slab_ids)\n",
    "    slab_ids.append(slab_id_i)\n",
    "df_jobs[\"slab_id\"] = slab_ids\n",
    "\n",
    "#| - Reorder DataFrame columns\n",
    "from misc_modules.pandas_methods import reorder_df_columns\n",
    "\n",
    "df_cols = [\n",
    "    \"compenv\",\n",
    "    \"bulk_id\",\n",
    "    \"slab_id\",\n",
    "    \"facet\",\n",
    "    \"ads\",\n",
    "    \"active_site\",\n",
    "\n",
    "    \"num_revs\",\n",
    "    \"att_num\",\n",
    "    \"rev_num\",\n",
    "    \"is_rev_dir\",\n",
    "    \"is_attempt_dir\",\n",
    "\n",
    "    # Paths\n",
    "    \"path_job_root\",\n",
    "    \"path_job_root_w_att_rev\",\n",
    "    \"path_full\",\n",
    "    \"path_rel_to_proj\",\n",
    "    \"path_job_root_w_att\",\n",
    "    \"gdrive_path\",\n",
    "    ]\n",
    "\n",
    "df_jobs = reorder_df_columns(df_cols, df_jobs)\n",
    "#__|"
   ]
  },
  {
   "cell_type": "markdown",
   "metadata": {},
   "source": [
    "# Remove duplicates from gathering form local and cluster systems"
   ]
  },
  {
   "cell_type": "code",
   "execution_count": 16,
   "metadata": {},
   "outputs": [],
   "source": [
    "df_jobs[\"active_site\"] = df_jobs.active_site.fillna(\"NaN\")\n",
    "\n",
    "series_list = []\n",
    "grouped = df_jobs.groupby([\n",
    "    \"compenv\", \"bulk_id\", \"slab_id\", \"facet\",\n",
    "    \"ads\", \"active_site\", \"att_num\", \"rev_num\", ])\n",
    "for name, group in grouped:\n",
    "    tmp = 42\n",
    "\n",
    "    df_i = group\n",
    "    if df_i.shape[0] > 1:\n",
    "        # break\n",
    "\n",
    "        df_i_2 = df_i[df_i.compenv == df_i.compenv_origin]\n",
    "\n",
    "        mess_i = \"Hopefully this parses it down to one row\"\n",
    "        assert df_i_2.shape[0] == 1, mess_i\n",
    "\n",
    "        series_i = df_i_2.iloc[0]\n",
    "    elif df_i.shape[0] == 1:\n",
    "        series_i = df_i.iloc[0]\n",
    "    else:\n",
    "        print(\"Not good\")\n",
    "\n",
    "    series_list.append(series_i)\n",
    "\n",
    "df_jobs = pd.DataFrame(series_list)"
   ]
  },
  {
   "cell_type": "markdown",
   "metadata": {},
   "source": [
    "# Creating job ids data"
   ]
  },
  {
   "cell_type": "code",
   "execution_count": 18,
   "metadata": {},
   "outputs": [],
   "source": [
    "job_ids_list = []\n",
    "used_ids = set(df_job_ids.job_id.tolist())\n",
    "data_dict_list = []\n",
    "df_i = df_jobs[[\n",
    "    \"compenv\", \"bulk_id\", \"slab_id\",\n",
    "    \"facet\", \"att_num\", \"rev_num\", \"ads\", \"active_site\", ]]\n",
    "for index_i, row_i in df_i.iterrows():\n",
    "    data_dict_i = dict()\n",
    "\n",
    "    data_dict_i.update(row_i.to_dict())\n",
    "    # #####################################################\n",
    "    compenv = row_i.compenv\n",
    "    bulk_id = row_i.bulk_id\n",
    "    slab_id = row_i.slab_id\n",
    "    facet = row_i.facet\n",
    "    att_num = row_i.att_num\n",
    "    rev_num = row_i.rev_num\n",
    "    ads = row_i.ads\n",
    "    active_site = row_i.active_site\n",
    "    # #####################################################\n",
    "\n",
    "    if verbose:\n",
    "        print(40 * \"=\")\n",
    "        # print(compenv, bulk_id, slab_id, att_num, rev_num, ads, active_site)\n",
    "\n",
    "    job_id_i = get_job_id(\n",
    "        compenv, bulk_id, slab_id, facet, att_num,\n",
    "        rev_num, ads, active_site, df_job_ids=df_job_ids)\n",
    "\n",
    "\n",
    "    if job_id_i is None:\n",
    "        print(\"Not good\")\n",
    "        job_id_i = GetUniqueFriendlyID(used_ids)\n",
    "        used_ids.add(job_id_i)\n",
    "\n",
    "    data_dict_i[\"job_id\"] = job_id_i\n",
    "\n",
    "    # data_dict_i[\"facet\"] = \"temp (\" + str(facet) + \")\"\n",
    "\n",
    "    data_dict_list.append(data_dict_i)\n",
    "    job_ids_list.append(job_id_i)\n",
    "\n",
    "\n",
    "# #########################################################\n",
    "df_job_ids_new = pd.DataFrame(data_dict_list)\n",
    "\n",
    "path_i = os.path.join(\n",
    "    os.environ[\"PROJ_irox_oer\"],\n",
    "    \"dft_workflow/job_processing\",\n",
    "    \"out_data/job_id_mapping.csv\")\n",
    "    # \"out_data/job_id_mapping_1.csv\")\n",
    "df_job_ids_new.to_csv(\n",
    "    path_i,\n",
    "    index=False,\n",
    "    quoting=csv.QUOTE_NONNUMERIC,\n",
    "    na_rep=\"NULL\",\n",
    "    )\n",
    "\n",
    "df_jobs[\"job_id\"] = job_ids_list"
   ]
  },
  {
   "cell_type": "code",
   "execution_count": 25,
   "metadata": {},
   "outputs": [],
   "source": [
    "from misc_modules.pandas_methods import reorder_df_columns\n",
    "\n",
    "df_jobs = reorder_df_columns([\"bulk_id\", \"slab_id\", \"job_id\", \"facet\", \"compenv\", ], df_jobs)\n",
    "\n",
    "# Set index to `job_id`\n",
    "df_jobs = df_jobs.set_index(\"job_id\", drop=False)"
   ]
  },
  {
   "cell_type": "code",
   "execution_count": 26,
   "metadata": {},
   "outputs": [],
   "source": [
    "#| - Adding short path column\n",
    "def method(row_i):\n",
    "    \"\"\"\n",
    "    \"\"\"\n",
    "    path_job_root_w_att_rev = row_i.path_job_root_w_att_rev\n",
    "\n",
    "    new_path_list = []\n",
    "    start_adding = False; start_adding_ind = None\n",
    "    for i_cnt, i in enumerate(path_job_root_w_att_rev.split(\"/\")):\n",
    "        if i == \"dft_jobs\":\n",
    "            start_adding = True\n",
    "            start_adding_ind = i_cnt\n",
    "        if start_adding and i_cnt > start_adding_ind:\n",
    "            new_path_list.append(i)\n",
    "\n",
    "    path_short_i = \"/\".join(new_path_list)\n",
    "\n",
    "    return(path_short_i)\n",
    "\n",
    "df_i = df_jobs\n",
    "df_i[\"path_short\"] = df_i.apply(method, axis=1)\n",
    "df_jobs = df_i\n",
    "#__|"
   ]
  },
  {
   "cell_type": "markdown",
   "metadata": {},
   "source": [
    "# Create `df_jobs_paths`"
   ]
  },
  {
   "cell_type": "code",
   "execution_count": 27,
   "metadata": {},
   "outputs": [],
   "source": [
    "path_cols = [i for i in df_jobs.columns.tolist() if \"path\" in i]\n",
    "\n",
    "cols = [\"compenv\", \"compenv_origin\", ] + path_cols\n",
    "df_jobs_paths = df_jobs[cols]"
   ]
  },
  {
   "cell_type": "code",
   "execution_count": 28,
   "metadata": {},
   "outputs": [],
   "source": [
    "# #########################################################\n",
    "df_jobs = df_jobs.drop(\n",
    "    columns=path_cols,\n",
    "    )\n",
    "\n",
    "# #########################################################\n",
    "cols_to_drop = [\n",
    "    \"is_rev_dir\",\n",
    "    \"is_attempt_dir\",\n",
    "    ]\n",
    "\n",
    "# #########################################################\n",
    "df_jobs = df_jobs.drop(columns=cols_to_drop)\n",
    "\n",
    "# #########################################################\n",
    "# Sorting dataframe\n",
    "sort_list = [\"compenv\", \"bulk_id\", \"slab_id\", \"att_num\", \"rev_num\", \"ads\", \"active_site\"]\n",
    "df_jobs = df_jobs.sort_values(sort_list)"
   ]
  },
  {
   "cell_type": "code",
   "execution_count": 29,
   "metadata": {},
   "outputs": [],
   "source": [
    "# Pickling data ###########################################\n",
    "directory = os.path.join(\n",
    "    os.environ[\"PROJ_irox_oer\"],\n",
    "    \"dft_workflow/job_processing\",\n",
    "    \"out_data\")\n",
    "if not os.path.exists(directory): os.makedirs(directory)\n",
    "with open(os.path.join(directory, \"df_jobs_combined.pickle\"), \"wb\") as fle:\n",
    "    pickle.dump(df_jobs, fle)\n",
    "# #########################################################"
   ]
  },
  {
   "cell_type": "code",
   "execution_count": 30,
   "metadata": {},
   "outputs": [],
   "source": [
    "# Pickling data ###########################################\n",
    "directory = os.path.join(\n",
    "    os.environ[\"PROJ_irox_oer\"],\n",
    "    \"dft_workflow/job_processing\",\n",
    "    \"out_data\")\n",
    "if not os.path.exists(directory): os.makedirs(directory)\n",
    "with open(os.path.join(directory, \"df_jobs_paths.pickle\"), \"wb\") as fle:\n",
    "    pickle.dump(df_jobs_paths, fle)\n",
    "# #########################################################"
   ]
  },
  {
   "cell_type": "code",
   "execution_count": 31,
   "metadata": {},
   "outputs": [],
   "source": [
    "if verbose:\n",
    "    print(\"df_jobs.shape:\", df_jobs.shape)"
   ]
  },
  {
   "cell_type": "code",
   "execution_count": 32,
   "metadata": {},
   "outputs": [
    {
     "name": "stdout",
     "output_type": "stream",
     "text": [
      "# # # # # # # # # # # # # # # # # # # # # # # # # # # # # # # # # # # # # # # # \n",
      "All done!\n",
      "collect_job_dirs_data.ipynb\n",
      "# # # # # # # # # # # # # # # # # # # # # # # # # # # # # # # # # # # # # # # # \n"
     ]
    }
   ],
   "source": [
    "# #########################################################\n",
    "print(20 * \"# # \")\n",
    "print(\"All done!\")\n",
    "print(\"collect_job_dirs_data.ipynb\")\n",
    "print(20 * \"# # \")\n",
    "# assert False\n",
    "# #########################################################"
   ]
  }
 ],
 "metadata": {
  "jupytext": {
   "formats": "ipynb,py:light"
  },
  "kernelspec": {
   "display_name": "Python [conda env:PROJ_irox_oer] *",
   "language": "python",
   "name": "conda-env-PROJ_irox_oer-py"
  },
  "language_info": {
   "codemirror_mode": {
    "name": "ipython",
    "version": 3
   },
   "file_extension": ".py",
   "mimetype": "text/x-python",
   "name": "python",
   "nbconvert_exporter": "python",
   "pygments_lexer": "ipython3",
   "version": "3.6.11"
  }
 },
 "nbformat": 4,
 "nbformat_minor": 4
}
