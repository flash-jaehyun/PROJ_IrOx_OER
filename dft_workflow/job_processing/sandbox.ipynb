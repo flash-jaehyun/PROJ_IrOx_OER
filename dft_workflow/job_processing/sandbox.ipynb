{
 "cells": [
  {
   "cell_type": "code",
   "execution_count": 1,
   "metadata": {},
   "outputs": [
    {
     "name": "stdout",
     "output_type": "stream",
     "text": [
      "/home/raulf2012/Dropbox/01_norskov/00_git_repos/PROJ_IrOx_OER/dft_workflow/job_processing\n"
     ]
    }
   ],
   "source": [
    "import os\n",
    "print(os.getcwd())\n",
    "import sys"
   ]
  },
  {
   "cell_type": "code",
   "execution_count": 2,
   "metadata": {},
   "outputs": [],
   "source": [
    "from local_methods import parse_job_err"
   ]
  },
  {
   "cell_type": "code",
   "execution_count": 3,
   "metadata": {},
   "outputs": [],
   "source": [
    "#| - Import Modules\n",
    "import os\n",
    "import sys\n",
    "\n",
    "import time\n",
    "import pickle\n",
    "import subprocess\n",
    "from pathlib import Path\n",
    "\n",
    "# from contextlib import contextmanager\n",
    "\n",
    "import numpy as np\n",
    "\n",
    "from ase import io\n",
    "\n",
    "# #########################################################\n",
    "from vasp.vasp_methods import parse_incar, read_incar\n",
    "from vasp.parse_oszicar import parse_oszicar\n",
    "# from vasp.vasp_methods import\n",
    "\n",
    "# #########################################################\n",
    "from dft_job_automat.compute_env import ComputerCluster\n",
    "\n",
    "# #########################################################\n",
    "from proj_data import compenv\n",
    "from methods import temp_job_test, cwd\n",
    "#__|"
   ]
  },
  {
   "cell_type": "code",
   "execution_count": 4,
   "metadata": {},
   "outputs": [],
   "source": [
    "path_full_i = \"/home/raulf2012/rclone_temp/PROJ_irox_oer/dft_workflow/run_slabs/run_o_covered/out_data/dft_jobs/slac/v2blxebixh/100/01_attempt/_01\"\n",
    "compenv_i = \"slac\""
   ]
  },
  {
   "cell_type": "code",
   "execution_count": 5,
   "metadata": {},
   "outputs": [
    {
     "name": "stdout",
     "output_type": "stream",
     "text": [
      "TEMP 00\n"
     ]
    }
   ],
   "source": [
    "path = path_full_i\n",
    "compenv = compenv_i\n",
    "\n",
    "# def parse_job_err(path, compenv=None):\n",
    "#     \"\"\"\n",
    "#     \"\"\"\n",
    "#| - parse_job_err\n",
    "# print(path)\n",
    "\n",
    "status_dict = {\n",
    "    \"timed_out\": None,\n",
    "    \"error\": None,\n",
    "    \"error_type\": None,\n",
    "    \"brmix_issue\": None,\n",
    "    }\n",
    "\n",
    "if compenv is None:\n",
    "    compenv = os.environ[\"COMPENV\"]\n",
    "\n",
    "\n",
    "# | - Parsing SLAC job\n",
    "print(\"TEMP 00\")\n",
    "if compenv == \"slac\":\n",
    "    job_out_file_path = os.path.join(path, \"job.out\")\n",
    "    my_file = Path(job_out_file_path)\n",
    "    if my_file.is_file():\n",
    "        with open(job_out_file_path, 'r') as f:\n",
    "            lines = f.readlines()\n",
    "\n",
    "        # print(\"This spot here now 0\")\n",
    "\n",
    "        for line in lines:\n",
    "            if \"job killed after reaching LSF run time limit\" in line:\n",
    "                # print(\"Found following line in job.err\")\n",
    "                # print(\"job killed after reaching LSF run time limit\")\n",
    "                status_dict[\"timed_out\"] = True\n",
    "                break\n",
    "#__|\n",
    "\n",
    "# | - Parsing error file\n",
    "job_err_file_path = os.path.join(path, \"job.err\")\n",
    "my_file = Path(job_err_file_path)\n",
    "if my_file.is_file():\n",
    "    with open(job_err_file_path, 'r') as f:\n",
    "        lines = f.readlines()\n",
    "\n",
    "    # else:\n",
    "    for line in lines:\n",
    "        if \"DUE TO TIME LIMIT\" in line:\n",
    "            status_dict[\"timed_out\"] = True\n",
    "\n",
    "        if \"Traceback (most recent call last):\" in line:\n",
    "            status_dict[\"error\"] = True\n",
    "\n",
    "        if \"ValueError: could not convert string to float\" in line:\n",
    "            status_dict[\"error\"] = True\n",
    "            status_dict[\"error_type\"] = \"calculation blown up\"\n",
    "\n",
    "#__|\n",
    "\n",
    "\n",
    "# | - Parsing out file\n",
    "\n",
    "#| - old parser here, keeping for now\n",
    "if status_dict[\"error\"] is True:\n",
    "    job_out_file_path = os.path.join(path, \"job.out\")\n",
    "    my_file = Path(job_out_file_path)\n",
    "    if my_file.is_file():\n",
    "        with open(job_out_file_path, 'r') as f:\n",
    "            lines = f.readlines()\n",
    "\n",
    "        for line in lines:\n",
    "            err_i = \"VERY BAD NEWS! internal error in subroutine SGRCON:\"\n",
    "            if err_i in line:\n",
    "                status_dict[\"error_type\"] = \"Error in SGRCON (symm error)\"\n",
    "                break\n",
    "#__|\n",
    "\n",
    "\n",
    "my_file_0 = Path(os.path.join(path, \"job.out\"))\n",
    "my_file_1 = Path(os.path.join(path, \"job.out.short\"))\n",
    "if my_file_0.is_file():\n",
    "    job_out_file = my_file_0\n",
    "elif my_file_1.is_file():\n",
    "    job_out_file = my_file_1\n",
    "else:\n",
    "    job_out_file = None\n",
    "\n",
    "if job_out_file is not None:\n",
    "    with open(job_out_file, 'r') as f:\n",
    "        lines = f.readlines()\n",
    "\n",
    "    #| - Checking for BRMIX error\n",
    "    for line in lines:\n",
    "        err_i = \"BRMIX: very serious problems\"\n",
    "        if err_i in line:\n",
    "            status_dict[\"brmix_issue\"] = True\n",
    "            status_dict[\"error\"] = True\n",
    "            # break\n",
    "    #__|\n",
    "\n",
    "#__|\n",
    "\n",
    "\n",
    "# return(status_dict)\n",
    "#__|"
   ]
  },
  {
   "cell_type": "code",
   "execution_count": 6,
   "metadata": {},
   "outputs": [
    {
     "data": {
      "text/plain": [
       "{'timed_out': True, 'error': None, 'error_type': None, 'brmix_issue': None}"
      ]
     },
     "execution_count": 6,
     "metadata": {},
     "output_type": "execute_result"
    }
   ],
   "source": [
    "status_dict"
   ]
  },
  {
   "cell_type": "code",
   "execution_count": 7,
   "metadata": {},
   "outputs": [],
   "source": [
    "# parse_job_err(path_full_i, compenv=compenv_i)"
   ]
  },
  {
   "cell_type": "code",
   "execution_count": 8,
   "metadata": {},
   "outputs": [
    {
     "ename": "AssertionError",
     "evalue": "",
     "output_type": "error",
     "traceback": [
      "\u001b[0;31m---------------------------------------------------------------------------\u001b[0m",
      "\u001b[0;31mAssertionError\u001b[0m                            Traceback (most recent call last)",
      "\u001b[0;32m<ipython-input-8-a871fdc9ebee>\u001b[0m in \u001b[0;36m<module>\u001b[0;34m\u001b[0m\n\u001b[0;32m----> 1\u001b[0;31m \u001b[0;32massert\u001b[0m \u001b[0;32mFalse\u001b[0m\u001b[0;34m\u001b[0m\u001b[0;34m\u001b[0m\u001b[0m\n\u001b[0m",
      "\u001b[0;31mAssertionError\u001b[0m: "
     ]
    }
   ],
   "source": [
    "assert False"
   ]
  },
  {
   "cell_type": "raw",
   "metadata": {},
   "source": [
    "\n",
    "\n",
    "\n",
    "\n",
    "\n",
    "\n"
   ]
  },
  {
   "cell_type": "code",
   "execution_count": null,
   "metadata": {
    "jupyter": {
     "source_hidden": true
    }
   },
   "outputs": [],
   "source": [
    "from local_methods import temp_job_test\n",
    "\n",
    "temp_job_test()"
   ]
  }
 ],
 "metadata": {
  "jupytext": {
   "formats": "ipynb,py:light"
  },
  "kernelspec": {
   "display_name": "Python [conda env:PROJ_irox_oer] *",
   "language": "python",
   "name": "conda-env-PROJ_irox_oer-py"
  },
  "language_info": {
   "codemirror_mode": {
    "name": "ipython",
    "version": 3
   },
   "file_extension": ".py",
   "mimetype": "text/x-python",
   "name": "python",
   "nbconvert_exporter": "python",
   "pygments_lexer": "ipython3",
   "version": "3.6.11"
  }
 },
 "nbformat": 4,
 "nbformat_minor": 4
}
