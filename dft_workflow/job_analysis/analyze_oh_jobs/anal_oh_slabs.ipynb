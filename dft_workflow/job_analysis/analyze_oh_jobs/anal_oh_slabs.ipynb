{
 "cells": [
  {
   "cell_type": "markdown",
   "metadata": {},
   "source": [
    "# Analyze *OH slab job sets\n",
    "---"
   ]
  },
  {
   "cell_type": "markdown",
   "metadata": {},
   "source": [
    "# Import Modules"
   ]
  },
  {
   "cell_type": "code",
   "execution_count": 1,
   "metadata": {},
   "outputs": [
    {
     "name": "stdout",
     "output_type": "stream",
     "text": [
      "/home/raulf2012/Dropbox/01_norskov/00_git_repos/PROJ_IrOx_OER/dft_workflow/job_analysis/analyze_oh_jobs\n"
     ]
    }
   ],
   "source": [
    "import os\n",
    "print(os.getcwd())\n",
    "import sys\n",
    "\n",
    "import numpy as np\n",
    "import pandas as pd\n",
    "\n",
    "# #########################################################\n",
    "from methods import get_df_jobs\n",
    "from methods import get_df_jobs_anal\n",
    "from methods import get_df_jobs_data"
   ]
  },
  {
   "cell_type": "markdown",
   "metadata": {},
   "source": [
    "# Read Data"
   ]
  },
  {
   "cell_type": "code",
   "execution_count": 2,
   "metadata": {},
   "outputs": [],
   "source": [
    "df_jobs = get_df_jobs()\n",
    "\n",
    "df_jobs_anal = get_df_jobs_anal()\n",
    "\n",
    "df_jobs_data = get_df_jobs_data()"
   ]
  },
  {
   "cell_type": "code",
   "execution_count": 3,
   "metadata": {},
   "outputs": [],
   "source": [
    "df_jobs_anal_i = df_jobs_anal[df_jobs_anal.job_completely_done == True]\n",
    "\n",
    "df_index_i = df_jobs_anal_i.index.to_frame()\n",
    "\n",
    "# df_index_i = df_index_i[df_index_i.ads != \"o\"]\n",
    "df_index_i = df_index_i[df_index_i.ads == \"oh\"]\n",
    "\n",
    "df_jobs_anal_i = df_jobs_anal_i.loc[\n",
    "    df_index_i.index \n",
    "    ]"
   ]
  },
  {
   "cell_type": "code",
   "execution_count": 4,
   "metadata": {},
   "outputs": [
    {
     "data": {
      "text/plain": [
       "MultiIndex([('slac', 'fagumoha_68', 'oh', 62.0, 1),\n",
       "            ('slac', 'fagumoha_68', 'oh', 62.0, 3)],\n",
       "           names=['compenv', 'slab_id', 'ads', 'active_site', 'att_num'])"
      ]
     },
     "execution_count": 4,
     "metadata": {},
     "output_type": "execute_result"
    }
   ],
   "source": [
    "# # ('slac', 'fagumoha_68', 62.0)\n",
    "\n",
    "# compenv_i = \"slac\"\n",
    "# slab_id_i = \"fagumoha_68\"\n",
    "# active_site_i = 62.\n",
    "\n",
    "# # df_jobs_oh_anal_tmp[\n",
    "# #     (df_jobs_oh_anal_tmp.compenv == compenv_i) & \\\n",
    "# #     (df_jobs_oh_anal_tmp.slab_id == slab_id_i) & \\\n",
    "# #     (df_jobs_oh_anal_tmp.active_site == active_site_i) & \\\n",
    "# #     [True for i in range(len(df_jobs_oh_anal_tmp))]\n",
    "# #     ]\n",
    "\n",
    "# # df_jobs_anal_i.loc[(compenv_i, slab_id_i, )]\n",
    "\n",
    "# df_index_i = df_jobs_anal_i.index.to_frame()\n",
    "\n",
    "# df_index_i[\n",
    "#     (df_index_i.compenv == compenv_i) & \\\n",
    "#     (df_index_i.slab_id == slab_id_i) & \\\n",
    "#     (df_index_i.active_site == active_site_i) & \\\n",
    "#     [True for i in range(len(df_index_i))]\n",
    "#     ].index\n",
    "\n",
    "# # #########################################################\n",
    "# # df_index_i = df_jobs_anal.index.to_frame()\n",
    "\n",
    "# # df_index_i[\n",
    "# #     (df_index_i.compenv == compenv_i) & \\\n",
    "# #     (df_index_i.slab_id == slab_id_i) & \\\n",
    "# # #     (df_index_i.active_site == active_site_i) & \\\n",
    "# #     [True for i in range(len(df_index_i))]\n",
    "# #     ]"
   ]
  },
  {
   "cell_type": "code",
   "execution_count": 5,
   "metadata": {},
   "outputs": [],
   "source": [
    "# print(\"TEMP\")\n",
    "\n",
    "# # sherlock\tkenukami_73\t84.0\t\n",
    "# compenv_i =  \"sherlock\"\n",
    "# slab_id_i = \"kenukami_73\"\n",
    "# active_site_i = 84.0\n",
    "\n",
    "# df_index_i = df_jobs_anal_i.index.to_frame()\n",
    "# df_index_i = df_index_i[\n",
    "#     (df_index_i.compenv == compenv_i) & \\\n",
    "#     (df_index_i.slab_id == slab_id_i) & \\\n",
    "#     (df_index_i.active_site == active_site_i) & \\\n",
    "#     [True for i in range(len(df_index_i))]\n",
    "#     ]\n",
    "\n",
    "# df_jobs_anal_i = df_jobs_anal_i.loc[\n",
    "#     df_index_i.index\n",
    "#     ]"
   ]
  },
  {
   "cell_type": "code",
   "execution_count": 6,
   "metadata": {},
   "outputs": [
    {
     "data": {
      "text/html": [
       "<div>\n",
       "<style scoped>\n",
       "    .dataframe tbody tr th:only-of-type {\n",
       "        vertical-align: middle;\n",
       "    }\n",
       "\n",
       "    .dataframe tbody tr th {\n",
       "        vertical-align: top;\n",
       "    }\n",
       "\n",
       "    .dataframe thead th {\n",
       "        text-align: right;\n",
       "    }\n",
       "</style>\n",
       "<table border=\"1\" class=\"dataframe\">\n",
       "  <thead>\n",
       "    <tr style=\"text-align: right;\">\n",
       "      <th></th>\n",
       "      <th>compenv</th>\n",
       "      <th>slab_id</th>\n",
       "      <th>active_site</th>\n",
       "      <th>all_oh_attempts_done</th>\n",
       "      <th>job_ids_sorted_energy</th>\n",
       "      <th>job_id_most_stable</th>\n",
       "    </tr>\n",
       "  </thead>\n",
       "  <tbody>\n",
       "    <tr>\n",
       "      <th>0</th>\n",
       "      <td>sherlock</td>\n",
       "      <td>fogalonu_46</td>\n",
       "      <td>16.0</td>\n",
       "      <td>False</td>\n",
       "      <td>[rataruha_18, lewudaha_47, marewuhi_22, tikili...</td>\n",
       "      <td>rataruha_18</td>\n",
       "    </tr>\n",
       "    <tr>\n",
       "      <th>1</th>\n",
       "      <td>sherlock</td>\n",
       "      <td>kenukami_73</td>\n",
       "      <td>84.0</td>\n",
       "      <td>True</td>\n",
       "      <td>[gawopigo_86, homimesi_72, dinagiso_25, bapere...</td>\n",
       "      <td>gawopigo_86</td>\n",
       "    </tr>\n",
       "  </tbody>\n",
       "</table>\n",
       "</div>"
      ],
      "text/plain": [
       "    compenv      slab_id  active_site  all_oh_attempts_done  \\\n",
       "0  sherlock  fogalonu_46         16.0                 False   \n",
       "1  sherlock  kenukami_73         84.0                  True   \n",
       "\n",
       "                               job_ids_sorted_energy job_id_most_stable  \n",
       "0  [rataruha_18, lewudaha_47, marewuhi_22, tikili...        rataruha_18  \n",
       "1  [gawopigo_86, homimesi_72, dinagiso_25, bapere...        gawopigo_86  "
      ]
     },
     "execution_count": 6,
     "metadata": {},
     "output_type": "execute_result"
    }
   ],
   "source": [
    "# #########################################################\n",
    "data_dict_list = []\n",
    "# #########################################################\n",
    "grouped = df_jobs_anal_i.groupby([\"compenv\", \"slab_id\", \"active_site\", ])\n",
    "for name, group in grouped:\n",
    "    data_dict_i = dict()\n",
    "    # print(group.shape)\n",
    "\n",
    "    # #####################################################\n",
    "    compenv_i = name[0]\n",
    "    slab_id_i = name[1]\n",
    "    active_site_i = name[2]\n",
    "    # #####################################################\n",
    "\n",
    "    # #####################################################\n",
    "    df_jobs_i = df_jobs[\n",
    "        (df_jobs.compenv == compenv_i) & \\\n",
    "        (df_jobs.slab_id == slab_id_i) & \\\n",
    "        (df_jobs.active_site == active_site_i) & \\\n",
    "        [True for i in range(len(df_jobs))]\n",
    "        ]\n",
    "    # #####################################################\n",
    "    att_nums_all = df_jobs_i.att_num.unique()\n",
    "    # #####################################################\n",
    "\n",
    "    # #####################################################\n",
    "    # Checking if all *OH slabs are finished, should all be done before making decisions\n",
    "    group_index_i = group.index.to_frame()\n",
    "    att_nums_i = group_index_i.att_num.unique()\n",
    "    all_oh_attempts_done = np.array_equal(att_nums_all, att_nums_i)\n",
    "\n",
    "    # #####################################################\n",
    "    df_jobs_data_i = df_jobs_data.loc[group.job_id_max]\n",
    "    df_jobs_data_i = df_jobs_data_i.sort_values(\"pot_e\")\n",
    "    # #####################################################\n",
    "    job_ids_sorted_energy = df_jobs_data_i.job_id.tolist()\n",
    "    job_id_most_stable = job_ids_sorted_energy[0]\n",
    "    # #####################################################\n",
    "\n",
    "\n",
    "\n",
    "    # #####################################################\n",
    "    data_dict_i[\"compenv\"] = compenv_i\n",
    "    data_dict_i[\"slab_id\"] = slab_id_i\n",
    "    data_dict_i[\"active_site\"] = active_site_i\n",
    "    # #####################################################\n",
    "    data_dict_i[\"all_oh_attempts_done\"] = all_oh_attempts_done\n",
    "    data_dict_i[\"job_ids_sorted_energy\"] = job_ids_sorted_energy\n",
    "    data_dict_i[\"job_id_most_stable\"] = job_id_most_stable\n",
    "    # #####################################################\n",
    "    data_dict_list.append(data_dict_i)\n",
    "    # #####################################################\n",
    "\n",
    "# #########################################################\n",
    "df_jobs_oh_anal = pd.DataFrame(data_dict_list)\n",
    "df_jobs_oh_anal.iloc[0:2]"
   ]
  },
  {
   "cell_type": "code",
   "execution_count": 7,
   "metadata": {},
   "outputs": [],
   "source": [
    "# Pickling data ###########################################\n",
    "import os; import pickle\n",
    "directory = os.path.join(\n",
    "    os.environ[\"PROJ_irox_oer\"],\n",
    "    \"dft_workflow/job_analysis/analyze_oh_jobs\",\n",
    "    \"out_data\")\n",
    "if not os.path.exists(directory): os.makedirs(directory)\n",
    "path_i = os.path.join(directory, \"df_jobs_oh_anal.pickle\")\n",
    "with open(path_i, \"wb\") as fle:\n",
    "    pickle.dump(df_jobs_oh_anal, fle)\n",
    "# #########################################################"
   ]
  },
  {
   "cell_type": "code",
   "execution_count": 8,
   "metadata": {},
   "outputs": [
    {
     "data": {
      "text/html": [
       "<div>\n",
       "<style scoped>\n",
       "    .dataframe tbody tr th:only-of-type {\n",
       "        vertical-align: middle;\n",
       "    }\n",
       "\n",
       "    .dataframe tbody tr th {\n",
       "        vertical-align: top;\n",
       "    }\n",
       "\n",
       "    .dataframe thead th {\n",
       "        text-align: right;\n",
       "    }\n",
       "</style>\n",
       "<table border=\"1\" class=\"dataframe\">\n",
       "  <thead>\n",
       "    <tr style=\"text-align: right;\">\n",
       "      <th></th>\n",
       "      <th>compenv</th>\n",
       "      <th>slab_id</th>\n",
       "      <th>active_site</th>\n",
       "      <th>all_oh_attempts_done</th>\n",
       "      <th>job_ids_sorted_energy</th>\n",
       "      <th>job_id_most_stable</th>\n",
       "    </tr>\n",
       "  </thead>\n",
       "  <tbody>\n",
       "    <tr>\n",
       "      <th>0</th>\n",
       "      <td>sherlock</td>\n",
       "      <td>fogalonu_46</td>\n",
       "      <td>16.0</td>\n",
       "      <td>False</td>\n",
       "      <td>[rataruha_18, lewudaha_47, marewuhi_22, tikili...</td>\n",
       "      <td>rataruha_18</td>\n",
       "    </tr>\n",
       "    <tr>\n",
       "      <th>1</th>\n",
       "      <td>sherlock</td>\n",
       "      <td>kenukami_73</td>\n",
       "      <td>84.0</td>\n",
       "      <td>True</td>\n",
       "      <td>[gawopigo_86, homimesi_72, dinagiso_25, bapere...</td>\n",
       "      <td>gawopigo_86</td>\n",
       "    </tr>\n",
       "  </tbody>\n",
       "</table>\n",
       "</div>"
      ],
      "text/plain": [
       "    compenv      slab_id  active_site  all_oh_attempts_done  \\\n",
       "0  sherlock  fogalonu_46         16.0                 False   \n",
       "1  sherlock  kenukami_73         84.0                  True   \n",
       "\n",
       "                               job_ids_sorted_energy job_id_most_stable  \n",
       "0  [rataruha_18, lewudaha_47, marewuhi_22, tikili...        rataruha_18  \n",
       "1  [gawopigo_86, homimesi_72, dinagiso_25, bapere...        gawopigo_86  "
      ]
     },
     "execution_count": 8,
     "metadata": {},
     "output_type": "execute_result"
    }
   ],
   "source": [
    "from methods import get_df_jobs_oh_anal\n",
    "\n",
    "df_jobs_oh_anal_tmp = get_df_jobs_oh_anal()\n",
    "df_jobs_oh_anal_tmp.iloc[0:2]"
   ]
  },
  {
   "cell_type": "code",
   "execution_count": null,
   "metadata": {},
   "outputs": [],
   "source": [
    "# #########################################################\n",
    "print(20 * \"# # \")\n",
    "print(\"All done!\")\n",
    "print(\"analyse_jobs.ipynb\")\n",
    "print(20 * \"# # \")\n",
    "# assert False\n",
    "# #########################################################"
   ]
  },
  {
   "cell_type": "raw",
   "metadata": {},
   "source": [
    "\n",
    "\n"
   ]
  },
  {
   "cell_type": "code",
   "execution_count": 9,
   "metadata": {
    "jupyter": {
     "source_hidden": true
    }
   },
   "outputs": [],
   "source": [
    "# all_oh_attempts_done = \n",
    "# np.array_equal(att_nums_all, att_nums_i)\n",
    "\n",
    "# att_nums_i\n",
    "# att_nums_all"
   ]
  },
  {
   "cell_type": "code",
   "execution_count": 10,
   "metadata": {
    "jupyter": {
     "source_hidden": true
    }
   },
   "outputs": [],
   "source": [
    "# # #########################################################\n",
    "# import pickle; import os\n",
    "# directory = os.path.join(\n",
    "#     os.environ[\"PROJ_irox_oer\"],\n",
    "#     \"dft_workflow/job_analysis/analyze_oh_jobs\",\n",
    "#     \"out_data\")\n",
    "# path_i = os.path.join(directory, \"df_jobs_oh_anal.pickle\")\n",
    "# with open(path_i, \"rb\") as fle:\n",
    "#     df_jobs_oh_anal = pickle.load(fle)\n",
    "# # #########################################################"
   ]
  },
  {
   "cell_type": "code",
   "execution_count": 11,
   "metadata": {
    "jupyter": {
     "source_hidden": true
    }
   },
   "outputs": [],
   "source": [
    "# group.job_id_max.tolist()"
   ]
  }
 ],
 "metadata": {
  "jupytext": {
   "formats": "ipynb,py:light"
  },
  "kernelspec": {
   "display_name": "Python [conda env:PROJ_irox_oer] *",
   "language": "python",
   "name": "conda-env-PROJ_irox_oer-py"
  },
  "language_info": {
   "codemirror_mode": {
    "name": "ipython",
    "version": 3
   },
   "file_extension": ".py",
   "mimetype": "text/x-python",
   "name": "python",
   "nbconvert_exporter": "python",
   "pygments_lexer": "ipython3",
   "version": "3.6.11"
  }
 },
 "nbformat": 4,
 "nbformat_minor": 4
}
