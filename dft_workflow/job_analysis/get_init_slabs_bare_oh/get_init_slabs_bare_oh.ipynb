{
 "cells": [
  {
   "cell_type": "markdown",
   "metadata": {},
   "source": [
    "# Extract the initial atoms objects for the bare and *OH slabs\n",
    "---"
   ]
  },
  {
   "cell_type": "markdown",
   "metadata": {},
   "source": [
    "# Import Modules"
   ]
  },
  {
   "cell_type": "code",
   "execution_count": 1,
   "metadata": {
    "jupyter": {
     "source_hidden": true
    }
   },
   "outputs": [
    {
     "name": "stdout",
     "output_type": "stream",
     "text": [
      "/home/raulf2012/Dropbox/01_norskov/00_git_repos/PROJ_IrOx_OER/dft_workflow/job_analysis/get_init_slabs_bare_oh\n"
     ]
    }
   ],
   "source": [
    "import os\n",
    "print(os.getcwd())\n",
    "import sys\n",
    "\n",
    "from IPython.display import display\n",
    "\n",
    "import pandas as pd\n",
    "pd.set_option(\"display.max_columns\", None)\n",
    "pd.options.display.max_colwidth = 20\n",
    "# pd.set_option('display.max_rows', None)\n",
    "\n",
    "# #########################################################\n",
    "from methods import (\n",
    "    get_df_dft,\n",
    "    get_df_job_ids,\n",
    "    get_df_jobs,\n",
    "    get_df_jobs_data,\n",
    "    get_df_slab,\n",
    "    get_df_slab_ids,\n",
    "    get_df_jobs_data_clusters,\n",
    "    get_df_jobs_anal,\n",
    "    get_df_active_sites,\n",
    "    get_df_atoms_sorted_ind,\n",
    "    )"
   ]
  },
  {
   "cell_type": "code",
   "execution_count": 2,
   "metadata": {},
   "outputs": [],
   "source": [
    "# import os\n",
    "import pickle"
   ]
  },
  {
   "cell_type": "markdown",
   "metadata": {},
   "source": [
    "# Read Data"
   ]
  },
  {
   "cell_type": "code",
   "execution_count": 3,
   "metadata": {
    "jupyter": {
     "source_hidden": true
    }
   },
   "outputs": [],
   "source": [
    "df_dft = get_df_dft()\n",
    "\n",
    "df_job_ids = get_df_job_ids()\n",
    "\n",
    "df_jobs = get_df_jobs(exclude_wsl_paths=True)\n",
    "\n",
    "df_jobs_data = get_df_jobs_data(exclude_wsl_paths=True)\n",
    "\n",
    "df_jobs_data_clusters = get_df_jobs_data_clusters()\n",
    "\n",
    "df_slab = get_df_slab()\n",
    "\n",
    "df_slab_ids = get_df_slab_ids()\n",
    "\n",
    "df_jobs_anal = get_df_jobs_anal()\n",
    "\n",
    "df_active_sites = get_df_active_sites()\n",
    "\n",
    "df_atoms_sorted_ind = get_df_atoms_sorted_ind()"
   ]
  },
  {
   "cell_type": "markdown",
   "metadata": {},
   "source": [
    "# Script Inputs"
   ]
  },
  {
   "cell_type": "code",
   "execution_count": 4,
   "metadata": {},
   "outputs": [],
   "source": [
    "verbose = True\n",
    "verbose = False"
   ]
  },
  {
   "cell_type": "code",
   "execution_count": 5,
   "metadata": {},
   "outputs": [],
   "source": [
    "# df_slab"
   ]
  },
  {
   "cell_type": "code",
   "execution_count": 6,
   "metadata": {},
   "outputs": [],
   "source": [
    "# ('compenv', 'nersc')\n",
    "# ('slab_id', 'fosurufu_23')\n",
    "# ('ads', 'o')\n",
    "# ('active_site', 'NaN')\n",
    "# ('att_num', 1)"
   ]
  },
  {
   "cell_type": "code",
   "execution_count": 7,
   "metadata": {},
   "outputs": [],
   "source": [
    "# compenv_i = \"nersc\"\n",
    "# slab_id_i = \"fosurufu_23\"\n",
    "\n",
    "# df_jobs = df_jobs[\n",
    "#     (df_jobs.compenv == compenv_i) & \\\n",
    "#     (df_jobs.slab_id == slab_id_i) & \\\n",
    "#     (df_jobs.ads == \"o\") & \\\n",
    "#     [True for i in range(len(df_jobs))]\n",
    "#     ]"
   ]
  },
  {
   "cell_type": "code",
   "execution_count": 8,
   "metadata": {},
   "outputs": [],
   "source": [
    "# assert False"
   ]
  },
  {
   "cell_type": "code",
   "execution_count": 9,
   "metadata": {},
   "outputs": [],
   "source": [
    "# df_jobs_i = df_jobs[df_jobs.ads == \"bare\"]\n",
    "\n",
    "# #########################################################\n",
    "data_dict_list = []\n",
    "# #########################################################\n",
    "cols_to_drop = [\n",
    "    \"compenv\", \"slab_id\",\n",
    "    \"ads\", \"active_site\", \"att_num\"]\n",
    "# grouped = df_jobs_i.groupby(cols_to_drop)\n",
    "grouped = df_jobs.groupby(cols_to_drop)\n",
    "for name, group in grouped:\n",
    "    if verbose:\n",
    "        print(40 * \"=\")\n",
    "    data_dict_i = dict()\n",
    "\n",
    "    # #####################################################\n",
    "    compenv_i = name[0]\n",
    "    slab_id_i = name[1]\n",
    "    ads_i = name[2]\n",
    "    active_site_i = name[3]\n",
    "    att_num_i = name[4]\n",
    "    # #####################################################\n",
    "\n",
    "    group = group.drop(\n",
    "        cols_to_drop + [\"num_revs\", \"job_id\"],\n",
    "        axis=1)\n",
    "\n",
    "    # #####################################################\n",
    "    row_i = group[group.rev_num == 1]\n",
    "    mess_i = \"Must only have one row in a group with rev_num=1\"\n",
    "    assert row_i.shape[0] == 1, mess_i\n",
    "    row_i = row_i.iloc[0]\n",
    "\n",
    "    job_id_min_i = row_i.name\n",
    "    # #####################################################\n",
    "\n",
    "    # #####################################################\n",
    "    row_data_i = df_jobs_data.loc[job_id_min_i]\n",
    "    # #####################################################\n",
    "    init_atoms_i = row_data_i.init_atoms\n",
    "    # #####################################################\n",
    "\n",
    "\n",
    "\n",
    "    # #####################################################\n",
    "    data_dict_i[\"compenv\"] = compenv_i\n",
    "    data_dict_i[\"slab_id\"] = slab_id_i\n",
    "    data_dict_i[\"ads\"] = ads_i\n",
    "    data_dict_i[\"active_site\"] = active_site_i\n",
    "    data_dict_i[\"att_num\"] = att_num_i\n",
    "\n",
    "    data_dict_i[\"job_id_min\"] = job_id_min_i\n",
    "    data_dict_i[\"init_atoms\"] = init_atoms_i\n",
    "    # #####################################################\n",
    "    data_dict_list.append(data_dict_i)\n",
    "    # #####################################################\n",
    "\n",
    "    if verbose:\n",
    "        print(50 * \"*\")\n",
    "        print(\"name:\", name)\n",
    "        print(50 * \"*\")\n",
    "        display(group)\n",
    "        print(4 * \"\\n\")\n",
    "\n",
    "df_init_slabs = pd.DataFrame(data_dict_list)\n",
    "df_init_slabs = df_init_slabs.set_index([\"compenv\", \"slab_id\", \"ads\", \"active_site\", \"att_num\", ])"
   ]
  },
  {
   "cell_type": "markdown",
   "metadata": {},
   "source": [
    "# Get number of atoms"
   ]
  },
  {
   "cell_type": "code",
   "execution_count": 10,
   "metadata": {},
   "outputs": [],
   "source": [
    "def method(row_i):\n",
    "    # #####################################################\n",
    "    init_atoms_i = row_i.init_atoms\n",
    "    # #####################################################\n",
    "    num_atoms_i = init_atoms_i.get_global_number_of_atoms()\n",
    "    # #####################################################\n",
    "    return(num_atoms_i)\n",
    "\n",
    "df_init_slabs[\"num_atoms\"] = df_init_slabs.apply(\n",
    "    method,\n",
    "    axis=1)"
   ]
  },
  {
   "cell_type": "markdown",
   "metadata": {},
   "source": [
    "# Save data to pickle"
   ]
  },
  {
   "cell_type": "code",
   "execution_count": 11,
   "metadata": {},
   "outputs": [],
   "source": [
    "# Pickling data ###########################################\n",
    "directory = os.path.join(\n",
    "    os.environ[\"PROJ_irox_oer\"],\n",
    "    \"dft_workflow/job_analysis/get_init_slabs_bare_oh\",\n",
    "    \"out_data\")\n",
    "if not os.path.exists(directory): os.makedirs(directory)\n",
    "with open(os.path.join(directory, \"df_init_slabs.pickle\"), \"wb\") as fle:\n",
    "    pickle.dump(df_init_slabs, fle)\n",
    "# #########################################################"
   ]
  },
  {
   "cell_type": "code",
   "execution_count": 12,
   "metadata": {},
   "outputs": [
    {
     "data": {
      "text/html": [
       "<div>\n",
       "<style scoped>\n",
       "    .dataframe tbody tr th:only-of-type {\n",
       "        vertical-align: middle;\n",
       "    }\n",
       "\n",
       "    .dataframe tbody tr th {\n",
       "        vertical-align: top;\n",
       "    }\n",
       "\n",
       "    .dataframe thead th {\n",
       "        text-align: right;\n",
       "    }\n",
       "</style>\n",
       "<table border=\"1\" class=\"dataframe\">\n",
       "  <thead>\n",
       "    <tr style=\"text-align: right;\">\n",
       "      <th></th>\n",
       "      <th></th>\n",
       "      <th></th>\n",
       "      <th></th>\n",
       "      <th></th>\n",
       "      <th>job_id_min</th>\n",
       "      <th>init_atoms</th>\n",
       "      <th>num_atoms</th>\n",
       "    </tr>\n",
       "    <tr>\n",
       "      <th>compenv</th>\n",
       "      <th>slab_id</th>\n",
       "      <th>ads</th>\n",
       "      <th>active_site</th>\n",
       "      <th>att_num</th>\n",
       "      <th></th>\n",
       "      <th></th>\n",
       "      <th></th>\n",
       "    </tr>\n",
       "  </thead>\n",
       "  <tbody>\n",
       "    <tr>\n",
       "      <th rowspan=\"5\" valign=\"top\">nersc</th>\n",
       "      <th rowspan=\"3\" valign=\"top\">fosurufu_23</th>\n",
       "      <th rowspan=\"2\" valign=\"top\">bare</th>\n",
       "      <th>43.0</th>\n",
       "      <th>1</th>\n",
       "      <td>semofeki_24</td>\n",
       "      <td>(Atom('O', [1.35...</td>\n",
       "      <td>91</td>\n",
       "    </tr>\n",
       "    <tr>\n",
       "      <th>45.0</th>\n",
       "      <th>1</th>\n",
       "      <td>tikuboli_46</td>\n",
       "      <td>(Atom('O', [1.35...</td>\n",
       "      <td>91</td>\n",
       "    </tr>\n",
       "    <tr>\n",
       "      <th>o</th>\n",
       "      <th>NaN</th>\n",
       "      <th>1</th>\n",
       "      <td>kutidigu_64</td>\n",
       "      <td>(Atom('O', [1.35...</td>\n",
       "      <td>92</td>\n",
       "    </tr>\n",
       "    <tr>\n",
       "      <th rowspan=\"2\" valign=\"top\">galopuba_86</th>\n",
       "      <th>bare</th>\n",
       "      <th>21.0</th>\n",
       "      <th>1</th>\n",
       "      <td>gedihoki_54</td>\n",
       "      <td>(Atom('O', [3.13...</td>\n",
       "      <td>91</td>\n",
       "    </tr>\n",
       "    <tr>\n",
       "      <th>o</th>\n",
       "      <th>NaN</th>\n",
       "      <th>1</th>\n",
       "      <td>rehatadu_56</td>\n",
       "      <td>(Atom('O', [3.13...</td>\n",
       "      <td>92</td>\n",
       "    </tr>\n",
       "  </tbody>\n",
       "</table>\n",
       "</div>"
      ],
      "text/plain": [
       "                                               job_id_min  \\\n",
       "compenv slab_id     ads  active_site att_num                \n",
       "nersc   fosurufu_23 bare 43.0        1        semofeki_24   \n",
       "                         45.0        1        tikuboli_46   \n",
       "                    o    NaN         1        kutidigu_64   \n",
       "        galopuba_86 bare 21.0        1        gedihoki_54   \n",
       "                    o    NaN         1        rehatadu_56   \n",
       "\n",
       "                                                       init_atoms  num_atoms  \n",
       "compenv slab_id     ads  active_site att_num                                  \n",
       "nersc   fosurufu_23 bare 43.0        1        (Atom('O', [1.35...         91  \n",
       "                         45.0        1        (Atom('O', [1.35...         91  \n",
       "                    o    NaN         1        (Atom('O', [1.35...         92  \n",
       "        galopuba_86 bare 21.0        1        (Atom('O', [3.13...         91  \n",
       "                    o    NaN         1        (Atom('O', [3.13...         92  "
      ]
     },
     "execution_count": 12,
     "metadata": {},
     "output_type": "execute_result"
    }
   ],
   "source": [
    "from methods import get_df_init_slabs\n",
    "\n",
    "df_init_slabs_tmp = get_df_init_slabs()\n",
    "df_init_slabs_tmp.head()"
   ]
  },
  {
   "cell_type": "code",
   "execution_count": 13,
   "metadata": {},
   "outputs": [
    {
     "name": "stdout",
     "output_type": "stream",
     "text": [
      "# # # # # # # # # # # # # # # # # # # # # # # # # # # # # # # # # # # # # # # # \n",
      "All done!\n",
      "analyse_jobs.ipynb\n",
      "# # # # # # # # # # # # # # # # # # # # # # # # # # # # # # # # # # # # # # # # \n"
     ]
    }
   ],
   "source": [
    "# #########################################################\n",
    "print(20 * \"# # \")\n",
    "print(\"All done!\")\n",
    "print(\"analyse_jobs.ipynb\")\n",
    "print(20 * \"# # \")\n",
    "# #########################################################"
   ]
  }
 ],
 "metadata": {
  "jupytext": {
   "formats": "ipynb,py:light"
  },
  "kernelspec": {
   "display_name": "Python [conda env:PROJ_irox_oer] *",
   "language": "python",
   "name": "conda-env-PROJ_irox_oer-py"
  },
  "language_info": {
   "codemirror_mode": {
    "name": "ipython",
    "version": 3
   },
   "file_extension": ".py",
   "mimetype": "text/x-python",
   "name": "python",
   "nbconvert_exporter": "python",
   "pygments_lexer": "ipython3",
   "version": "3.6.11"
  }
 },
 "nbformat": 4,
 "nbformat_minor": 4
}
