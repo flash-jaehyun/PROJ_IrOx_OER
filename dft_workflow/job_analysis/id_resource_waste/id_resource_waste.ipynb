{
 "cells": [
  {
   "cell_type": "markdown",
   "metadata": {},
   "source": [
    "# Identifying job sets that have not progressed and cancel them\n",
    "---"
   ]
  },
  {
   "cell_type": "markdown",
   "metadata": {},
   "source": [
    "# Import Modules"
   ]
  },
  {
   "cell_type": "code",
   "execution_count": 1,
   "metadata": {},
   "outputs": [
    {
     "name": "stdout",
     "output_type": "stream",
     "text": [
      "/home/raulf2012/Dropbox/01_norskov/00_git_repos/PROJ_IrOx_OER/dft_workflow/job_analysis/id_resource_waste\n"
     ]
    }
   ],
   "source": [
    "import os\n",
    "print(os.getcwd())\n",
    "import sys\n",
    "\n",
    "import pandas as pd\n",
    "\n",
    "from methods import (\n",
    "    get_df_jobs,\n",
    "    get_df_jobs_data,\n",
    "    get_df_jobs_anal,\n",
    "    )"
   ]
  },
  {
   "cell_type": "markdown",
   "metadata": {},
   "source": [
    "# Read Data"
   ]
  },
  {
   "cell_type": "code",
   "execution_count": 2,
   "metadata": {},
   "outputs": [],
   "source": [
    "df_jobs = get_df_jobs()\n",
    "\n",
    "df_jobs_data = get_df_jobs_data()\n",
    "\n",
    "df_jobs_anal = get_df_jobs_anal()"
   ]
  },
  {
   "cell_type": "code",
   "execution_count": 3,
   "metadata": {},
   "outputs": [],
   "source": [
    "# Removing systems that were marked to be ignored\n",
    "from methods import get_systems_to_stop_run_indices\n",
    "\n",
    "indices_to_stop_running = get_systems_to_stop_run_indices(df_jobs_anal=df_jobs_anal)\n",
    "\n",
    "# df_jobs_anal = df_jobs_anal.drop(index=indices_to_stop_running)\n",
    "# df_resubmit = df_jobs_anal"
   ]
  },
  {
   "cell_type": "raw",
   "metadata": {},
   "source": [
    "\n",
    "\n"
   ]
  },
  {
   "cell_type": "markdown",
   "metadata": {},
   "source": [
    "# Main Loop"
   ]
  },
  {
   "cell_type": "code",
   "execution_count": 4,
   "metadata": {},
   "outputs": [],
   "source": [
    "from misc_modules.pandas_methods import drop_columns\n",
    "\n",
    "# print(list(df_jobs_anal.columns))\n",
    "\n",
    "# ['job_id_max', 'timed_out', 'completed', 'brmix_issue', 'job_understandable', 'decision', 'dft_params_new', 'job_completely_done']\n",
    "cols_to_keep = [\n",
    "    \"job_id_max\",\n",
    "    \"job_completely_done\",\n",
    "    ]\n",
    "df_jobs_anal_i = drop_columns(\n",
    "    df=df_jobs_anal,\n",
    "    columns=cols_to_keep,\n",
    "    keep_or_drop=\"keep\",\n",
    "    )"
   ]
  },
  {
   "cell_type": "code",
   "execution_count": 5,
   "metadata": {},
   "outputs": [],
   "source": [
    "# assert False"
   ]
  },
  {
   "cell_type": "code",
   "execution_count": 6,
   "metadata": {},
   "outputs": [
    {
     "data": {
      "text/html": [
       "<div>\n",
       "<style scoped>\n",
       "    .dataframe tbody tr th:only-of-type {\n",
       "        vertical-align: middle;\n",
       "    }\n",
       "\n",
       "    .dataframe tbody tr th {\n",
       "        vertical-align: top;\n",
       "    }\n",
       "\n",
       "    .dataframe thead th {\n",
       "        text-align: right;\n",
       "    }\n",
       "</style>\n",
       "<table border=\"1\" class=\"dataframe\">\n",
       "  <thead>\n",
       "    <tr style=\"text-align: right;\">\n",
       "      <th></th>\n",
       "      <th></th>\n",
       "      <th></th>\n",
       "      <th></th>\n",
       "      <th></th>\n",
       "      <th>compenv</th>\n",
       "      <th>slab_id</th>\n",
       "      <th>ads</th>\n",
       "      <th>active_site</th>\n",
       "      <th>att_num</th>\n",
       "      <th>job_id_max</th>\n",
       "      <th>job_completely_done</th>\n",
       "      <th>num_revs</th>\n",
       "    </tr>\n",
       "    <tr>\n",
       "      <th>compenv</th>\n",
       "      <th>slab_id</th>\n",
       "      <th>ads</th>\n",
       "      <th>active_site</th>\n",
       "      <th>att_num</th>\n",
       "      <th></th>\n",
       "      <th></th>\n",
       "      <th></th>\n",
       "      <th></th>\n",
       "      <th></th>\n",
       "      <th></th>\n",
       "      <th></th>\n",
       "      <th></th>\n",
       "    </tr>\n",
       "  </thead>\n",
       "  <tbody>\n",
       "    <tr>\n",
       "      <th rowspan=\"2\" valign=\"top\">slac</th>\n",
       "      <th>fagumoha_68</th>\n",
       "      <th>oh</th>\n",
       "      <th>62.0</th>\n",
       "      <th>0</th>\n",
       "      <td>slac</td>\n",
       "      <td>fagumoha_68</td>\n",
       "      <td>oh</td>\n",
       "      <td>62</td>\n",
       "      <td>0</td>\n",
       "      <td>niduvupu_51</td>\n",
       "      <td>True</td>\n",
       "      <td>11</td>\n",
       "    </tr>\n",
       "    <tr>\n",
       "      <th>kalisule_45</th>\n",
       "      <th>oh</th>\n",
       "      <th>73.0</th>\n",
       "      <th>3</th>\n",
       "      <td>slac</td>\n",
       "      <td>kalisule_45</td>\n",
       "      <td>oh</td>\n",
       "      <td>73</td>\n",
       "      <td>3</td>\n",
       "      <td>pemolume_54</td>\n",
       "      <td>True</td>\n",
       "      <td>10</td>\n",
       "    </tr>\n",
       "  </tbody>\n",
       "</table>\n",
       "</div>"
      ],
      "text/plain": [
       "                                            compenv      slab_id ads  \\\n",
       "compenv slab_id     ads active_site att_num                            \n",
       "slac    fagumoha_68 oh  62.0        0          slac  fagumoha_68  oh   \n",
       "        kalisule_45 oh  73.0        3          slac  kalisule_45  oh   \n",
       "\n",
       "                                            active_site  att_num   job_id_max  \\\n",
       "compenv slab_id     ads active_site att_num                                     \n",
       "slac    fagumoha_68 oh  62.0        0                62        0  niduvupu_51   \n",
       "        kalisule_45 oh  73.0        3                73        3  pemolume_54   \n",
       "\n",
       "                                             job_completely_done  num_revs  \n",
       "compenv slab_id     ads active_site att_num                                 \n",
       "slac    fagumoha_68 oh  62.0        0                       True        11  \n",
       "        kalisule_45 oh  73.0        3                       True        10  "
      ]
     },
     "execution_count": 6,
     "metadata": {},
     "output_type": "execute_result"
    }
   ],
   "source": [
    "index_keys = list(df_jobs_anal_i.index.names)\n",
    "\n",
    "# #########################################################\n",
    "data_dict_list = []\n",
    "# #########################################################\n",
    "for index_i, row_i in df_jobs_anal_i.iterrows():\n",
    "    # #####################################################\n",
    "    data_dict_i = dict()\n",
    "    # #####################################################\n",
    "    compenv_i, slab_id_i, ads_i, active_site_i, att_num_i = index_i\n",
    "    # #####################################################\n",
    "    job_completely_done_i = df_jobs_anal.job_completely_done\n",
    "    # #####################################################\n",
    "\n",
    "\n",
    "    index_dict_i = dict(zip(index_keys, index_i))\n",
    "\n",
    "    df = df_jobs\n",
    "    df = df[\n",
    "        (df[\"compenv\"] == compenv_i) &\n",
    "        (df[\"slab_id\"] == slab_id_i) &\n",
    "        (df[\"ads\"] == ads_i) &\n",
    "        (df[\"active_site\"] == active_site_i) &\n",
    "        (df[\"att_num\"] == att_num_i) &\n",
    "        [True for i in range(len(df))]\n",
    "        ]\n",
    "    df_jobs_i = df\n",
    "\n",
    "    num_revs_i = df_jobs_i.shape[0]\n",
    "\n",
    "    # #####################################################\n",
    "    data_dict_i.update(index_dict_i)\n",
    "    data_dict_i.update(row_i.to_dict())\n",
    "    # #####################################################\n",
    "    data_dict_i[\"num_revs\"] = num_revs_i\n",
    "    # #####################################################\n",
    "    data_dict_list.append(data_dict_i)\n",
    "    # #####################################################\n",
    "\n",
    "# #########################################################\n",
    "df = pd.DataFrame(data_dict_list)\n",
    "df = df.sort_values(\"num_revs\", ascending=False)\n",
    "df = df.set_index([\n",
    "    \"compenv\", \"slab_id\", \"ads\", \"active_site\", \"att_num\", \n",
    "    ], drop=False)\n",
    "df = df.drop(labels=indices_to_stop_running)\n",
    "# #########################################################\n",
    "\n",
    "df.iloc[0:2]"
   ]
  },
  {
   "cell_type": "code",
   "execution_count": 13,
   "metadata": {},
   "outputs": [
    {
     "data": {
      "text/html": [
       "<div>\n",
       "<style scoped>\n",
       "    .dataframe tbody tr th:only-of-type {\n",
       "        vertical-align: middle;\n",
       "    }\n",
       "\n",
       "    .dataframe tbody tr th {\n",
       "        vertical-align: top;\n",
       "    }\n",
       "\n",
       "    .dataframe thead th {\n",
       "        text-align: right;\n",
       "    }\n",
       "</style>\n",
       "<table border=\"1\" class=\"dataframe\">\n",
       "  <thead>\n",
       "    <tr style=\"text-align: right;\">\n",
       "      <th></th>\n",
       "      <th></th>\n",
       "      <th></th>\n",
       "      <th></th>\n",
       "      <th></th>\n",
       "      <th>compenv</th>\n",
       "      <th>slab_id</th>\n",
       "      <th>ads</th>\n",
       "      <th>active_site</th>\n",
       "      <th>att_num</th>\n",
       "      <th>job_id_max</th>\n",
       "      <th>job_completely_done</th>\n",
       "      <th>num_revs</th>\n",
       "    </tr>\n",
       "    <tr>\n",
       "      <th>compenv</th>\n",
       "      <th>slab_id</th>\n",
       "      <th>ads</th>\n",
       "      <th>active_site</th>\n",
       "      <th>att_num</th>\n",
       "      <th></th>\n",
       "      <th></th>\n",
       "      <th></th>\n",
       "      <th></th>\n",
       "      <th></th>\n",
       "      <th></th>\n",
       "      <th></th>\n",
       "      <th></th>\n",
       "    </tr>\n",
       "  </thead>\n",
       "  <tbody>\n",
       "    <tr>\n",
       "      <th>slac</th>\n",
       "      <th>hibetede_02</th>\n",
       "      <th>o</th>\n",
       "      <th>NaN</th>\n",
       "      <th>1</th>\n",
       "      <td>slac</td>\n",
       "      <td>hibetede_02</td>\n",
       "      <td>o</td>\n",
       "      <td>NaN</td>\n",
       "      <td>1</td>\n",
       "      <td>fifikuwu_79</td>\n",
       "      <td>False</td>\n",
       "      <td>9</td>\n",
       "    </tr>\n",
       "    <tr>\n",
       "      <th>sherlock</th>\n",
       "      <th>nevupeto_41</th>\n",
       "      <th>oh</th>\n",
       "      <th>64.0</th>\n",
       "      <th>2</th>\n",
       "      <td>sherlock</td>\n",
       "      <td>nevupeto_41</td>\n",
       "      <td>oh</td>\n",
       "      <td>64</td>\n",
       "      <td>2</td>\n",
       "      <td>dahivivo_43</td>\n",
       "      <td>False</td>\n",
       "      <td>9</td>\n",
       "    </tr>\n",
       "    <tr>\n",
       "      <th rowspan=\"2\" valign=\"top\">slac</th>\n",
       "      <th>fevahaso_90</th>\n",
       "      <th>oh</th>\n",
       "      <th>28.0</th>\n",
       "      <th>2</th>\n",
       "      <td>slac</td>\n",
       "      <td>fevahaso_90</td>\n",
       "      <td>oh</td>\n",
       "      <td>28</td>\n",
       "      <td>2</td>\n",
       "      <td>bikalunu_39</td>\n",
       "      <td>False</td>\n",
       "      <td>6</td>\n",
       "    </tr>\n",
       "    <tr>\n",
       "      <th>hobukuno_29</th>\n",
       "      <th>o</th>\n",
       "      <th>NaN</th>\n",
       "      <th>1</th>\n",
       "      <td>slac</td>\n",
       "      <td>hobukuno_29</td>\n",
       "      <td>o</td>\n",
       "      <td>NaN</td>\n",
       "      <td>1</td>\n",
       "      <td>nagamaga_03</td>\n",
       "      <td>False</td>\n",
       "      <td>4</td>\n",
       "    </tr>\n",
       "  </tbody>\n",
       "</table>\n",
       "</div>"
      ],
      "text/plain": [
       "                                               compenv      slab_id ads  \\\n",
       "compenv  slab_id     ads active_site att_num                              \n",
       "slac     hibetede_02 o   NaN         1            slac  hibetede_02   o   \n",
       "sherlock nevupeto_41 oh  64.0        2        sherlock  nevupeto_41  oh   \n",
       "slac     fevahaso_90 oh  28.0        2            slac  fevahaso_90  oh   \n",
       "         hobukuno_29 o   NaN         1            slac  hobukuno_29   o   \n",
       "\n",
       "                                             active_site  att_num  \\\n",
       "compenv  slab_id     ads active_site att_num                        \n",
       "slac     hibetede_02 o   NaN         1               NaN        1   \n",
       "sherlock nevupeto_41 oh  64.0        2                64        2   \n",
       "slac     fevahaso_90 oh  28.0        2                28        2   \n",
       "         hobukuno_29 o   NaN         1               NaN        1   \n",
       "\n",
       "                                               job_id_max  \\\n",
       "compenv  slab_id     ads active_site att_num                \n",
       "slac     hibetede_02 o   NaN         1        fifikuwu_79   \n",
       "sherlock nevupeto_41 oh  64.0        2        dahivivo_43   \n",
       "slac     fevahaso_90 oh  28.0        2        bikalunu_39   \n",
       "         hobukuno_29 o   NaN         1        nagamaga_03   \n",
       "\n",
       "                                              job_completely_done  num_revs  \n",
       "compenv  slab_id     ads active_site att_num                                 \n",
       "slac     hibetede_02 o   NaN         1                      False         9  \n",
       "sherlock nevupeto_41 oh  64.0        2                      False         9  \n",
       "slac     fevahaso_90 oh  28.0        2                      False         6  \n",
       "         hobukuno_29 o   NaN         1                      False         4  "
      ]
     },
     "execution_count": 13,
     "metadata": {},
     "output_type": "execute_result"
    }
   ],
   "source": [
    "df_i = df[df.job_completely_done == False]\n",
    "df_i = df_i[df_i.num_revs > 3]\n",
    "\n",
    "df_i"
   ]
  },
  {
   "cell_type": "raw",
   "metadata": {},
   "source": [
    "\n",
    "\n"
   ]
  },
  {
   "cell_type": "code",
   "execution_count": 10,
   "metadata": {
    "jupyter": {
     "source_hidden": true
    }
   },
   "outputs": [],
   "source": [
    "# keys = list(df_jobs_anal.index.names)\n",
    "# index_dict_i = dict(zip(keys, index_i))"
   ]
  },
  {
   "cell_type": "code",
   "execution_count": 11,
   "metadata": {
    "jupyter": {
     "source_hidden": true
    }
   },
   "outputs": [],
   "source": [
    "# index_dict_i"
   ]
  },
  {
   "cell_type": "code",
   "execution_count": 12,
   "metadata": {
    "jupyter": {
     "source_hidden": true
    }
   },
   "outputs": [],
   "source": [
    "# data_dict_i"
   ]
  },
  {
   "cell_type": "code",
   "execution_count": null,
   "metadata": {
    "jupyter": {
     "source_hidden": true
    }
   },
   "outputs": [],
   "source": [
    "# df_jobs_anal.loc[\n",
    "#     ('sherlock', 'tofiwadi_49', 'oh', 47.0, 1)\n",
    "#     ]"
   ]
  },
  {
   "cell_type": "code",
   "execution_count": 7,
   "metadata": {
    "jupyter": {
     "source_hidden": true
    }
   },
   "outputs": [],
   "source": [
    "# indices_to_stop_running[0:2]"
   ]
  }
 ],
 "metadata": {
  "jupytext": {
   "formats": "ipynb,py:light"
  },
  "kernelspec": {
   "display_name": "Python [conda env:PROJ_irox_oer] *",
   "language": "python",
   "name": "conda-env-PROJ_irox_oer-py"
  },
  "language_info": {
   "codemirror_mode": {
    "name": "ipython",
    "version": 3
   },
   "file_extension": ".py",
   "mimetype": "text/x-python",
   "name": "python",
   "nbconvert_exporter": "python",
   "pygments_lexer": "ipython3",
   "version": "3.6.11"
  }
 },
 "nbformat": 4,
 "nbformat_minor": 4
}
