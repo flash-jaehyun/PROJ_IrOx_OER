{
 "cells": [
  {
   "cell_type": "markdown",
   "metadata": {},
   "source": [
    "# Import Modules"
   ]
  },
  {
   "cell_type": "code",
   "execution_count": 1,
   "metadata": {},
   "outputs": [
    {
     "name": "stdout",
     "output_type": "stream",
     "text": [
      "/home/raulf2012/Dropbox/01_norskov/00_git_repos/PROJ_IrOx_OER/dft_workflow/job_analysis/create_oh_slabs\n"
     ]
    }
   ],
   "source": [
    "import os\n",
    "print(os.getcwd())\n",
    "import sys\n",
    "\n",
    "from IPython.display import display\n",
    "\n",
    "import random\n",
    "import numpy as np\n",
    "from numpy import dot\n",
    "import pandas as pd\n",
    "# pd.set_option(\"display.max_columns\", None)\n",
    "# pd.options.display.max_colwidth = 20\n",
    "\n",
    "from ase import Atoms\n",
    "from ase import io\n",
    "\n",
    "# #########################################################\n",
    "from proj_data import metal_atom_symbol\n",
    "\n",
    "# #########################################################\n",
    "from methods import get_df_coord\n",
    "from methods import (\n",
    "    get_df_dft,\n",
    "    get_df_job_ids,\n",
    "    get_df_jobs,\n",
    "    get_df_jobs_data,\n",
    "    get_df_slab,\n",
    "    get_df_slab_ids,\n",
    "    get_df_jobs_data_clusters,\n",
    "    get_df_jobs_anal,\n",
    "    get_df_active_sites,\n",
    "    get_df_atoms_sorted_ind,\n",
    "    )\n",
    "\n",
    "# #########################################################\n",
    "from local_methods import get_neighbor_metal_atom\n",
    "from local_methods import get_ads_pos_oh\n",
    "from local_methods import M"
   ]
  },
  {
   "cell_type": "markdown",
   "metadata": {},
   "source": [
    "# Script Inputs"
   ]
  },
  {
   "cell_type": "code",
   "execution_count": 2,
   "metadata": {},
   "outputs": [],
   "source": [
    "verbose = True\n",
    "verbose = False"
   ]
  },
  {
   "cell_type": "markdown",
   "metadata": {},
   "source": [
    "# Read data objects with methods"
   ]
  },
  {
   "cell_type": "code",
   "execution_count": 3,
   "metadata": {},
   "outputs": [],
   "source": [
    "df_jobs = get_df_jobs(exclude_wsl_paths=True)\n",
    "\n",
    "df_jobs_data = get_df_jobs_data(exclude_wsl_paths=True)\n",
    "\n",
    "df_jobs_anal = get_df_jobs_anal()\n",
    "\n",
    "df_active_sites = get_df_active_sites()\n",
    "\n",
    "df_atoms_sorted_ind = get_df_atoms_sorted_ind()"
   ]
  },
  {
   "cell_type": "markdown",
   "metadata": {},
   "source": [
    "# Picking slab to test on"
   ]
  },
  {
   "cell_type": "code",
   "execution_count": 4,
   "metadata": {
    "lines_to_next_cell": 2
   },
   "outputs": [],
   "source": [
    "df_jobs_anal_i = df_jobs_anal[df_jobs_anal.job_completely_done == True]\n",
    "\n",
    "var = \"o\"\n",
    "df_jobs_anal_i = df_jobs_anal_i.query('ads == @var')\n",
    "\n",
    "job_ids__completely_done__ads_o = df_jobs_anal_i.job_id_max\n",
    "df_jobs_data_i = df_jobs_data.loc[job_ids__completely_done__ads_o]\n",
    "\n",
    "# #########################################################\n",
    "# directory = \"out_data/finished_O_ads\"\n",
    "directory = os.path.join(\n",
    "    os.environ[\"PROJ_irox_oer\"],\n",
    "    \"dft_workflow/job_analysis/create_oh_slabs\",\n",
    "    \"out_data/finished_O_ads\")\n",
    "if not os.path.exists(directory):\n",
    "    os.makedirs(directory)\n",
    "\n",
    "for job_id_i, row_data_i in df_jobs_data_i.iterrows():\n",
    "\n",
    "    # #####################################################\n",
    "    final_atoms_i = row_data_i.final_atoms\n",
    "    # #####################################################\n",
    "\n",
    "    file_name_i = job_id_i + \".cif\"\n",
    "\n",
    "    final_atoms_i.write(os.path.join(directory, file_name_i))\n",
    "\n",
    "    # final_atoms_i.write(os.path.join(\n",
    "    #     \"out_data\",\n",
    "    #     \"finished_O_ads\",\n",
    "    #     file_name_i))"
   ]
  },
  {
   "cell_type": "markdown",
   "metadata": {},
   "source": [
    "# \\_\\_TEMP\\_\\_"
   ]
  },
  {
   "cell_type": "code",
   "execution_count": 5,
   "metadata": {},
   "outputs": [],
   "source": [
    "# Test slabs\n",
    "# job_id_i = \"mugorepa_05\"\n",
    "# job_id_i = \"pihatufa_64\""
   ]
  },
  {
   "cell_type": "code",
   "execution_count": 6,
   "metadata": {},
   "outputs": [],
   "source": [
    "# TEMP\n",
    "# df_jobs_anal_i = df_jobs_anal_i.iloc[0:5]\n",
    "# df_jobs_anal_i = df_jobs_anal_i.iloc[0:15]\n",
    "# df_jobs_anal_i = df_jobs_anal_i.iloc[0:55]\n",
    "\n",
    "# df_jobs_anal_i = df_jobs_anal_i.loc[\n",
    "#     [('sherlock', 'kenukami_73', 'o', 'NaN', 1)]\n",
    "#     ]"
   ]
  },
  {
   "cell_type": "code",
   "execution_count": 7,
   "metadata": {},
   "outputs": [],
   "source": [
    "# print(\"TEMP\")\n",
    "\n",
    "# compenv_i = 'sherlock'\n",
    "# slab_id_i = 'putarude_21'\n",
    "# ads_i = 'o'\n",
    "# active_site_i = 'NaN'\n",
    "# att_num_i = 1\n",
    "\n",
    "# df_jobs_anal_i = df_jobs_anal_i.loc[[\n",
    "#     (compenv_i, slab_id_i, ads_i, active_site_i, att_num_i)\n",
    "#     ]]"
   ]
  },
  {
   "cell_type": "markdown",
   "metadata": {},
   "source": [
    "# Main Loop"
   ]
  },
  {
   "cell_type": "code",
   "execution_count": 8,
   "metadata": {},
   "outputs": [],
   "source": [
    "data_dict_list = []\n",
    "for name_i, row_i in df_jobs_anal_i.iterrows():\n",
    "\n",
    "    if verbose:\n",
    "        print(40 * \"=\")\n",
    "\n",
    "    # #####################################################\n",
    "    compenv_i = name_i[0]\n",
    "    slab_id_i = name_i[1]\n",
    "    ads_i = name_i[2]\n",
    "    active_site_i = name_i[3]\n",
    "    att_num_i = name_i[4]\n",
    "    # #####################################################\n",
    "    job_id_max_i = row_i.job_id_max\n",
    "    # #####################################################\n",
    "\n",
    "    # #####################################################\n",
    "    row_sites_i = df_active_sites.loc[slab_id_i]\n",
    "    # #####################################################\n",
    "    active_sites_unique_i = row_sites_i.active_sites_unique\n",
    "    # #####################################################\n",
    "\n",
    "    # #####################################################\n",
    "    row_atoms_i = df_atoms_sorted_ind.loc[\n",
    "        (compenv_i, slab_id_i, ads_i, active_site_i, att_num_i, )]\n",
    "    # #####################################################\n",
    "    atoms_sorted_good_i = row_atoms_i.atoms_sorted_good\n",
    "    atoms = atoms_sorted_good_i\n",
    "    # #####################################################\n",
    "\n",
    "\n",
    "\n",
    "\n",
    "    # #####################################################\n",
    "    name_i = (compenv_i, slab_id_i, ads_i, active_site_i, att_num_i, )\n",
    "\n",
    "\n",
    "    # #####################################################\n",
    "    # #####################################################\n",
    "    for site_i in active_sites_unique_i:\n",
    "        # print(\"site_i:\", site_i)\n",
    "\n",
    "        # #################################################\n",
    "        # #################################################\n",
    "        df_coord_i = get_df_coord(\n",
    "            mode=\"post-dft\",  # 'bulk', 'slab', 'post-dft'\n",
    "            post_dft_name_tuple=name_i,\n",
    "            )\n",
    "\n",
    "        oh_slabs_list = get_ads_pos_oh(\n",
    "            atoms=atoms,\n",
    "            site_i=site_i,\n",
    "            df_coord_i=df_coord_i,\n",
    "            # #########################\n",
    "            include_colinear=True,\n",
    "            verbose=False,\n",
    "            num_side_ads=3,\n",
    "            )\n",
    "\n",
    "        for att_num_oh_j, slab_oh_j in enumerate(oh_slabs_list):\n",
    "            # #############################################\n",
    "            data_dict_i = dict()\n",
    "            # #############################################\n",
    "            data_dict_i[\"compenv\"] = compenv_i\n",
    "            data_dict_i[\"slab_id\"] = slab_id_i\n",
    "            data_dict_i[\"ads\"] = ads_i\n",
    "            data_dict_i[\"active_site\"] = site_i\n",
    "            data_dict_i[\"att_num\"] = att_num_i\n",
    "            data_dict_i[\"att_num_oh\"] = att_num_oh_j\n",
    "            data_dict_i[\"slab_oh\"] = slab_oh_j\n",
    "            # #############################################\n",
    "            data_dict_list.append(data_dict_i)\n",
    "            # #############################################\n",
    "\n",
    "df_slabs_oh = pd.DataFrame(data_dict_list)\n",
    "df_slabs_oh = df_slabs_oh.set_index([\n",
    "    \"compenv\", \"slab_id\", \"ads\",\n",
    "    \"active_site\", \"att_num\", \"att_num_oh\", ])"
   ]
  },
  {
   "cell_type": "code",
   "execution_count": 9,
   "metadata": {},
   "outputs": [
    {
     "data": {
      "text/plain": [
       "('slac', 'wefakuko_75', 'o', 'NaN', 1)"
      ]
     },
     "execution_count": 9,
     "metadata": {},
     "output_type": "execute_result"
    }
   ],
   "source": [
    "name_i"
   ]
  },
  {
   "cell_type": "raw",
   "metadata": {},
   "source": [
    "\n",
    "\n"
   ]
  },
  {
   "cell_type": "code",
   "execution_count": 10,
   "metadata": {},
   "outputs": [],
   "source": [
    "# oh_slabs_list = get_ads_pos_oh(\n",
    "#     atoms=atoms,\n",
    "#     site_i=site_i,\n",
    "#     df_coord_i=df_coord_i,\n",
    "#     # #########################\n",
    "#     include_colinear=True,\n",
    "#     verbose=False,\n",
    "#     num_side_ads=3,\n",
    "#     )\n",
    "\n",
    "##################################################\n",
    "##################################################\n",
    "##################################################\n",
    "##################################################\n",
    "##################################################"
   ]
  },
  {
   "cell_type": "code",
   "execution_count": 11,
   "metadata": {},
   "outputs": [],
   "source": [
    "# # df_coord_i = \n",
    "# get_df_coord(\n",
    "#     mode=\"post-dft\",  # 'bulk', 'slab', 'post-dft'\n",
    "#     post_dft_name_tuple=name_i,\n",
    "#     )"
   ]
  },
  {
   "cell_type": "code",
   "execution_count": 12,
   "metadata": {},
   "outputs": [],
   "source": [
    "# atoms = atoms\n",
    "# site_i = site_i\n",
    "# df_coord_i = df_coord_i\n",
    "# metal_atom_symbol= \"Ir\"\n",
    "# # #################################\n",
    "# include_colinear = True\n",
    "# verbose = False\n",
    "# num_side_ads = 4"
   ]
  },
  {
   "cell_type": "code",
   "execution_count": 13,
   "metadata": {},
   "outputs": [],
   "source": [
    "# # def get_ads_pos_oh(\n",
    "# #     atoms=None,\n",
    "# #     site_i=None,\n",
    "# #     df_coord_i=None,\n",
    "# #     metal_atom_symbol=\"Ir\",\n",
    "# #     # #################################\n",
    "# #     include_colinear=True,\n",
    "# #     verbose=False,\n",
    "# #     num_side_ads=4,\n",
    "# #     ):\n",
    "# \"\"\"Return positions of *H atom to be added to Ir-O ligand to create *OH slabs.\n",
    "\n",
    "\n",
    "# \"\"\"\n",
    "# #| - get_ads_pos_oh\n",
    "# coords_j = get_neighbor_metal_atom(\n",
    "#     df_coord_i=df_coord_i,\n",
    "#     site_i=site_i,\n",
    "#     metal_atom_symbol=metal_atom_symbol,\n",
    "#     )\n",
    "\n",
    "# o_position = atoms[site_i].position\n",
    "# ir_position = coords_j\n",
    "\n",
    "# if verbose:\n",
    "#     print(\"ir_position:\", ir_position)\n",
    "#     print(\"o_position: \", o_position)\n",
    "\n",
    "\n",
    "# atoms_oh_list = []\n",
    "\n",
    "# # #########################################################\n",
    "# ir_o_vector = o_position - ir_position\n",
    "\n",
    "# ir_o_unit_vector = ir_o_vector / np.linalg.norm(ir_o_vector)\n",
    "\n",
    "# # #########################################################\n",
    "# h_mol = Atoms(\n",
    "#     [\n",
    "#         \"H\",\n",
    "#         ],\n",
    "#     positions=[\n",
    "#         o_position + 0.978 * ir_o_unit_vector,\n",
    "#         ]\n",
    "#     )\n",
    "\n",
    "\n",
    "# atoms_oh_0 = atoms + h_mol\n",
    "\n",
    "# if include_colinear:\n",
    "#     atoms_oh_list.append(atoms_oh_0)\n",
    "\n",
    "# # #########################################################\n",
    "# atoms_oh_tmp = atoms\n",
    "\n",
    "# random_vect = [\n",
    "#     random.choice([-1., +1.]) * random.random(),\n",
    "#     random.choice([-1., +1.]) * random.random(),\n",
    "#     random.choice([-1., +1.]) * random.random(),\n",
    "#     ]\n",
    "\n",
    "# arb_vector = np.cross(ir_o_unit_vector, random_vect)\n",
    "\n",
    "# v, axis, theta = (\n",
    "#     ir_o_unit_vector,\n",
    "#     arb_vector,\n",
    "#     (2. / 4.) * np.pi,\n",
    "#     )\n",
    "# M0 = M(axis, theta)\n",
    "# rot_v = np.dot(M0, v)\n",
    "\n",
    "# # #########################################################\n",
    "# # for i in range(4):\n",
    "# for i in range(num_side_ads):\n",
    "#     v, axis, theta = (\n",
    "#         rot_v,\n",
    "#         ir_o_unit_vector,\n",
    "#         #  2 * (i + 1) * (1. / 4.) * np.pi,\n",
    "#         2 * (i + 1) * (1. / num_side_ads) * np.pi,\n",
    "#         )\n",
    "#     M0 = M(axis, theta)\n",
    "\n",
    "#     rot_v_new = np.dot(M0, v)\n",
    "\n",
    "#     h_mol = Atoms(\n",
    "#         [\"H\", ],\n",
    "#         positions=[\n",
    "#             o_position + 0.978 * rot_v_new]\n",
    "#         )\n",
    "\n",
    "#     atoms_oh_i = atoms_oh_tmp + h_mol\n",
    "#     atoms_oh_list.append(atoms_oh_i)\n",
    "\n",
    "\n",
    "# # atoms_oh_tmp.write(\"tmp.cif\")\n",
    "# # return(atoms_oh_list)\n",
    "# #__|"
   ]
  },
  {
   "cell_type": "raw",
   "metadata": {},
   "source": [
    "\n",
    "\n"
   ]
  },
  {
   "cell_type": "code",
   "execution_count": 14,
   "metadata": {},
   "outputs": [],
   "source": [
    "# assert False"
   ]
  },
  {
   "cell_type": "markdown",
   "metadata": {},
   "source": [
    "# Writing *OH Slabs to File"
   ]
  },
  {
   "cell_type": "code",
   "execution_count": 15,
   "metadata": {},
   "outputs": [],
   "source": [
    "# directory = \"out_data/oh_slabs\"\n",
    "\n",
    "directory = os.path.join(\n",
    "    os.environ[\"PROJ_irox_oer\"],\n",
    "    \"dft_workflow/job_analysis/create_oh_slabs\",\n",
    "    \"out_data/oh_slabs\")\n",
    "\n",
    "if not os.path.exists(directory):\n",
    "    os.makedirs(directory)\n",
    "\n",
    "for name_i, row_i in df_slabs_oh.iterrows():\n",
    "\n",
    "    # #####################################################\n",
    "    slab_oh_i = row_i.slab_oh\n",
    "    # #####################################################\n",
    "\n",
    "    file_name_i = '__'.join(str(e) for e in list(name_i))\n",
    "    file_name_i += \".cif\"\n",
    "    slab_oh_i.write(os.path.join(directory, file_name_i))\n",
    "\n",
    "        # \"out_data/oh_slabs\","
   ]
  },
  {
   "cell_type": "markdown",
   "metadata": {},
   "source": [
    "# Save to pickle"
   ]
  },
  {
   "cell_type": "code",
   "execution_count": 16,
   "metadata": {},
   "outputs": [],
   "source": [
    "# Pickling data ###########################################\n",
    "import os; import pickle\n",
    "# directory = \"out_data\"\n",
    "directory = os.path.join(\n",
    "    os.environ[\"PROJ_irox_oer\"],\n",
    "    \"dft_workflow/job_analysis/create_oh_slabs\",\n",
    "    \"out_data\")\n",
    "if not os.path.exists(directory): os.makedirs(directory)\n",
    "with open(os.path.join(directory, \"df_slabs_oh.pickle\"), \"wb\") as fle:\n",
    "    pickle.dump(df_slabs_oh, fle)\n",
    "# #########################################################"
   ]
  },
  {
   "cell_type": "code",
   "execution_count": 17,
   "metadata": {},
   "outputs": [],
   "source": [
    "from methods import get_df_slabs_oh\n",
    "\n",
    "df_slabs_oh_tmp = get_df_slabs_oh()\n",
    "# df_slabs_oh_tmp"
   ]
  },
  {
   "cell_type": "code",
   "execution_count": 18,
   "metadata": {},
   "outputs": [
    {
     "name": "stdout",
     "output_type": "stream",
     "text": [
      "# # # # # # # # # # # # # # # # # # # # # # # # # # # # # # # # # # # # # # # # \n",
      "All done!\n",
      "analyse_jobs.ipynb\n",
      "# # # # # # # # # # # # # # # # # # # # # # # # # # # # # # # # # # # # # # # # \n"
     ]
    }
   ],
   "source": [
    "# #########################################################\n",
    "print(20 * \"# # \")\n",
    "print(\"All done!\")\n",
    "print(\"analyse_jobs.ipynb\")\n",
    "print(20 * \"# # \")\n",
    "# #########################################################"
   ]
  },
  {
   "cell_type": "code",
   "execution_count": 19,
   "metadata": {},
   "outputs": [
    {
     "data": {
      "text/html": [
       "<div>\n",
       "<style scoped>\n",
       "    .dataframe tbody tr th:only-of-type {\n",
       "        vertical-align: middle;\n",
       "    }\n",
       "\n",
       "    .dataframe tbody tr th {\n",
       "        vertical-align: top;\n",
       "    }\n",
       "\n",
       "    .dataframe thead th {\n",
       "        text-align: right;\n",
       "    }\n",
       "</style>\n",
       "<table border=\"1\" class=\"dataframe\">\n",
       "  <thead>\n",
       "    <tr style=\"text-align: right;\">\n",
       "      <th></th>\n",
       "      <th></th>\n",
       "      <th></th>\n",
       "      <th></th>\n",
       "      <th></th>\n",
       "      <th></th>\n",
       "      <th>slab_oh</th>\n",
       "    </tr>\n",
       "    <tr>\n",
       "      <th>compenv</th>\n",
       "      <th>slab_id</th>\n",
       "      <th>ads</th>\n",
       "      <th>active_site</th>\n",
       "      <th>att_num</th>\n",
       "      <th>att_num_oh</th>\n",
       "      <th></th>\n",
       "    </tr>\n",
       "  </thead>\n",
       "  <tbody>\n",
       "    <tr>\n",
       "      <th rowspan=\"5\" valign=\"top\">nersc</th>\n",
       "      <th rowspan=\"5\" valign=\"top\">fosurufu_23</th>\n",
       "      <th rowspan=\"5\" valign=\"top\">o</th>\n",
       "      <th rowspan=\"4\" valign=\"top\">43</th>\n",
       "      <th rowspan=\"4\" valign=\"top\">1</th>\n",
       "      <th>0</th>\n",
       "      <td>(Atom('O', [1.3549083766114212, 0.791460566807...</td>\n",
       "    </tr>\n",
       "    <tr>\n",
       "      <th>1</th>\n",
       "      <td>(Atom('O', [1.3549083766114212, 0.791460566807...</td>\n",
       "    </tr>\n",
       "    <tr>\n",
       "      <th>2</th>\n",
       "      <td>(Atom('O', [1.3549083766114212, 0.791460566807...</td>\n",
       "    </tr>\n",
       "    <tr>\n",
       "      <th>3</th>\n",
       "      <td>(Atom('O', [1.3549083766114212, 0.791460566807...</td>\n",
       "    </tr>\n",
       "    <tr>\n",
       "      <th>45</th>\n",
       "      <th>1</th>\n",
       "      <th>0</th>\n",
       "      <td>(Atom('O', [1.3549083766114212, 0.791460566807...</td>\n",
       "    </tr>\n",
       "    <tr>\n",
       "      <th>...</th>\n",
       "      <th>...</th>\n",
       "      <th>...</th>\n",
       "      <th>...</th>\n",
       "      <th>...</th>\n",
       "      <th>...</th>\n",
       "      <td>...</td>\n",
       "    </tr>\n",
       "    <tr>\n",
       "      <th rowspan=\"5\" valign=\"top\">slac</th>\n",
       "      <th rowspan=\"5\" valign=\"top\">wefakuko_75</th>\n",
       "      <th rowspan=\"5\" valign=\"top\">o</th>\n",
       "      <th>42</th>\n",
       "      <th>1</th>\n",
       "      <th>3</th>\n",
       "      <td>(Atom('O', [4.551302249195925, 2.4281857586249...</td>\n",
       "    </tr>\n",
       "    <tr>\n",
       "      <th rowspan=\"4\" valign=\"top\">43</th>\n",
       "      <th rowspan=\"4\" valign=\"top\">1</th>\n",
       "      <th>0</th>\n",
       "      <td>(Atom('O', [4.551302249195925, 2.4281857586249...</td>\n",
       "    </tr>\n",
       "    <tr>\n",
       "      <th>1</th>\n",
       "      <td>(Atom('O', [4.551302249195925, 2.4281857586249...</td>\n",
       "    </tr>\n",
       "    <tr>\n",
       "      <th>2</th>\n",
       "      <td>(Atom('O', [4.551302249195925, 2.4281857586249...</td>\n",
       "    </tr>\n",
       "    <tr>\n",
       "      <th>3</th>\n",
       "      <td>(Atom('O', [4.551302249195925, 2.4281857586249...</td>\n",
       "    </tr>\n",
       "  </tbody>\n",
       "</table>\n",
       "<p>396 rows × 1 columns</p>\n",
       "</div>"
      ],
      "text/plain": [
       "                                                                                                  slab_oh\n",
       "compenv slab_id     ads active_site att_num att_num_oh                                                   \n",
       "nersc   fosurufu_23 o   43          1       0           (Atom('O', [1.3549083766114212, 0.791460566807...\n",
       "                                            1           (Atom('O', [1.3549083766114212, 0.791460566807...\n",
       "                                            2           (Atom('O', [1.3549083766114212, 0.791460566807...\n",
       "                                            3           (Atom('O', [1.3549083766114212, 0.791460566807...\n",
       "                        45          1       0           (Atom('O', [1.3549083766114212, 0.791460566807...\n",
       "...                                                                                                   ...\n",
       "slac    wefakuko_75 o   42          1       3           (Atom('O', [4.551302249195925, 2.4281857586249...\n",
       "                        43          1       0           (Atom('O', [4.551302249195925, 2.4281857586249...\n",
       "                                            1           (Atom('O', [4.551302249195925, 2.4281857586249...\n",
       "                                            2           (Atom('O', [4.551302249195925, 2.4281857586249...\n",
       "                                            3           (Atom('O', [4.551302249195925, 2.4281857586249...\n",
       "\n",
       "[396 rows x 1 columns]"
      ]
     },
     "execution_count": 19,
     "metadata": {},
     "output_type": "execute_result"
    }
   ],
   "source": [
    "df_slabs_oh"
   ]
  },
  {
   "cell_type": "raw",
   "metadata": {},
   "source": [
    "\n",
    "\n",
    "\n"
   ]
  },
  {
   "cell_type": "code",
   "execution_count": 20,
   "metadata": {
    "jupyter": {
     "source_hidden": true
    }
   },
   "outputs": [],
   "source": [
    "# # df_slabs_oh.loc[]\n",
    "\n",
    "# idx = pd.IndexSlice\n",
    "# df_slabs_oh_i = df_slabs_oh.loc[idx[:, :, :, 84], :]\n",
    "\n",
    "# # io.write(\"bad_slabs.traj\", df_slabs_oh_i.slab_oh.tolist())\n",
    "# # io.write(\"bad_slabs.traj\", )\n",
    "\n",
    "# for i_cnt, i in enumerate(df_slabs_oh_i.slab_oh.tolist()):\n",
    "#     i.write(\"out_data/\" + str(i_cnt).zfill(2) + \".cif\""
   ]
  },
  {
   "cell_type": "code",
   "execution_count": 21,
   "metadata": {
    "jupyter": {
     "source_hidden": true
    }
   },
   "outputs": [],
   "source": [
    "# for i_cnt, slab_i in enumerate(oh_slabs_list):\n",
    "#     slab_i.write(\n",
    "#         os.path.join(\n",
    "#             \"out_data\",\n",
    "#             \"oh_\" + str(i_cnt).zfill(2) + \".traj\"\n",
    "#             )\n",
    "#         )"
   ]
  }
 ],
 "metadata": {
  "jupytext": {
   "formats": "ipynb,py:light"
  },
  "kernelspec": {
   "display_name": "Python [conda env:PROJ_irox_oer] *",
   "language": "python",
   "name": "conda-env-PROJ_irox_oer-py"
  },
  "language_info": {
   "codemirror_mode": {
    "name": "ipython",
    "version": 3
   },
   "file_extension": ".py",
   "mimetype": "text/x-python",
   "name": "python",
   "nbconvert_exporter": "python",
   "pygments_lexer": "ipython3",
   "version": "3.6.11"
  }
 },
 "nbformat": 4,
 "nbformat_minor": 4
}
