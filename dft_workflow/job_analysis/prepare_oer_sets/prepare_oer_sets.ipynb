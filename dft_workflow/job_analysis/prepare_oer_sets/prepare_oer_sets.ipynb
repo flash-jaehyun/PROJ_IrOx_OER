{
 "cells": [
  {
   "cell_type": "markdown",
   "metadata": {},
   "source": [
    "# Preparing OER data sets\n",
    "---"
   ]
  },
  {
   "cell_type": "markdown",
   "metadata": {},
   "source": [
    "# Import Modules"
   ]
  },
  {
   "cell_type": "code",
   "execution_count": 1,
   "metadata": {
    "jupyter": {
     "source_hidden": true
    }
   },
   "outputs": [
    {
     "name": "stdout",
     "output_type": "stream",
     "text": [
      "/home/raulf2012/Dropbox/01_norskov/00_git_repos/PROJ_IrOx_OER/dft_workflow/job_analysis/prepare_oer_sets\n"
     ]
    }
   ],
   "source": [
    "import os\n",
    "print(os.getcwd())\n",
    "import sys\n",
    "\n",
    "import shutil\n",
    "\n",
    "import pandas as pd\n",
    "\n",
    "from IPython.display import display\n",
    "\n",
    "# #########################################################\n",
    "from methods import (\n",
    "    get_df_jobs_anal,\n",
    "    )"
   ]
  },
  {
   "cell_type": "markdown",
   "metadata": {},
   "source": [
    "# Read Data"
   ]
  },
  {
   "cell_type": "code",
   "execution_count": 2,
   "metadata": {},
   "outputs": [],
   "source": [
    "df_jobs_anal = get_df_jobs_anal()"
   ]
  },
  {
   "cell_type": "raw",
   "metadata": {},
   "source": [
    "\n"
   ]
  },
  {
   "cell_type": "code",
   "execution_count": 3,
   "metadata": {},
   "outputs": [],
   "source": [
    "# vinamepa_43\n",
    "\n",
    "# df_index_i = df_jobs_anal.index.to_frame()\n",
    "\n",
    "# \"vinamepa_43\" in df_index_i.slab_id.tolist()"
   ]
  },
  {
   "cell_type": "code",
   "execution_count": 4,
   "metadata": {},
   "outputs": [],
   "source": [
    "# df_jobs_anal.iloc[0:1]"
   ]
  },
  {
   "cell_type": "code",
   "execution_count": 5,
   "metadata": {},
   "outputs": [],
   "source": [
    "# idx = pd.IndexSlice\n",
    "# df_jobs_anal.loc[idx[:, \"vinamepa_43\", :, :, :], :]\n",
    "\n",
    "# df_jobs_anal.loc[(\"vinamepa_43\", )]"
   ]
  },
  {
   "cell_type": "code",
   "execution_count": 6,
   "metadata": {},
   "outputs": [],
   "source": [
    "# assert False"
   ]
  },
  {
   "cell_type": "code",
   "execution_count": 7,
   "metadata": {},
   "outputs": [],
   "source": [
    "df_jobs_anal_done = df_jobs_anal[df_jobs_anal.job_completely_done == True]\n",
    "\n",
    "var = \"o\"\n",
    "df_jobs_anal_i = df_jobs_anal_done.query('ads != @var')\n",
    "\n",
    "# #########################################################\n",
    "data_dict_list = []\n",
    "# #########################################################\n",
    "grouped = df_jobs_anal_i.groupby([\"compenv\", \"slab_id\", \"active_site\", ])\n",
    "for name, group in grouped:\n",
    "    data_dict_i = dict()\n",
    "\n",
    "    # #####################################################\n",
    "    compenv_i = name[0]\n",
    "    slab_id_i = name[1]\n",
    "    active_site_i = name[2]\n",
    "    # #####################################################\n",
    "\n",
    "    idx = pd.IndexSlice\n",
    "    df_jobs_anal_o = df_jobs_anal_done.loc[\n",
    "        idx[compenv_i, slab_id_i, \"o\", \"NaN\", :],\n",
    "        ]\n",
    "\n",
    "    # #########################################################\n",
    "    group_wo = pd.concat([\n",
    "        df_jobs_anal_o,\n",
    "        group,\n",
    "        ])\n",
    "\n",
    "    # display(group_wo)\n",
    "\n",
    "    # #########################################################\n",
    "    df_jobs_anal_index = group_wo.index.tolist()\n",
    "\n",
    "\n",
    "    # #########################################################\n",
    "    df_index_i = group_wo.index.to_frame()\n",
    "\n",
    "    ads_list = df_index_i.ads.tolist()\n",
    "    ads_list_unique = list(set(ads_list))\n",
    "\n",
    "    num_oh_completed = ads_list.count(\"oh\")\n",
    "\n",
    "    o_present = \"o\" in ads_list_unique\n",
    "    oh_present = \"oh\" in ads_list_unique\n",
    "    bare_present = \"bare\" in ads_list_unique\n",
    "\n",
    "    all_ads_present = False\n",
    "    if o_present and oh_present and bare_present:\n",
    "        all_ads_present = True\n",
    "\n",
    "\n",
    "\n",
    "\n",
    "    # #####################################################\n",
    "    data_dict_i[\"compenv\"] = compenv_i\n",
    "    data_dict_i[\"slab_id\"] = slab_id_i\n",
    "    data_dict_i[\"active_site\"] = active_site_i\n",
    "    data_dict_i[\"df_jobs_anal_index\"] = df_jobs_anal_index\n",
    "    data_dict_i[\"ads_list\"] = ads_list\n",
    "    data_dict_i[\"ads_list_unique\"] = ads_list_unique\n",
    "    data_dict_i[\"all_ads_present\"] = all_ads_present\n",
    "    data_dict_i[\"num_oh_completed\"] = num_oh_completed\n",
    "    # #####################################################\n",
    "    data_dict_list.append(data_dict_i)\n",
    "    # #####################################################\n",
    "\n",
    "# #########################################################\n",
    "df_oer_groups = pd.DataFrame(data_dict_list)\n",
    "df_oer_groups = df_oer_groups.set_index([\"compenv\", \"slab_id\", \"active_site\"], drop=False)"
   ]
  },
  {
   "cell_type": "code",
   "execution_count": 8,
   "metadata": {},
   "outputs": [],
   "source": [
    "# num_oh_completed = ads_list.count(\"oh\")\n",
    "\n",
    "# [\"oh\", \"o\", \"oh\"].count(\"ohd\")"
   ]
  },
  {
   "cell_type": "markdown",
   "metadata": {},
   "source": [
    "# Save data to pickle"
   ]
  },
  {
   "cell_type": "code",
   "execution_count": 9,
   "metadata": {},
   "outputs": [],
   "source": [
    "# Pickling data ###########################################\n",
    "import os; import pickle\n",
    "directory = os.path.join(\n",
    "    os.environ[\"PROJ_irox_oer\"],\n",
    "    \"dft_workflow/job_analysis/prepare_oer_sets\",\n",
    "    \"out_data\")\n",
    "if not os.path.exists(directory): os.makedirs(directory)\n",
    "path_i = os.path.join(directory, \"df_oer_groups.pickle\")\n",
    "with open(path_i, \"wb\") as fle:\n",
    "    pickle.dump(df_oer_groups, fle)\n",
    "# #########################################################"
   ]
  },
  {
   "cell_type": "code",
   "execution_count": 10,
   "metadata": {},
   "outputs": [],
   "source": [
    "from methods import get_df_oer_groups\n",
    "\n",
    "df_oer_groups_tmp = get_df_oer_groups()"
   ]
  },
  {
   "cell_type": "code",
   "execution_count": 15,
   "metadata": {},
   "outputs": [
    {
     "data": {
      "text/html": [
       "<div>\n",
       "<style scoped>\n",
       "    .dataframe tbody tr th:only-of-type {\n",
       "        vertical-align: middle;\n",
       "    }\n",
       "\n",
       "    .dataframe tbody tr th {\n",
       "        vertical-align: top;\n",
       "    }\n",
       "\n",
       "    .dataframe thead th {\n",
       "        text-align: right;\n",
       "    }\n",
       "</style>\n",
       "<table border=\"1\" class=\"dataframe\">\n",
       "  <thead>\n",
       "    <tr style=\"text-align: right;\">\n",
       "      <th></th>\n",
       "      <th></th>\n",
       "      <th></th>\n",
       "      <th>compenv</th>\n",
       "      <th>slab_id</th>\n",
       "      <th>active_site</th>\n",
       "      <th>df_jobs_anal_index</th>\n",
       "      <th>ads_list</th>\n",
       "      <th>ads_list_unique</th>\n",
       "      <th>all_ads_present</th>\n",
       "      <th>num_oh_completed</th>\n",
       "    </tr>\n",
       "    <tr>\n",
       "      <th>compenv</th>\n",
       "      <th>slab_id</th>\n",
       "      <th>active_site</th>\n",
       "      <th></th>\n",
       "      <th></th>\n",
       "      <th></th>\n",
       "      <th></th>\n",
       "      <th></th>\n",
       "      <th></th>\n",
       "      <th></th>\n",
       "      <th></th>\n",
       "    </tr>\n",
       "  </thead>\n",
       "  <tbody>\n",
       "    <tr>\n",
       "      <th rowspan=\"5\" valign=\"top\">nersc</th>\n",
       "      <th>fosurufu_23</th>\n",
       "      <th>45.0</th>\n",
       "      <td>nersc</td>\n",
       "      <td>fosurufu_23</td>\n",
       "      <td>45.0</td>\n",
       "      <td>[(nersc, fosurufu_23, o, NaN, 1), (nersc, fosu...</td>\n",
       "      <td>[o, bare]</td>\n",
       "      <td>[o, bare]</td>\n",
       "      <td>False</td>\n",
       "      <td>0</td>\n",
       "    </tr>\n",
       "    <tr>\n",
       "      <th>galopuba_86</th>\n",
       "      <th>21.0</th>\n",
       "      <td>nersc</td>\n",
       "      <td>galopuba_86</td>\n",
       "      <td>21.0</td>\n",
       "      <td>[(nersc, galopuba_86, o, NaN, 1), (nersc, galo...</td>\n",
       "      <td>[o, bare]</td>\n",
       "      <td>[o, bare]</td>\n",
       "      <td>False</td>\n",
       "      <td>0</td>\n",
       "    </tr>\n",
       "    <tr>\n",
       "      <th rowspan=\"3\" valign=\"top\">hadogato_47</th>\n",
       "      <th>84.0</th>\n",
       "      <td>nersc</td>\n",
       "      <td>hadogato_47</td>\n",
       "      <td>84.0</td>\n",
       "      <td>[(nersc, hadogato_47, o, NaN, 1), (nersc, hado...</td>\n",
       "      <td>[o, bare]</td>\n",
       "      <td>[o, bare]</td>\n",
       "      <td>False</td>\n",
       "      <td>0</td>\n",
       "    </tr>\n",
       "    <tr>\n",
       "      <th>86.0</th>\n",
       "      <td>nersc</td>\n",
       "      <td>hadogato_47</td>\n",
       "      <td>86.0</td>\n",
       "      <td>[(nersc, hadogato_47, o, NaN, 1), (nersc, hado...</td>\n",
       "      <td>[o, bare]</td>\n",
       "      <td>[o, bare]</td>\n",
       "      <td>False</td>\n",
       "      <td>0</td>\n",
       "    </tr>\n",
       "    <tr>\n",
       "      <th>87.0</th>\n",
       "      <td>nersc</td>\n",
       "      <td>hadogato_47</td>\n",
       "      <td>87.0</td>\n",
       "      <td>[(nersc, hadogato_47, o, NaN, 1), (nersc, hado...</td>\n",
       "      <td>[o, bare]</td>\n",
       "      <td>[o, bare]</td>\n",
       "      <td>False</td>\n",
       "      <td>0</td>\n",
       "    </tr>\n",
       "  </tbody>\n",
       "</table>\n",
       "</div>"
      ],
      "text/plain": [
       "                                compenv      slab_id  active_site  \\\n",
       "compenv slab_id     active_site                                     \n",
       "nersc   fosurufu_23 45.0          nersc  fosurufu_23         45.0   \n",
       "        galopuba_86 21.0          nersc  galopuba_86         21.0   \n",
       "        hadogato_47 84.0          nersc  hadogato_47         84.0   \n",
       "                    86.0          nersc  hadogato_47         86.0   \n",
       "                    87.0          nersc  hadogato_47         87.0   \n",
       "\n",
       "                                                                df_jobs_anal_index  \\\n",
       "compenv slab_id     active_site                                                      \n",
       "nersc   fosurufu_23 45.0         [(nersc, fosurufu_23, o, NaN, 1), (nersc, fosu...   \n",
       "        galopuba_86 21.0         [(nersc, galopuba_86, o, NaN, 1), (nersc, galo...   \n",
       "        hadogato_47 84.0         [(nersc, hadogato_47, o, NaN, 1), (nersc, hado...   \n",
       "                    86.0         [(nersc, hadogato_47, o, NaN, 1), (nersc, hado...   \n",
       "                    87.0         [(nersc, hadogato_47, o, NaN, 1), (nersc, hado...   \n",
       "\n",
       "                                  ads_list ads_list_unique  all_ads_present  \\\n",
       "compenv slab_id     active_site                                               \n",
       "nersc   fosurufu_23 45.0         [o, bare]       [o, bare]            False   \n",
       "        galopuba_86 21.0         [o, bare]       [o, bare]            False   \n",
       "        hadogato_47 84.0         [o, bare]       [o, bare]            False   \n",
       "                    86.0         [o, bare]       [o, bare]            False   \n",
       "                    87.0         [o, bare]       [o, bare]            False   \n",
       "\n",
       "                                 num_oh_completed  \n",
       "compenv slab_id     active_site                    \n",
       "nersc   fosurufu_23 45.0                        0  \n",
       "        galopuba_86 21.0                        0  \n",
       "        hadogato_47 84.0                        0  \n",
       "                    86.0                        0  \n",
       "                    87.0                        0  "
      ]
     },
     "execution_count": 15,
     "metadata": {},
     "output_type": "execute_result"
    }
   ],
   "source": [
    "df_oer_groups_tmp.head()\n",
    "# df_oer_groups_tmp"
   ]
  },
  {
   "cell_type": "raw",
   "metadata": {},
   "source": [
    "\n",
    "\n"
   ]
  },
  {
   "cell_type": "code",
   "execution_count": 12,
   "metadata": {
    "jupyter": {
     "source_hidden": true
    }
   },
   "outputs": [],
   "source": [
    "# \"vinamepa_43\" in df_oer_groups.slab_id.tolist()"
   ]
  },
  {
   "cell_type": "code",
   "execution_count": 13,
   "metadata": {
    "jupyter": {
     "source_hidden": true
    }
   },
   "outputs": [],
   "source": [
    "# # #########################################################\n",
    "# import pickle; import os\n",
    "# directory = os.path.join(\n",
    "#     os.environ[\"PROJ_irox_oer\"],\n",
    "#     \"dft_workflow/job_analysis/prepare_oer_sets\",\n",
    "#     \"out_data\")\n",
    "# path_i = os.path.join(directory, \"df_oer_groups.pickle\")\n",
    "# with open(path_i, \"rb\") as fle:\n",
    "#     df_oer_groups = pickle.load(fle)\n",
    "# # #########################################################"
   ]
  }
 ],
 "metadata": {
  "jupytext": {
   "formats": "ipynb,py:light"
  },
  "kernelspec": {
   "display_name": "Python [conda env:PROJ_irox_oer] *",
   "language": "python",
   "name": "conda-env-PROJ_irox_oer-py"
  },
  "language_info": {
   "codemirror_mode": {
    "name": "ipython",
    "version": 3
   },
   "file_extension": ".py",
   "mimetype": "text/x-python",
   "name": "python",
   "nbconvert_exporter": "python",
   "pygments_lexer": "ipython3",
   "version": "3.6.11"
  }
 },
 "nbformat": 4,
 "nbformat_minor": 4
}
