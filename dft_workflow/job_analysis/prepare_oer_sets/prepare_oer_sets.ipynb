{
 "cells": [
  {
   "cell_type": "markdown",
   "metadata": {},
   "source": [
    "# Preparing OER data sets\n",
    "---"
   ]
  },
  {
   "cell_type": "markdown",
   "metadata": {},
   "source": [
    "# Import Modules"
   ]
  },
  {
   "cell_type": "code",
   "execution_count": 1,
   "metadata": {},
   "outputs": [
    {
     "name": "stdout",
     "output_type": "stream",
     "text": [
      "/home/raulf2012/Dropbox/01_norskov/00_git_repos/PROJ_IrOx_OER/dft_workflow/job_analysis/prepare_oer_sets\n"
     ]
    }
   ],
   "source": [
    "import os\n",
    "print(os.getcwd())\n",
    "import sys\n",
    "\n",
    "import shutil\n",
    "\n",
    "import pandas as pd\n",
    "\n",
    "from IPython.display import display\n",
    "\n",
    "# #########################################################\n",
    "from methods import (\n",
    "    get_df_jobs_anal,\n",
    "    get_df_jobs_data,\n",
    "    )"
   ]
  },
  {
   "cell_type": "markdown",
   "metadata": {},
   "source": [
    "# Read Data"
   ]
  },
  {
   "cell_type": "code",
   "execution_count": 2,
   "metadata": {},
   "outputs": [],
   "source": [
    "df_jobs_anal = get_df_jobs_anal()\n",
    "\n",
    "df_jobs_data = get_df_jobs_data()"
   ]
  },
  {
   "cell_type": "raw",
   "metadata": {},
   "source": [
    "\n"
   ]
  },
  {
   "cell_type": "code",
   "execution_count": 3,
   "metadata": {},
   "outputs": [],
   "source": [
    "df_jobs_anal_done = df_jobs_anal[df_jobs_anal.job_completely_done == True]\n",
    "\n",
    "var = \"o\"\n",
    "df_jobs_anal_i = df_jobs_anal_done.query('ads != @var')\n",
    "\n",
    "# #########################################################\n",
    "data_dict_list = []\n",
    "# #########################################################\n",
    "grouped = df_jobs_anal_i.groupby([\"compenv\", \"slab_id\", \"active_site\", ])\n",
    "for name, group in grouped:\n",
    "# if True:\n",
    "\n",
    "    # print(\"TEMP\")\n",
    "    # name = ('sherlock', 'vuvunira_55', 75.0)\n",
    "    # group = grouped.get_group(name)\n",
    "\n",
    "    data_dict_i = dict()\n",
    "\n",
    "    # #####################################################\n",
    "    compenv_i = name[0]\n",
    "    slab_id_i = name[1]\n",
    "    active_site_i = name[2]\n",
    "    # #####################################################\n",
    "\n",
    "    idx = pd.IndexSlice\n",
    "    df_jobs_anal_o = df_jobs_anal_done.loc[\n",
    "        idx[compenv_i, slab_id_i, \"o\", \"NaN\", :],\n",
    "        ]\n",
    "\n",
    "    # #####################################################\n",
    "    group_wo = pd.concat([\n",
    "        df_jobs_anal_o,\n",
    "        group,\n",
    "        ])\n",
    "\n",
    "    # display(group_wo)\n",
    "\n",
    "    # #####################################################\n",
    "    df_jobs_anal_index = group_wo.index.tolist()\n",
    "\n",
    "\n",
    "    # #####################################################\n",
    "    df_index_i = group_wo.index.to_frame()\n",
    "\n",
    "    ads_list = df_index_i.ads.tolist()\n",
    "    ads_list_unique = list(set(ads_list))\n",
    "\n",
    "    num_oh_completed = ads_list.count(\"oh\")\n",
    "\n",
    "    o_present = \"o\" in ads_list_unique\n",
    "    oh_present = \"oh\" in ads_list_unique\n",
    "    bare_present = \"bare\" in ads_list_unique\n",
    "\n",
    "    all_ads_present = False\n",
    "    if o_present and oh_present and bare_present:\n",
    "        all_ads_present = True\n",
    "\n",
    "\n",
    "    # #####################################################\n",
    "    # Finding whether *O rerun from *OH exists\n",
    "    var = \"o\"\n",
    "    group_o = group_wo.query('ads == @var')\n",
    "\n",
    "    df_data_o = df_jobs_data.loc[\n",
    "        group_o.job_id_max\n",
    "        ]\n",
    "\n",
    "    tmp = df_data_o[df_data_o.rerun_from_oh == True]\n",
    "\n",
    "    # print(name, tmp.shape[0])\n",
    "\n",
    "\n",
    "    # #####################################################\n",
    "\n",
    "\n",
    "    # #####################################################\n",
    "    data_dict_i[\"compenv\"] = compenv_i\n",
    "    data_dict_i[\"slab_id\"] = slab_id_i\n",
    "    data_dict_i[\"active_site\"] = active_site_i\n",
    "    data_dict_i[\"df_jobs_anal_index\"] = df_jobs_anal_index\n",
    "    data_dict_i[\"ads_list\"] = ads_list\n",
    "    data_dict_i[\"ads_list_unique\"] = ads_list_unique\n",
    "    data_dict_i[\"all_ads_present\"] = all_ads_present\n",
    "    data_dict_i[\"num_oh_completed\"] = num_oh_completed\n",
    "    # #####################################################\n",
    "    data_dict_list.append(data_dict_i)\n",
    "    # #####################################################\n",
    "\n",
    "# #########################################################\n",
    "df_oer_groups = pd.DataFrame(data_dict_list)\n",
    "df_oer_groups = df_oer_groups.set_index([\"compenv\", \"slab_id\", \"active_site\"], drop=False)"
   ]
  },
  {
   "cell_type": "code",
   "execution_count": 4,
   "metadata": {},
   "outputs": [
    {
     "data": {
      "text/html": [
       "<div>\n",
       "<style scoped>\n",
       "    .dataframe tbody tr th:only-of-type {\n",
       "        vertical-align: middle;\n",
       "    }\n",
       "\n",
       "    .dataframe tbody tr th {\n",
       "        vertical-align: top;\n",
       "    }\n",
       "\n",
       "    .dataframe thead th {\n",
       "        text-align: right;\n",
       "    }\n",
       "</style>\n",
       "<table border=\"1\" class=\"dataframe\">\n",
       "  <thead>\n",
       "    <tr style=\"text-align: right;\">\n",
       "      <th></th>\n",
       "      <th></th>\n",
       "      <th></th>\n",
       "      <th>compenv</th>\n",
       "      <th>slab_id</th>\n",
       "      <th>active_site</th>\n",
       "      <th>df_jobs_anal_index</th>\n",
       "      <th>ads_list</th>\n",
       "      <th>ads_list_unique</th>\n",
       "      <th>all_ads_present</th>\n",
       "      <th>num_oh_completed</th>\n",
       "    </tr>\n",
       "    <tr>\n",
       "      <th>compenv</th>\n",
       "      <th>slab_id</th>\n",
       "      <th>active_site</th>\n",
       "      <th></th>\n",
       "      <th></th>\n",
       "      <th></th>\n",
       "      <th></th>\n",
       "      <th></th>\n",
       "      <th></th>\n",
       "      <th></th>\n",
       "      <th></th>\n",
       "    </tr>\n",
       "  </thead>\n",
       "  <tbody>\n",
       "    <tr>\n",
       "      <th rowspan=\"5\" valign=\"top\">nersc</th>\n",
       "      <th rowspan=\"2\" valign=\"top\">fosurufu_23</th>\n",
       "      <th>43.0</th>\n",
       "      <td>nersc</td>\n",
       "      <td>fosurufu_23</td>\n",
       "      <td>43.0</td>\n",
       "      <td>[(nersc, fosurufu_23, o, NaN, 1), (nersc, fosu...</td>\n",
       "      <td>[o, bare]</td>\n",
       "      <td>[bare, o]</td>\n",
       "      <td>False</td>\n",
       "      <td>0</td>\n",
       "    </tr>\n",
       "    <tr>\n",
       "      <th>45.0</th>\n",
       "      <td>nersc</td>\n",
       "      <td>fosurufu_23</td>\n",
       "      <td>45.0</td>\n",
       "      <td>[(nersc, fosurufu_23, o, NaN, 1), (nersc, fosu...</td>\n",
       "      <td>[o, bare]</td>\n",
       "      <td>[bare, o]</td>\n",
       "      <td>False</td>\n",
       "      <td>0</td>\n",
       "    </tr>\n",
       "    <tr>\n",
       "      <th>galopuba_86</th>\n",
       "      <th>21.0</th>\n",
       "      <td>nersc</td>\n",
       "      <td>galopuba_86</td>\n",
       "      <td>21.0</td>\n",
       "      <td>[(nersc, galopuba_86, o, NaN, 1), (nersc, galo...</td>\n",
       "      <td>[o, bare]</td>\n",
       "      <td>[bare, o]</td>\n",
       "      <td>False</td>\n",
       "      <td>0</td>\n",
       "    </tr>\n",
       "    <tr>\n",
       "      <th rowspan=\"2\" valign=\"top\">hadogato_47</th>\n",
       "      <th>84.0</th>\n",
       "      <td>nersc</td>\n",
       "      <td>hadogato_47</td>\n",
       "      <td>84.0</td>\n",
       "      <td>[(nersc, hadogato_47, o, NaN, 1), (nersc, hado...</td>\n",
       "      <td>[o, bare]</td>\n",
       "      <td>[bare, o]</td>\n",
       "      <td>False</td>\n",
       "      <td>0</td>\n",
       "    </tr>\n",
       "    <tr>\n",
       "      <th>86.0</th>\n",
       "      <td>nersc</td>\n",
       "      <td>hadogato_47</td>\n",
       "      <td>86.0</td>\n",
       "      <td>[(nersc, hadogato_47, o, NaN, 1), (nersc, hado...</td>\n",
       "      <td>[o, bare]</td>\n",
       "      <td>[bare, o]</td>\n",
       "      <td>False</td>\n",
       "      <td>0</td>\n",
       "    </tr>\n",
       "    <tr>\n",
       "      <th>...</th>\n",
       "      <th>...</th>\n",
       "      <th>...</th>\n",
       "      <td>...</td>\n",
       "      <td>...</td>\n",
       "      <td>...</td>\n",
       "      <td>...</td>\n",
       "      <td>...</td>\n",
       "      <td>...</td>\n",
       "      <td>...</td>\n",
       "      <td>...</td>\n",
       "    </tr>\n",
       "    <tr>\n",
       "      <th rowspan=\"5\" valign=\"top\">slac</th>\n",
       "      <th>vuraruna_65</th>\n",
       "      <th>50.0</th>\n",
       "      <td>slac</td>\n",
       "      <td>vuraruna_65</td>\n",
       "      <td>50.0</td>\n",
       "      <td>[(slac, vuraruna_65, o, NaN, 1), (slac, vuraru...</td>\n",
       "      <td>[o, bare, bare, oh, oh, oh, oh]</td>\n",
       "      <td>[bare, oh, o]</td>\n",
       "      <td>True</td>\n",
       "      <td>4</td>\n",
       "    </tr>\n",
       "    <tr>\n",
       "      <th>wibedipi_00</th>\n",
       "      <th>19.0</th>\n",
       "      <td>slac</td>\n",
       "      <td>wibedipi_00</td>\n",
       "      <td>19.0</td>\n",
       "      <td>[(slac, wibedipi_00, o, NaN, 1), (slac, wibedi...</td>\n",
       "      <td>[o, bare, bare, oh, oh, oh, oh]</td>\n",
       "      <td>[bare, oh, o]</td>\n",
       "      <td>True</td>\n",
       "      <td>4</td>\n",
       "    </tr>\n",
       "    <tr>\n",
       "      <th rowspan=\"2\" valign=\"top\">wihuwone_95</th>\n",
       "      <th>23.0</th>\n",
       "      <td>slac</td>\n",
       "      <td>wihuwone_95</td>\n",
       "      <td>23.0</td>\n",
       "      <td>[(slac, wihuwone_95, o, NaN, 1), (slac, wihuwo...</td>\n",
       "      <td>[o, bare, bare, oh, oh, oh, oh]</td>\n",
       "      <td>[bare, oh, o]</td>\n",
       "      <td>True</td>\n",
       "      <td>4</td>\n",
       "    </tr>\n",
       "    <tr>\n",
       "      <th>26.0</th>\n",
       "      <td>slac</td>\n",
       "      <td>wihuwone_95</td>\n",
       "      <td>26.0</td>\n",
       "      <td>[(slac, wihuwone_95, o, NaN, 1), (slac, wihuwo...</td>\n",
       "      <td>[o, bare, bare, oh, oh, oh, oh]</td>\n",
       "      <td>[bare, oh, o]</td>\n",
       "      <td>True</td>\n",
       "      <td>4</td>\n",
       "    </tr>\n",
       "    <tr>\n",
       "      <th>wiwiwetu_44</th>\n",
       "      <th>19.0</th>\n",
       "      <td>slac</td>\n",
       "      <td>wiwiwetu_44</td>\n",
       "      <td>19.0</td>\n",
       "      <td>[(slac, wiwiwetu_44, o, NaN, 1), (slac, wiwiwe...</td>\n",
       "      <td>[o, bare, bare, oh, oh, oh, oh]</td>\n",
       "      <td>[bare, oh, o]</td>\n",
       "      <td>True</td>\n",
       "      <td>4</td>\n",
       "    </tr>\n",
       "  </tbody>\n",
       "</table>\n",
       "<p>99 rows × 8 columns</p>\n",
       "</div>"
      ],
      "text/plain": [
       "                                compenv      slab_id  active_site  \\\n",
       "compenv slab_id     active_site                                     \n",
       "nersc   fosurufu_23 43.0          nersc  fosurufu_23         43.0   \n",
       "                    45.0          nersc  fosurufu_23         45.0   \n",
       "        galopuba_86 21.0          nersc  galopuba_86         21.0   \n",
       "        hadogato_47 84.0          nersc  hadogato_47         84.0   \n",
       "                    86.0          nersc  hadogato_47         86.0   \n",
       "...                                 ...          ...          ...   \n",
       "slac    vuraruna_65 50.0           slac  vuraruna_65         50.0   \n",
       "        wibedipi_00 19.0           slac  wibedipi_00         19.0   \n",
       "        wihuwone_95 23.0           slac  wihuwone_95         23.0   \n",
       "                    26.0           slac  wihuwone_95         26.0   \n",
       "        wiwiwetu_44 19.0           slac  wiwiwetu_44         19.0   \n",
       "\n",
       "                                                                df_jobs_anal_index  \\\n",
       "compenv slab_id     active_site                                                      \n",
       "nersc   fosurufu_23 43.0         [(nersc, fosurufu_23, o, NaN, 1), (nersc, fosu...   \n",
       "                    45.0         [(nersc, fosurufu_23, o, NaN, 1), (nersc, fosu...   \n",
       "        galopuba_86 21.0         [(nersc, galopuba_86, o, NaN, 1), (nersc, galo...   \n",
       "        hadogato_47 84.0         [(nersc, hadogato_47, o, NaN, 1), (nersc, hado...   \n",
       "                    86.0         [(nersc, hadogato_47, o, NaN, 1), (nersc, hado...   \n",
       "...                                                                            ...   \n",
       "slac    vuraruna_65 50.0         [(slac, vuraruna_65, o, NaN, 1), (slac, vuraru...   \n",
       "        wibedipi_00 19.0         [(slac, wibedipi_00, o, NaN, 1), (slac, wibedi...   \n",
       "        wihuwone_95 23.0         [(slac, wihuwone_95, o, NaN, 1), (slac, wihuwo...   \n",
       "                    26.0         [(slac, wihuwone_95, o, NaN, 1), (slac, wihuwo...   \n",
       "        wiwiwetu_44 19.0         [(slac, wiwiwetu_44, o, NaN, 1), (slac, wiwiwe...   \n",
       "\n",
       "                                                        ads_list  \\\n",
       "compenv slab_id     active_site                                    \n",
       "nersc   fosurufu_23 43.0                               [o, bare]   \n",
       "                    45.0                               [o, bare]   \n",
       "        galopuba_86 21.0                               [o, bare]   \n",
       "        hadogato_47 84.0                               [o, bare]   \n",
       "                    86.0                               [o, bare]   \n",
       "...                                                          ...   \n",
       "slac    vuraruna_65 50.0         [o, bare, bare, oh, oh, oh, oh]   \n",
       "        wibedipi_00 19.0         [o, bare, bare, oh, oh, oh, oh]   \n",
       "        wihuwone_95 23.0         [o, bare, bare, oh, oh, oh, oh]   \n",
       "                    26.0         [o, bare, bare, oh, oh, oh, oh]   \n",
       "        wiwiwetu_44 19.0         [o, bare, bare, oh, oh, oh, oh]   \n",
       "\n",
       "                                ads_list_unique  all_ads_present  \\\n",
       "compenv slab_id     active_site                                    \n",
       "nersc   fosurufu_23 43.0              [bare, o]            False   \n",
       "                    45.0              [bare, o]            False   \n",
       "        galopuba_86 21.0              [bare, o]            False   \n",
       "        hadogato_47 84.0              [bare, o]            False   \n",
       "                    86.0              [bare, o]            False   \n",
       "...                                         ...              ...   \n",
       "slac    vuraruna_65 50.0          [bare, oh, o]             True   \n",
       "        wibedipi_00 19.0          [bare, oh, o]             True   \n",
       "        wihuwone_95 23.0          [bare, oh, o]             True   \n",
       "                    26.0          [bare, oh, o]             True   \n",
       "        wiwiwetu_44 19.0          [bare, oh, o]             True   \n",
       "\n",
       "                                 num_oh_completed  \n",
       "compenv slab_id     active_site                    \n",
       "nersc   fosurufu_23 43.0                        0  \n",
       "                    45.0                        0  \n",
       "        galopuba_86 21.0                        0  \n",
       "        hadogato_47 84.0                        0  \n",
       "                    86.0                        0  \n",
       "...                                           ...  \n",
       "slac    vuraruna_65 50.0                        4  \n",
       "        wibedipi_00 19.0                        4  \n",
       "        wihuwone_95 23.0                        4  \n",
       "                    26.0                        4  \n",
       "        wiwiwetu_44 19.0                        4  \n",
       "\n",
       "[99 rows x 8 columns]"
      ]
     },
     "execution_count": 4,
     "metadata": {},
     "output_type": "execute_result"
    }
   ],
   "source": [
    "df_oer_groups"
   ]
  },
  {
   "cell_type": "code",
   "execution_count": 5,
   "metadata": {},
   "outputs": [
    {
     "ename": "AssertionError",
     "evalue": "",
     "output_type": "error",
     "traceback": [
      "\u001b[0;31m---------------------------------------------------------------------------\u001b[0m",
      "\u001b[0;31mAssertionError\u001b[0m                            Traceback (most recent call last)",
      "\u001b[0;32m<ipython-input-5-a871fdc9ebee>\u001b[0m in \u001b[0;36m<module>\u001b[0;34m\u001b[0m\n\u001b[0;32m----> 1\u001b[0;31m \u001b[0;32massert\u001b[0m \u001b[0;32mFalse\u001b[0m\u001b[0;34m\u001b[0m\u001b[0;34m\u001b[0m\u001b[0m\n\u001b[0m",
      "\u001b[0;31mAssertionError\u001b[0m: "
     ]
    }
   ],
   "source": [
    "assert False"
   ]
  },
  {
   "cell_type": "markdown",
   "metadata": {},
   "source": [
    "# Save data to pickle"
   ]
  },
  {
   "cell_type": "code",
   "execution_count": null,
   "metadata": {},
   "outputs": [],
   "source": [
    "# Pickling data ###########################################\n",
    "import os; import pickle\n",
    "directory = os.path.join(\n",
    "    os.environ[\"PROJ_irox_oer\"],\n",
    "    \"dft_workflow/job_analysis/prepare_oer_sets\",\n",
    "    \"out_data\")\n",
    "if not os.path.exists(directory): os.makedirs(directory)\n",
    "path_i = os.path.join(directory, \"df_oer_groups.pickle\")\n",
    "with open(path_i, \"wb\") as fle:\n",
    "    pickle.dump(df_oer_groups, fle)\n",
    "# #########################################################"
   ]
  },
  {
   "cell_type": "code",
   "execution_count": null,
   "metadata": {},
   "outputs": [],
   "source": [
    "from methods import get_df_oer_groups\n",
    "\n",
    "df_oer_groups_tmp = get_df_oer_groups()"
   ]
  },
  {
   "cell_type": "code",
   "execution_count": null,
   "metadata": {},
   "outputs": [],
   "source": [
    "df_oer_groups_tmp.head()\n",
    "# df_oer_groups_tmp"
   ]
  },
  {
   "cell_type": "raw",
   "metadata": {},
   "source": [
    "\n",
    "\n"
   ]
  },
  {
   "cell_type": "code",
   "execution_count": null,
   "metadata": {
    "jupyter": {
     "source_hidden": true
    }
   },
   "outputs": [],
   "source": [
    "# \"vinamepa_43\" in df_oer_groups.slab_id.tolist()"
   ]
  },
  {
   "cell_type": "code",
   "execution_count": null,
   "metadata": {
    "jupyter": {
     "source_hidden": true
    }
   },
   "outputs": [],
   "source": [
    "# # #########################################################\n",
    "# import pickle; import os\n",
    "# directory = os.path.join(\n",
    "#     os.environ[\"PROJ_irox_oer\"],\n",
    "#     \"dft_workflow/job_analysis/prepare_oer_sets\",\n",
    "#     \"out_data\")\n",
    "# path_i = os.path.join(directory, \"df_oer_groups.pickle\")\n",
    "# with open(path_i, \"rb\") as fle:\n",
    "#     df_oer_groups = pickle.load(fle)\n",
    "# # #########################################################"
   ]
  },
  {
   "cell_type": "code",
   "execution_count": null,
   "metadata": {
    "jupyter": {
     "source_hidden": true
    }
   },
   "outputs": [],
   "source": [
    "# vinamepa_43\n",
    "\n",
    "# df_index_i = df_jobs_anal.index.to_frame()\n",
    "\n",
    "# \"vinamepa_43\" in df_index_i.slab_id.tolist()"
   ]
  },
  {
   "cell_type": "code",
   "execution_count": null,
   "metadata": {
    "jupyter": {
     "source_hidden": true
    }
   },
   "outputs": [],
   "source": [
    "# df_jobs_anal.iloc[0:1]"
   ]
  },
  {
   "cell_type": "code",
   "execution_count": null,
   "metadata": {
    "jupyter": {
     "source_hidden": true
    }
   },
   "outputs": [],
   "source": [
    "# idx = pd.IndexSlice\n",
    "# df_jobs_anal.loc[idx[:, \"vinamepa_43\", :, :, :], :]\n",
    "\n",
    "# df_jobs_anal.loc[(\"vinamepa_43\", )]"
   ]
  },
  {
   "cell_type": "code",
   "execution_count": null,
   "metadata": {
    "jupyter": {
     "source_hidden": true
    }
   },
   "outputs": [],
   "source": [
    "# assert False"
   ]
  },
  {
   "cell_type": "code",
   "execution_count": null,
   "metadata": {
    "jupyter": {
     "source_hidden": true
    }
   },
   "outputs": [],
   "source": [
    "# print(10 * \"TEMP \")\n",
    "\n",
    "# df_index_i = df_jobs_anal.index.to_frame()\n",
    "# df_index_i = df_index_i[\n",
    "#     (df_index_i.compenv == \"sherlock\") & \\\n",
    "#     (df_index_i.slab_id == \"kenukami_73\") & \\\n",
    "#     (df_index_i.active_site == 84.) & \\\n",
    "#     [True for i in range(len(df_index_i))]\n",
    "#     ]\n",
    "\n",
    "# df_jobs_anal = df_jobs_anal.loc[\n",
    "#     df_index_i.index\n",
    "#     ]"
   ]
  },
  {
   "cell_type": "code",
   "execution_count": null,
   "metadata": {
    "jupyter": {
     "source_hidden": true
    }
   },
   "outputs": [],
   "source": [
    "# num_oh_completed = ads_list.count(\"oh\")\n",
    "\n",
    "# [\"oh\", \"o\", \"oh\"].count(\"ohd\")"
   ]
  },
  {
   "cell_type": "code",
   "execution_count": null,
   "metadata": {
    "jupyter": {
     "source_hidden": true
    }
   },
   "outputs": [],
   "source": [
    "# # df_jobs_data_i = df_jobs_data.loc[\n",
    "# #     group_wo.job_id_max\n",
    "# #     ]\n",
    "# # df_jobs_data_i\n",
    "\n",
    "# # group_wo\n",
    "\n",
    "# var = \"o\"\n",
    "# group_o = group_wo.query('ads == @var')\n",
    "\n",
    "# # group_o\n",
    "\n",
    "# df_data_o = df_jobs_data.loc[\n",
    "#     group_o.job_id_max\n",
    "#     ]\n",
    "\n",
    "# tmp = df_data_o[df_data_o.rerun_from_oh == True]\n",
    "\n",
    "# tmp"
   ]
  }
 ],
 "metadata": {
  "jupytext": {
   "formats": "ipynb,py:light"
  },
  "kernelspec": {
   "display_name": "Python [conda env:PROJ_irox_oer] *",
   "language": "python",
   "name": "conda-env-PROJ_irox_oer-py"
  },
  "language_info": {
   "codemirror_mode": {
    "name": "ipython",
    "version": 3
   },
   "file_extension": ".py",
   "mimetype": "text/x-python",
   "name": "python",
   "nbconvert_exporter": "python",
   "pygments_lexer": "ipython3",
   "version": "3.6.11"
  }
 },
 "nbformat": 4,
 "nbformat_minor": 4
}
