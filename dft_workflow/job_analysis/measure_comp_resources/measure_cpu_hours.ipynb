{
 "cells": [
  {
   "cell_type": "markdown",
   "metadata": {},
   "source": [
    "# Measuring the amount of computational resources used\n",
    "---\n",
    "\n",
    "TODO:\n",
    "  * I haven't incorporated the *O slabs because they don't cut cleany across OER groups"
   ]
  },
  {
   "cell_type": "markdown",
   "metadata": {},
   "source": [
    "# Import Modules"
   ]
  },
  {
   "cell_type": "code",
   "execution_count": 1,
   "metadata": {
    "jupyter": {
     "source_hidden": true
    }
   },
   "outputs": [
    {
     "name": "stdout",
     "output_type": "stream",
     "text": [
      "/home/raulf2012/Dropbox/01_norskov/00_git_repos/PROJ_IrOx_OER/dft_workflow/measure_comp_resources\n"
     ]
    }
   ],
   "source": [
    "import os\n",
    "print(os.getcwd())\n",
    "import sys\n",
    "\n",
    "from pathlib import Path\n",
    "\n",
    "import pandas as pd\n",
    "import numpy as np\n",
    "\n",
    "# #########################################################\n",
    "from local_methods import calculate_loop_time_outcar"
   ]
  },
  {
   "cell_type": "markdown",
   "metadata": {},
   "source": [
    "# Script Inputs"
   ]
  },
  {
   "cell_type": "code",
   "execution_count": 2,
   "metadata": {},
   "outputs": [],
   "source": [
    "verbose = False"
   ]
  },
  {
   "cell_type": "markdown",
   "metadata": {},
   "source": [
    "# Read Data"
   ]
  },
  {
   "cell_type": "code",
   "execution_count": 3,
   "metadata": {},
   "outputs": [],
   "source": [
    "from methods import get_df_jobs_paths, get_df_jobs\n",
    "from methods import get_df_ads\n",
    "\n",
    "df_jobs_paths = get_df_jobs_paths()\n",
    "df_jobs = get_df_jobs()\n",
    "df_ads = get_df_ads()"
   ]
  },
  {
   "cell_type": "code",
   "execution_count": 4,
   "metadata": {},
   "outputs": [],
   "source": [
    "df_ads_i = df_ads[~df_ads.g_oh.isnull()]\n",
    "# df_ads_i"
   ]
  },
  {
   "cell_type": "code",
   "execution_count": 5,
   "metadata": {},
   "outputs": [],
   "source": [
    "data_dict_list = []\n",
    "total_time = 0.\n",
    "for i_cnt, row_i in df_ads_i.iterrows():\n",
    "\n",
    "    # #########################################################\n",
    "    compenv_i = row_i.compenv\n",
    "    slab_id_i = row_i.slab_id\n",
    "    active_site_i = row_i.active_site\n",
    "    job_id_o_i = row_i.job_id_o\n",
    "    job_id_oh_i = row_i.job_id_oh\n",
    "    job_id_bare_i = row_i.job_id_bare\n",
    "    # #########################################################\n",
    "\n",
    "\n",
    "    df_jobs_i = df_jobs[\n",
    "        (df_jobs.compenv == compenv_i) & \\\n",
    "        (df_jobs.slab_id == slab_id_i) & \\\n",
    "        (df_jobs.active_site == active_site_i) & \\\n",
    "        [True for i in range(len(df_jobs))]\n",
    "        ]\n",
    "\n",
    "    for job_id_j, row_j in df_jobs_i.iterrows():\n",
    "        data_dict_i = dict()\n",
    "\n",
    "        # #####################################################\n",
    "        row_paths_i = df_jobs_paths.loc[job_id_j]\n",
    "        # #####################################################\n",
    "        gdrive_path_i = row_paths_i.gdrive_path\n",
    "        # #####################################################\n",
    "\n",
    "        # print(gdrive_path_i)\n",
    "        # gdrive_path_i = \"dft_workflow/run_slabs/run_oh_covered/out_data/dft_jobs/sherlock/9573vicg7f/110/oh/active_site__98/00_attempt/_02\"\n",
    "\n",
    "        full_path_i = os.path.join(\n",
    "            os.environ[\"PROJ_irox_oer_gdrive\"],\n",
    "            gdrive_path_i)\n",
    "\n",
    "        outcar_path_i =  os.path.join(\n",
    "            full_path_i,\n",
    "            \"OUTCAR\")\n",
    "\n",
    "        my_file = Path(outcar_path_i)\n",
    "        if my_file.is_file():\n",
    "            loop_time_dict_i = calculate_loop_time_outcar(outcar_path_i)\n",
    "            # list(loop_time_dict_i.keys())\n",
    "            total_loop_time = loop_time_dict_i[\"total_loop_time\"]\n",
    "            loop_time__hr = total_loop_time[\"hr\"]\n",
    "            num_cores = loop_time_dict_i[\"num_cores\"]\n",
    "        else:\n",
    "            print(\"er567ytgfyuyghuieww3trfyoi\")\n",
    "            loop_time__hr = 0.\n",
    "        \n",
    "        total_time += loop_time__hr\n",
    "\n",
    "        # #################################################\n",
    "        data_dict_i[\"job_id\"] = job_id_j\n",
    "        data_dict_i[\"loop_time__hr\"] = loop_time__hr\n",
    "        data_dict_i[\"num_cores\"] = num_cores\n",
    "        # #################################################\n",
    "        data_dict_list.append(data_dict_i)\n",
    "        # #################################################"
   ]
  },
  {
   "cell_type": "code",
   "execution_count": 6,
   "metadata": {},
   "outputs": [],
   "source": [
    "# df_jobs.loc[\n",
    "#     list(set(df_ads_i.job_id_o.tolist() + df_ads_i.job_id_oh.tolist() + df_ads_i.job_id_bare.tolist()))    \n",
    "#     ]"
   ]
  },
  {
   "cell_type": "code",
   "execution_count": 7,
   "metadata": {},
   "outputs": [],
   "source": [
    "df_jobs_time = pd.DataFrame(data_dict_list)\n",
    "df_jobs_time = df_jobs_time.set_index(\"job_id\")\n",
    "\n",
    "df_jobs_time.loc[df_jobs_i.index].loop_time__hr.sum()\n",
    "\n",
    "cpu_hours = df_jobs_time[\"loop_time__hr\"] * df_jobs_time[\"num_cores\"]\n",
    "df_jobs_time[\"cpu_hours\"] = cpu_hours\n",
    "\n",
    "# df_jobs_time"
   ]
  },
  {
   "cell_type": "code",
   "execution_count": 29,
   "metadata": {},
   "outputs": [],
   "source": [
    "data_dict_list = []\n",
    "for i_cnt, row_i in df_ads_i.iterrows():\n",
    "    data_dict_i = dict()\n",
    "\n",
    "    # #########################################################\n",
    "    compenv_i = row_i.compenv\n",
    "    slab_id_i = row_i.slab_id\n",
    "    active_site_i = row_i.active_site\n",
    "    # job_id_o_i = row_i.job_id_o\n",
    "    # job_id_oh_i = row_i.job_id_oh\n",
    "    # job_id_bare_i = row_i.job_id_bare\n",
    "    # #########################################################\n",
    "\n",
    "    df_jobs_i = df_jobs[\n",
    "        (df_jobs.compenv == compenv_i) & \\\n",
    "        (df_jobs.slab_id == slab_id_i) & \\\n",
    "        (df_jobs.active_site == active_site_i) & \\\n",
    "        [True for i in range(len(df_jobs))]\n",
    "        ]\n",
    "\n",
    "\n",
    "    df_jobs_time_i = df_jobs_time.loc[df_jobs_i.index]\n",
    "\n",
    "    cpu_hours_cum = df_jobs_time_i.cpu_hours.sum()\n",
    "    # print(cpu_hours_cum)\n",
    "\n",
    "    # #########################################################\n",
    "    data_dict_i[\"cpu_hours_cum\"] = cpu_hours_cum\n",
    "    # ######################################################### \n",
    "    data_dict_list.append(data_dict_i)\n",
    "    # #########################################################"
   ]
  },
  {
   "cell_type": "code",
   "execution_count": 31,
   "metadata": {},
   "outputs": [
    {
     "data": {
      "text/plain": [
       "3169.9929740653597"
      ]
     },
     "execution_count": 31,
     "metadata": {},
     "output_type": "execute_result"
    }
   ],
   "source": [
    "df_cpu_hrs = pd.DataFrame(data_dict_list)\n",
    "\n",
    "df_cpu_hrs.cpu_hours_cum.mean()"
   ]
  },
  {
   "cell_type": "code",
   "execution_count": 36,
   "metadata": {},
   "outputs": [
    {
     "data": {
      "text/plain": [
       "3000000"
      ]
     },
     "execution_count": 36,
     "metadata": {},
     "output_type": "execute_result"
    }
   ],
   "source": [
    "3000 * 1000\n",
    "\n",
    "# 3,000,000\n",
    "# 3,000,000"
   ]
  },
  {
   "cell_type": "code",
   "execution_count": 35,
   "metadata": {},
   "outputs": [],
   "source": [
    "# 3e6"
   ]
  },
  {
   "cell_type": "code",
   "execution_count": null,
   "metadata": {},
   "outputs": [],
   "source": [
    "assert False"
   ]
  },
  {
   "cell_type": "code",
   "execution_count": null,
   "metadata": {},
   "outputs": [],
   "source": [
    "df_jobs_time_i = df_jobs_time.loc[df_jobs_i.index]\n",
    "\n",
    "df_jobs_time_i[\"cpu_hours\"] = df_jobs_time_i[\"loop_time__hr\"] * df_jobs_time_i[\"num_cores\"]\n",
    "\n",
    "df_jobs_time_i.cpu_hours.sum()"
   ]
  },
  {
   "cell_type": "code",
   "execution_count": null,
   "metadata": {},
   "outputs": [],
   "source": [
    "2443 / 24"
   ]
  },
  {
   "cell_type": "code",
   "execution_count": null,
   "metadata": {},
   "outputs": [],
   "source": [
    "df_jobs_time.num_cores.unique()\n",
    "\n",
    "df_jobs_time"
   ]
  },
  {
   "cell_type": "code",
   "execution_count": null,
   "metadata": {},
   "outputs": [],
   "source": [
    "# line_i = \" running on   16 total cores\"\n",
    "\n",
    "# split_0 = line_i.split(\"  \")[-1]\n",
    "\n",
    "# num_cores = None\n",
    "# for i in split_0.split(\" \"):\n",
    "#     # print(i)\n",
    "#     if i.isnumeric():\n",
    "#         # print(i)\n",
    "#         num_cores = int(i)\n",
    "#         break\n",
    "\n",
    "# num_cores"
   ]
  },
  {
   "cell_type": "code",
   "execution_count": null,
   "metadata": {},
   "outputs": [],
   "source": [
    "# df_jobs_i"
   ]
  },
  {
   "cell_type": "code",
   "execution_count": null,
   "metadata": {},
   "outputs": [],
   "source": [
    "# total_time / 24"
   ]
  },
  {
   "cell_type": "code",
   "execution_count": null,
   "metadata": {},
   "outputs": [],
   "source": [
    "# line_i = '     LOOP+:  cpu time18628.7941: real time18676.4463'\n",
    "\n",
    "# frag_j = \"real time\"\n",
    "# ind_j = line_i.find(frag_j)\n",
    "\n",
    "# line_frag_j = line_i[ind_j + len(frag_j):]\n",
    "\n",
    "# try:\n",
    "#     loop_time_j = float(line_frag_j)\n",
    "# except:\n",
    "#     loop_time_j = 0.\n",
    "#     print(\"Uh oh, no good\")"
   ]
  },
  {
   "cell_type": "code",
   "execution_count": null,
   "metadata": {},
   "outputs": [],
   "source": [
    "assert False"
   ]
  },
  {
   "cell_type": "code",
   "execution_count": null,
   "metadata": {},
   "outputs": [],
   "source": [
    "df_jobs_wo_o = df_jobs[df_jobs.ads != \"o\"]"
   ]
  },
  {
   "cell_type": "code",
   "execution_count": null,
   "metadata": {},
   "outputs": [],
   "source": [
    "# df_jobs_paths\n",
    "# df_jobs\n",
    "\n",
    "grouped = df_jobs_wo_o.groupby([\"bulk_id\", \"slab_id\", \"facet\", \"compenv\", \"active_site\"])\n",
    "for name, group in grouped:\n",
    "    if verbose:\n",
    "        print(name)\n",
    "        print(group.shape[0])\n",
    "        print(\"\")"
   ]
  },
  {
   "cell_type": "code",
   "execution_count": null,
   "metadata": {},
   "outputs": [],
   "source": [
    "# grouped.get_group(\n",
    "#     ('81meck64ba', 'fagumoha_68', '110', 'slac', 63.0)\n",
    "#     )"
   ]
  },
  {
   "cell_type": "code",
   "execution_count": null,
   "metadata": {},
   "outputs": [],
   "source": [
    "group"
   ]
  },
  {
   "cell_type": "raw",
   "metadata": {},
   "source": [
    "\n",
    "\n"
   ]
  },
  {
   "cell_type": "code",
   "execution_count": null,
   "metadata": {
    "jupyter": {
     "source_hidden": true
    }
   },
   "outputs": [],
   "source": [
    "# def calculate_loop_time_outcar():\n",
    "#     \"\"\"\n",
    "#     \"\"\"\n",
    "#     #| - calculate_loop_time_outcar\n",
    "#     out_dict = dict()\n",
    "\n",
    "#     with open(outcar_path_i, \"r\") as f:\n",
    "#         lines = f.read().splitlines()\n",
    "\n",
    "#     lines_2 = []\n",
    "#     for line_i in lines:\n",
    "#         frag_i = \"LOOP+\"\n",
    "#         if frag_i in line_i:\n",
    "#             lines_2.append(line_i)\n",
    "\n",
    "#     loop_time_list = []\n",
    "#     frag_j = \"real time\"\n",
    "#     for line_i in lines_2:\n",
    "#         tmp = 42\n",
    "\n",
    "#         # line_i = '     LOOP+:  cpu time18628.7941: real time18676.4463'\n",
    "\n",
    "#         ind_j = line_i.find(frag_j)\n",
    "\n",
    "#         line_frag_j = line_i[ind_j + len(frag_j):]\n",
    "\n",
    "#         try:\n",
    "#             loop_time_j = float(line_frag_j)\n",
    "#         except:\n",
    "#             loop_time_j = 0.\n",
    "#             print(\"Uh oh, no good\")\n",
    "\n",
    "#         loop_time_list.append(loop_time_j)\n",
    "\n",
    "#     loop_time_sum__sec = np.sum(loop_time_list)\n",
    "#     loop_time_sum__min = loop_time_sum__sec / 60\n",
    "#     loop_time_sum__hr = loop_time_sum__min / 60\n",
    "\n",
    "#     loop_time_dict = dict()\n",
    "#     loop_time_dict[\"sec\"] = loop_time_sum__sec\n",
    "#     loop_time_dict[\"min\"] = loop_time_sum__min\n",
    "#     loop_time_dict[\"hr\"] = loop_time_sum__hr\n",
    "\n",
    "#     # #####################################################\n",
    "#     out_dict[\"total_loop_time\"] = loop_time_dict\n",
    "#     out_dict[\"loop_time_list\"] = loop_time_list\n",
    "#     # #####################################################\n",
    "\n",
    "#     return(out_dict)\n",
    "#     #__|"
   ]
  }
 ],
 "metadata": {
  "jupytext": {
   "formats": "ipynb,py:light"
  },
  "kernelspec": {
   "display_name": "Python [conda env:PROJ_irox_oer] *",
   "language": "python",
   "name": "conda-env-PROJ_irox_oer-py"
  },
  "language_info": {
   "codemirror_mode": {
    "name": "ipython",
    "version": 3
   },
   "file_extension": ".py",
   "mimetype": "text/x-python",
   "name": "python",
   "nbconvert_exporter": "python",
   "pygments_lexer": "ipython3",
   "version": "3.6.11"
  }
 },
 "nbformat": 4,
 "nbformat_minor": 4
}
