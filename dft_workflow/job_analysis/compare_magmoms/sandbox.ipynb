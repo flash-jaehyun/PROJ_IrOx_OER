{
 "cells": [
  {
   "cell_type": "code",
   "execution_count": 1,
   "metadata": {},
   "outputs": [],
   "source": [
    "import itertools\n",
    "\n",
    "import numpy as np\n",
    "import pandas as pd\n",
    "\n",
    "from methods import (\n",
    "    get_magmom_diff_data,\n",
    "    # _get_magmom_diff_data,\n",
    "    )\n",
    "\n",
    "from methods import get_df_jobs\n",
    "from methods import CountFrequency\n",
    "from methods import get_df_atoms_sorted_ind\n",
    "from methods import get_df_job_ids"
   ]
  },
  {
   "cell_type": "code",
   "execution_count": 2,
   "metadata": {},
   "outputs": [],
   "source": [
    "# # #########################################################\n",
    "# df_jobs = get_df_jobs()\n",
    "\n",
    "# # #########################################################\n",
    "# df_atoms_sorted_ind = get_df_atoms_sorted_ind()\n",
    "# df_atoms_sorted_ind = df_atoms_sorted_ind.set_index(\"job_id\")\n",
    "\n",
    "# # #########################################################\n",
    "# df_job_ids = get_df_job_ids()\n",
    "# df_job_ids = df_job_ids.set_index(\"job_id\")"
   ]
  },
  {
   "cell_type": "code",
   "execution_count": 3,
   "metadata": {},
   "outputs": [],
   "source": [
    "# #########################################################\n",
    "import pickle; import os\n",
    "directory = os.path.join(\n",
    "    os.environ[\"HOME\"],\n",
    "    \"__temp__\")\n",
    "path_i = os.path.join(directory, \"temp_data.pickle\")\n",
    "with open(path_i, \"rb\") as fle:\n",
    "    data = pickle.load(fle)\n",
    "# #########################################################\n",
    "\n",
    "group_w_o = data"
   ]
  },
  {
   "cell_type": "code",
   "execution_count": 4,
   "metadata": {},
   "outputs": [],
   "source": [
    "write_atoms_objets = True\n",
    "\n",
    "from local_methods import process_group_magmom_comp\n",
    "\n",
    "out_dict = process_group_magmom_comp(\n",
    "    group=group_w_o,\n",
    "    # df_jobs=None,\n",
    "    write_atoms_objects=False,\n",
    "    verbose=False,\n",
    "    )\n",
    "# out_dict"
   ]
  },
  {
   "cell_type": "code",
   "execution_count": 15,
   "metadata": {},
   "outputs": [
    {
     "data": {
      "text/plain": [
       "dict_keys(['df_magmoms_comp', 'good_triplet_comb', 'pair_wise_magmom_comp_data'])"
      ]
     },
     "execution_count": 15,
     "metadata": {},
     "output_type": "execute_result"
    }
   ],
   "source": [
    "out_dict.keys()\n",
    "\n",
    "# list(out_dict[\"pair_wise_magmom_comp_data\"].keys())\n",
    "\n",
    "\n"
   ]
  },
  {
   "cell_type": "raw",
   "metadata": {},
   "source": [
    "\n",
    "\n"
   ]
  },
  {
   "cell_type": "code",
   "execution_count": null,
   "metadata": {
    "jupyter": {
     "source_hidden": true
    }
   },
   "outputs": [],
   "source": [
    "# job_id_0 = \n",
    "\n",
    "# df_jobs_i[df_jobs_i.ads == \"bare\"].iloc[0].job_id\n",
    "\n",
    "# df_jobs_i[df_jobs_i.ads == \"bare\"]\n",
    "\n",
    "# df_jobs_i"
   ]
  },
  {
   "cell_type": "code",
   "execution_count": null,
   "metadata": {
    "jupyter": {
     "source_hidden": true
    }
   },
   "outputs": [],
   "source": [
    "# magmom_data_out[\"tot_abs_magmom_diff\"]\n",
    "\n",
    "# magmom_data_out.keys()"
   ]
  },
  {
   "cell_type": "code",
   "execution_count": null,
   "metadata": {
    "jupyter": {
     "source_hidden": true
    }
   },
   "outputs": [],
   "source": [
    "# if write_atoms_objets:\n",
    "\n",
    "#     df_i = pd.concat([\n",
    "#         df_job_ids,\n",
    "#         df_atoms_sorted_ind.loc[\n",
    "#             group_w_o.job_id_max.tolist()\n",
    "#             ]\n",
    "#         ], axis=1, join=\"inner\")\n",
    "\n",
    "#     # #########################################################\n",
    "#     df_index_i = group_w_o.index.to_frame()\n",
    "#     compenv_i = df_index_i.compenv.unique()[0]\n",
    "#     slab_id_i = df_index_i.slab_id.unique()[0]\n",
    "\n",
    "#     active_sites = [i for i in df_index_i.active_site.unique() if i != \"NaN\"]\n",
    "#     active_site_i = active_sites[0]\n",
    "\n",
    "#     folder_name = compenv_i + \"__\" + slab_id_i + \"__\" + str(int(active_site_i))\n",
    "#     # #########################################################\n",
    "\n",
    "\n",
    "#     for job_id_i, row_i in df_i.iterrows():\n",
    "#         tmp = 42\n",
    "\n",
    "#         job_id = row_i.name\n",
    "#         atoms = row_i.atoms_sorted_good\n",
    "#         ads = row_i.ads\n",
    "\n",
    "#         file_name = ads + \"_\" + job_id + \".traj\"\n",
    "\n",
    "#         root_file_path = os.path.join(\"__temp__\", folder_name)\n",
    "#         if not os.path.exists(root_file_path):\n",
    "#             os.makedirs(root_file_path)\n",
    "\n",
    "#         file_path = os.path.join(root_file_path, file_name)\n",
    "\n",
    "#         atoms.write(file_path)"
   ]
  },
  {
   "cell_type": "code",
   "execution_count": null,
   "metadata": {
    "jupyter": {
     "source_hidden": true
    }
   },
   "outputs": [],
   "source": [
    "# all_triplet_comb = list(itertools.combinations(\n",
    "#     group_w_o.job_id_max.tolist(), 3))\n",
    "\n",
    "# good_triplet_comb = []\n",
    "# for tri_i in all_triplet_comb:\n",
    "#     df_jobs_i = df_jobs.loc[list(tri_i)]\n",
    "\n",
    "#     ads_freq_dict = CountFrequency(df_jobs_i.ads.tolist())\n",
    "\n",
    "#     tmp_list = list(ads_freq_dict.values())\n",
    "#     any_repeat_ads = [True if i > 1 else False for i in tmp_list]\n",
    "\n",
    "#     if not any(any_repeat_ads):\n",
    "#         good_triplet_comb.append(tri_i)\n",
    "\n",
    "# # good_triplet_comb"
   ]
  },
  {
   "cell_type": "code",
   "execution_count": null,
   "metadata": {
    "jupyter": {
     "source_hidden": true
    }
   },
   "outputs": [],
   "source": [
    "# data_dict_list = []\n",
    "# for tri_i in good_triplet_comb:\n",
    "#     data_dict_i = dict()\n",
    "\n",
    "#     # print(\"tri_i:\", tri_i)\n",
    "#     all_pairs = list(itertools.combinations(tri_i, 2))\n",
    "\n",
    "#     df_jobs_i = df_jobs.loc[list(tri_i)]\n",
    "    \n",
    "#     sum_norm_abs_magmom_diff = 0.\n",
    "#     for pair_i in all_pairs:\n",
    "\n",
    "#         row_jobs_0 = df_jobs.loc[pair_i[0]]\n",
    "#         row_jobs_1 = df_jobs.loc[pair_i[1]]\n",
    "\n",
    "#         ads_0 = row_jobs_0.ads\n",
    "#         ads_1 = row_jobs_1.ads\n",
    "\n",
    "#         # #########################################################\n",
    "#         if set([ads_0, ads_1]) == set([\"o\", \"oh\"]):\n",
    "#             job_id_0 = df_jobs_i[df_jobs_i.ads == \"o\"].iloc[0].job_id\n",
    "#             job_id_1 = df_jobs_i[df_jobs_i.ads == \"oh\"].iloc[0].job_id\n",
    "#         elif set([ads_0, ads_1]) == set([\"o\", \"bare\"]):\n",
    "#             job_id_0 = df_jobs_i[df_jobs_i.ads == \"bare\"].iloc[0].job_id\n",
    "#             job_id_1 = df_jobs_i[df_jobs_i.ads == \"o\"].iloc[0].job_id\n",
    "#         elif set([ads_0, ads_1]) == set([\"oh\", \"bare\"]):\n",
    "#             job_id_0 = df_jobs_i[df_jobs_i.ads == \"bare\"].iloc[0].job_id\n",
    "#             job_id_1 = df_jobs_i[df_jobs_i.ads == \"oh\"].iloc[0].job_id\n",
    "#         else:\n",
    "#             print(\"Woops something went wrong here\")\n",
    "\n",
    "\n",
    "#         # #########################################################\n",
    "#         row_atoms_i = df_atoms_sorted_ind.loc[job_id_0]\n",
    "#         # #########################################################\n",
    "#         atoms_0 = row_atoms_i.atoms_sorted_good\n",
    "#         magmoms_sorted_good_0 = row_atoms_i.magmoms_sorted_good\n",
    "#         was_sorted_0 = row_atoms_i.was_sorted\n",
    "#         # #########################################################\n",
    "\n",
    "#         # #########################################################\n",
    "#         row_atoms_i = df_atoms_sorted_ind.loc[job_id_1]\n",
    "#         # #########################################################\n",
    "#         atoms_1 = row_atoms_i.atoms_sorted_good\n",
    "#         magmoms_sorted_good_1 = row_atoms_i.magmoms_sorted_good\n",
    "#         was_sorted_1 = row_atoms_i.was_sorted\n",
    "#         # #########################################################\n",
    "\n",
    "\n",
    "#         # #########################################################\n",
    "#         magmom_data_out = get_magmom_diff_data(\n",
    "#             ads_atoms=atoms_1,\n",
    "#             slab_atoms=atoms_0,\n",
    "#             ads_magmoms=magmoms_sorted_good_1,\n",
    "#             slab_magmoms=magmoms_sorted_good_0,\n",
    "#             )\n",
    "\n",
    "#         # list(magmom_data_out.keys())\n",
    "\n",
    "#         tot_abs_magmom_diff = magmom_data_out[\"tot_abs_magmom_diff\"]\n",
    "#         # print(\"    \", pair_i, \": \", np.round(tot_abs_magmom_diff, 2), sep=\"\")\n",
    "#         norm_abs_magmom_diff = magmom_data_out[\"norm_abs_magmom_diff\"]\n",
    "#         print(\"    \", pair_i, \": \", np.round(norm_abs_magmom_diff, 3), sep=\"\")\n",
    "        \n",
    "#         sum_norm_abs_magmom_diff += norm_abs_magmom_diff\n",
    "\n",
    "#     # #####################################################\n",
    "#     data_dict_i[\"job_ids_tri\"] = set(tri_i)\n",
    "#     data_dict_i[\"sum_norm_abs_magmom_diff\"] = sum_norm_abs_magmom_diff\n",
    "#     # #####################################################\n",
    "#     data_dict_list.append(data_dict_i)\n",
    "#     # #####################################################\n",
    "\n",
    "#     # print(\"TEMP\")\n",
    "#     # break\n",
    "\n",
    "#     print(\"\")\n",
    "\n",
    "#         # #########################################################\n",
    "\n",
    "# df_magmoms_i = pd.DataFrame(data_dict_list)\n",
    "# # df_magmoms_i"
   ]
  }
 ],
 "metadata": {
  "jupytext": {
   "formats": "ipynb,py:light"
  },
  "kernelspec": {
   "display_name": "Python [conda env:PROJ_IrOx_Active_Learning_OER]",
   "language": "python",
   "name": "conda-env-PROJ_IrOx_Active_Learning_OER-py"
  },
  "language_info": {
   "codemirror_mode": {
    "name": "ipython",
    "version": 3
   },
   "file_extension": ".py",
   "mimetype": "text/x-python",
   "name": "python",
   "nbconvert_exporter": "python",
   "pygments_lexer": "ipython3",
   "version": "3.6.7"
  }
 },
 "nbformat": 4,
 "nbformat_minor": 4
}
