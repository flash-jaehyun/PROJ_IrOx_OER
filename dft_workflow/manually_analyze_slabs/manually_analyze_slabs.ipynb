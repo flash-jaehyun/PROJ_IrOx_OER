{
 "cells": [
  {
   "cell_type": "markdown",
   "metadata": {},
   "source": [
    "# Import Modules"
   ]
  },
  {
   "cell_type": "code",
   "execution_count": 1,
   "metadata": {
    "jupyter": {
     "source_hidden": true
    }
   },
   "outputs": [
    {
     "name": "stdout",
     "output_type": "stream",
     "text": [
      "/home/raulf2012/Dropbox/01_norskov/00_git_repos/PROJ_IrOx_OER/dft_workflow/manually_analyze_slabs\n"
     ]
    }
   ],
   "source": [
    "import os\n",
    "print(os.getcwd())\n",
    "import sys\n",
    "\n",
    "import json\n",
    "import pickle\n",
    "from shutil import copyfile\n",
    "\n",
    "import numpy as np\n",
    "import pandas as pd\n",
    "\n",
    "from ase import io\n",
    "\n",
    "# # from tqdm import tqdm\n",
    "from tqdm.notebook import tqdm\n",
    "\n",
    "# #########################################################\n",
    "from methods import get_df_slabs_to_run\n",
    "from methods import (\n",
    "    get_df_slab,\n",
    "    get_df_jobs,\n",
    "    get_df_jobs_anal,\n",
    "    get_df_jobs_data,\n",
    "    get_df_active_sites,\n",
    "    )"
   ]
  },
  {
   "cell_type": "markdown",
   "metadata": {},
   "source": [
    "# Script Inputs"
   ]
  },
  {
   "cell_type": "code",
   "execution_count": 2,
   "metadata": {},
   "outputs": [],
   "source": [
    "verbose = True"
   ]
  },
  {
   "cell_type": "markdown",
   "metadata": {},
   "source": [
    "# Read Data"
   ]
  },
  {
   "cell_type": "code",
   "execution_count": 3,
   "metadata": {},
   "outputs": [],
   "source": [
    "# #########################################################\n",
    "df_jobs_data = get_df_jobs_data()\n",
    "\n",
    "# #########################################################\n",
    "df_jobs = get_df_jobs()\n",
    "\n",
    "# #########################################################\n",
    "df_jobs_anal = get_df_jobs_anal()\n",
    "\n",
    "# #########################################################\n",
    "df_slabs_to_run = get_df_slabs_to_run()"
   ]
  },
  {
   "cell_type": "markdown",
   "metadata": {},
   "source": [
    "# Setup"
   ]
  },
  {
   "cell_type": "code",
   "execution_count": 4,
   "metadata": {},
   "outputs": [],
   "source": [
    "directory = \"out_data/o_slabs\"\n",
    "if not os.path.exists(directory):\n",
    "    os.makedirs(directory)\n",
    "\n",
    "compenv = os.environ[\"COMPENV\"]"
   ]
  },
  {
   "cell_type": "code",
   "execution_count": 5,
   "metadata": {},
   "outputs": [],
   "source": [
    "# #########################################################\n",
    "df_jobs_anal_completed = df_jobs_anal[df_jobs_anal.job_completely_done == True]\n",
    "\n",
    "# #########################################################\n",
    "var = \"o\"\n",
    "df_jobs_anal_completed = df_jobs_anal_completed.query('ads == @var')"
   ]
  },
  {
   "cell_type": "markdown",
   "metadata": {},
   "source": [
    "# Writting *O slabs to file"
   ]
  },
  {
   "cell_type": "code",
   "execution_count": 6,
   "metadata": {},
   "outputs": [],
   "source": [
    "# #########################################################\n",
    "for name_i, row_i in df_jobs_anal_completed.iterrows():\n",
    "\n",
    "    # #####################################################\n",
    "    compenv_i = name_i[0]\n",
    "    slab_id_i = name_i[1]\n",
    "    ads_i = name_i[2]\n",
    "    # #####################################################\n",
    "\n",
    "    # #####################################################\n",
    "    job_id_max_i = row_i.job_id_max\n",
    "    # #####################################################\n",
    "\n",
    "    # #####################################################\n",
    "    df_jobs_i = df_jobs[df_jobs.compenv == compenv_i]\n",
    "    row_jobs_i = df_jobs_i[df_jobs_i.job_id == job_id_max_i]\n",
    "    row_jobs_i = row_jobs_i.iloc[0]\n",
    "    # #####################################################\n",
    "    att_num_i = row_jobs_i.att_num\n",
    "    # #####################################################\n",
    "\n",
    "    # #####################################################\n",
    "    df_jobs_data_i = df_jobs_data[df_jobs_data.compenv == compenv_i]\n",
    "    row_data_i = df_jobs_data_i[df_jobs_data_i.job_id == job_id_max_i]\n",
    "    row_data_i = row_data_i.iloc[0]\n",
    "    # #####################################################\n",
    "    slab_i = row_data_i.final_atoms\n",
    "    # #####################################################\n",
    "\n",
    "    file_name_i = os.path.join(\n",
    "        \"out_data/o_slabs\",\n",
    "        compenv_i + \"_\" + slab_id_i + \"_\" + str(att_num_i).zfill(2) + \".cif\")\n",
    "    slab_i.write(file_name_i) "
   ]
  },
  {
   "cell_type": "code",
   "execution_count": 7,
   "metadata": {},
   "outputs": [
    {
     "name": "stdout",
     "output_type": "stream",
     "text": [
      "(39, 8)\n",
      "(39, 4)\n"
     ]
    }
   ],
   "source": [
    "print(df_jobs_anal_completed.shape)\n",
    "print(df_slabs_to_run.shape)"
   ]
  },
  {
   "cell_type": "code",
   "execution_count": 8,
   "metadata": {},
   "outputs": [],
   "source": [
    "# #########################################################\n",
    "df_jobs_anal_completed_index = df_jobs_anal_completed.index.to_frame()\n",
    "\n",
    "compenv__slab_id__att_num__tuple = tuple(zip(\n",
    "    df_jobs_anal_completed_index.compenv,\n",
    "    df_jobs_anal_completed_index.slab_id,\n",
    "    df_jobs_anal_completed_index.att_num,\n",
    "    ))\n",
    "\n",
    "df_jobs_anal_completed[\"compenv__slab_id__att_num\"] = compenv__slab_id__att_num__tuple\n",
    "df_jobs_anal_completed = df_jobs_anal_completed.set_index(\"compenv__slab_id__att_num\", drop=False)\n",
    "\n",
    "# #########################################################\n",
    "compenv__slab_id__att_num__tuple = tuple(zip(\n",
    "    df_slabs_to_run.compenv,\n",
    "    df_slabs_to_run.slab_id,\n",
    "    df_slabs_to_run.att_num,\n",
    "    ))\n",
    "\n",
    "df_slabs_to_run[\"compenv__slab_id__att_num\"] = compenv__slab_id__att_num__tuple\n",
    "df_slabs_to_run = df_slabs_to_run.set_index(\"compenv__slab_id__att_num\", drop=False)\n",
    "\n",
    "# #########################################################\n",
    "df_slabs_to_run_i = df_slabs_to_run.drop(columns=[\"compenv__slab_id__att_num\", ])"
   ]
  },
  {
   "cell_type": "code",
   "execution_count": 9,
   "metadata": {},
   "outputs": [
    {
     "name": "stdout",
     "output_type": "stream",
     "text": [
      "0\n",
      "0\n"
     ]
    }
   ],
   "source": [
    "set_0 = set(df_jobs_anal_completed.index.tolist())\n",
    "set_1 = set(df_slabs_to_run_i.index.tolist())\n",
    "\n",
    "print(len(list(set_1 - set_0)))\n",
    "print(len(list(set_0 - set_1)))\n",
    "\n",
    "systems_not_manually_processed = list(set_0 - set_1)\n",
    "\n",
    "systems_not_proc_index = []\n",
    "for i in systems_not_manually_processed:\n",
    "    \n",
    "    compenv_i = i[0]\n",
    "    slab_id_i = i[1]\n",
    "    att_num_i = i[2]\n",
    "\n",
    "    active_site_i = \"NaN\"\n",
    "    ads_i = \"o\"\n",
    "\n",
    "    index_i = (compenv_i, slab_id_i, ads_i, active_site_i, att_num_i)\n",
    "    systems_not_proc_index.append(index_i)\n",
    "\n",
    "# #########################################################\n",
    "df_not_proc = df_jobs_anal.loc[systems_not_proc_index]"
   ]
  },
  {
   "cell_type": "markdown",
   "metadata": {},
   "source": [
    "# Write systems not manually processed to file"
   ]
  },
  {
   "cell_type": "code",
   "execution_count": 10,
   "metadata": {},
   "outputs": [],
   "source": [
    "df_not_proc_index = df_not_proc.index.to_frame()\n",
    "\n",
    "df_i = df_not_proc_index[[\"compenv\", \"slab_id\", \"att_num\", ]]\n",
    "\n",
    "df_i.to_csv(\"not_processed.csv\", index=False, header=False)"
   ]
  },
  {
   "cell_type": "code",
   "execution_count": 11,
   "metadata": {},
   "outputs": [
    {
     "data": {
      "text/html": [
       "<div>\n",
       "<style scoped>\n",
       "    .dataframe tbody tr th:only-of-type {\n",
       "        vertical-align: middle;\n",
       "    }\n",
       "\n",
       "    .dataframe tbody tr th {\n",
       "        vertical-align: top;\n",
       "    }\n",
       "\n",
       "    .dataframe thead th {\n",
       "        text-align: right;\n",
       "    }\n",
       "</style>\n",
       "<table border=\"1\" class=\"dataframe\">\n",
       "  <thead>\n",
       "    <tr style=\"text-align: right;\">\n",
       "      <th></th>\n",
       "      <th></th>\n",
       "      <th></th>\n",
       "      <th></th>\n",
       "      <th></th>\n",
       "      <th>compenv</th>\n",
       "      <th>slab_id</th>\n",
       "      <th>ads</th>\n",
       "      <th>active_site</th>\n",
       "      <th>att_num</th>\n",
       "    </tr>\n",
       "    <tr>\n",
       "      <th>compenv</th>\n",
       "      <th>slab_id</th>\n",
       "      <th>ads</th>\n",
       "      <th>active_site</th>\n",
       "      <th>att_num</th>\n",
       "      <th></th>\n",
       "      <th></th>\n",
       "      <th></th>\n",
       "      <th></th>\n",
       "      <th></th>\n",
       "    </tr>\n",
       "  </thead>\n",
       "  <tbody>\n",
       "  </tbody>\n",
       "</table>\n",
       "</div>"
      ],
      "text/plain": [
       "Empty DataFrame\n",
       "Columns: [compenv, slab_id, ads, active_site, att_num]\n",
       "Index: []"
      ]
     },
     "execution_count": 11,
     "metadata": {},
     "output_type": "execute_result"
    }
   ],
   "source": [
    "df_not_proc_index"
   ]
  },
  {
   "cell_type": "raw",
   "metadata": {},
   "source": [
    "\n",
    "\n",
    "\n"
   ]
  },
  {
   "cell_type": "code",
   "execution_count": 12,
   "metadata": {},
   "outputs": [
    {
     "ename": "AssertionError",
     "evalue": "",
     "output_type": "error",
     "traceback": [
      "\u001b[0;31m---------------------------------------------------------------------------\u001b[0m",
      "\u001b[0;31mAssertionError\u001b[0m                            Traceback (most recent call last)",
      "\u001b[0;32m<ipython-input-12-a871fdc9ebee>\u001b[0m in \u001b[0;36m<module>\u001b[0;34m\u001b[0m\n\u001b[0;32m----> 1\u001b[0;31m \u001b[0;32massert\u001b[0m \u001b[0;32mFalse\u001b[0m\u001b[0;34m\u001b[0m\u001b[0;34m\u001b[0m\u001b[0m\n\u001b[0m",
      "\u001b[0;31mAssertionError\u001b[0m: "
     ]
    }
   ],
   "source": [
    "assert False"
   ]
  },
  {
   "cell_type": "code",
   "execution_count": null,
   "metadata": {},
   "outputs": [],
   "source": [
    "# ('slac', 'nakerafi_91', 'o', 'NaN', 1)\n",
    "\n",
    "df_slabs_to_run_i[    \n",
    "    (df_slabs_to_run_i.compenv == \"slac\") & \\\n",
    "    (df_slabs_to_run_i.slab_id == \"nakerafi_91\") & \\\n",
    "    [True for i in range(len(df_slabs_to_run_i))]\n",
    "    ]"
   ]
  },
  {
   "cell_type": "code",
   "execution_count": null,
   "metadata": {},
   "outputs": [],
   "source": [
    "df_anal_index = df_jobs_anal.index.to_frame()"
   ]
  },
  {
   "cell_type": "code",
   "execution_count": null,
   "metadata": {},
   "outputs": [],
   "source": [
    "# df_i = df_anal_index\n",
    "# df_i[    \n",
    "#     (df_i.compenv == \"slac\") & \\\n",
    "#     (df_i.slab_id == \"nakerafi_91\") & \\\n",
    "#     [True for i in range(len(df_i))]\n",
    "#     ].index.tolist()\n",
    "\n",
    "# df_jobs_anal.loc[\n",
    "#     ('slac', 'nakerafi_91', 'o', 'NaN', 1)\n",
    "#     ]"
   ]
  }
 ],
 "metadata": {
  "jupytext": {
   "formats": "ipynb,py:light"
  },
  "kernelspec": {
   "display_name": "Python [conda env:PROJ_irox_oer] *",
   "language": "python",
   "name": "conda-env-PROJ_irox_oer-py"
  },
  "language_info": {
   "codemirror_mode": {
    "name": "ipython",
    "version": 3
   },
   "file_extension": ".py",
   "mimetype": "text/x-python",
   "name": "python",
   "nbconvert_exporter": "python",
   "pygments_lexer": "ipython3",
   "version": "3.6.11"
  }
 },
 "nbformat": 4,
 "nbformat_minor": 4
}
